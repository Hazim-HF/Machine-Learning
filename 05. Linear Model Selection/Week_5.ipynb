{
 "cells": [
  {
   "cell_type": "code",
   "execution_count": 2,
   "metadata": {},
   "outputs": [
    {
     "name": "stderr",
     "output_type": "stream",
     "text": [
      "'ls' is not recognized as an internal or external command,\n",
      "operable program or batch file.\n"
     ]
    }
   ],
   "source": [
    "!ls data"
   ]
  },
  {
   "cell_type": "markdown",
   "metadata": {},
   "source": [
    "# Chapter 6 Linear Model Selection and Regularization\n",
    "Linear models still can do astonishingly well compared to non-linear models. This chapter will explore other types of fitting besides least squares because they can give better prediction accuracy and interpretability.\n",
    "\n",
    "## Classes of alternatives to least squares\n",
    "* Subset Selection - Choose a subset of the predictors\n",
    "* Shrinkage (regularization) - Fit all predictors but limit their size. Coefficients can go to 0.\n",
    "* Dimension Reduction - project the predictors into a smaller subspace\n",
    "\n",
    "## Best Subset Selection\n",
    "Fit all possible models $2^p$ and take the best model using cross-validated\n",
    "prediction error, Cp, AIC, BIC, or adjusted $R^2$. This can be impossible with large enough p\n",
    "\n",
    "## Stepwise Selection - Forward, Backward and both\n",
    "Because of computational limitation a simpler method of adding or subtracting the best predictor to the current model is employed.\n",
    "\n",
    "### Forward Selection\n",
    "Start with an empty model and choose on predictor to add to the model based on best adjusted $R^2$ or other similar metric. Continue adding variables until no improvement in adjusted $R^2$. \n",
    "\n",
    "A variation to this is to retain each model at each step and use $R^2$ (not adjusted) as the metric. This will build p models. Then use cross validation with $R^2$ to pick the best model of those p models built from forward selection.\n",
    "\n",
    "### Backward Selection\n",
    "Similar to forward selection but start with all predictors in model and remove one at a time until adjusted $R^2$ is maximized or alternatively, find p models with $R^2$ and then use cross validation to pick best of the p models.\n",
    "\n",
    "## Both\n",
    "At each step, consider both adding or subtracting a variable in the model."
   ]
  },
  {
   "cell_type": "markdown",
   "metadata": {},
   "source": [
    "#### Example: Best subset\n",
    "Here we apply the best subset selection approach to the Hitters data. We\n",
    "wish to predict a baseball player’s Salary on the basis of various statistics\n",
    "associated with performance in the previous year. "
   ]
  },
  {
   "cell_type": "markdown",
   "metadata": {},
   "source": [
    "$y = \\beta_0$ find the $R_{adj}=0.2$. \n"
   ]
  },
  {
   "cell_type": "markdown",
   "metadata": {},
   "source": [
    "$y = \\beta_0 + \\beta_1 x_1$ $R_{adj}=0.2$\n",
    "\n",
    "$y = \\beta_0 + \\beta_1 x_2$ $R_{adj}=0.4$"
   ]
  },
  {
   "cell_type": "markdown",
   "metadata": {},
   "source": [
    "$y = \\beta_0 + \\beta_1 x_2 + \\beta_2 x_1$ $R_{adj}=0.4$\n",
    "\n",
    "$y = \\beta_0 + \\beta_1 x_2 + \\beta_2 x_3$ $R_{adj}=0.6$"
   ]
  },
  {
   "cell_type": "markdown",
   "metadata": {},
   "source": [
    "$\\vdots$\n",
    "\n",
    "$y = \\beta_0 + \\beta_1 x_2 + \\beta_2 x_3 + \\beta_3 x_5$ $R_{adj}=0.8$"
   ]
  },
  {
   "cell_type": "markdown",
   "metadata": {},
   "source": [
    "### backward\n",
    "$y = \\beta_0 + \\beta_1 x_1 + \\beta_2 x_2 + \\cdots + \\beta_5 x_5$ $R_{adj}=0.8$\n",
    "\n",
    "$y = \\beta_0 +  \\beta_2 x_2 + \\cdots + \\beta_5 x_5$ $R_{adj}=0.85$\n",
    "\n",
    "\n"
   ]
  },
  {
   "cell_type": "markdown",
   "metadata": {},
   "source": [
    "## F/B selection\n",
    "$y = \\beta_0 $ $R_{adj}=0.2$\n",
    "\n",
    "$\\vdots$\n",
    "\n",
    "$y = \\beta_0 + \\beta_1 x_2 + \\beta_2 x_3 + \\beta_3 x_5$ $R_{adj}=0.8$\n",
    "\n",
    "$\\vdots$\n",
    "\n",
    "$y = \\beta_0 + \\beta_1 x_2 + \\beta_3 x_5$ $R_{adj}=0.85$"
   ]
  },
  {
   "cell_type": "code",
   "execution_count": 3,
   "metadata": {},
   "outputs": [
    {
     "data": {
      "text/plain": [
       "1024"
      ]
     },
     "execution_count": 3,
     "metadata": {},
     "output_type": "execute_result"
    }
   ],
   "source": [
    "2**10"
   ]
  },
  {
   "cell_type": "code",
   "execution_count": 4,
   "metadata": {},
   "outputs": [],
   "source": [
    "%matplotlib inline\n",
    "import pandas as pd\n",
    "import numpy as np\n",
    "import itertools\n",
    "import time\n",
    "import statsmodels.api as sm\n",
    "import matplotlib.pyplot as plt"
   ]
  },
  {
   "cell_type": "code",
   "execution_count": 5,
   "metadata": {},
   "outputs": [],
   "source": [
    "import os\n",
    "os.chdir('c:\\\\Users\\\\user\\\\Documents\\\\Machine-Learning')"
   ]
  },
  {
   "cell_type": "code",
   "execution_count": 6,
   "metadata": {
    "scrolled": true
   },
   "outputs": [
    {
     "data": {
      "application/vnd.microsoft.datawrangler.viewer.v0+json": {
       "columns": [
        {
         "name": "index",
         "rawType": "int64",
         "type": "integer"
        },
        {
         "name": "Unnamed: 0",
         "rawType": "object",
         "type": "string"
        },
        {
         "name": "AtBat",
         "rawType": "int64",
         "type": "integer"
        },
        {
         "name": "Hits",
         "rawType": "int64",
         "type": "integer"
        },
        {
         "name": "HmRun",
         "rawType": "int64",
         "type": "integer"
        },
        {
         "name": "Runs",
         "rawType": "int64",
         "type": "integer"
        },
        {
         "name": "RBI",
         "rawType": "int64",
         "type": "integer"
        },
        {
         "name": "Walks",
         "rawType": "int64",
         "type": "integer"
        },
        {
         "name": "Years",
         "rawType": "int64",
         "type": "integer"
        },
        {
         "name": "CAtBat",
         "rawType": "int64",
         "type": "integer"
        },
        {
         "name": "CHits",
         "rawType": "int64",
         "type": "integer"
        },
        {
         "name": "CHmRun",
         "rawType": "int64",
         "type": "integer"
        },
        {
         "name": "CRuns",
         "rawType": "int64",
         "type": "integer"
        },
        {
         "name": "CRBI",
         "rawType": "int64",
         "type": "integer"
        },
        {
         "name": "CWalks",
         "rawType": "int64",
         "type": "integer"
        },
        {
         "name": "League",
         "rawType": "object",
         "type": "string"
        },
        {
         "name": "Division",
         "rawType": "object",
         "type": "string"
        },
        {
         "name": "PutOuts",
         "rawType": "int64",
         "type": "integer"
        },
        {
         "name": "Assists",
         "rawType": "int64",
         "type": "integer"
        },
        {
         "name": "Errors",
         "rawType": "int64",
         "type": "integer"
        },
        {
         "name": "Salary",
         "rawType": "float64",
         "type": "float"
        },
        {
         "name": "NewLeague",
         "rawType": "object",
         "type": "string"
        }
       ],
       "conversionMethod": "pd.DataFrame",
       "ref": "951fe453-9841-4d3d-afa0-e6a277a0c213",
       "rows": [
        [
         "0",
         "#NAME?",
         "293",
         "66",
         "1",
         "30",
         "29",
         "14",
         "1",
         "293",
         "66",
         "1",
         "30",
         "29",
         "14",
         "A",
         "E",
         "446",
         "33",
         "20",
         null,
         "A"
        ],
        [
         "1",
         "#NAME?",
         "315",
         "81",
         "7",
         "24",
         "38",
         "39",
         "14",
         "3449",
         "835",
         "69",
         "321",
         "414",
         "375",
         "N",
         "W",
         "632",
         "43",
         "10",
         "475.0",
         "N"
        ],
        [
         "2",
         "#NAME?",
         "479",
         "130",
         "18",
         "66",
         "72",
         "76",
         "3",
         "1624",
         "457",
         "63",
         "224",
         "266",
         "263",
         "A",
         "W",
         "880",
         "82",
         "14",
         "480.0",
         "A"
        ],
        [
         "3",
         "#NAME?",
         "496",
         "141",
         "20",
         "65",
         "78",
         "37",
         "11",
         "5628",
         "1575",
         "225",
         "828",
         "838",
         "354",
         "N",
         "E",
         "200",
         "11",
         "3",
         "500.0",
         "N"
        ],
        [
         "4",
         "#NAME?",
         "321",
         "87",
         "10",
         "39",
         "42",
         "30",
         "2",
         "396",
         "101",
         "12",
         "48",
         "46",
         "33",
         "N",
         "E",
         "805",
         "40",
         "4",
         "91.5",
         "N"
        ]
       ],
       "shape": {
        "columns": 21,
        "rows": 5
       }
      },
      "text/html": [
       "<div>\n",
       "<style scoped>\n",
       "    .dataframe tbody tr th:only-of-type {\n",
       "        vertical-align: middle;\n",
       "    }\n",
       "\n",
       "    .dataframe tbody tr th {\n",
       "        vertical-align: top;\n",
       "    }\n",
       "\n",
       "    .dataframe thead th {\n",
       "        text-align: right;\n",
       "    }\n",
       "</style>\n",
       "<table border=\"1\" class=\"dataframe\">\n",
       "  <thead>\n",
       "    <tr style=\"text-align: right;\">\n",
       "      <th></th>\n",
       "      <th>Unnamed: 0</th>\n",
       "      <th>AtBat</th>\n",
       "      <th>Hits</th>\n",
       "      <th>HmRun</th>\n",
       "      <th>Runs</th>\n",
       "      <th>RBI</th>\n",
       "      <th>Walks</th>\n",
       "      <th>Years</th>\n",
       "      <th>CAtBat</th>\n",
       "      <th>CHits</th>\n",
       "      <th>...</th>\n",
       "      <th>CRuns</th>\n",
       "      <th>CRBI</th>\n",
       "      <th>CWalks</th>\n",
       "      <th>League</th>\n",
       "      <th>Division</th>\n",
       "      <th>PutOuts</th>\n",
       "      <th>Assists</th>\n",
       "      <th>Errors</th>\n",
       "      <th>Salary</th>\n",
       "      <th>NewLeague</th>\n",
       "    </tr>\n",
       "  </thead>\n",
       "  <tbody>\n",
       "    <tr>\n",
       "      <th>0</th>\n",
       "      <td>#NAME?</td>\n",
       "      <td>293</td>\n",
       "      <td>66</td>\n",
       "      <td>1</td>\n",
       "      <td>30</td>\n",
       "      <td>29</td>\n",
       "      <td>14</td>\n",
       "      <td>1</td>\n",
       "      <td>293</td>\n",
       "      <td>66</td>\n",
       "      <td>...</td>\n",
       "      <td>30</td>\n",
       "      <td>29</td>\n",
       "      <td>14</td>\n",
       "      <td>A</td>\n",
       "      <td>E</td>\n",
       "      <td>446</td>\n",
       "      <td>33</td>\n",
       "      <td>20</td>\n",
       "      <td>NaN</td>\n",
       "      <td>A</td>\n",
       "    </tr>\n",
       "    <tr>\n",
       "      <th>1</th>\n",
       "      <td>#NAME?</td>\n",
       "      <td>315</td>\n",
       "      <td>81</td>\n",
       "      <td>7</td>\n",
       "      <td>24</td>\n",
       "      <td>38</td>\n",
       "      <td>39</td>\n",
       "      <td>14</td>\n",
       "      <td>3449</td>\n",
       "      <td>835</td>\n",
       "      <td>...</td>\n",
       "      <td>321</td>\n",
       "      <td>414</td>\n",
       "      <td>375</td>\n",
       "      <td>N</td>\n",
       "      <td>W</td>\n",
       "      <td>632</td>\n",
       "      <td>43</td>\n",
       "      <td>10</td>\n",
       "      <td>475.0</td>\n",
       "      <td>N</td>\n",
       "    </tr>\n",
       "    <tr>\n",
       "      <th>2</th>\n",
       "      <td>#NAME?</td>\n",
       "      <td>479</td>\n",
       "      <td>130</td>\n",
       "      <td>18</td>\n",
       "      <td>66</td>\n",
       "      <td>72</td>\n",
       "      <td>76</td>\n",
       "      <td>3</td>\n",
       "      <td>1624</td>\n",
       "      <td>457</td>\n",
       "      <td>...</td>\n",
       "      <td>224</td>\n",
       "      <td>266</td>\n",
       "      <td>263</td>\n",
       "      <td>A</td>\n",
       "      <td>W</td>\n",
       "      <td>880</td>\n",
       "      <td>82</td>\n",
       "      <td>14</td>\n",
       "      <td>480.0</td>\n",
       "      <td>A</td>\n",
       "    </tr>\n",
       "    <tr>\n",
       "      <th>3</th>\n",
       "      <td>#NAME?</td>\n",
       "      <td>496</td>\n",
       "      <td>141</td>\n",
       "      <td>20</td>\n",
       "      <td>65</td>\n",
       "      <td>78</td>\n",
       "      <td>37</td>\n",
       "      <td>11</td>\n",
       "      <td>5628</td>\n",
       "      <td>1575</td>\n",
       "      <td>...</td>\n",
       "      <td>828</td>\n",
       "      <td>838</td>\n",
       "      <td>354</td>\n",
       "      <td>N</td>\n",
       "      <td>E</td>\n",
       "      <td>200</td>\n",
       "      <td>11</td>\n",
       "      <td>3</td>\n",
       "      <td>500.0</td>\n",
       "      <td>N</td>\n",
       "    </tr>\n",
       "    <tr>\n",
       "      <th>4</th>\n",
       "      <td>#NAME?</td>\n",
       "      <td>321</td>\n",
       "      <td>87</td>\n",
       "      <td>10</td>\n",
       "      <td>39</td>\n",
       "      <td>42</td>\n",
       "      <td>30</td>\n",
       "      <td>2</td>\n",
       "      <td>396</td>\n",
       "      <td>101</td>\n",
       "      <td>...</td>\n",
       "      <td>48</td>\n",
       "      <td>46</td>\n",
       "      <td>33</td>\n",
       "      <td>N</td>\n",
       "      <td>E</td>\n",
       "      <td>805</td>\n",
       "      <td>40</td>\n",
       "      <td>4</td>\n",
       "      <td>91.5</td>\n",
       "      <td>N</td>\n",
       "    </tr>\n",
       "  </tbody>\n",
       "</table>\n",
       "<p>5 rows × 21 columns</p>\n",
       "</div>"
      ],
      "text/plain": [
       "  Unnamed: 0  AtBat  Hits  HmRun  Runs  RBI  Walks  Years  CAtBat  CHits  ...  \\\n",
       "0     #NAME?    293    66      1    30   29     14      1     293     66  ...   \n",
       "1     #NAME?    315    81      7    24   38     39     14    3449    835  ...   \n",
       "2     #NAME?    479   130     18    66   72     76      3    1624    457  ...   \n",
       "3     #NAME?    496   141     20    65   78     37     11    5628   1575  ...   \n",
       "4     #NAME?    321    87     10    39   42     30      2     396    101  ...   \n",
       "\n",
       "   CRuns  CRBI  CWalks  League Division PutOuts  Assists  Errors  Salary  \\\n",
       "0     30    29      14       A        E     446       33      20     NaN   \n",
       "1    321   414     375       N        W     632       43      10   475.0   \n",
       "2    224   266     263       A        W     880       82      14   480.0   \n",
       "3    828   838     354       N        E     200       11       3   500.0   \n",
       "4     48    46      33       N        E     805       40       4    91.5   \n",
       "\n",
       "   NewLeague  \n",
       "0          A  \n",
       "1          N  \n",
       "2          A  \n",
       "3          N  \n",
       "4          N  \n",
       "\n",
       "[5 rows x 21 columns]"
      ]
     },
     "execution_count": 6,
     "metadata": {},
     "output_type": "execute_result"
    }
   ],
   "source": [
    "hitters_df = pd.read_csv('data/hitters.csv')\n",
    "hitters_df.head()"
   ]
  },
  {
   "cell_type": "markdown",
   "metadata": {},
   "source": [
    "First of all, we note that the `Salary` variable is missing for some of the\n",
    "players. The `isnull()` function can be used to identify the missing observations. It returns a vector of the same length as the input vector, with a `TRUE` value\n",
    "for any elements that are missing, and a `FALSE` value for non-missing elements.\n",
    "The `sum()` function can then be used to count all of the missing elements:"
   ]
  },
  {
   "cell_type": "code",
   "execution_count": 7,
   "metadata": {},
   "outputs": [
    {
     "name": "stdout",
     "output_type": "stream",
     "text": [
      "Number of null values: 59\n"
     ]
    }
   ],
   "source": [
    "print(\"Number of null values:\", hitters_df[\"Salary\"].isnull().sum())"
   ]
  },
  {
   "cell_type": "code",
   "execution_count": 8,
   "metadata": {},
   "outputs": [
    {
     "name": "stdout",
     "output_type": "stream",
     "text": [
      "Dimensions of original data: (322, 21)\n",
      "Dimensions of modified data: (263, 20)\n",
      "Number of null values: 0\n"
     ]
    }
   ],
   "source": [
    "# Print the dimensions of the original Hitters data (322 rows x 20 columns)\n",
    "print(\"Dimensions of original data:\", hitters_df.shape)\n",
    "\n",
    "# Drop any rows the contain missing values, along with the player names\n",
    "hitters_df_clean = hitters_df.dropna().drop('Unnamed: 0', axis=1)\n",
    "\n",
    "# Print the dimensions of the modified Hitters data (263 rows x 20 columns)\n",
    "print(\"Dimensions of modified data:\", hitters_df_clean.shape)\n",
    "\n",
    "# One last check: should return 0\n",
    "print(\"Number of null values:\", hitters_df_clean[\"Salary\"].isnull().sum())"
   ]
  },
  {
   "cell_type": "code",
   "execution_count": 9,
   "metadata": {},
   "outputs": [],
   "source": [
    "dummies = pd.get_dummies(hitters_df_clean[['League', 'Division', 'NewLeague']])\n",
    "\n",
    "y = hitters_df_clean.Salary\n",
    "\n",
    "# Drop the column with the independent variable (Salary), and columns for which we created dummy variables\n",
    "X_ = hitters_df_clean.drop(['Salary', 'League', 'Division', 'NewLeague'], axis=1).astype('float64')\n",
    "\n",
    "# Define the feature set X.\n",
    "X = pd.concat([X_, dummies[['League_N', 'Division_W', 'NewLeague_N']]], axis=1)"
   ]
  },
  {
   "cell_type": "markdown",
   "metadata": {},
   "source": [
    "We can perform best subset selection by identifying the best model that contains a given number of predictors, where **best** is quantified using RSS. We'll define a helper function to outputs the best set of variables for\n",
    "each model size:"
   ]
  },
  {
   "cell_type": "code",
   "execution_count": 10,
   "metadata": {},
   "outputs": [],
   "source": [
    "def processSubset(feature_set):\n",
    "    # Fit model on feature_set and calculate RSS\n",
    "    model = sm.OLS(y,X[list(feature_set)].astype(float))\n",
    "    regr = model.fit()\n",
    "    RSS = ((regr.predict(X[list(feature_set)]) - y) ** 2).sum()\n",
    "    return {\"model\":regr, \"RSS\":RSS}"
   ]
  },
  {
   "cell_type": "code",
   "execution_count": 11,
   "metadata": {},
   "outputs": [],
   "source": [
    "def getBest(k):\n",
    "    \n",
    "    tic = time.time()\n",
    "    \n",
    "    results = []\n",
    "    \n",
    "    for combo in itertools.combinations(X.columns, k):\n",
    "        results.append(processSubset(combo))\n",
    "    \n",
    "    # Wrap everything up in a nice dataframe\n",
    "    models = pd.DataFrame(results)\n",
    "    \n",
    "    # Choose the model with the highest RSS\n",
    "    best_model = models.loc[models['RSS'].argmin()]\n",
    "    \n",
    "    toc = time.time()\n",
    "    print(\"Processed\", models.shape[0], \"models on\", k, \"predictors in\", (toc-tic), \"seconds.\")\n",
    "    \n",
    "    # Return the best model, along with some other useful information about the model\n",
    "    return best_model"
   ]
  },
  {
   "cell_type": "markdown",
   "metadata": {},
   "source": [
    "This returns a `DataFrame` containing the best model that we generated, along with some extra information about the model. Now we want to call that function for each number of predictors $k$:"
   ]
  },
  {
   "cell_type": "code",
   "execution_count": 12,
   "metadata": {},
   "outputs": [
    {
     "name": "stdout",
     "output_type": "stream",
     "text": [
      "Processed 19 models on 1 predictors in 0.022990703582763672 seconds.\n",
      "Processed 171 models on 2 predictors in 0.11062788963317871 seconds.\n",
      "Processed 969 models on 3 predictors in 0.6377561092376709 seconds.\n",
      "Processed 3876 models on 4 predictors in 3.1653025150299072 seconds.\n",
      "Processed 11628 models on 5 predictors in 9.693379163742065 seconds.\n",
      "Processed 27132 models on 6 predictors in 23.587374448776245 seconds.\n",
      "Processed 50388 models on 7 predictors in 47.06334567070007 seconds.\n",
      "Total elapsed time: 85.18617510795593 seconds.\n"
     ]
    }
   ],
   "source": [
    "# Could take quite awhile to complete...\n",
    "\n",
    "models_best = pd.DataFrame(columns=[\"RSS\", \"model\"])\n",
    "\n",
    "tic = time.time()\n",
    "for i in range(1,8):\n",
    "    models_best.loc[i] = getBest(i)\n",
    "\n",
    "toc = time.time()\n",
    "print(\"Total elapsed time:\", (toc-tic), \"seconds.\")"
   ]
  },
  {
   "cell_type": "markdown",
   "metadata": {},
   "source": [
    "Now we have one big DataFrame that contains the best models we've generated along with their RSS:"
   ]
  },
  {
   "cell_type": "code",
   "execution_count": 13,
   "metadata": {},
   "outputs": [
    {
     "data": {
      "application/vnd.microsoft.datawrangler.viewer.v0+json": {
       "columns": [
        {
         "name": "index",
         "rawType": "int64",
         "type": "integer"
        },
        {
         "name": "RSS",
         "rawType": "object",
         "type": "unknown"
        },
        {
         "name": "model",
         "rawType": "object",
         "type": "unknown"
        }
       ],
       "conversionMethod": "pd.DataFrame",
       "ref": "5294235e-74d7-4701-99df-e58172fcfed0",
       "rows": [
        [
         "1",
         "43213925.90986757",
         "<statsmodels.regression.linear_model.RegressionResultsWrapper object at 0x000001248C28B610>"
        ],
        [
         "2",
         "30733054.433643848",
         "<statsmodels.regression.linear_model.RegressionResultsWrapper object at 0x000001248C3DE9F0>"
        ],
        [
         "3",
         "29410713.176730692",
         "<statsmodels.regression.linear_model.RegressionResultsWrapper object at 0x000001248E523170>"
        ],
        [
         "4",
         "27976782.522602566",
         "<statsmodels.regression.linear_model.RegressionResultsWrapper object at 0x0000012490AC8A70>"
        ],
        [
         "5",
         "27187795.0095081",
         "<statsmodels.regression.linear_model.RegressionResultsWrapper object at 0x000001248E4F8B90>"
        ],
        [
         "6",
         "26397720.512771614",
         "<statsmodels.regression.linear_model.RegressionResultsWrapper object at 0x0000012491FEEDB0>"
        ],
        [
         "7",
         "26064130.61034057",
         "<statsmodels.regression.linear_model.RegressionResultsWrapper object at 0x000001251A0EF650>"
        ]
       ],
       "shape": {
        "columns": 2,
        "rows": 7
       }
      },
      "text/html": [
       "<div>\n",
       "<style scoped>\n",
       "    .dataframe tbody tr th:only-of-type {\n",
       "        vertical-align: middle;\n",
       "    }\n",
       "\n",
       "    .dataframe tbody tr th {\n",
       "        vertical-align: top;\n",
       "    }\n",
       "\n",
       "    .dataframe thead th {\n",
       "        text-align: right;\n",
       "    }\n",
       "</style>\n",
       "<table border=\"1\" class=\"dataframe\">\n",
       "  <thead>\n",
       "    <tr style=\"text-align: right;\">\n",
       "      <th></th>\n",
       "      <th>RSS</th>\n",
       "      <th>model</th>\n",
       "    </tr>\n",
       "  </thead>\n",
       "  <tbody>\n",
       "    <tr>\n",
       "      <th>1</th>\n",
       "      <td>43213925.909868</td>\n",
       "      <td>&lt;statsmodels.regression.linear_model.Regressio...</td>\n",
       "    </tr>\n",
       "    <tr>\n",
       "      <th>2</th>\n",
       "      <td>30733054.433644</td>\n",
       "      <td>&lt;statsmodels.regression.linear_model.Regressio...</td>\n",
       "    </tr>\n",
       "    <tr>\n",
       "      <th>3</th>\n",
       "      <td>29410713.176731</td>\n",
       "      <td>&lt;statsmodels.regression.linear_model.Regressio...</td>\n",
       "    </tr>\n",
       "    <tr>\n",
       "      <th>4</th>\n",
       "      <td>27976782.522603</td>\n",
       "      <td>&lt;statsmodels.regression.linear_model.Regressio...</td>\n",
       "    </tr>\n",
       "    <tr>\n",
       "      <th>5</th>\n",
       "      <td>27187795.009508</td>\n",
       "      <td>&lt;statsmodels.regression.linear_model.Regressio...</td>\n",
       "    </tr>\n",
       "    <tr>\n",
       "      <th>6</th>\n",
       "      <td>26397720.512772</td>\n",
       "      <td>&lt;statsmodels.regression.linear_model.Regressio...</td>\n",
       "    </tr>\n",
       "    <tr>\n",
       "      <th>7</th>\n",
       "      <td>26064130.610341</td>\n",
       "      <td>&lt;statsmodels.regression.linear_model.Regressio...</td>\n",
       "    </tr>\n",
       "  </tbody>\n",
       "</table>\n",
       "</div>"
      ],
      "text/plain": [
       "               RSS                                              model\n",
       "1  43213925.909868  <statsmodels.regression.linear_model.Regressio...\n",
       "2  30733054.433644  <statsmodels.regression.linear_model.Regressio...\n",
       "3  29410713.176731  <statsmodels.regression.linear_model.Regressio...\n",
       "4  27976782.522603  <statsmodels.regression.linear_model.Regressio...\n",
       "5  27187795.009508  <statsmodels.regression.linear_model.Regressio...\n",
       "6  26397720.512772  <statsmodels.regression.linear_model.Regressio...\n",
       "7  26064130.610341  <statsmodels.regression.linear_model.Regressio..."
      ]
     },
     "execution_count": 13,
     "metadata": {},
     "output_type": "execute_result"
    }
   ],
   "source": [
    "models_best"
   ]
  },
  {
   "cell_type": "markdown",
   "metadata": {},
   "source": [
    "If we want to access the details of each model, no problem! We can get a full rundown of a single model using the `summary()` function:"
   ]
  },
  {
   "cell_type": "code",
   "execution_count": 14,
   "metadata": {},
   "outputs": [
    {
     "name": "stdout",
     "output_type": "stream",
     "text": [
      "                                 OLS Regression Results                                \n",
      "=======================================================================================\n",
      "Dep. Variable:                 Salary   R-squared (uncentered):                   0.798\n",
      "Model:                            OLS   Adj. R-squared (uncentered):              0.792\n",
      "Method:                 Least Squares   F-statistic:                              144.2\n",
      "Date:                Mon, 28 Apr 2025   Prob (F-statistic):                    4.76e-85\n",
      "Time:                        17:45:16   Log-Likelihood:                         -1885.9\n",
      "No. Observations:                 263   AIC:                                      3786.\n",
      "Df Residuals:                     256   BIC:                                      3811.\n",
      "Df Model:                           7                                                  \n",
      "Covariance Type:            nonrobust                                                  \n",
      "==============================================================================\n",
      "                 coef    std err          t      P>|t|      [0.025      0.975]\n",
      "------------------------------------------------------------------------------\n",
      "Hits           1.6800      0.490      3.426      0.001       0.714       2.646\n",
      "Walks          3.4000      1.196      2.843      0.005       1.045       5.755\n",
      "CAtBat        -0.3288      0.090     -3.665      0.000      -0.506      -0.152\n",
      "CHits          1.3470      0.312      4.316      0.000       0.732       1.962\n",
      "CHmRun         1.3494      0.415      3.248      0.001       0.531       2.167\n",
      "PutOuts        0.2482      0.074      3.336      0.001       0.102       0.395\n",
      "Division_W  -111.9438     36.786     -3.043      0.003    -184.386     -39.502\n",
      "==============================================================================\n",
      "Omnibus:                      108.568   Durbin-Watson:                   2.008\n",
      "Prob(Omnibus):                  0.000   Jarque-Bera (JB):              808.968\n",
      "Skew:                           1.457   Prob(JB):                    2.16e-176\n",
      "Kurtosis:                      11.082   Cond. No.                     6.81e+03\n",
      "==============================================================================\n",
      "\n",
      "Notes:\n",
      "[1] R² is computed without centering (uncentered) since the model does not contain a constant.\n",
      "[2] Standard Errors assume that the covariance matrix of the errors is correctly specified.\n",
      "[3] The condition number is large, 6.81e+03. This might indicate that there are\n",
      "strong multicollinearity or other numerical problems.\n"
     ]
    }
   ],
   "source": [
    "print(models_best.loc[7, \"model\"].summary())"
   ]
  },
  {
   "cell_type": "markdown",
   "metadata": {},
   "source": [
    "This output indicates that the best two-variable model contains only Hits and CRBI. To save time, we only generated results up to the best 7-variable model. You can use the functions we defined above to explore as many variables as are desired."
   ]
  },
  {
   "cell_type": "code",
   "execution_count": 15,
   "metadata": {},
   "outputs": [
    {
     "name": "stdout",
     "output_type": "stream",
     "text": [
      "Processed 171 models on 17 predictors in 0.19801998138427734 seconds.\n",
      "                                 OLS Regression Results                                \n",
      "=======================================================================================\n",
      "Dep. Variable:                 Salary   R-squared (uncentered):                   0.810\n",
      "Model:                            OLS   Adj. R-squared (uncentered):              0.796\n",
      "Method:                 Least Squares   F-statistic:                              61.54\n",
      "Date:                Mon, 28 Apr 2025   Prob (F-statistic):                    2.25e-78\n",
      "Time:                        17:45:16   Log-Likelihood:                         -1878.0\n",
      "No. Observations:                 263   AIC:                                      3790.\n",
      "Df Residuals:                     246   BIC:                                      3851.\n",
      "Df Model:                          17                                                  \n",
      "Covariance Type:            nonrobust                                                  \n",
      "==============================================================================\n",
      "                 coef    std err          t      P>|t|      [0.025      0.975]\n",
      "------------------------------------------------------------------------------\n",
      "AtBat         -1.6165      0.594     -2.720      0.007      -2.787      -0.446\n",
      "Hits           7.0221      2.302      3.050      0.003       2.487      11.557\n",
      "HmRun          3.8634      5.542      0.697      0.486      -7.052      14.779\n",
      "Runs          -2.2599      2.816     -0.803      0.423      -7.806       3.286\n",
      "RBI           -1.0024      2.485     -0.403      0.687      -5.897       3.892\n",
      "Walks          6.1056      1.811      3.371      0.001       2.538       9.673\n",
      "Years          9.6389     10.071      0.957      0.339     -10.197      29.475\n",
      "CAtBat        -0.2033      0.131     -1.557      0.121      -0.461       0.054\n",
      "CHits          0.1715      0.488      0.352      0.725      -0.789       1.132\n",
      "CRuns          1.4691      0.564      2.606      0.010       0.359       2.579\n",
      "CRBI           0.7106      0.250      2.841      0.005       0.218       1.203\n",
      "CWalks        -0.7754      0.315     -2.463      0.014      -1.395      -0.155\n",
      "PutOuts        0.2860      0.077      3.696      0.000       0.134       0.438\n",
      "Assists        0.3172      0.218      1.454      0.147      -0.112       0.747\n",
      "Errors        -1.9863      4.316     -0.460      0.646     -10.487       6.514\n",
      "League_N      66.4330     39.289      1.691      0.092     -10.954     143.820\n",
      "Division_W   -97.3188     38.927     -2.500      0.013    -173.991     -20.646\n",
      "==============================================================================\n",
      "Omnibus:                       96.301   Durbin-Watson:                   2.019\n",
      "Prob(Omnibus):                  0.000   Jarque-Bera (JB):              617.571\n",
      "Skew:                           1.306   Prob(JB):                    7.88e-135\n",
      "Kurtosis:                      10.038   Cond. No.                     7.67e+03\n",
      "==============================================================================\n",
      "\n",
      "Notes:\n",
      "[1] R² is computed without centering (uncentered) since the model does not contain a constant.\n",
      "[2] Standard Errors assume that the covariance matrix of the errors is correctly specified.\n",
      "[3] The condition number is large, 7.67e+03. This might indicate that there are\n",
      "strong multicollinearity or other numerical problems.\n"
     ]
    }
   ],
   "source": [
    "# Show the best 19-variable model (there's actually only one)\n",
    "print(getBest(17)[\"model\"].summary())"
   ]
  },
  {
   "cell_type": "markdown",
   "metadata": {},
   "source": [
    "Rather than letting the results of our call to the `summary()` function print to the screen, we can access just the parts we need using the model's attributes. For example, if we want the $R^2$ value:"
   ]
  },
  {
   "cell_type": "code",
   "execution_count": 16,
   "metadata": {},
   "outputs": [
    {
     "data": {
      "text/plain": [
       "np.float64(0.7614950002332872)"
      ]
     },
     "execution_count": 16,
     "metadata": {},
     "output_type": "execute_result"
    }
   ],
   "source": [
    "models_best.loc[2, \"model\"].rsquared"
   ]
  },
  {
   "cell_type": "markdown",
   "metadata": {},
   "source": [
    "In addition to the verbose output we get when we print the summary to the screen, fitting the `OLM` also produced many other useful statistics such as adjusted $R^2$, AIC, and BIC. We can examine these to try to select the best overall model. Let's start by looking at $R^2$ across all our models:"
   ]
  },
  {
   "cell_type": "code",
   "execution_count": 17,
   "metadata": {},
   "outputs": [
    {
     "name": "stderr",
     "output_type": "stream",
     "text": [
      "C:\\Users\\user\\AppData\\Local\\Temp\\ipykernel_15872\\3287597919.py:2: FutureWarning: Series.__getitem__ treating keys as positions is deprecated. In a future version, integer keys will always be treated as labels (consistent with DataFrame behavior). To access a value by position, use `ser.iloc[pos]`\n",
      "  models_best.apply(lambda row: row[1].rsquared, axis=1)\n"
     ]
    },
    {
     "data": {
      "text/plain": [
       "1    0.664637\n",
       "2    0.761495\n",
       "3    0.771757\n",
       "4    0.782885\n",
       "5    0.789008\n",
       "6    0.795140\n",
       "7    0.797728\n",
       "dtype: float64"
      ]
     },
     "execution_count": 17,
     "metadata": {},
     "output_type": "execute_result"
    }
   ],
   "source": [
    "# Gets the second element from each row ('model') and pulls out its rsquared attribute\n",
    "models_best.apply(lambda row: row[1].rsquared, axis=1)"
   ]
  },
  {
   "cell_type": "markdown",
   "metadata": {},
   "source": [
    "As expected, the $R^2$ statistic increases monotonically as more\n",
    "variables are included.\n",
    "\n",
    "Plotting RSS, adjusted $R^2$, AIC, and BIC for all of the models at once will\n",
    "help us decide which model to select. Note the `type=\"l\"` option tells `R` to\n",
    "connect the plotted points with lines:"
   ]
  },
  {
   "cell_type": "code",
   "execution_count": 18,
   "metadata": {},
   "outputs": [
    {
     "name": "stderr",
     "output_type": "stream",
     "text": [
      "C:\\Users\\user\\AppData\\Local\\Temp\\ipykernel_15872\\811643679.py:16: FutureWarning: Series.__getitem__ treating keys as positions is deprecated. In a future version, integer keys will always be treated as labels (consistent with DataFrame behavior). To access a value by position, use `ser.iloc[pos]`\n",
      "  rsquared_adj = models_best.apply(lambda row: row[1].rsquared_adj, axis=1)\n",
      "C:\\Users\\user\\AppData\\Local\\Temp\\ipykernel_15872\\811643679.py:25: FutureWarning: Series.__getitem__ treating keys as positions is deprecated. In a future version, integer keys will always be treated as labels (consistent with DataFrame behavior). To access a value by position, use `ser.iloc[pos]`\n",
      "  aic = models_best.apply(lambda row: row[1].aic, axis=1)\n",
      "C:\\Users\\user\\AppData\\Local\\Temp\\ipykernel_15872\\811643679.py:33: FutureWarning: Series.__getitem__ treating keys as positions is deprecated. In a future version, integer keys will always be treated as labels (consistent with DataFrame behavior). To access a value by position, use `ser.iloc[pos]`\n",
      "  bic = models_best.apply(lambda row: row[1].bic, axis=1)\n"
     ]
    },
    {
     "data": {
      "text/plain": [
       "Text(0, 0.5, 'BIC')"
      ]
     },
     "execution_count": 18,
     "metadata": {},
     "output_type": "execute_result"
    },
    {
     "data": {
      "image/png": "[encoded data removed]",
      "text/plain": [
       "<Figure size 2000x1000 with 4 Axes>"
      ]
     },
     "metadata": {},
     "output_type": "display_data"
    }
   ],
   "source": [
    "plt.figure(figsize=(20,10))\n",
    "plt.rcParams.update({'font.size': 18, 'lines.markersize': 10})\n",
    "\n",
    "# Set up a 2x2 grid so we can look at 4 plots at once\n",
    "plt.subplot(2, 2, 1)\n",
    "\n",
    "# We will now plot a red dot to indicate the model with the largest adjusted R^2 statistic.\n",
    "# The argmax() function can be used to identify the location of the maximum point of a vector\n",
    "plt.plot(models_best[\"RSS\"])\n",
    "plt.xlabel('# Predictors')\n",
    "plt.ylabel('RSS')\n",
    "\n",
    "# We will now plot a red dot to indicate the model with the largest adjusted R^2 statistic.\n",
    "# The argmax() function can be used to identify the location of the maximum point of a vector\n",
    "\n",
    "rsquared_adj = models_best.apply(lambda row: row[1].rsquared_adj, axis=1)\n",
    "\n",
    "plt.subplot(2, 2, 2)\n",
    "plt.plot(rsquared_adj)\n",
    "plt.plot(rsquared_adj.argmax()+1, rsquared_adj.max(), \"or\")\n",
    "plt.xlabel('# Predictors')\n",
    "plt.ylabel('adjusted rsquared')\n",
    "\n",
    "# We'll do the same for AIC and BIC, this time looking for the models with the SMALLEST statistic\n",
    "aic = models_best.apply(lambda row: row[1].aic, axis=1)\n",
    "\n",
    "plt.subplot(2, 2, 3)\n",
    "plt.plot(aic)\n",
    "plt.plot(aic.argmin()+1, aic.min(), \"or\")\n",
    "plt.xlabel('# Predictors')\n",
    "plt.ylabel('AIC')\n",
    "\n",
    "bic = models_best.apply(lambda row: row[1].bic, axis=1)\n",
    "\n",
    "plt.subplot(2, 2, 4)\n",
    "plt.plot(bic)\n",
    "plt.plot(bic.argmin()+1, bic.min(), \"or\")\n",
    "plt.xlabel('# Predictors')\n",
    "plt.ylabel('BIC')"
   ]
  },
  {
   "cell_type": "code",
   "execution_count": 19,
   "metadata": {},
   "outputs": [
    {
     "data": {
      "text/plain": [
       "np.int64(6)"
      ]
     },
     "execution_count": 19,
     "metadata": {},
     "output_type": "execute_result"
    }
   ],
   "source": [
    "rsquared_adj.argmax()"
   ]
  },
  {
   "cell_type": "code",
   "execution_count": 20,
   "metadata": {},
   "outputs": [
    {
     "data": {
      "text/plain": [
       "np.float64(0.7921974900757028)"
      ]
     },
     "execution_count": 20,
     "metadata": {},
     "output_type": "execute_result"
    }
   ],
   "source": [
    "rsquared_adj.max()"
   ]
  },
  {
   "cell_type": "markdown",
   "metadata": {},
   "source": [
    "Recall that in the second step of our selection process, we narrowed the field down to just one model on any $k<=p$ predictors. We see that according to BIC, the best performer is the model with 6 variables. According to AIC and adjusted $R^2$ something a bit more complex might be better. Again, no one measure is going to give us an entirely accurate picture... but they all agree that a model with 5 or fewer predictors is insufficient."
   ]
  },
  {
   "cell_type": "markdown",
   "metadata": {},
   "source": [
    "#### Example: Forward Selection"
   ]
  },
  {
   "cell_type": "code",
   "execution_count": 21,
   "metadata": {},
   "outputs": [],
   "source": [
    "def forward(predictors):\n",
    "\n",
    "    # Pull out predictors we still need to process\n",
    "    remaining_predictors = [p for p in X.columns if p not in predictors]\n",
    "    \n",
    "    tic = time.time()\n",
    "    \n",
    "    results = []\n",
    "    \n",
    "    for p in remaining_predictors:\n",
    "        results.append(processSubset(predictors+[p]))\n",
    "    \n",
    "    # Wrap everything up in a nice dataframe\n",
    "    models = pd.DataFrame(results)\n",
    "    \n",
    "    # Choose the model with the highest RSS\n",
    "    best_model = models.loc[models['RSS'].argmin()]\n",
    "    \n",
    "    toc = time.time()\n",
    "    print(\"Processed \", models.shape[0], \"models on\", len(predictors)+1, \"predictors in\", (toc-tic), \"seconds.\")\n",
    "    \n",
    "    # Return the best model, along with some other useful information about the model\n",
    "    return best_model"
   ]
  },
  {
   "cell_type": "code",
   "execution_count": 22,
   "metadata": {
    "scrolled": true
   },
   "outputs": [
    {
     "name": "stdout",
     "output_type": "stream",
     "text": [
      "Processed  19 models on 1 predictors in 0.017924070358276367 seconds.\n",
      "Processed  18 models on 2 predictors in 0.02203202247619629 seconds.\n",
      "Processed  17 models on 3 predictors in 0.013656139373779297 seconds.\n",
      "Processed  16 models on 4 predictors in 0.01439523696899414 seconds.\n",
      "Processed  15 models on 5 predictors in 0.012741804122924805 seconds.\n",
      "Processed  14 models on 6 predictors in 0.011065244674682617 seconds.\n",
      "Processed  13 models on 7 predictors in 0.010478019714355469 seconds.\n",
      "Processed  12 models on 8 predictors in 0.011279582977294922 seconds.\n",
      "Processed  11 models on 9 predictors in 0.011351346969604492 seconds.\n",
      "Processed  10 models on 10 predictors in 0.009944677352905273 seconds.\n",
      "Processed  9 models on 11 predictors in 0.009215831756591797 seconds.\n",
      "Processed  8 models on 12 predictors in 0.007264852523803711 seconds.\n",
      "Processed  7 models on 13 predictors in 0.006735324859619141 seconds.\n",
      "Processed  6 models on 14 predictors in 0.0058002471923828125 seconds.\n",
      "Processed  5 models on 15 predictors in 0.005854368209838867 seconds.\n",
      "Processed  4 models on 16 predictors in 0.004934072494506836 seconds.\n",
      "Processed  3 models on 17 predictors in 0.0032384395599365234 seconds.\n",
      "Processed  2 models on 18 predictors in 0.002410411834716797 seconds.\n",
      "Processed  1 models on 19 predictors in 0.0012929439544677734 seconds.\n",
      "Total elapsed time: 0.1932692527770996 seconds.\n"
     ]
    }
   ],
   "source": [
    "models_fwd = pd.DataFrame(columns=[\"RSS\", \"model\"])\n",
    "\n",
    "tic = time.time()\n",
    "predictors = []\n",
    "\n",
    "for i in range(1,len(X.columns)+1):    \n",
    "    models_fwd.loc[i] = forward(predictors)\n",
    "    predictors = models_fwd.loc[i][\"model\"].model.exog_names\n",
    "\n",
    "toc = time.time()\n",
    "print(\"Total elapsed time:\", (toc-tic), \"seconds.\")"
   ]
  },
  {
   "cell_type": "code",
   "execution_count": 23,
   "metadata": {},
   "outputs": [
    {
     "name": "stdout",
     "output_type": "stream",
     "text": [
      "                                 OLS Regression Results                                \n",
      "=======================================================================================\n",
      "Dep. Variable:                 Salary   R-squared (uncentered):                   0.665\n",
      "Model:                            OLS   Adj. R-squared (uncentered):              0.663\n",
      "Method:                 Least Squares   F-statistic:                              519.2\n",
      "Date:                Mon, 28 Apr 2025   Prob (F-statistic):                    4.20e-64\n",
      "Time:                        17:45:17   Log-Likelihood:                         -1952.4\n",
      "No. Observations:                 263   AIC:                                      3907.\n",
      "Df Residuals:                     262   BIC:                                      3910.\n",
      "Df Model:                           1                                                  \n",
      "Covariance Type:            nonrobust                                                  \n",
      "==============================================================================\n",
      "                 coef    std err          t      P>|t|      [0.025      0.975]\n",
      "------------------------------------------------------------------------------\n",
      "Hits           4.8833      0.214     22.787      0.000       4.461       5.305\n",
      "==============================================================================\n",
      "Omnibus:                       90.075   Durbin-Watson:                   1.949\n",
      "Prob(Omnibus):                  0.000   Jarque-Bera (JB):              293.080\n",
      "Skew:                           1.469   Prob(JB):                     2.28e-64\n",
      "Kurtosis:                       7.256   Cond. No.                         1.00\n",
      "==============================================================================\n",
      "\n",
      "Notes:\n",
      "[1] R² is computed without centering (uncentered) since the model does not contain a constant.\n",
      "[2] Standard Errors assume that the covariance matrix of the errors is correctly specified.\n",
      "                                 OLS Regression Results                                \n",
      "=======================================================================================\n",
      "Dep. Variable:                 Salary   R-squared (uncentered):                   0.761\n",
      "Model:                            OLS   Adj. R-squared (uncentered):              0.760\n",
      "Method:                 Least Squares   F-statistic:                              416.7\n",
      "Date:                Mon, 28 Apr 2025   Prob (F-statistic):                    5.80e-82\n",
      "Time:                        17:45:17   Log-Likelihood:                         -1907.6\n",
      "No. Observations:                 263   AIC:                                      3819.\n",
      "Df Residuals:                     261   BIC:                                      3826.\n",
      "Df Model:                           2                                                  \n",
      "Covariance Type:            nonrobust                                                  \n",
      "==============================================================================\n",
      "                 coef    std err          t      P>|t|      [0.025      0.975]\n",
      "------------------------------------------------------------------------------\n",
      "Hits           2.9538      0.261     11.335      0.000       2.441       3.467\n",
      "CRBI           0.6788      0.066     10.295      0.000       0.549       0.809\n",
      "==============================================================================\n",
      "Omnibus:                      117.551   Durbin-Watson:                   1.933\n",
      "Prob(Omnibus):                  0.000   Jarque-Bera (JB):              654.612\n",
      "Skew:                           1.729   Prob(JB):                    7.12e-143\n",
      "Kurtosis:                       9.912   Cond. No.                         5.88\n",
      "==============================================================================\n",
      "\n",
      "Notes:\n",
      "[1] R² is computed without centering (uncentered) since the model does not contain a constant.\n",
      "[2] Standard Errors assume that the covariance matrix of the errors is correctly specified.\n"
     ]
    }
   ],
   "source": [
    "print(models_fwd.loc[1, \"model\"].summary())\n",
    "print(models_fwd.loc[2, \"model\"].summary())"
   ]
  },
  {
   "cell_type": "markdown",
   "metadata": {},
   "source": [
    "We see that using forward stepwise selection, the best one-variable\n",
    "model contains only `Hits`, and the best two-variable model additionally\n",
    "includes `CRBI`. Let's see how the models stack up against best subset selection:"
   ]
  },
  {
   "cell_type": "code",
   "execution_count": 24,
   "metadata": {},
   "outputs": [
    {
     "name": "stdout",
     "output_type": "stream",
     "text": [
      "                                 OLS Regression Results                                \n",
      "=======================================================================================\n",
      "Dep. Variable:                 Salary   R-squared (uncentered):                   0.795\n",
      "Model:                            OLS   Adj. R-squared (uncentered):              0.790\n",
      "Method:                 Least Squares   F-statistic:                              166.3\n",
      "Date:                Mon, 28 Apr 2025   Prob (F-statistic):                    1.79e-85\n",
      "Time:                        17:45:17   Log-Likelihood:                         -1887.6\n",
      "No. Observations:                 263   AIC:                                      3787.\n",
      "Df Residuals:                     257   BIC:                                      3809.\n",
      "Df Model:                           6                                                  \n",
      "Covariance Type:            nonrobust                                                  \n",
      "==============================================================================\n",
      "                 coef    std err          t      P>|t|      [0.025      0.975]\n",
      "------------------------------------------------------------------------------\n",
      "AtBat         -1.5488      0.477     -3.248      0.001      -2.488      -0.610\n",
      "Hits           7.0190      1.613      4.352      0.000       3.843      10.195\n",
      "Walks          3.7513      1.212      3.095      0.002       1.364       6.138\n",
      "CRBI           0.6544      0.064     10.218      0.000       0.528       0.781\n",
      "PutOuts        0.2703      0.075      3.614      0.000       0.123       0.418\n",
      "Division_W  -104.4513     37.661     -2.773      0.006    -178.615     -30.287\n",
      "==============================================================================\n",
      "Omnibus:                      106.414   Durbin-Watson:                   1.986\n",
      "Prob(Omnibus):                  0.000   Jarque-Bera (JB):              768.429\n",
      "Skew:                           1.433   Prob(JB):                    1.37e-167\n",
      "Kurtosis:                      10.869   Cond. No.                     1.29e+03\n",
      "==============================================================================\n",
      "\n",
      "Notes:\n",
      "[1] R² is computed without centering (uncentered) since the model does not contain a constant.\n",
      "[2] Standard Errors assume that the covariance matrix of the errors is correctly specified.\n",
      "[3] The condition number is large, 1.29e+03. This might indicate that there are\n",
      "strong multicollinearity or other numerical problems.\n",
      "                                 OLS Regression Results                                \n",
      "=======================================================================================\n",
      "Dep. Variable:                 Salary   R-squared (uncentered):                   0.795\n",
      "Model:                            OLS   Adj. R-squared (uncentered):              0.790\n",
      "Method:                 Least Squares   F-statistic:                              166.3\n",
      "Date:                Mon, 28 Apr 2025   Prob (F-statistic):                    1.79e-85\n",
      "Time:                        17:45:17   Log-Likelihood:                         -1887.6\n",
      "No. Observations:                 263   AIC:                                      3787.\n",
      "Df Residuals:                     257   BIC:                                      3809.\n",
      "Df Model:                           6                                                  \n",
      "Covariance Type:            nonrobust                                                  \n",
      "==============================================================================\n",
      "                 coef    std err          t      P>|t|      [0.025      0.975]\n",
      "------------------------------------------------------------------------------\n",
      "Hits           7.0190      1.613      4.352      0.000       3.843      10.195\n",
      "CRBI           0.6544      0.064     10.218      0.000       0.528       0.781\n",
      "Division_W  -104.4513     37.661     -2.773      0.006    -178.615     -30.287\n",
      "PutOuts        0.2703      0.075      3.614      0.000       0.123       0.418\n",
      "AtBat         -1.5488      0.477     -3.248      0.001      -2.488      -0.610\n",
      "Walks          3.7513      1.212      3.095      0.002       1.364       6.138\n",
      "==============================================================================\n",
      "Omnibus:                      106.414   Durbin-Watson:                   1.986\n",
      "Prob(Omnibus):                  0.000   Jarque-Bera (JB):              768.429\n",
      "Skew:                           1.433   Prob(JB):                    1.37e-167\n",
      "Kurtosis:                      10.869   Cond. No.                     1.29e+03\n",
      "==============================================================================\n",
      "\n",
      "Notes:\n",
      "[1] R² is computed without centering (uncentered) since the model does not contain a constant.\n",
      "[2] Standard Errors assume that the covariance matrix of the errors is correctly specified.\n",
      "[3] The condition number is large, 1.29e+03. This might indicate that there are\n",
      "strong multicollinearity or other numerical problems.\n"
     ]
    }
   ],
   "source": [
    "print(models_best.loc[6, \"model\"].summary())\n",
    "print(models_fwd.loc[6, \"model\"].summary())"
   ]
  },
  {
   "cell_type": "markdown",
   "metadata": {},
   "source": [
    "#### Example: Backward Selection"
   ]
  },
  {
   "cell_type": "code",
   "execution_count": 25,
   "metadata": {},
   "outputs": [],
   "source": [
    "def backward(predictors):\n",
    "    \n",
    "    tic = time.time()\n",
    "    \n",
    "    results = []\n",
    "    \n",
    "    for combo in itertools.combinations(predictors, len(predictors)-1):\n",
    "        results.append(processSubset(combo))\n",
    "    \n",
    "    # Wrap everything up in a nice dataframe\n",
    "    models = pd.DataFrame(results)\n",
    "    \n",
    "    # Choose the model with the highest RSS\n",
    "    best_model = models.loc[models['RSS'].argmin()]\n",
    "    \n",
    "    toc = time.time()\n",
    "    print(\"Processed \", models.shape[0], \"models on\", len(predictors)-1, \"predictors in\", (toc-tic), \"seconds.\")\n",
    "    \n",
    "    # Return the best model, along with some other useful information about the model\n",
    "    return best_model"
   ]
  },
  {
   "cell_type": "code",
   "execution_count": 26,
   "metadata": {
    "scrolled": true
   },
   "outputs": [
    {
     "name": "stdout",
     "output_type": "stream",
     "text": [
      "Processed  19 models on 18 predictors in 0.05070781707763672 seconds.\n",
      "Processed  18 models on 17 predictors in 0.024294137954711914 seconds.\n",
      "Processed  17 models on 16 predictors in 0.01934647560119629 seconds.\n",
      "Processed  16 models on 15 predictors in 0.019538164138793945 seconds.\n",
      "Processed  15 models on 14 predictors in 0.016709089279174805 seconds.\n",
      "Processed  14 models on 13 predictors in 0.015535116195678711 seconds.\n",
      "Processed  13 models on 12 predictors in 0.016109704971313477 seconds.\n",
      "Processed  12 models on 11 predictors in 0.012641668319702148 seconds.\n",
      "Processed  11 models on 10 predictors in 0.0132904052734375 seconds.\n",
      "Processed  10 models on 9 predictors in 0.011146068572998047 seconds.\n",
      "Processed  9 models on 8 predictors in 0.007218837738037109 seconds.\n",
      "Processed  8 models on 7 predictors in 0.009556055068969727 seconds.\n",
      "Processed  7 models on 6 predictors in 0.005826711654663086 seconds.\n",
      "Processed  6 models on 5 predictors in 0.00581812858581543 seconds.\n",
      "Processed  5 models on 4 predictors in 0.0042688846588134766 seconds.\n",
      "Processed  4 models on 3 predictors in 0.0030617713928222656 seconds.\n",
      "Processed  3 models on 2 predictors in 0.002264261245727539 seconds.\n",
      "Processed  2 models on 1 predictors in 0.0013415813446044922 seconds.\n",
      "Total elapsed time 0.246476411819458 seconds.\n"
     ]
    }
   ],
   "source": [
    "models_bwd = pd.DataFrame(columns=[\"RSS\", \"model\"], index = range(1,len(X.columns)))\n",
    "\n",
    "tic = time.time()\n",
    "predictors = X.columns\n",
    "\n",
    "while(len(predictors) > 1):  \n",
    "    models_bwd.loc[len(predictors)-1] = backward(predictors)\n",
    "    predictors = models_bwd.loc[len(predictors)-1][\"model\"].model.exog_names\n",
    "\n",
    "toc = time.time()\n",
    "print(\"Total elapsed time\", (toc-tic), \"seconds.\")"
   ]
  },
  {
   "cell_type": "code",
   "execution_count": 27,
   "metadata": {},
   "outputs": [
    {
     "name": "stdout",
     "output_type": "stream",
     "text": [
      "------------\n",
      "Best Subset:\n",
      "------------\n",
      "Hits            1.680029\n",
      "Walks           3.399961\n",
      "CAtBat         -0.328835\n",
      "CHits           1.347017\n",
      "CHmRun          1.349373\n",
      "PutOuts         0.248166\n",
      "Division_W   -111.943760\n",
      "dtype: float64\n"
     ]
    }
   ],
   "source": [
    "print(\"------------\")\n",
    "print(\"Best Subset:\")\n",
    "print(\"------------\")\n",
    "print(models_best.loc[7, \"model\"].params)"
   ]
  },
  {
   "cell_type": "code",
   "execution_count": 28,
   "metadata": {},
   "outputs": [
    {
     "name": "stdout",
     "output_type": "stream",
     "text": [
      "-----------------\n",
      "Foward Selection:\n",
      "-----------------\n",
      "Hits            7.277149\n",
      "CRBI            0.652415\n",
      "Division_W   -110.656338\n",
      "PutOuts         0.259787\n",
      "AtBat          -1.644651\n",
      "Walks           3.684324\n",
      "League_N       49.978410\n",
      "dtype: float64\n"
     ]
    }
   ],
   "source": [
    "print(\"-----------------\")\n",
    "print(\"Foward Selection:\")\n",
    "print(\"-----------------\")\n",
    "print(models_fwd.loc[7, \"model\"].params)"
   ]
  },
  {
   "cell_type": "code",
   "execution_count": 29,
   "metadata": {},
   "outputs": [
    {
     "name": "stdout",
     "output_type": "stream",
     "text": [
      "-------------------\n",
      "Backward Selection:\n",
      "-------------------\n",
      "AtBat         -1.601655\n",
      "Hits           6.148449\n",
      "Walks          5.866033\n",
      "CRuns          1.097453\n",
      "CWalks        -0.650614\n",
      "PutOuts        0.310125\n",
      "Division_W   -95.027171\n",
      "dtype: float64\n"
     ]
    }
   ],
   "source": [
    "print(\"-------------------\")\n",
    "print(\"Backward Selection:\")\n",
    "print(\"-------------------\")\n",
    "print(models_bwd.loc[7, \"model\"].params)"
   ]
  },
  {
   "cell_type": "markdown",
   "metadata": {},
   "source": [
    "# Choosing Optimal Model \n",
    "## Adjusting Training Statistics or Using Cross Validation\n",
    "As learned in Chapter 5, cross validation is an extremely good tool at giving us insight to how well the model will be used on unseen data (test data).\n",
    "\n",
    "But alternatively to cross validation, we can punish the training error statistics so in theory they can give us insight on what the test error will be. There have been several statistics developed to give us insight as to what the model will do for unseen errors.\n",
    "\n",
    "The 4 most popular are AIC, BIC, Mallows Cp and Adjusted R^2. AIC, BIC and Cp all have similar formulas that inflate the error for more predictors and a higher estimated variance. Adjusted R squared lowers the R^2 by each additional predictor in the model. All 4 of these statistics are 'classical' model selectors and were commonly used.\n",
    "\n",
    "Cross validation can be computationally intense but with modern computation we can build lots of models and evaluate them easily."
   ]
  },
  {
   "cell_type": "markdown",
   "metadata": {},
   "source": [
    "#### Example: Model selection using the Validation Set Approach"
   ]
  },
  {
   "cell_type": "code",
   "execution_count": 30,
   "metadata": {},
   "outputs": [],
   "source": [
    "%matplotlib inline\n",
    "import pandas as pd\n",
    "import numpy as np\n",
    "import itertools\n",
    "import statsmodels.api as sm\n",
    "import matplotlib.pyplot as plt\n"
   ]
  },
  {
   "cell_type": "code",
   "execution_count": 31,
   "metadata": {},
   "outputs": [],
   "source": [
    "df = pd.read_csv('data/hitters.csv')\n",
    "\n",
    "# Drop any rows the contain missing values, along with the player names\n",
    "df = df.dropna().drop('Unnamed: 0', axis=1)\n",
    "\n",
    "# Get dummy variables\n",
    "dummies = pd.get_dummies(df[['League', 'Division', 'NewLeague']])\n",
    "\n",
    "# Extract independent variable\n",
    "y = pd.DataFrame(df.Salary)\n",
    "\n",
    "# Drop the column with the independent variable (Salary), and columns for which we created dummy variables\n",
    "X_ = df.drop(['Salary', 'League', 'Division', 'NewLeague'], axis=1).astype('float64')\n",
    "\n",
    "# Define the feature set X.\n",
    "X = pd.concat([X_, dummies[['League_N', 'Division_W', 'NewLeague_N']]], axis=1)"
   ]
  },
  {
   "cell_type": "code",
   "execution_count": 32,
   "metadata": {},
   "outputs": [
    {
     "data": {
      "application/vnd.microsoft.datawrangler.viewer.v0+json": {
       "columns": [
        {
         "name": "index",
         "rawType": "int64",
         "type": "integer"
        },
        {
         "name": "AtBat",
         "rawType": "int64",
         "type": "integer"
        },
        {
         "name": "Hits",
         "rawType": "int64",
         "type": "integer"
        },
        {
         "name": "HmRun",
         "rawType": "int64",
         "type": "integer"
        },
        {
         "name": "Runs",
         "rawType": "int64",
         "type": "integer"
        },
        {
         "name": "RBI",
         "rawType": "int64",
         "type": "integer"
        },
        {
         "name": "Walks",
         "rawType": "int64",
         "type": "integer"
        },
        {
         "name": "Years",
         "rawType": "int64",
         "type": "integer"
        },
        {
         "name": "CAtBat",
         "rawType": "int64",
         "type": "integer"
        },
        {
         "name": "CHits",
         "rawType": "int64",
         "type": "integer"
        },
        {
         "name": "CHmRun",
         "rawType": "int64",
         "type": "integer"
        },
        {
         "name": "CRuns",
         "rawType": "int64",
         "type": "integer"
        },
        {
         "name": "CRBI",
         "rawType": "int64",
         "type": "integer"
        },
        {
         "name": "CWalks",
         "rawType": "int64",
         "type": "integer"
        },
        {
         "name": "League",
         "rawType": "object",
         "type": "string"
        },
        {
         "name": "Division",
         "rawType": "object",
         "type": "string"
        },
        {
         "name": "PutOuts",
         "rawType": "int64",
         "type": "integer"
        },
        {
         "name": "Assists",
         "rawType": "int64",
         "type": "integer"
        },
        {
         "name": "Errors",
         "rawType": "int64",
         "type": "integer"
        },
        {
         "name": "Salary",
         "rawType": "float64",
         "type": "float"
        },
        {
         "name": "NewLeague",
         "rawType": "object",
         "type": "string"
        }
       ],
       "conversionMethod": "pd.DataFrame",
       "ref": "be373a3c-bc64-4c59-b112-cd3f1697ae2e",
       "rows": [
        [
         "1",
         "315",
         "81",
         "7",
         "24",
         "38",
         "39",
         "14",
         "3449",
         "835",
         "69",
         "321",
         "414",
         "375",
         "N",
         "W",
         "632",
         "43",
         "10",
         "475.0",
         "N"
        ],
        [
         "2",
         "479",
         "130",
         "18",
         "66",
         "72",
         "76",
         "3",
         "1624",
         "457",
         "63",
         "224",
         "266",
         "263",
         "A",
         "W",
         "880",
         "82",
         "14",
         "480.0",
         "A"
        ],
        [
         "3",
         "496",
         "141",
         "20",
         "65",
         "78",
         "37",
         "11",
         "5628",
         "1575",
         "225",
         "828",
         "838",
         "354",
         "N",
         "E",
         "200",
         "11",
         "3",
         "500.0",
         "N"
        ],
        [
         "4",
         "321",
         "87",
         "10",
         "39",
         "42",
         "30",
         "2",
         "396",
         "101",
         "12",
         "48",
         "46",
         "33",
         "N",
         "E",
         "805",
         "40",
         "4",
         "91.5",
         "N"
        ],
        [
         "5",
         "594",
         "169",
         "4",
         "74",
         "51",
         "35",
         "11",
         "4408",
         "1133",
         "19",
         "501",
         "336",
         "194",
         "A",
         "W",
         "282",
         "421",
         "25",
         "750.0",
         "A"
        ]
       ],
       "shape": {
        "columns": 20,
        "rows": 5
       }
      },
      "text/html": [
       "<div>\n",
       "<style scoped>\n",
       "    .dataframe tbody tr th:only-of-type {\n",
       "        vertical-align: middle;\n",
       "    }\n",
       "\n",
       "    .dataframe tbody tr th {\n",
       "        vertical-align: top;\n",
       "    }\n",
       "\n",
       "    .dataframe thead th {\n",
       "        text-align: right;\n",
       "    }\n",
       "</style>\n",
       "<table border=\"1\" class=\"dataframe\">\n",
       "  <thead>\n",
       "    <tr style=\"text-align: right;\">\n",
       "      <th></th>\n",
       "      <th>AtBat</th>\n",
       "      <th>Hits</th>\n",
       "      <th>HmRun</th>\n",
       "      <th>Runs</th>\n",
       "      <th>RBI</th>\n",
       "      <th>Walks</th>\n",
       "      <th>Years</th>\n",
       "      <th>CAtBat</th>\n",
       "      <th>CHits</th>\n",
       "      <th>CHmRun</th>\n",
       "      <th>CRuns</th>\n",
       "      <th>CRBI</th>\n",
       "      <th>CWalks</th>\n",
       "      <th>League</th>\n",
       "      <th>Division</th>\n",
       "      <th>PutOuts</th>\n",
       "      <th>Assists</th>\n",
       "      <th>Errors</th>\n",
       "      <th>Salary</th>\n",
       "      <th>NewLeague</th>\n",
       "    </tr>\n",
       "  </thead>\n",
       "  <tbody>\n",
       "    <tr>\n",
       "      <th>1</th>\n",
       "      <td>315</td>\n",
       "      <td>81</td>\n",
       "      <td>7</td>\n",
       "      <td>24</td>\n",
       "      <td>38</td>\n",
       "      <td>39</td>\n",
       "      <td>14</td>\n",
       "      <td>3449</td>\n",
       "      <td>835</td>\n",
       "      <td>69</td>\n",
       "      <td>321</td>\n",
       "      <td>414</td>\n",
       "      <td>375</td>\n",
       "      <td>N</td>\n",
       "      <td>W</td>\n",
       "      <td>632</td>\n",
       "      <td>43</td>\n",
       "      <td>10</td>\n",
       "      <td>475.0</td>\n",
       "      <td>N</td>\n",
       "    </tr>\n",
       "    <tr>\n",
       "      <th>2</th>\n",
       "      <td>479</td>\n",
       "      <td>130</td>\n",
       "      <td>18</td>\n",
       "      <td>66</td>\n",
       "      <td>72</td>\n",
       "      <td>76</td>\n",
       "      <td>3</td>\n",
       "      <td>1624</td>\n",
       "      <td>457</td>\n",
       "      <td>63</td>\n",
       "      <td>224</td>\n",
       "      <td>266</td>\n",
       "      <td>263</td>\n",
       "      <td>A</td>\n",
       "      <td>W</td>\n",
       "      <td>880</td>\n",
       "      <td>82</td>\n",
       "      <td>14</td>\n",
       "      <td>480.0</td>\n",
       "      <td>A</td>\n",
       "    </tr>\n",
       "    <tr>\n",
       "      <th>3</th>\n",
       "      <td>496</td>\n",
       "      <td>141</td>\n",
       "      <td>20</td>\n",
       "      <td>65</td>\n",
       "      <td>78</td>\n",
       "      <td>37</td>\n",
       "      <td>11</td>\n",
       "      <td>5628</td>\n",
       "      <td>1575</td>\n",
       "      <td>225</td>\n",
       "      <td>828</td>\n",
       "      <td>838</td>\n",
       "      <td>354</td>\n",
       "      <td>N</td>\n",
       "      <td>E</td>\n",
       "      <td>200</td>\n",
       "      <td>11</td>\n",
       "      <td>3</td>\n",
       "      <td>500.0</td>\n",
       "      <td>N</td>\n",
       "    </tr>\n",
       "    <tr>\n",
       "      <th>4</th>\n",
       "      <td>321</td>\n",
       "      <td>87</td>\n",
       "      <td>10</td>\n",
       "      <td>39</td>\n",
       "      <td>42</td>\n",
       "      <td>30</td>\n",
       "      <td>2</td>\n",
       "      <td>396</td>\n",
       "      <td>101</td>\n",
       "      <td>12</td>\n",
       "      <td>48</td>\n",
       "      <td>46</td>\n",
       "      <td>33</td>\n",
       "      <td>N</td>\n",
       "      <td>E</td>\n",
       "      <td>805</td>\n",
       "      <td>40</td>\n",
       "      <td>4</td>\n",
       "      <td>91.5</td>\n",
       "      <td>N</td>\n",
       "    </tr>\n",
       "    <tr>\n",
       "      <th>5</th>\n",
       "      <td>594</td>\n",
       "      <td>169</td>\n",
       "      <td>4</td>\n",
       "      <td>74</td>\n",
       "      <td>51</td>\n",
       "      <td>35</td>\n",
       "      <td>11</td>\n",
       "      <td>4408</td>\n",
       "      <td>1133</td>\n",
       "      <td>19</td>\n",
       "      <td>501</td>\n",
       "      <td>336</td>\n",
       "      <td>194</td>\n",
       "      <td>A</td>\n",
       "      <td>W</td>\n",
       "      <td>282</td>\n",
       "      <td>421</td>\n",
       "      <td>25</td>\n",
       "      <td>750.0</td>\n",
       "      <td>A</td>\n",
       "    </tr>\n",
       "  </tbody>\n",
       "</table>\n",
       "</div>"
      ],
      "text/plain": [
       "   AtBat  Hits  HmRun  Runs  RBI  Walks  Years  CAtBat  CHits  CHmRun  CRuns  \\\n",
       "1    315    81      7    24   38     39     14    3449    835      69    321   \n",
       "2    479   130     18    66   72     76      3    1624    457      63    224   \n",
       "3    496   141     20    65   78     37     11    5628   1575     225    828   \n",
       "4    321    87     10    39   42     30      2     396    101      12     48   \n",
       "5    594   169      4    74   51     35     11    4408   1133      19    501   \n",
       "\n",
       "   CRBI  CWalks League Division  PutOuts  Assists  Errors  Salary NewLeague  \n",
       "1   414     375      N        W      632       43      10   475.0         N  \n",
       "2   266     263      A        W      880       82      14   480.0         A  \n",
       "3   838     354      N        E      200       11       3   500.0         N  \n",
       "4    46      33      N        E      805       40       4    91.5         N  \n",
       "5   336     194      A        W      282      421      25   750.0         A  "
      ]
     },
     "execution_count": 32,
     "metadata": {},
     "output_type": "execute_result"
    }
   ],
   "source": [
    "df.head()"
   ]
  },
  {
   "cell_type": "markdown",
   "metadata": {},
   "source": [
    "+ In order for the validation set approach to yield accurate estimates of the test error, we must use only the training observations to perform all aspects of model-fitting — including variable selection. \n",
    "+ Therefore, the determination of which model of a given size is best must be made using only the training observations. \n",
    "+ This point is subtle but important. If the full data set is used to perform the best subset selection step, the validation set errors and cross-validation errors that we obtain will not be accurate estimates of the test error.\n",
    "\n",
    "+ In order to use the validation set approach, we begin by splitting the observations into a training set and a test set. \n",
    "+ We do this by creating a random vector, train, of elements equal to TRUE if the corresponding observation is in the training set, and FALSE otherwise. \n",
    "+ The vector test is TRUE if the observation is in the test set, and a FALSE otherwise. \n",
    "+ Note the np.invert() in the command to create test causes TRUEs to be switched to FALSEs and vice versa.\n",
    "+ We also set a random seed so that the user will obtain the same training set/test set split."
   ]
  },
  {
   "cell_type": "code",
   "execution_count": 33,
   "metadata": {},
   "outputs": [],
   "source": [
    "np.random.seed(seed=12)\n",
    "train = np.random.choice([True, False], size = len(y), replace = True)\n",
    "test = np.invert(train)"
   ]
  },
  {
   "cell_type": "code",
   "execution_count": 34,
   "metadata": {},
   "outputs": [
    {
     "data": {
      "text/plain": [
       "(263,)"
      ]
     },
     "execution_count": 34,
     "metadata": {},
     "output_type": "execute_result"
    }
   ],
   "source": [
    "test.shape"
   ]
  },
  {
   "cell_type": "markdown",
   "metadata": {},
   "source": [
    "+ We'll define our helper function to outputs the best set of variables for each model size like we did previously. \n",
    "+ Note that we'll need to modify this to take in both test and training sets, because we want the returned error to be the test error:"
   ]
  },
  {
   "cell_type": "code",
   "execution_count": 35,
   "metadata": {},
   "outputs": [],
   "source": [
    "def processSubset(feature_set, X_train, y_train, X_test, y_test):\n",
    "    # Fit model on feature_set and calculate RSS\n",
    "    model = sm.OLS(y_train,X_train[list(feature_set)].astype(float))\n",
    "    regr = model.fit()\n",
    "    RSS = ((regr.predict(X_test[list(feature_set)]) - y_test) ** 2).sum()\n",
    "    return {\"model\":regr, \"RSS\":RSS}"
   ]
  },
  {
   "cell_type": "markdown",
   "metadata": {},
   "source": [
    "And our function to perform forward selection:"
   ]
  },
  {
   "cell_type": "code",
   "execution_count": 36,
   "metadata": {},
   "outputs": [],
   "source": [
    "def forward(predictors, X_train, y_train, X_test, y_test):\n",
    "    \n",
    "    results = []\n",
    "\n",
    "    # Pull out predictors we still need to process\n",
    "    remaining_predictors = [p for p in X_train.columns if p not in predictors]\n",
    "    \n",
    "    for p in remaining_predictors:\n",
    "        results.append(processSubset(predictors+[p], X_train, y_train, X_test, y_test))\n",
    "    \n",
    "    # Wrap everything up in a nice dataframe\n",
    "    models = pd.DataFrame(results)\n",
    "    \n",
    "    # Choose the model with the highest RSS\n",
    "    best_model = models.loc[models['RSS'].argmin()]\n",
    "        \n",
    "    # Return the best model, along with some other useful information about the model\n",
    "    return best_model"
   ]
  },
  {
   "cell_type": "markdown",
   "metadata": {},
   "source": [
    "Now, we'll call our `forward()` function on the training set in order to perform forward selection for all model sizes:"
   ]
  },
  {
   "cell_type": "code",
   "execution_count": 37,
   "metadata": {
    "scrolled": true
   },
   "outputs": [],
   "source": [
    "models_train = pd.DataFrame(columns=[\"RSS\", \"model\"])\n",
    "\n",
    "predictors = []\n",
    "\n",
    "for i in range(1,len(X.columns)+1):    \n",
    "    models_train.loc[i] = forward(predictors, X[train], y[train][\"Salary\"], X[test], y[test][\"Salary\"])\n",
    "    predictors = models_train.loc[i][\"model\"].model.exog_names"
   ]
  },
  {
   "cell_type": "markdown",
   "metadata": {},
   "source": [
    "Now let's plot the errors, and find the model that minimizes it:"
   ]
  },
  {
   "cell_type": "code",
   "execution_count": 38,
   "metadata": {},
   "outputs": [
    {
     "data": {
      "text/plain": [
       "[<matplotlib.lines.Line2D at 0x1248e4a6ad0>]"
      ]
     },
     "execution_count": 38,
     "metadata": {},
     "output_type": "execute_result"
    },
    {
     "data": {
      "image/png": "[encoded data removed]",
      "text/plain": [
       "<Figure size 640x480 with 1 Axes>"
      ]
     },
     "metadata": {},
     "output_type": "display_data"
    }
   ],
   "source": [
    "plt.plot(models_train[\"RSS\"])\n",
    "plt.xlabel('# Predictors')\n",
    "plt.ylabel('RSS')\n",
    "plt.plot(pd.to_numeric(models_train[\"RSS\"]).argmin()+1, models_train[\"RSS\"].min(), \"or\")"
   ]
  },
  {
   "cell_type": "markdown",
   "metadata": {},
   "source": [
    "+ We find that the best model (according to the validation set approach) is the one that contains 10 predictors.\n",
    "\n",
    "+ Now that we know what we're looking for, let's perform best subset selection on the full dataset and select the best 10-predictor model. \n",
    "+ It is important that we make use of the *full data set* in order to obtain more accurate coefficient estimates. \n",
    "+ We perform this selection on the *full data set* and select the best 10-predictor model, rather than simply using the predictors that we obtained from the training set, because the best 10-predictor model on the full data set may differ from the corresponding model on the training set."
   ]
  },
  {
   "cell_type": "code",
   "execution_count": 39,
   "metadata": {},
   "outputs": [],
   "source": [
    "models_test = pd.DataFrame(columns=[\"RSS\", \"model\"])\n",
    "\n",
    "predictors = []\n",
    "\n",
    "for i in range(1,11):    \n",
    "    models_test.loc[i] = forward(predictors, X[test], y[test][\"Salary\"], X[test], y[test][\"Salary\"])\n",
    "    predictors = models_test.loc[i][\"model\"].model.exog_names"
   ]
  },
  {
   "cell_type": "code",
   "execution_count": 40,
   "metadata": {},
   "outputs": [],
   "source": [
    "models_trainonly = pd.DataFrame(columns=[\"RSS\", \"model\"])\n",
    "\n",
    "predictors = []\n",
    "\n",
    "for i in range(1,11):    \n",
    "    models_trainonly.loc[i] = forward(predictors, X[train], y[train][\"Salary\"], X[train], y[train][\"Salary\"])\n",
    "    predictors = models_train.loc[i][\"model\"].model.exog_names"
   ]
  },
  {
   "cell_type": "markdown",
   "metadata": {},
   "source": [
    "In fact, we see that the best ten-variable model on the full data set has a different set of predictors than the best ten-variable model on the training set:"
   ]
  },
  {
   "cell_type": "code",
   "execution_count": 41,
   "metadata": {},
   "outputs": [
    {
     "name": "stdout",
     "output_type": "stream",
     "text": [
      "['Walks', 'CRBI', 'Hits', 'Division_W', 'CWalks', 'CRuns', 'AtBat', 'League_N', 'CHits', 'Runs']\n",
      "['Walks', 'CRBI', 'Assists', 'Division_W', 'CWalks', 'CRuns', 'PutOuts', 'Errors', 'League_N', 'CHmRun']\n",
      "['Walks', 'CRBI', 'Hits', 'Division_W', 'CWalks', 'CRuns', 'AtBat', 'League_N', 'CHits', 'CAtBat']\n"
     ]
    }
   ],
   "source": [
    "print(models_train.loc[10, \"model\"].model.exog_names)\n",
    "print(models_test.loc[10, \"model\"].model.exog_names)\n",
    "print(models_trainonly.loc[10, \"model\"].model.exog_names)"
   ]
  },
  {
   "cell_type": "markdown",
   "metadata": {},
   "source": [
    "#### Example: Model selection using Cross-Validation\n",
    "+ Now let's try to choose among the models of different sizes using cross-validation.\n",
    "+ This approach is somewhat involved, as we must perform forward selection within each of the $k$ training sets. \n",
    "+ Despite this, we see that with its clever subsetting syntax, `python` makes this job quite easy. \n",
    "+ First, we create a vector that assigns each observation to one of $k = 10$ folds, and we create a DataFrame in which we will store the results:"
   ]
  },
  {
   "cell_type": "code",
   "execution_count": 42,
   "metadata": {},
   "outputs": [
    {
     "name": "stderr",
     "output_type": "stream",
     "text": [
      "C:\\Users\\user\\AppData\\Local\\Temp\\ipykernel_15872\\2980621928.py:7: FutureWarning: Downcasting object dtype arrays on .fillna, .ffill, .bfill is deprecated and will change in a future version. Call result.infer_objects(copy=False) instead. To opt-in to the future behavior, set `pd.set_option('future.no_silent_downcasting', True)`\n",
      "  cv_errors = cv_errors.fillna(0)\n"
     ]
    }
   ],
   "source": [
    "k = 10        # number of folds\n",
    "np.random.seed(seed=1)\n",
    "folds = np.random.choice(k, size = len(y), replace = True)\n",
    "\n",
    "# Create a DataFrame to store the results of our upcoming calculations\n",
    "cv_errors = pd.DataFrame(columns=range(1,k+1), index=range(1,20))\n",
    "cv_errors = cv_errors.fillna(0)"
   ]
  },
  {
   "cell_type": "markdown",
   "metadata": {},
   "source": [
    "+ Now let's write a for loop that performs cross-validation.\n",
    "+ In the $j^{th}$ fold, the elements of folds that equal $j$ are in the test set, and the remainder are in the training set.\n",
    "+ We make our predictions for each model size, compute the test errors on the appropriate subset, and store them in the appropriate slot in the matrix `cv.errors`."
   ]
  },
  {
   "cell_type": "code",
   "execution_count": 43,
   "metadata": {},
   "outputs": [
    {
     "name": "stderr",
     "output_type": "stream",
     "text": [
      "C:\\Users\\user\\AppData\\Local\\Temp\\ipykernel_15872\\3613500429.py:16: FutureWarning: ChainedAssignmentError: behaviour will change in pandas 3.0!\n",
      "You are setting values through chained assignment. Currently this works in certain cases, but when using Copy-on-Write (which will become the default behaviour in pandas 3.0) this will never work to update the original DataFrame or Series, because the intermediate object on which we are setting values will behave as a copy.\n",
      "A typical example is when you are setting values in a column of a DataFrame, like:\n",
      "\n",
      "df[\"col\"][row_indexer] = value\n",
      "\n",
      "Use `df.loc[row_indexer, \"col\"] = values` instead, to perform the assignment in a single step and ensure this keeps updating the original `df`.\n",
      "\n",
      "See the caveats in the documentation: https://pandas.pydata.org/pandas-docs/stable/user_guide/indexing.html#returning-a-view-versus-a-copy\n",
      "\n",
      "  cv_errors[j][i] = models_cv.loc[i][\"RSS\"]\n",
      "C:\\Users\\user\\AppData\\Local\\Temp\\ipykernel_15872\\3613500429.py:16: FutureWarning: Setting an item of incompatible dtype is deprecated and will raise an error in a future version of pandas. Value '3107900.9571636254' has dtype incompatible with int64, please explicitly cast to a compatible dtype first.\n",
      "  cv_errors[j][i] = models_cv.loc[i][\"RSS\"]\n",
      "C:\\Users\\user\\AppData\\Local\\Temp\\ipykernel_15872\\3613500429.py:16: FutureWarning: ChainedAssignmentError: behaviour will change in pandas 3.0!\n",
      "You are setting values through chained assignment. Currently this works in certain cases, but when using Copy-on-Write (which will become the default behaviour in pandas 3.0) this will never work to update the original DataFrame or Series, because the intermediate object on which we are setting values will behave as a copy.\n",
      "A typical example is when you are setting values in a column of a DataFrame, like:\n",
      "\n",
      "df[\"col\"][row_indexer] = value\n",
      "\n",
      "Use `df.loc[row_indexer, \"col\"] = values` instead, to perform the assignment in a single step and ensure this keeps updating the original `df`.\n",
      "\n",
      "See the caveats in the documentation: https://pandas.pydata.org/pandas-docs/stable/user_guide/indexing.html#returning-a-view-versus-a-copy\n",
      "\n",
      "  cv_errors[j][i] = models_cv.loc[i][\"RSS\"]\n",
      "C:\\Users\\user\\AppData\\Local\\Temp\\ipykernel_15872\\3613500429.py:16: SettingWithCopyWarning: \n",
      "A value is trying to be set on a copy of a slice from a DataFrame\n",
      "\n",
      "See the caveats in the documentation: https://pandas.pydata.org/pandas-docs/stable/user_guide/indexing.html#returning-a-view-versus-a-copy\n",
      "  cv_errors[j][i] = models_cv.loc[i][\"RSS\"]\n",
      "C:\\Users\\user\\AppData\\Local\\Temp\\ipykernel_15872\\3613500429.py:16: FutureWarning: Setting an item of incompatible dtype is deprecated and will raise an error in a future version of pandas. Value '3212304.762505605' has dtype incompatible with int64, please explicitly cast to a compatible dtype first.\n",
      "  cv_errors[j][i] = models_cv.loc[i][\"RSS\"]\n",
      "C:\\Users\\user\\AppData\\Local\\Temp\\ipykernel_15872\\3613500429.py:16: FutureWarning: ChainedAssignmentError: behaviour will change in pandas 3.0!\n",
      "You are setting values through chained assignment. Currently this works in certain cases, but when using Copy-on-Write (which will become the default behaviour in pandas 3.0) this will never work to update the original DataFrame or Series, because the intermediate object on which we are setting values will behave as a copy.\n",
      "A typical example is when you are setting values in a column of a DataFrame, like:\n",
      "\n",
      "df[\"col\"][row_indexer] = value\n",
      "\n",
      "Use `df.loc[row_indexer, \"col\"] = values` instead, to perform the assignment in a single step and ensure this keeps updating the original `df`.\n",
      "\n",
      "See the caveats in the documentation: https://pandas.pydata.org/pandas-docs/stable/user_guide/indexing.html#returning-a-view-versus-a-copy\n",
      "\n",
      "  cv_errors[j][i] = models_cv.loc[i][\"RSS\"]\n",
      "C:\\Users\\user\\AppData\\Local\\Temp\\ipykernel_15872\\3613500429.py:16: SettingWithCopyWarning: \n",
      "A value is trying to be set on a copy of a slice from a DataFrame\n",
      "\n",
      "See the caveats in the documentation: https://pandas.pydata.org/pandas-docs/stable/user_guide/indexing.html#returning-a-view-versus-a-copy\n",
      "  cv_errors[j][i] = models_cv.loc[i][\"RSS\"]\n",
      "C:\\Users\\user\\AppData\\Local\\Temp\\ipykernel_15872\\3613500429.py:16: FutureWarning: Setting an item of incompatible dtype is deprecated and will raise an error in a future version of pandas. Value '4840103.865498303' has dtype incompatible with int64, please explicitly cast to a compatible dtype first.\n",
      "  cv_errors[j][i] = models_cv.loc[i][\"RSS\"]\n",
      "C:\\Users\\user\\AppData\\Local\\Temp\\ipykernel_15872\\3613500429.py:16: FutureWarning: ChainedAssignmentError: behaviour will change in pandas 3.0!\n",
      "You are setting values through chained assignment. Currently this works in certain cases, but when using Copy-on-Write (which will become the default behaviour in pandas 3.0) this will never work to update the original DataFrame or Series, because the intermediate object on which we are setting values will behave as a copy.\n",
      "A typical example is when you are setting values in a column of a DataFrame, like:\n",
      "\n",
      "df[\"col\"][row_indexer] = value\n",
      "\n",
      "Use `df.loc[row_indexer, \"col\"] = values` instead, to perform the assignment in a single step and ensure this keeps updating the original `df`.\n",
      "\n",
      "See the caveats in the documentation: https://pandas.pydata.org/pandas-docs/stable/user_guide/indexing.html#returning-a-view-versus-a-copy\n",
      "\n",
      "  cv_errors[j][i] = models_cv.loc[i][\"RSS\"]\n",
      "C:\\Users\\user\\AppData\\Local\\Temp\\ipykernel_15872\\3613500429.py:16: SettingWithCopyWarning: \n",
      "A value is trying to be set on a copy of a slice from a DataFrame\n",
      "\n",
      "See the caveats in the documentation: https://pandas.pydata.org/pandas-docs/stable/user_guide/indexing.html#returning-a-view-versus-a-copy\n",
      "  cv_errors[j][i] = models_cv.loc[i][\"RSS\"]\n",
      "C:\\Users\\user\\AppData\\Local\\Temp\\ipykernel_15872\\3613500429.py:16: FutureWarning: Setting an item of incompatible dtype is deprecated and will raise an error in a future version of pandas. Value '2475453.888182012' has dtype incompatible with int64, please explicitly cast to a compatible dtype first.\n",
      "  cv_errors[j][i] = models_cv.loc[i][\"RSS\"]\n",
      "C:\\Users\\user\\AppData\\Local\\Temp\\ipykernel_15872\\3613500429.py:16: FutureWarning: ChainedAssignmentError: behaviour will change in pandas 3.0!\n",
      "You are setting values through chained assignment. Currently this works in certain cases, but when using Copy-on-Write (which will become the default behaviour in pandas 3.0) this will never work to update the original DataFrame or Series, because the intermediate object on which we are setting values will behave as a copy.\n",
      "A typical example is when you are setting values in a column of a DataFrame, like:\n",
      "\n",
      "df[\"col\"][row_indexer] = value\n",
      "\n",
      "Use `df.loc[row_indexer, \"col\"] = values` instead, to perform the assignment in a single step and ensure this keeps updating the original `df`.\n",
      "\n",
      "See the caveats in the documentation: https://pandas.pydata.org/pandas-docs/stable/user_guide/indexing.html#returning-a-view-versus-a-copy\n",
      "\n",
      "  cv_errors[j][i] = models_cv.loc[i][\"RSS\"]\n",
      "C:\\Users\\user\\AppData\\Local\\Temp\\ipykernel_15872\\3613500429.py:16: SettingWithCopyWarning: \n",
      "A value is trying to be set on a copy of a slice from a DataFrame\n",
      "\n",
      "See the caveats in the documentation: https://pandas.pydata.org/pandas-docs/stable/user_guide/indexing.html#returning-a-view-versus-a-copy\n",
      "  cv_errors[j][i] = models_cv.loc[i][\"RSS\"]\n",
      "C:\\Users\\user\\AppData\\Local\\Temp\\ipykernel_15872\\3613500429.py:16: FutureWarning: Setting an item of incompatible dtype is deprecated and will raise an error in a future version of pandas. Value '3750302.716392168' has dtype incompatible with int64, please explicitly cast to a compatible dtype first.\n",
      "  cv_errors[j][i] = models_cv.loc[i][\"RSS\"]\n",
      "C:\\Users\\user\\AppData\\Local\\Temp\\ipykernel_15872\\3613500429.py:16: FutureWarning: ChainedAssignmentError: behaviour will change in pandas 3.0!\n",
      "You are setting values through chained assignment. Currently this works in certain cases, but when using Copy-on-Write (which will become the default behaviour in pandas 3.0) this will never work to update the original DataFrame or Series, because the intermediate object on which we are setting values will behave as a copy.\n",
      "A typical example is when you are setting values in a column of a DataFrame, like:\n",
      "\n",
      "df[\"col\"][row_indexer] = value\n",
      "\n",
      "Use `df.loc[row_indexer, \"col\"] = values` instead, to perform the assignment in a single step and ensure this keeps updating the original `df`.\n",
      "\n",
      "See the caveats in the documentation: https://pandas.pydata.org/pandas-docs/stable/user_guide/indexing.html#returning-a-view-versus-a-copy\n",
      "\n",
      "  cv_errors[j][i] = models_cv.loc[i][\"RSS\"]\n",
      "C:\\Users\\user\\AppData\\Local\\Temp\\ipykernel_15872\\3613500429.py:16: SettingWithCopyWarning: \n",
      "A value is trying to be set on a copy of a slice from a DataFrame\n",
      "\n",
      "See the caveats in the documentation: https://pandas.pydata.org/pandas-docs/stable/user_guide/indexing.html#returning-a-view-versus-a-copy\n",
      "  cv_errors[j][i] = models_cv.loc[i][\"RSS\"]\n",
      "C:\\Users\\user\\AppData\\Local\\Temp\\ipykernel_15872\\3613500429.py:16: FutureWarning: Setting an item of incompatible dtype is deprecated and will raise an error in a future version of pandas. Value '1551976.8115635873' has dtype incompatible with int64, please explicitly cast to a compatible dtype first.\n",
      "  cv_errors[j][i] = models_cv.loc[i][\"RSS\"]\n",
      "C:\\Users\\user\\AppData\\Local\\Temp\\ipykernel_15872\\3613500429.py:16: FutureWarning: ChainedAssignmentError: behaviour will change in pandas 3.0!\n",
      "You are setting values through chained assignment. Currently this works in certain cases, but when using Copy-on-Write (which will become the default behaviour in pandas 3.0) this will never work to update the original DataFrame or Series, because the intermediate object on which we are setting values will behave as a copy.\n",
      "A typical example is when you are setting values in a column of a DataFrame, like:\n",
      "\n",
      "df[\"col\"][row_indexer] = value\n",
      "\n",
      "Use `df.loc[row_indexer, \"col\"] = values` instead, to perform the assignment in a single step and ensure this keeps updating the original `df`.\n",
      "\n",
      "See the caveats in the documentation: https://pandas.pydata.org/pandas-docs/stable/user_guide/indexing.html#returning-a-view-versus-a-copy\n",
      "\n",
      "  cv_errors[j][i] = models_cv.loc[i][\"RSS\"]\n",
      "C:\\Users\\user\\AppData\\Local\\Temp\\ipykernel_15872\\3613500429.py:16: SettingWithCopyWarning: \n",
      "A value is trying to be set on a copy of a slice from a DataFrame\n",
      "\n",
      "See the caveats in the documentation: https://pandas.pydata.org/pandas-docs/stable/user_guide/indexing.html#returning-a-view-versus-a-copy\n",
      "  cv_errors[j][i] = models_cv.loc[i][\"RSS\"]\n",
      "C:\\Users\\user\\AppData\\Local\\Temp\\ipykernel_15872\\3613500429.py:16: FutureWarning: Setting an item of incompatible dtype is deprecated and will raise an error in a future version of pandas. Value '1827366.6251368932' has dtype incompatible with int64, please explicitly cast to a compatible dtype first.\n",
      "  cv_errors[j][i] = models_cv.loc[i][\"RSS\"]\n",
      "C:\\Users\\user\\AppData\\Local\\Temp\\ipykernel_15872\\3613500429.py:16: FutureWarning: ChainedAssignmentError: behaviour will change in pandas 3.0!\n",
      "You are setting values through chained assignment. Currently this works in certain cases, but when using Copy-on-Write (which will become the default behaviour in pandas 3.0) this will never work to update the original DataFrame or Series, because the intermediate object on which we are setting values will behave as a copy.\n",
      "A typical example is when you are setting values in a column of a DataFrame, like:\n",
      "\n",
      "df[\"col\"][row_indexer] = value\n",
      "\n",
      "Use `df.loc[row_indexer, \"col\"] = values` instead, to perform the assignment in a single step and ensure this keeps updating the original `df`.\n",
      "\n",
      "See the caveats in the documentation: https://pandas.pydata.org/pandas-docs/stable/user_guide/indexing.html#returning-a-view-versus-a-copy\n",
      "\n",
      "  cv_errors[j][i] = models_cv.loc[i][\"RSS\"]\n",
      "C:\\Users\\user\\AppData\\Local\\Temp\\ipykernel_15872\\3613500429.py:16: SettingWithCopyWarning: \n",
      "A value is trying to be set on a copy of a slice from a DataFrame\n",
      "\n",
      "See the caveats in the documentation: https://pandas.pydata.org/pandas-docs/stable/user_guide/indexing.html#returning-a-view-versus-a-copy\n",
      "  cv_errors[j][i] = models_cv.loc[i][\"RSS\"]\n",
      "C:\\Users\\user\\AppData\\Local\\Temp\\ipykernel_15872\\3613500429.py:16: FutureWarning: Setting an item of incompatible dtype is deprecated and will raise an error in a future version of pandas. Value '9115194.319320759' has dtype incompatible with int64, please explicitly cast to a compatible dtype first.\n",
      "  cv_errors[j][i] = models_cv.loc[i][\"RSS\"]\n",
      "C:\\Users\\user\\AppData\\Local\\Temp\\ipykernel_15872\\3613500429.py:16: FutureWarning: ChainedAssignmentError: behaviour will change in pandas 3.0!\n",
      "You are setting values through chained assignment. Currently this works in certain cases, but when using Copy-on-Write (which will become the default behaviour in pandas 3.0) this will never work to update the original DataFrame or Series, because the intermediate object on which we are setting values will behave as a copy.\n",
      "A typical example is when you are setting values in a column of a DataFrame, like:\n",
      "\n",
      "df[\"col\"][row_indexer] = value\n",
      "\n",
      "Use `df.loc[row_indexer, \"col\"] = values` instead, to perform the assignment in a single step and ensure this keeps updating the original `df`.\n",
      "\n",
      "See the caveats in the documentation: https://pandas.pydata.org/pandas-docs/stable/user_guide/indexing.html#returning-a-view-versus-a-copy\n",
      "\n",
      "  cv_errors[j][i] = models_cv.loc[i][\"RSS\"]\n",
      "C:\\Users\\user\\AppData\\Local\\Temp\\ipykernel_15872\\3613500429.py:16: SettingWithCopyWarning: \n",
      "A value is trying to be set on a copy of a slice from a DataFrame\n",
      "\n",
      "See the caveats in the documentation: https://pandas.pydata.org/pandas-docs/stable/user_guide/indexing.html#returning-a-view-versus-a-copy\n",
      "  cv_errors[j][i] = models_cv.loc[i][\"RSS\"]\n",
      "C:\\Users\\user\\AppData\\Local\\Temp\\ipykernel_15872\\3613500429.py:16: FutureWarning: Setting an item of incompatible dtype is deprecated and will raise an error in a future version of pandas. Value '1370720.1605340762' has dtype incompatible with int64, please explicitly cast to a compatible dtype first.\n",
      "  cv_errors[j][i] = models_cv.loc[i][\"RSS\"]\n",
      "C:\\Users\\user\\AppData\\Local\\Temp\\ipykernel_15872\\3613500429.py:16: FutureWarning: ChainedAssignmentError: behaviour will change in pandas 3.0!\n",
      "You are setting values through chained assignment. Currently this works in certain cases, but when using Copy-on-Write (which will become the default behaviour in pandas 3.0) this will never work to update the original DataFrame or Series, because the intermediate object on which we are setting values will behave as a copy.\n",
      "A typical example is when you are setting values in a column of a DataFrame, like:\n",
      "\n",
      "df[\"col\"][row_indexer] = value\n",
      "\n",
      "Use `df.loc[row_indexer, \"col\"] = values` instead, to perform the assignment in a single step and ensure this keeps updating the original `df`.\n",
      "\n",
      "See the caveats in the documentation: https://pandas.pydata.org/pandas-docs/stable/user_guide/indexing.html#returning-a-view-versus-a-copy\n",
      "\n",
      "  cv_errors[j][i] = models_cv.loc[i][\"RSS\"]\n",
      "C:\\Users\\user\\AppData\\Local\\Temp\\ipykernel_15872\\3613500429.py:16: SettingWithCopyWarning: \n",
      "A value is trying to be set on a copy of a slice from a DataFrame\n",
      "\n",
      "See the caveats in the documentation: https://pandas.pydata.org/pandas-docs/stable/user_guide/indexing.html#returning-a-view-versus-a-copy\n",
      "  cv_errors[j][i] = models_cv.loc[i][\"RSS\"]\n",
      "C:\\Users\\user\\AppData\\Local\\Temp\\ipykernel_15872\\3613500429.py:16: FutureWarning: Setting an item of incompatible dtype is deprecated and will raise an error in a future version of pandas. Value '2204862.807397435' has dtype incompatible with int64, please explicitly cast to a compatible dtype first.\n",
      "  cv_errors[j][i] = models_cv.loc[i][\"RSS\"]\n"
     ]
    }
   ],
   "source": [
    "models_cv = pd.DataFrame(columns=[\"RSS\", \"model\"])\n",
    "    \n",
    "# Outer loop iterates over all folds\n",
    "for j in range(1,k+1):\n",
    "\n",
    "    # Reset predictors\n",
    "    predictors = []\n",
    "    \n",
    "    # Inner loop iterates over each size i\n",
    "    for i in range(1,len(X.columns)+1):    \n",
    "    \n",
    "        # The perform forward selection on the full dataset minus the jth fold, test on jth fold\n",
    "        models_cv.loc[i] = forward(predictors, X[folds != (j-1)], y[folds != (j-1)][\"Salary\"], X[folds == (j-1)], y[folds == (j-1)][\"Salary\"])\n",
    "        \n",
    "        # Save the cross-validated error for this fold\n",
    "        cv_errors[j][i] = models_cv.loc[i][\"RSS\"]\n",
    "\n",
    "        # Extract the predictors\n",
    "        predictors = models_cv.loc[i][\"model\"].model.exog_names\n",
    "        "
   ]
  },
  {
   "cell_type": "code",
   "execution_count": 44,
   "metadata": {},
   "outputs": [
    {
     "data": {
      "application/vnd.microsoft.datawrangler.viewer.v0+json": {
       "columns": [
        {
         "name": "index",
         "rawType": "int64",
         "type": "integer"
        },
        {
         "name": "1",
         "rawType": "float64",
         "type": "float"
        },
        {
         "name": "2",
         "rawType": "float64",
         "type": "float"
        },
        {
         "name": "3",
         "rawType": "float64",
         "type": "float"
        },
        {
         "name": "4",
         "rawType": "float64",
         "type": "float"
        },
        {
         "name": "5",
         "rawType": "float64",
         "type": "float"
        },
        {
         "name": "6",
         "rawType": "float64",
         "type": "float"
        },
        {
         "name": "7",
         "rawType": "float64",
         "type": "float"
        },
        {
         "name": "8",
         "rawType": "float64",
         "type": "float"
        },
        {
         "name": "9",
         "rawType": "float64",
         "type": "float"
        },
        {
         "name": "10",
         "rawType": "float64",
         "type": "float"
        }
       ],
       "conversionMethod": "pd.DataFrame",
       "ref": "11856bb0-94dc-4a71-9bfa-10ef7a210195",
       "rows": [
        [
         "1",
         "3107900.9571636254",
         "3212304.762505605",
         "4840103.865498303",
         "2475453.888182012",
         "3750302.716392168",
         "1551976.8115635873",
         "1827366.6251368932",
         "9115194.319320759",
         "1370720.1605340762",
         "2204862.807397435"
        ],
        [
         "2",
         "2354036.19603729",
         "2247881.4462073427",
         "3414444.0580362994",
         "1642455.5118057828",
         "3160950.7986467797",
         "1250564.6712314698",
         "1567469.723240835",
         "8520751.224845428",
         "1081052.953097242",
         "1856304.8620144825"
        ],
        [
         "3",
         "2148733.4469477558",
         "2012864.26753955",
         "3009435.923862686",
         "1566581.9640070517",
         "2775618.283168845",
         "907304.1388259338",
         "1260460.331687612",
         "8456576.965736635",
         "969784.6348758395",
         "1674333.3206764187"
        ],
        [
         "4",
         "1946031.409436542",
         "1870511.1638706368",
         "2630784.2733918796",
         "1521525.947471708",
         "2618750.629658172",
         "805135.8521673796",
         "1143882.9578411123",
         "8331746.753072132",
         "857553.7254111244",
         "1618265.3592748486"
        ],
        [
         "5",
         "1850398.3387039115",
         "1605148.5789037033",
         "2537690.7335770135",
         "1502728.459638487",
         "2608466.1516032773",
         "776171.1742560867",
         "1124174.555593359",
         "8221957.09138144",
         "793919.607217674",
         "1574253.2512047105"
        ],
        [
         "6",
         "1778324.1340057177",
         "1574266.196490709",
         "2498621.0967620057",
         "1482575.8590766613",
         "2632055.327816874",
         "776163.3772887109",
         "1115741.6383622435",
         "8196969.661605429",
         "781235.9567954622",
         "1534220.223840623"
        ],
        [
         "7",
         "1761111.6810889824",
         "1524413.8458414818",
         "2452303.480808917",
         "1480345.2594035957",
         "2661104.540865936",
         "779716.2175805375",
         "1104388.2728974433",
         "8171959.695515065",
         "776457.1912291917",
         "1503831.0374491145"
        ],
        [
         "8",
         "1733230.9177342528",
         "1529625.665825399",
         "2418943.6534172283",
         "1477510.0717838441",
         "2660654.0012097238",
         "803859.1739213554",
         "1100753.6624465731",
         "7449396.275486243",
         "774589.7606285982",
         "1536790.4497125463"
        ],
        [
         "9",
         "1773705.1722290437",
         "1607919.5152778327",
         "2381843.48408802",
         "1504519.511963325",
         "2677002.153746525",
         "821629.2673146445",
         "1096925.6052823528",
         "7136283.352582056",
         "774616.4134795332",
         "1542746.12577888"
        ],
        [
         "10",
         "1865909.6898309896",
         "1682293.9054046518",
         "2378624.004500401",
         "1528102.0484439116",
         "2597881.868066526",
         "854997.4865026465",
         "1136162.8417722606",
         "7059485.240957758",
         "775993.1826213858",
         "1597314.645533526"
        ],
        [
         "11",
         "2001187.394576194",
         "1972309.9495668474",
         "2377337.2047551465",
         "1540347.362971109",
         "2659206.0994755486",
         "866399.7553548111",
         "1150317.0988578226",
         "7047911.139750346",
         "705031.9719603211",
         "1751416.2106486675"
        ],
        [
         "12",
         "2183874.8112351284",
         "2120447.1548449406",
         "2376437.1174420984",
         "1583554.4737849822",
         "2727452.8220749106",
         "980350.4960545079",
         "1114814.3752611233",
         "7056950.92046281",
         "687640.634086353",
         "1945971.6882885338"
        ],
        [
         "13",
         "2337672.0244598677",
         "2333119.029119816",
         "2398381.53416547",
         "1729660.5976712788",
         "2772831.8634893135",
         "1039253.8963712561",
         "1104974.7998257892",
         "7117616.00460592",
         "699082.6990923239",
         "1857369.0391467903"
        ],
        [
         "14",
         "2398776.5244499347",
         "2556735.449484983",
         "2426684.904205832",
         "1788102.2374320782",
         "2804067.2966875704",
         "993013.7623798951",
         "1142143.2299471379",
         "7469678.200041038",
         "743080.6770364403",
         "1884753.0514126648"
        ],
        [
         "15",
         "1971720.9323312594",
         "2519254.531665646",
         "2421747.8933268064",
         "1750523.4188359007",
         "3054990.701162315",
         "1033770.1427170897",
         "1204091.0013944397",
         "7439538.784358737",
         "763736.4986721465",
         "1980209.2720738228"
        ],
        [
         "16",
         "1948823.567283354",
         "2774368.873853573",
         "2454268.532780816",
         "1820562.4839548226",
         "3226325.75734059",
         "1080503.611137289",
         "1326684.5608771595",
         "7616005.501051292",
         "824465.1106967969",
         "1949936.3569771966"
        ],
        [
         "17",
         "2030731.6631457307",
         "2884961.9453468444",
         "2644840.704959572",
         "1906939.1250086532",
         "3342739.2782199797",
         "1105981.0458382128",
         "1324450.3531385653",
         "7637693.56707962",
         "879744.5048641907",
         "2045321.1725828724"
        ],
        [
         "18",
         "2199928.7642853498",
         "3027921.395354136",
         "2787490.6847465606",
         "2016598.216422662",
         "4336091.394430227",
         "1181122.4013024638",
         "1421665.7147031114",
         "7770971.585654783",
         "909756.6648320985",
         "2062251.7429118012"
        ],
        [
         "19",
         "2601547.80006045",
         "3389497.5084530143",
         "3137982.659678381",
         "2412422.9109038617",
         "4918740.450992699",
         "1706786.3354046238",
         "1582120.1005070398",
         "7933249.143168498",
         "1202840.874577256",
         "2066104.1641681655"
        ]
       ],
       "shape": {
        "columns": 10,
        "rows": 19
       }
      },
      "text/html": [
       "<div>\n",
       "<style scoped>\n",
       "    .dataframe tbody tr th:only-of-type {\n",
       "        vertical-align: middle;\n",
       "    }\n",
       "\n",
       "    .dataframe tbody tr th {\n",
       "        vertical-align: top;\n",
       "    }\n",
       "\n",
       "    .dataframe thead th {\n",
       "        text-align: right;\n",
       "    }\n",
       "</style>\n",
       "<table border=\"1\" class=\"dataframe\">\n",
       "  <thead>\n",
       "    <tr style=\"text-align: right;\">\n",
       "      <th></th>\n",
       "      <th>1</th>\n",
       "      <th>2</th>\n",
       "      <th>3</th>\n",
       "      <th>4</th>\n",
       "      <th>5</th>\n",
       "      <th>6</th>\n",
       "      <th>7</th>\n",
       "      <th>8</th>\n",
       "      <th>9</th>\n",
       "      <th>10</th>\n",
       "    </tr>\n",
       "  </thead>\n",
       "  <tbody>\n",
       "    <tr>\n",
       "      <th>1</th>\n",
       "      <td>3.107901e+06</td>\n",
       "      <td>3.212305e+06</td>\n",
       "      <td>4.840104e+06</td>\n",
       "      <td>2.475454e+06</td>\n",
       "      <td>3.750303e+06</td>\n",
       "      <td>1.551977e+06</td>\n",
       "      <td>1.827367e+06</td>\n",
       "      <td>9.115194e+06</td>\n",
       "      <td>1.370720e+06</td>\n",
       "      <td>2.204863e+06</td>\n",
       "    </tr>\n",
       "    <tr>\n",
       "      <th>2</th>\n",
       "      <td>2.354036e+06</td>\n",
       "      <td>2.247881e+06</td>\n",
       "      <td>3.414444e+06</td>\n",
       "      <td>1.642456e+06</td>\n",
       "      <td>3.160951e+06</td>\n",
       "      <td>1.250565e+06</td>\n",
       "      <td>1.567470e+06</td>\n",
       "      <td>8.520751e+06</td>\n",
       "      <td>1.081053e+06</td>\n",
       "      <td>1.856305e+06</td>\n",
       "    </tr>\n",
       "    <tr>\n",
       "      <th>3</th>\n",
       "      <td>2.148733e+06</td>\n",
       "      <td>2.012864e+06</td>\n",
       "      <td>3.009436e+06</td>\n",
       "      <td>1.566582e+06</td>\n",
       "      <td>2.775618e+06</td>\n",
       "      <td>9.073041e+05</td>\n",
       "      <td>1.260460e+06</td>\n",
       "      <td>8.456577e+06</td>\n",
       "      <td>9.697846e+05</td>\n",
       "      <td>1.674333e+06</td>\n",
       "    </tr>\n",
       "    <tr>\n",
       "      <th>4</th>\n",
       "      <td>1.946031e+06</td>\n",
       "      <td>1.870511e+06</td>\n",
       "      <td>2.630784e+06</td>\n",
       "      <td>1.521526e+06</td>\n",
       "      <td>2.618751e+06</td>\n",
       "      <td>8.051359e+05</td>\n",
       "      <td>1.143883e+06</td>\n",
       "      <td>8.331747e+06</td>\n",
       "      <td>8.575537e+05</td>\n",
       "      <td>1.618265e+06</td>\n",
       "    </tr>\n",
       "    <tr>\n",
       "      <th>5</th>\n",
       "      <td>1.850398e+06</td>\n",
       "      <td>1.605149e+06</td>\n",
       "      <td>2.537691e+06</td>\n",
       "      <td>1.502728e+06</td>\n",
       "      <td>2.608466e+06</td>\n",
       "      <td>7.761712e+05</td>\n",
       "      <td>1.124175e+06</td>\n",
       "      <td>8.221957e+06</td>\n",
       "      <td>7.939196e+05</td>\n",
       "      <td>1.574253e+06</td>\n",
       "    </tr>\n",
       "    <tr>\n",
       "      <th>6</th>\n",
       "      <td>1.778324e+06</td>\n",
       "      <td>1.574266e+06</td>\n",
       "      <td>2.498621e+06</td>\n",
       "      <td>1.482576e+06</td>\n",
       "      <td>2.632055e+06</td>\n",
       "      <td>7.761634e+05</td>\n",
       "      <td>1.115742e+06</td>\n",
       "      <td>8.196970e+06</td>\n",
       "      <td>7.812360e+05</td>\n",
       "      <td>1.534220e+06</td>\n",
       "    </tr>\n",
       "    <tr>\n",
       "      <th>7</th>\n",
       "      <td>1.761112e+06</td>\n",
       "      <td>1.524414e+06</td>\n",
       "      <td>2.452303e+06</td>\n",
       "      <td>1.480345e+06</td>\n",
       "      <td>2.661105e+06</td>\n",
       "      <td>7.797162e+05</td>\n",
       "      <td>1.104388e+06</td>\n",
       "      <td>8.171960e+06</td>\n",
       "      <td>7.764572e+05</td>\n",
       "      <td>1.503831e+06</td>\n",
       "    </tr>\n",
       "    <tr>\n",
       "      <th>8</th>\n",
       "      <td>1.733231e+06</td>\n",
       "      <td>1.529626e+06</td>\n",
       "      <td>2.418944e+06</td>\n",
       "      <td>1.477510e+06</td>\n",
       "      <td>2.660654e+06</td>\n",
       "      <td>8.038592e+05</td>\n",
       "      <td>1.100754e+06</td>\n",
       "      <td>7.449396e+06</td>\n",
       "      <td>7.745898e+05</td>\n",
       "      <td>1.536790e+06</td>\n",
       "    </tr>\n",
       "    <tr>\n",
       "      <th>9</th>\n",
       "      <td>1.773705e+06</td>\n",
       "      <td>1.607920e+06</td>\n",
       "      <td>2.381843e+06</td>\n",
       "      <td>1.504520e+06</td>\n",
       "      <td>2.677002e+06</td>\n",
       "      <td>8.216293e+05</td>\n",
       "      <td>1.096926e+06</td>\n",
       "      <td>7.136283e+06</td>\n",
       "      <td>7.746164e+05</td>\n",
       "      <td>1.542746e+06</td>\n",
       "    </tr>\n",
       "    <tr>\n",
       "      <th>10</th>\n",
       "      <td>1.865910e+06</td>\n",
       "      <td>1.682294e+06</td>\n",
       "      <td>2.378624e+06</td>\n",
       "      <td>1.528102e+06</td>\n",
       "      <td>2.597882e+06</td>\n",
       "      <td>8.549975e+05</td>\n",
       "      <td>1.136163e+06</td>\n",
       "      <td>7.059485e+06</td>\n",
       "      <td>7.759932e+05</td>\n",
       "      <td>1.597315e+06</td>\n",
       "    </tr>\n",
       "    <tr>\n",
       "      <th>11</th>\n",
       "      <td>2.001187e+06</td>\n",
       "      <td>1.972310e+06</td>\n",
       "      <td>2.377337e+06</td>\n",
       "      <td>1.540347e+06</td>\n",
       "      <td>2.659206e+06</td>\n",
       "      <td>8.663998e+05</td>\n",
       "      <td>1.150317e+06</td>\n",
       "      <td>7.047911e+06</td>\n",
       "      <td>7.050320e+05</td>\n",
       "      <td>1.751416e+06</td>\n",
       "    </tr>\n",
       "    <tr>\n",
       "      <th>12</th>\n",
       "      <td>2.183875e+06</td>\n",
       "      <td>2.120447e+06</td>\n",
       "      <td>2.376437e+06</td>\n",
       "      <td>1.583554e+06</td>\n",
       "      <td>2.727453e+06</td>\n",
       "      <td>9.803505e+05</td>\n",
       "      <td>1.114814e+06</td>\n",
       "      <td>7.056951e+06</td>\n",
       "      <td>6.876406e+05</td>\n",
       "      <td>1.945972e+06</td>\n",
       "    </tr>\n",
       "    <tr>\n",
       "      <th>13</th>\n",
       "      <td>2.337672e+06</td>\n",
       "      <td>2.333119e+06</td>\n",
       "      <td>2.398382e+06</td>\n",
       "      <td>1.729661e+06</td>\n",
       "      <td>2.772832e+06</td>\n",
       "      <td>1.039254e+06</td>\n",
       "      <td>1.104975e+06</td>\n",
       "      <td>7.117616e+06</td>\n",
       "      <td>6.990827e+05</td>\n",
       "      <td>1.857369e+06</td>\n",
       "    </tr>\n",
       "    <tr>\n",
       "      <th>14</th>\n",
       "      <td>2.398777e+06</td>\n",
       "      <td>2.556735e+06</td>\n",
       "      <td>2.426685e+06</td>\n",
       "      <td>1.788102e+06</td>\n",
       "      <td>2.804067e+06</td>\n",
       "      <td>9.930138e+05</td>\n",
       "      <td>1.142143e+06</td>\n",
       "      <td>7.469678e+06</td>\n",
       "      <td>7.430807e+05</td>\n",
       "      <td>1.884753e+06</td>\n",
       "    </tr>\n",
       "    <tr>\n",
       "      <th>15</th>\n",
       "      <td>1.971721e+06</td>\n",
       "      <td>2.519255e+06</td>\n",
       "      <td>2.421748e+06</td>\n",
       "      <td>1.750523e+06</td>\n",
       "      <td>3.054991e+06</td>\n",
       "      <td>1.033770e+06</td>\n",
       "      <td>1.204091e+06</td>\n",
       "      <td>7.439539e+06</td>\n",
       "      <td>7.637365e+05</td>\n",
       "      <td>1.980209e+06</td>\n",
       "    </tr>\n",
       "    <tr>\n",
       "      <th>16</th>\n",
       "      <td>1.948824e+06</td>\n",
       "      <td>2.774369e+06</td>\n",
       "      <td>2.454269e+06</td>\n",
       "      <td>1.820562e+06</td>\n",
       "      <td>3.226326e+06</td>\n",
       "      <td>1.080504e+06</td>\n",
       "      <td>1.326685e+06</td>\n",
       "      <td>7.616006e+06</td>\n",
       "      <td>8.244651e+05</td>\n",
       "      <td>1.949936e+06</td>\n",
       "    </tr>\n",
       "    <tr>\n",
       "      <th>17</th>\n",
       "      <td>2.030732e+06</td>\n",
       "      <td>2.884962e+06</td>\n",
       "      <td>2.644841e+06</td>\n",
       "      <td>1.906939e+06</td>\n",
       "      <td>3.342739e+06</td>\n",
       "      <td>1.105981e+06</td>\n",
       "      <td>1.324450e+06</td>\n",
       "      <td>7.637694e+06</td>\n",
       "      <td>8.797445e+05</td>\n",
       "      <td>2.045321e+06</td>\n",
       "    </tr>\n",
       "    <tr>\n",
       "      <th>18</th>\n",
       "      <td>2.199929e+06</td>\n",
       "      <td>3.027921e+06</td>\n",
       "      <td>2.787491e+06</td>\n",
       "      <td>2.016598e+06</td>\n",
       "      <td>4.336091e+06</td>\n",
       "      <td>1.181122e+06</td>\n",
       "      <td>1.421666e+06</td>\n",
       "      <td>7.770972e+06</td>\n",
       "      <td>9.097567e+05</td>\n",
       "      <td>2.062252e+06</td>\n",
       "    </tr>\n",
       "    <tr>\n",
       "      <th>19</th>\n",
       "      <td>2.601548e+06</td>\n",
       "      <td>3.389498e+06</td>\n",
       "      <td>3.137983e+06</td>\n",
       "      <td>2.412423e+06</td>\n",
       "      <td>4.918740e+06</td>\n",
       "      <td>1.706786e+06</td>\n",
       "      <td>1.582120e+06</td>\n",
       "      <td>7.933249e+06</td>\n",
       "      <td>1.202841e+06</td>\n",
       "      <td>2.066104e+06</td>\n",
       "    </tr>\n",
       "  </tbody>\n",
       "</table>\n",
       "</div>"
      ],
      "text/plain": [
       "              1             2             3             4             5   \\\n",
       "1   3.107901e+06  3.212305e+06  4.840104e+06  2.475454e+06  3.750303e+06   \n",
       "2   2.354036e+06  2.247881e+06  3.414444e+06  1.642456e+06  3.160951e+06   \n",
       "3   2.148733e+06  2.012864e+06  3.009436e+06  1.566582e+06  2.775618e+06   \n",
       "4   1.946031e+06  1.870511e+06  2.630784e+06  1.521526e+06  2.618751e+06   \n",
       "5   1.850398e+06  1.605149e+06  2.537691e+06  1.502728e+06  2.608466e+06   \n",
       "6   1.778324e+06  1.574266e+06  2.498621e+06  1.482576e+06  2.632055e+06   \n",
       "7   1.761112e+06  1.524414e+06  2.452303e+06  1.480345e+06  2.661105e+06   \n",
       "8   1.733231e+06  1.529626e+06  2.418944e+06  1.477510e+06  2.660654e+06   \n",
       "9   1.773705e+06  1.607920e+06  2.381843e+06  1.504520e+06  2.677002e+06   \n",
       "10  1.865910e+06  1.682294e+06  2.378624e+06  1.528102e+06  2.597882e+06   \n",
       "11  2.001187e+06  1.972310e+06  2.377337e+06  1.540347e+06  2.659206e+06   \n",
       "12  2.183875e+06  2.120447e+06  2.376437e+06  1.583554e+06  2.727453e+06   \n",
       "13  2.337672e+06  2.333119e+06  2.398382e+06  1.729661e+06  2.772832e+06   \n",
       "14  2.398777e+06  2.556735e+06  2.426685e+06  1.788102e+06  2.804067e+06   \n",
       "15  1.971721e+06  2.519255e+06  2.421748e+06  1.750523e+06  3.054991e+06   \n",
       "16  1.948824e+06  2.774369e+06  2.454269e+06  1.820562e+06  3.226326e+06   \n",
       "17  2.030732e+06  2.884962e+06  2.644841e+06  1.906939e+06  3.342739e+06   \n",
       "18  2.199929e+06  3.027921e+06  2.787491e+06  2.016598e+06  4.336091e+06   \n",
       "19  2.601548e+06  3.389498e+06  3.137983e+06  2.412423e+06  4.918740e+06   \n",
       "\n",
       "              6             7             8             9             10  \n",
       "1   1.551977e+06  1.827367e+06  9.115194e+06  1.370720e+06  2.204863e+06  \n",
       "2   1.250565e+06  1.567470e+06  8.520751e+06  1.081053e+06  1.856305e+06  \n",
       "3   9.073041e+05  1.260460e+06  8.456577e+06  9.697846e+05  1.674333e+06  \n",
       "4   8.051359e+05  1.143883e+06  8.331747e+06  8.575537e+05  1.618265e+06  \n",
       "5   7.761712e+05  1.124175e+06  8.221957e+06  7.939196e+05  1.574253e+06  \n",
       "6   7.761634e+05  1.115742e+06  8.196970e+06  7.812360e+05  1.534220e+06  \n",
       "7   7.797162e+05  1.104388e+06  8.171960e+06  7.764572e+05  1.503831e+06  \n",
       "8   8.038592e+05  1.100754e+06  7.449396e+06  7.745898e+05  1.536790e+06  \n",
       "9   8.216293e+05  1.096926e+06  7.136283e+06  7.746164e+05  1.542746e+06  \n",
       "10  8.549975e+05  1.136163e+06  7.059485e+06  7.759932e+05  1.597315e+06  \n",
       "11  8.663998e+05  1.150317e+06  7.047911e+06  7.050320e+05  1.751416e+06  \n",
       "12  9.803505e+05  1.114814e+06  7.056951e+06  6.876406e+05  1.945972e+06  \n",
       "13  1.039254e+06  1.104975e+06  7.117616e+06  6.990827e+05  1.857369e+06  \n",
       "14  9.930138e+05  1.142143e+06  7.469678e+06  7.430807e+05  1.884753e+06  \n",
       "15  1.033770e+06  1.204091e+06  7.439539e+06  7.637365e+05  1.980209e+06  \n",
       "16  1.080504e+06  1.326685e+06  7.616006e+06  8.244651e+05  1.949936e+06  \n",
       "17  1.105981e+06  1.324450e+06  7.637694e+06  8.797445e+05  2.045321e+06  \n",
       "18  1.181122e+06  1.421666e+06  7.770972e+06  9.097567e+05  2.062252e+06  \n",
       "19  1.706786e+06  1.582120e+06  7.933249e+06  1.202841e+06  2.066104e+06  "
      ]
     },
     "execution_count": 44,
     "metadata": {},
     "output_type": "execute_result"
    }
   ],
   "source": [
    "cv_errors"
   ]
  },
  {
   "cell_type": "markdown",
   "metadata": {},
   "source": [
    "+ This has filled up the `cv_errors` DataFrame such that the $(i,j)^{th}$ element corresponds to the test MSE for the $i^{th}$ cross-validation fold for the best $j$-variable model. \n",
    "+ We can then use the `apply()` function to take the `mean` over the columns of this matrix.\n",
    "+ This will give us a vector for which the $j^{th}$ element is the cross-validation error for the $j$-variable model."
   ]
  },
  {
   "cell_type": "code",
   "execution_count": 45,
   "metadata": {},
   "outputs": [
    {
     "data": {
      "text/plain": [
       "[<matplotlib.lines.Line2D at 0x1248e4dbed0>]"
      ]
     },
     "execution_count": 45,
     "metadata": {},
     "output_type": "execute_result"
    },
    {
     "data": {
      "image/png": "[encoded data removed]",
      "text/plain": [
       "<Figure size 640x480 with 1 Axes>"
      ]
     },
     "metadata": {},
     "output_type": "display_data"
    }
   ],
   "source": [
    "cv_mean = cv_errors.apply(np.mean, axis=1)\n",
    "\n",
    "plt.plot(cv_mean)\n",
    "plt.xlabel('# Predictors')\n",
    "plt.ylabel('CV Error')\n",
    "plt.plot(cv_mean.argmin()+1, cv_mean.min(), \"or\")"
   ]
  },
  {
   "cell_type": "markdown",
   "metadata": {},
   "source": [
    "We see that cross-validation selects a 9-predictor model. Now let's go back to our results on the full data set in order to obtain the 9-predictor model."
   ]
  },
  {
   "cell_type": "code",
   "execution_count": 46,
   "metadata": {},
   "outputs": [
    {
     "name": "stdout",
     "output_type": "stream",
     "text": [
      "                                 OLS Regression Results                                \n",
      "=======================================================================================\n",
      "Dep. Variable:                 Salary   R-squared (uncentered):                   0.685\n",
      "Model:                            OLS   Adj. R-squared (uncentered):              0.672\n",
      "Method:                 Least Squares   F-statistic:                              54.56\n",
      "Date:                Mon, 28 Apr 2025   Prob (F-statistic):                    8.32e-52\n",
      "Time:                        17:45:20   Log-Likelihood:                         -1737.9\n",
      "No. Observations:                 235   AIC:                                      3494.\n",
      "Df Residuals:                     226   BIC:                                      3525.\n",
      "Df Model:                           9                                                  \n",
      "Covariance Type:            nonrobust                                                  \n",
      "==============================================================================\n",
      "                 coef    std err          t      P>|t|      [0.025      0.975]\n",
      "------------------------------------------------------------------------------\n",
      "Hits           5.1036      2.325      2.195      0.029       0.522       9.686\n",
      "PutOuts        0.2727      0.101      2.692      0.008       0.073       0.472\n",
      "Division_W   -88.1122     50.742     -1.736      0.084    -188.101      11.876\n",
      "HmRun         -0.8294      6.640     -0.125      0.901     -13.913      12.254\n",
      "AtBat         -0.7780      0.667     -1.166      0.245      -2.093       0.537\n",
      "League_N     103.4130     51.270      2.017      0.045       2.384     204.442\n",
      "RBI            5.3063      3.007      1.764      0.079      -0.620      11.232\n",
      "Assists        0.1477      0.281      0.525      0.600      -0.406       0.702\n",
      "Errors        -9.2617      5.660     -1.636      0.103     -20.415       1.892\n",
      "==============================================================================\n",
      "Omnibus:                       62.044   Durbin-Watson:                   1.995\n",
      "Prob(Omnibus):                  0.000   Jarque-Bera (JB):              182.556\n",
      "Skew:                           1.123   Prob(JB):                     2.28e-40\n",
      "Kurtosis:                       6.687   Cond. No.                     1.19e+03\n",
      "==============================================================================\n",
      "\n",
      "Notes:\n",
      "[1] R² is computed without centering (uncentered) since the model does not contain a constant.\n",
      "[2] Standard Errors assume that the covariance matrix of the errors is correctly specified.\n",
      "[3] The condition number is large, 1.19e+03. This might indicate that there are\n",
      "strong multicollinearity or other numerical problems.\n"
     ]
    }
   ],
   "source": [
    "print(models_cv.loc[9, \"model\"].summary())"
   ]
  },
  {
   "cell_type": "markdown",
   "metadata": {},
   "source": [
    "+ For comparison, let's also take a look at the statistics from last lab:"
   ]
  },
  {
   "cell_type": "code",
   "execution_count": 47,
   "metadata": {},
   "outputs": [
    {
     "name": "stderr",
     "output_type": "stream",
     "text": [
      "C:\\Users\\user\\AppData\\Local\\Temp\\ipykernel_15872\\2522320713.py:16: FutureWarning: Series.__getitem__ treating keys as positions is deprecated. In a future version, integer keys will always be treated as labels (consistent with DataFrame behavior). To access a value by position, use `ser.iloc[pos]`\n",
      "  rsquared_adj = models_cv.apply(lambda row: row[1].rsquared_adj, axis=1)\n",
      "C:\\Users\\user\\AppData\\Local\\Temp\\ipykernel_15872\\2522320713.py:25: FutureWarning: Series.__getitem__ treating keys as positions is deprecated. In a future version, integer keys will always be treated as labels (consistent with DataFrame behavior). To access a value by position, use `ser.iloc[pos]`\n",
      "  aic = models_cv.apply(lambda row: row[1].aic, axis=1)\n",
      "C:\\Users\\user\\AppData\\Local\\Temp\\ipykernel_15872\\2522320713.py:33: FutureWarning: Series.__getitem__ treating keys as positions is deprecated. In a future version, integer keys will always be treated as labels (consistent with DataFrame behavior). To access a value by position, use `ser.iloc[pos]`\n",
      "  bic = models_cv.apply(lambda row: row[1].bic, axis=1)\n"
     ]
    },
    {
     "data": {
      "text/plain": [
       "Text(0, 0.5, 'BIC')"
      ]
     },
     "execution_count": 47,
     "metadata": {},
     "output_type": "execute_result"
    },
    {
     "data": {
      "image/png": "[encoded data removed]",
      "text/plain": [
       "<Figure size 2000x1000 with 4 Axes>"
      ]
     },
     "metadata": {},
     "output_type": "display_data"
    }
   ],
   "source": [
    "plt.figure(figsize=(20,10))\n",
    "plt.rcParams.update({'font.size': 18, 'lines.markersize': 10})\n",
    "\n",
    "# Set up a 2x2 grid so we can look at 4 plots at once\n",
    "plt.subplot(2, 2, 1)\n",
    "\n",
    "# We will now plot a red dot to indicate the model with the largest adjusted R^2 statistic.\n",
    "# The argmax() function can be used to identify the location of the maximum point of a vector\n",
    "plt.plot(models_cv[\"RSS\"])\n",
    "plt.xlabel('# Predictors')\n",
    "plt.ylabel('RSS')\n",
    "\n",
    "# We will now plot a red dot to indicate the model with the largest adjusted R^2 statistic.\n",
    "# The argmax() function can be used to identify the location of the maximum point of a vector\n",
    "\n",
    "rsquared_adj = models_cv.apply(lambda row: row[1].rsquared_adj, axis=1)\n",
    "\n",
    "plt.subplot(2, 2, 2)\n",
    "plt.plot(rsquared_adj)\n",
    "plt.plot(rsquared_adj.argmax()+1, rsquared_adj.max(), \"or\")\n",
    "plt.xlabel('# Predictors')\n",
    "plt.ylabel('adjusted rsquared')\n",
    "\n",
    "# We'll do the same for AIC and BIC, this time looking for the models with the SMALLEST statistic\n",
    "aic = models_cv.apply(lambda row: row[1].aic, axis=1)\n",
    "\n",
    "plt.subplot(2, 2, 3)\n",
    "plt.plot(aic)\n",
    "plt.plot(aic.argmin()+1, aic.min(), \"or\")\n",
    "plt.xlabel('# Predictors')\n",
    "plt.ylabel('AIC')\n",
    "\n",
    "bic = models_cv.apply(lambda row: row[1].bic, axis=1)\n",
    "\n",
    "plt.subplot(2, 2, 4)\n",
    "plt.plot(bic)\n",
    "plt.plot(bic.argmin()+1, bic.min(), \"or\")\n",
    "plt.xlabel('# Predictors')\n",
    "plt.ylabel('BIC')"
   ]
  },
  {
   "cell_type": "markdown",
   "metadata": {},
   "source": [
    "+ Notice how some of the indicators are similar the cross-validated model, and others are very different?\n",
    "\n",
    "### YOUR TURN\n",
    "Use any dataset from this link\n",
    "http://archive.ics.uci.edu/ml/datasets.html?format=&task=reg&att=&area=&numAtt=&numIns=&type=&sort=nameUp&view=table"
   ]
  },
  {
   "cell_type": "markdown",
   "metadata": {},
   "source": [
    "# Shrinkage Methods\n",
    "+ Fit a model containing all $p$ predictors.\n",
    "+ The coefficients estimates are constrains or regularizes, which shrink its towards zero.\n",
    "+ It wil reduce the variance, but does not guarantee it will improve the fit.\n",
    "+ Ridge and Lasso regression are most common.\n",
    "\n",
    "### Ridge Regression\n",
    "+ The least squares fitting procedure estimates $\\beta_0, \\beta_1, \\ldots, \\beta_p$ using the values that minimize\n",
    "$$\\textrm{RSS} = \\sum_{i=1}^n{\\left( y_i - \\beta_0 - \\sum_{j=1}^p{\\beta_j x_{ij}} \\right)^2}$$\n",
    "+ Ridge regression minimizes \n",
    "$$\\sum_{i=1}^n{\\left( y_i - \\beta_0 - \\sum_{j=1}^p{\\beta_j x_{ij}} \\right)^2} + \\lambda \\sum_{j=1}^p{\\beta_j^2} = \\textrm{RSS} + \\lambda \\sum_{j=1}^p{\\beta_j^2}$$\n",
    "where $\\lambda \\geq 0$ is a tuning parameter.\n",
    "+ The shrinkage penalty, $\\lambda \\sum_{j=1}^p{\\beta_j^2}$, is small when $\\beta_1, \\ldots, \\beta_p$ are close to zero.\n",
    "+ The tuning parameter $\\lambda$ serves to control the relative impact of these two terms on the regression coefficient estimates.\n",
    "+ When $\\lambda=0$ then ridge equals least squares. When $\\lambda \\rightarrow \\infty$, all predictors head to 0.\n",
    "+ Ridge regression produce  a different set of coefficient estimates, $\\hat{\\beta}_\\lambda^R$, for each value of $\\lambda$.\n",
    "+ Since ridge regression works directly with the size of the parameter coefficients, you must scale all predictors by dividing by their standard deviation.\n",
    "$$\\tilde{x}_{ij}=\\frac{x_{ij}}{\\sqrt{\\frac{1}{n}\\sum_{i=1}^n{\\left( x_{ij} - \\bar{x}_j \\right)^2}}}$$\n"
   ]
  },
  {
   "cell_type": "code",
   "execution_count": 48,
   "metadata": {},
   "outputs": [
    {
     "data": {
      "image/png": "[encoded data removed]",
      "text/plain": [
       "<IPython.core.display.Image object>"
      ]
     },
     "execution_count": 48,
     "metadata": {
      "image/png": {
       "width": 700
      }
     },
     "output_type": "execute_result"
    }
   ],
   "source": [
    "from IPython.display import Image\n",
    "Image('images/pw46.png', width =700)"
   ]
  },
  {
   "cell_type": "markdown",
   "metadata": {},
   "source": [
    "$\\ell_2$ norm, $\\left\\Vert \\beta \\right\\Vert_2 = \\sqrt{\\sum_{j=1}^p{\\beta_j^2}}$"
   ]
  },
  {
   "cell_type": "markdown",
   "metadata": {},
   "source": [
    "#### Example"
   ]
  },
  {
   "cell_type": "code",
   "execution_count": 49,
   "metadata": {},
   "outputs": [],
   "source": [
    "%matplotlib inline\n",
    "\n",
    "import pandas as pd\n",
    "import numpy as np\n",
    "import matplotlib.pyplot as plt\n",
    "\n",
    "from sklearn.preprocessing import StandardScaler \n",
    "from sklearn.model_selection import train_test_split\n",
    "from sklearn.linear_model import Ridge, RidgeCV, Lasso, LassoCV\n",
    "from sklearn.metrics import mean_squared_error"
   ]
  },
  {
   "cell_type": "markdown",
   "metadata": {},
   "source": [
    "+ We will use the `sklearn` package in order to perform ridge regression and the lasso. \n",
    "+ The main functions in this package that we care about are `Ridge()`, which can be used to fit ridge regression models, and `Lasso()` which will fit lasso models. \n",
    "+ They also have cross-validated counterparts: `RidgeCV()` and `LassoCV()`. We'll use these a bit later.\n",
    "\n",
    "Before we proceed, let's first ensure that the missing values have\n",
    "been removed from the data, as described in the previous lab."
   ]
  },
  {
   "cell_type": "code",
   "execution_count": 50,
   "metadata": {},
   "outputs": [
    {
     "name": "stdout",
     "output_type": "stream",
     "text": [
      "<class 'pandas.core.frame.DataFrame'>\n",
      "Index: 263 entries, 1 to 321\n",
      "Data columns (total 20 columns):\n",
      " #   Column     Non-Null Count  Dtype  \n",
      "---  ------     --------------  -----  \n",
      " 0   AtBat      263 non-null    int64  \n",
      " 1   Hits       263 non-null    int64  \n",
      " 2   HmRun      263 non-null    int64  \n",
      " 3   Runs       263 non-null    int64  \n",
      " 4   RBI        263 non-null    int64  \n",
      " 5   Walks      263 non-null    int64  \n",
      " 6   Years      263 non-null    int64  \n",
      " 7   CAtBat     263 non-null    int64  \n",
      " 8   CHits      263 non-null    int64  \n",
      " 9   CHmRun     263 non-null    int64  \n",
      " 10  CRuns      263 non-null    int64  \n",
      " 11  CRBI       263 non-null    int64  \n",
      " 12  CWalks     263 non-null    int64  \n",
      " 13  League     263 non-null    object \n",
      " 14  Division   263 non-null    object \n",
      " 15  PutOuts    263 non-null    int64  \n",
      " 16  Assists    263 non-null    int64  \n",
      " 17  Errors     263 non-null    int64  \n",
      " 18  Salary     263 non-null    float64\n",
      " 19  NewLeague  263 non-null    object \n",
      "dtypes: float64(1), int64(16), object(3)\n",
      "memory usage: 43.1+ KB\n"
     ]
    }
   ],
   "source": [
    "df = pd.read_csv('data/hitters.csv').dropna().drop('Unnamed: 0', axis = 1)\n",
    "df.info()\n",
    "dummies = pd.get_dummies(df[['League', 'Division', 'NewLeague']])"
   ]
  },
  {
   "cell_type": "markdown",
   "metadata": {},
   "source": [
    "We will now perform ridge regression and the lasso in order to predict `Salary` on\n",
    "the `Hitters` data. Let's set up our data:"
   ]
  },
  {
   "cell_type": "code",
   "execution_count": 51,
   "metadata": {},
   "outputs": [
    {
     "name": "stdout",
     "output_type": "stream",
     "text": [
      "<class 'pandas.core.frame.DataFrame'>\n",
      "Index: 263 entries, 1 to 321\n",
      "Data columns (total 19 columns):\n",
      " #   Column       Non-Null Count  Dtype  \n",
      "---  ------       --------------  -----  \n",
      " 0   AtBat        263 non-null    float64\n",
      " 1   Hits         263 non-null    float64\n",
      " 2   HmRun        263 non-null    float64\n",
      " 3   Runs         263 non-null    float64\n",
      " 4   RBI          263 non-null    float64\n",
      " 5   Walks        263 non-null    float64\n",
      " 6   Years        263 non-null    float64\n",
      " 7   CAtBat       263 non-null    float64\n",
      " 8   CHits        263 non-null    float64\n",
      " 9   CHmRun       263 non-null    float64\n",
      " 10  CRuns        263 non-null    float64\n",
      " 11  CRBI         263 non-null    float64\n",
      " 12  CWalks       263 non-null    float64\n",
      " 13  PutOuts      263 non-null    float64\n",
      " 14  Assists      263 non-null    float64\n",
      " 15  Errors       263 non-null    float64\n",
      " 16  League_N     263 non-null    bool   \n",
      " 17  Division_W   263 non-null    bool   \n",
      " 18  NewLeague_N  263 non-null    bool   \n",
      "dtypes: bool(3), float64(16)\n",
      "memory usage: 35.7 KB\n"
     ]
    }
   ],
   "source": [
    "y = df.Salary\n",
    "\n",
    "# Drop the column with the independent variable (Salary), and columns for which we created dummy variables\n",
    "X_ = df.drop(['Salary', 'League', 'Division', 'NewLeague'], axis = 1).astype('float64')\n",
    "\n",
    "# Define the feature set X.\n",
    "X = pd.concat([X_, dummies[['League_N', 'Division_W', 'NewLeague_N']]], axis = 1)\n",
    "\n",
    "X.info()"
   ]
  },
  {
   "cell_type": "markdown",
   "metadata": {},
   "source": [
    "+ The `Ridge()` function has an alpha argument ($\\lambda$, but with a different name!) that is used to tune the model.\n",
    "+ We'll generate an array of alpha values ranging from very big to very small, essentially covering the full range of scenarios from the null model containing only the intercept, to the least squares fit:"
   ]
  },
  {
   "cell_type": "code",
   "execution_count": 52,
   "metadata": {},
   "outputs": [
    {
     "data": {
      "text/plain": [
       "array([5.00000000e+09, 3.78231664e+09, 2.86118383e+09, 2.16438064e+09,\n",
       "       1.63727458e+09, 1.23853818e+09, 9.36908711e+08, 7.08737081e+08,\n",
       "       5.36133611e+08, 4.05565415e+08, 3.06795364e+08, 2.32079442e+08,\n",
       "       1.75559587e+08, 1.32804389e+08, 1.00461650e+08, 7.59955541e+07,\n",
       "       5.74878498e+07, 4.34874501e+07, 3.28966612e+07, 2.48851178e+07,\n",
       "       1.88246790e+07, 1.42401793e+07, 1.07721735e+07, 8.14875417e+06,\n",
       "       6.16423370e+06, 4.66301673e+06, 3.52740116e+06, 2.66834962e+06,\n",
       "       2.01850863e+06, 1.52692775e+06, 1.15506485e+06, 8.73764200e+05,\n",
       "       6.60970574e+05, 5.00000000e+05, 3.78231664e+05, 2.86118383e+05,\n",
       "       2.16438064e+05, 1.63727458e+05, 1.23853818e+05, 9.36908711e+04,\n",
       "       7.08737081e+04, 5.36133611e+04, 4.05565415e+04, 3.06795364e+04,\n",
       "       2.32079442e+04, 1.75559587e+04, 1.32804389e+04, 1.00461650e+04,\n",
       "       7.59955541e+03, 5.74878498e+03, 4.34874501e+03, 3.28966612e+03,\n",
       "       2.48851178e+03, 1.88246790e+03, 1.42401793e+03, 1.07721735e+03,\n",
       "       8.14875417e+02, 6.16423370e+02, 4.66301673e+02, 3.52740116e+02,\n",
       "       2.66834962e+02, 2.01850863e+02, 1.52692775e+02, 1.15506485e+02,\n",
       "       8.73764200e+01, 6.60970574e+01, 5.00000000e+01, 3.78231664e+01,\n",
       "       2.86118383e+01, 2.16438064e+01, 1.63727458e+01, 1.23853818e+01,\n",
       "       9.36908711e+00, 7.08737081e+00, 5.36133611e+00, 4.05565415e+00,\n",
       "       3.06795364e+00, 2.32079442e+00, 1.75559587e+00, 1.32804389e+00,\n",
       "       1.00461650e+00, 7.59955541e-01, 5.74878498e-01, 4.34874501e-01,\n",
       "       3.28966612e-01, 2.48851178e-01, 1.88246790e-01, 1.42401793e-01,\n",
       "       1.07721735e-01, 8.14875417e-02, 6.16423370e-02, 4.66301673e-02,\n",
       "       3.52740116e-02, 2.66834962e-02, 2.01850863e-02, 1.52692775e-02,\n",
       "       1.15506485e-02, 8.73764200e-03, 6.60970574e-03, 5.00000000e-03])"
      ]
     },
     "execution_count": 52,
     "metadata": {},
     "output_type": "execute_result"
    }
   ],
   "source": [
    "alphas = 10**np.linspace(10,-2,100)*0.5\n",
    "alphas\n"
   ]
  },
  {
   "cell_type": "markdown",
   "metadata": {},
   "source": [
    "+ Associated with each alpha value is a vector of ridge regression coefficients, which we'll store in a matrix `coefs`. \n",
    "+ In this case, it is a $19 \\times 100$ matrix, with 19 rows (one for each predictor) and 100 columns (one for each value of alpha). \n",
    "+ Remember that we'll want to standardize the variables so that they are on the same scale. To do this, we can use the `StandardScaler()` function:"
   ]
  },
  {
   "cell_type": "code",
   "execution_count": 53,
   "metadata": {},
   "outputs": [
    {
     "data": {
      "text/plain": [
       "(100, 19)"
      ]
     },
     "execution_count": 53,
     "metadata": {},
     "output_type": "execute_result"
    }
   ],
   "source": [
    "ridge = Ridge()\n",
    "coefs = []\n",
    "\n",
    "scaler = StandardScaler()\n",
    "X_scaled = scaler.fit_transform(X)\n",
    "\n",
    "for a in alphas:\n",
    "    ridge.set_params(alpha = a)\n",
    "    ridge.fit(X_scaled, y)\n",
    "    coefs.append(ridge.coef_)\n",
    "    \n",
    "np.shape(coefs)"
   ]
  },
  {
   "cell_type": "markdown",
   "metadata": {},
   "source": [
    "We expect the coefficient estimates to be much smaller, in terms of $l_2$ norm,\n",
    "when a large value of alpha is used, as compared to when a small value of alpha is\n",
    "used. \n",
    "\n",
    "Let's plot and find out:"
   ]
  },
  {
   "cell_type": "code",
   "execution_count": 54,
   "metadata": {},
   "outputs": [
    {
     "data": {
      "text/plain": [
       "Text(0, 0.5, 'weights')"
      ]
     },
     "execution_count": 54,
     "metadata": {},
     "output_type": "execute_result"
    },
    {
     "data": {
      "image/png": "[encoded data removed]",
      "text/plain": [
       "<Figure size 640x480 with 1 Axes>"
      ]
     },
     "metadata": {},
     "output_type": "display_data"
    }
   ],
   "source": [
    "ax = plt.gca()\n",
    "ax.plot(alphas, coefs)\n",
    "ax.set_xscale('log')\n",
    "plt.axis('tight')\n",
    "plt.xlabel('alpha')\n",
    "plt.ylabel('weights')"
   ]
  },
  {
   "cell_type": "markdown",
   "metadata": {},
   "source": [
    "We now split the samples into a training set and a test set in order\n",
    "to estimate the test error of ridge regression"
   ]
  },
  {
   "cell_type": "code",
   "execution_count": 55,
   "metadata": {},
   "outputs": [],
   "source": [
    "# Split data into training and test sets\n",
    "X_train, X_test , y_train, y_test = train_test_split(X_scaled, y, test_size=0.5, random_state=1)"
   ]
  },
  {
   "cell_type": "markdown",
   "metadata": {},
   "source": [
    "Fit a ridge regression model on the training set, and evaluate its MSE on the test set, using  $\\lambda=4$ :"
   ]
  },
  {
   "cell_type": "code",
   "execution_count": 56,
   "metadata": {},
   "outputs": [
    {
     "name": "stdout",
     "output_type": "stream",
     "text": [
      "AtBat         -213.176543\n",
      "Hits           191.133532\n",
      "HmRun          -54.236259\n",
      "Runs             0.497409\n",
      "RBI             77.755957\n",
      "Walks           89.751563\n",
      "Years          -27.347561\n",
      "CAtBat        -120.436464\n",
      "CHits           89.341261\n",
      "CHmRun          83.888337\n",
      "CRuns           98.317502\n",
      "CRBI           116.286711\n",
      "CWalks         -40.517948\n",
      "PutOuts        117.412662\n",
      "Assists         26.509603\n",
      "Errors         -19.132449\n",
      "League_N        36.016247\n",
      "Division_W     -60.417909\n",
      "NewLeague_N    -18.714889\n",
      "dtype: float64\n",
      "102375.70769613981\n"
     ]
    }
   ],
   "source": [
    "ridge2 = Ridge(alpha = 4)\n",
    "ridge2.fit(X_train, y_train)             # Fit a ridge regression on the training data\n",
    "pred2 = ridge2.predict(X_test)           # Use this model to predict the test data\n",
    "print(pd.Series(ridge2.coef_, index = X.columns)) # Print coefficients\n",
    "print(mean_squared_error(y_test, pred2))          # Calculate the test MSE"
   ]
  },
  {
   "cell_type": "code",
   "execution_count": 57,
   "metadata": {},
   "outputs": [
    {
     "name": "stdout",
     "output_type": "stream",
     "text": [
      "AtBat          2.514813e-06\n",
      "Hits           2.912660e-06\n",
      "HmRun          1.986276e-06\n",
      "Runs           2.685289e-06\n",
      "RBI            3.189361e-06\n",
      "Walks          3.118248e-06\n",
      "Years          2.473459e-06\n",
      "CAtBat         3.257461e-06\n",
      "CHits          3.480687e-06\n",
      "CHmRun         3.711503e-06\n",
      "CRuns          3.474689e-06\n",
      "CRBI           3.938490e-06\n",
      "CWalks         3.029160e-06\n",
      "PutOuts        3.055508e-06\n",
      "Assists       -4.753637e-08\n",
      "Errors         1.674891e-07\n",
      "League_N      -1.638619e-07\n",
      "Division_W    -1.015342e-06\n",
      "NewLeague_N   -1.328587e-07\n",
      "dtype: float64\n",
      "172862.22014055075\n"
     ]
    }
   ],
   "source": [
    "## Let alpha=10^10\n",
    "ridge3 = Ridge(alpha = 10**10)\n",
    "ridge3.fit(X_train, y_train)             # Fit a ridge regression on the training data\n",
    "pred3 = ridge3.predict(X_test)           # Use this model to predict the test data\n",
    "print(pd.Series(ridge3.coef_, index = X.columns)) # Print coefficients\n",
    "print(mean_squared_error(y_test, pred3))          # Calculate the test MSE"
   ]
  },
  {
   "cell_type": "markdown",
   "metadata": {},
   "source": [
    "+ This big penalty shrinks the coefficients to a very large degree, essentially reducing to a model containing just the intercept.\n",
    "+ This over-shrinking makes the model more biased, resulting in a higher MSE.\n",
    "+ now check whether there is any benefit to performing ridge regression with alpha = 4 instead of just performing least squares regression. \n",
    "+ Recall that least squares is simply ridge regression with alpha = 0."
   ]
  },
  {
   "cell_type": "code",
   "execution_count": 58,
   "metadata": {},
   "outputs": [
    {
     "name": "stdout",
     "output_type": "stream",
     "text": [
      "AtBat          -267.752871\n",
      "Hits            191.830073\n",
      "HmRun           -41.721641\n",
      "Runs             -0.988044\n",
      "RBI             102.935440\n",
      "Walks            75.220967\n",
      "Years            45.444252\n",
      "CAtBat        -1381.044044\n",
      "CHits          1407.138021\n",
      "CHmRun          244.425704\n",
      "CRuns            88.048881\n",
      "CRBI           -193.153012\n",
      "CWalks           45.168467\n",
      "PutOuts         117.645848\n",
      "Assists          67.244233\n",
      "Errors          -39.726067\n",
      "League_N         66.762729\n",
      "Division_W      -56.861659\n",
      "NewLeague_N     -40.856844\n",
      "dtype: float64\n",
      "116690.46856663776\n"
     ]
    }
   ],
   "source": [
    "### The least squares, alpha = 0\n",
    "ridge2 = Ridge(alpha = 0)\n",
    "ridge2.fit(X_train, y_train)             # Fit a ridge regression on the training data\n",
    "pred = ridge2.predict(X_test)            # Use this model to predict the test data\n",
    "print(pd.Series(ridge2.coef_, index = X.columns)) # Print coefficients\n",
    "print(mean_squared_error(y_test, pred))           # Calculate the test MSE"
   ]
  },
  {
   "cell_type": "markdown",
   "metadata": {},
   "source": [
    "+ It looks like we are indeed improving over regular least-squares!\n",
    "\n",
    "+ Instead of arbitrarily choosing alpha $ = 4$, it would be better to use cross-validation to choose the tuning parameter alpha. \n",
    "+ We can do this using the cross-validated ridge regression function, `RidgeCV()`. \n",
    "+ By default, the function performs generalized cross-validation (an efficient form of LOOCV), though this can be changed using the argument `cv`."
   ]
  },
  {
   "cell_type": "code",
   "execution_count": 59,
   "metadata": {},
   "outputs": [
    {
     "data": {
      "text/plain": [
       "np.float64(87.37642000038414)"
      ]
     },
     "execution_count": 59,
     "metadata": {},
     "output_type": "execute_result"
    }
   ],
   "source": [
    "###  use cross-validation to choose the tuning parameter alpha. \n",
    "ridgecv = RidgeCV(alphas = alphas, scoring = 'neg_mean_squared_error')\n",
    "ridgecv.fit(X_train, y_train)\n",
    "ridgecv.alpha_"
   ]
  },
  {
   "cell_type": "markdown",
   "metadata": {},
   "source": [
    "Therefore, we see that the value of alpha that results in the smallest cross-validation\n",
    "error is 87.37. \n",
    "\n",
    "What is the test MSE associated with this value of\n",
    "alpha?"
   ]
  },
  {
   "cell_type": "code",
   "execution_count": 60,
   "metadata": {},
   "outputs": [
    {
     "data": {
      "text/plain": [
       "100041.00144659569"
      ]
     },
     "execution_count": 60,
     "metadata": {},
     "output_type": "execute_result"
    }
   ],
   "source": [
    "###Fit to the test data\n",
    "ridge4 = Ridge(alpha = ridgecv.alpha_)\n",
    "ridge4.fit(X_train, y_train)\n",
    "mean_squared_error(y_test, ridge4.predict(X_test))"
   ]
  },
  {
   "cell_type": "markdown",
   "metadata": {},
   "source": [
    "This represents a further improvement over the test MSE that we got using\n",
    "alpha $ = 4$. \n",
    "\n",
    "Finally, we refit our ridge regression model on the full data set,\n",
    "using the value of alpha chosen by cross-validation, and examine the coefficient\n",
    "estimates."
   ]
  },
  {
   "cell_type": "code",
   "execution_count": 61,
   "metadata": {
    "scrolled": true
   },
   "outputs": [
    {
     "name": "stdout",
     "output_type": "stream",
     "text": [
      "AtBat          -3.523031\n",
      "Hits           52.317273\n",
      "HmRun          -2.229998\n",
      "Runs           29.166801\n",
      "RBI            22.313457\n",
      "Walks          42.608761\n",
      "Years          -5.214714\n",
      "CAtBat         24.399636\n",
      "CHits          46.574450\n",
      "CHmRun         40.154375\n",
      "CRuns          47.179284\n",
      "CRBI           49.378118\n",
      "CWalks          0.430680\n",
      "PutOuts        58.565659\n",
      "Assists         8.184012\n",
      "Errors        -14.476788\n",
      "League_N       15.731040\n",
      "Division_W    -50.182047\n",
      "NewLeague_N     2.213752\n",
      "dtype: float64\n"
     ]
    }
   ],
   "source": [
    "###Fit to the whole data\n",
    "ridge4.fit(X_scaled, y)\n",
    "\n",
    "print(pd.Series(ridge4.coef_, index = X.columns))"
   ]
  },
  {
   "cell_type": "markdown",
   "metadata": {},
   "source": [
    "### The Lasso\n",
    "+ Least absolute shrinkage and selection operator\n",
    "+ Ridge regression will include all $p$ predictors in the final model since it will only shrink the coefficients towards zero, not exactly zero. Therefore, if $p$ is large, then the model is hard to be interpreted.\n",
    "+ Lasso can overcome this problem.\n",
    "$$\\sum_{i=1}^n{\\left( y_i - \\beta_0 - \\sum_{j=1}^p{\\beta_j x_{ij}} \\right)^2} + \\lambda \\sum_{j=1}^p{\\left|\\beta_j\\right|} = \\textrm{RSS} + \\lambda \\sum_{j=1}^p{\\left|\\beta_j\\right|}$$\n",
    "\n",
    "+ Lasso uses $\\ell_1$ penalty instead of $\\ell_2$ (absolute value of predictors vs squared value). \n",
    "+ $\\ell_1$ norm, $\\left\\Vert \\beta \\right\\Vert_1 = \\sum{\\left| \\beta_j \\right|}$.\n",
    "+ The lasso performs variable selection by setting some predictors to exactly 0 (and thus automatic variable selection), unlike ridge which will never completely do eliminate variables. \n",
    "+ The lasso yields sparse models — models that involve only a subset of the variables.\n",
    "\n"
   ]
  },
  {
   "cell_type": "code",
   "execution_count": 62,
   "metadata": {},
   "outputs": [
    {
     "data": {
      "image/png": "[encoded data removed]",
      "text/plain": [
       "<IPython.core.display.Image object>"
      ]
     },
     "execution_count": 62,
     "metadata": {
      "image/png": {
       "width": 700
      }
     },
     "output_type": "execute_result"
    }
   ],
   "source": [
    "Image('images/pw47.png', width =700)"
   ]
  },
  {
   "cell_type": "markdown",
   "metadata": {},
   "source": [
    "#### Example: \n",
    "+ we saw that ridge regression with a wise choice of alpha can outperform least squares as well as the null model on the Hitters data set. \n",
    "+ We now ask whether the lasso can yield either a more accurate or a more interpretable model than ridge regression. \n",
    "+ In order to fit a lasso model, we'll use the `Lasso()` function; however, this time we'll need to include the argument `max_iter = 10000`.\n",
    "+ Other than that change, we proceed just as we did in fitting a ridge model:"
   ]
  },
  {
   "cell_type": "code",
   "execution_count": 63,
   "metadata": {},
   "outputs": [
    {
     "data": {
      "text/plain": [
       "Text(0, 0.5, 'weights')"
      ]
     },
     "execution_count": 63,
     "metadata": {},
     "output_type": "execute_result"
    },
    {
     "data": {
      "image/png": "[encoded data removed]",
      "text/plain": [
       "<Figure size 640x480 with 1 Axes>"
      ]
     },
     "metadata": {},
     "output_type": "display_data"
    }
   ],
   "source": [
    "lasso = Lasso(max_iter = 10000)\n",
    "coefs = []\n",
    "\n",
    "for a in alphas:\n",
    "    lasso.set_params(alpha=a)\n",
    "    lasso.fit(X_train, y_train)\n",
    "    coefs.append(lasso.coef_)\n",
    "    \n",
    "ax = plt.gca()\n",
    "ax.plot(alphas*2, coefs)\n",
    "ax.set_xscale('log')\n",
    "plt.axis('tight')\n",
    "plt.xlabel('alpha')\n",
    "plt.ylabel('weights')"
   ]
  },
  {
   "cell_type": "markdown",
   "metadata": {},
   "source": [
    "+ Notice that in the coefficient plot that depending on the choice of tuning parameter, some of the coefficients are exactly equal to zero. \n",
    "+ We now perform 10-fold cross-validation to choose the best alpha, refit the model, and compute the associated test error:"
   ]
  },
  {
   "cell_type": "code",
   "execution_count": 64,
   "metadata": {},
   "outputs": [
    {
     "data": {
      "text/plain": [
       "105121.06327904541"
      ]
     },
     "execution_count": 64,
     "metadata": {},
     "output_type": "execute_result"
    }
   ],
   "source": [
    "## Perform 10-fold cross-validation to choose the best alpha.\n",
    "\n",
    "lassocv = LassoCV(alphas = None, cv = 10, max_iter = 100000)\n",
    "lassocv.fit(X_train, y_train)\n",
    "\n",
    "lasso.set_params(alpha=lassocv.alpha_)\n",
    "lasso.fit(X_train, y_train)\n",
    "mean_squared_error(y_test, lasso.predict(X_test))"
   ]
  },
  {
   "cell_type": "markdown",
   "metadata": {},
   "source": [
    "This is substantially lower than the test set MSE of the null model and of least squares, and only a little worse than the test MSE of ridge regression with alpha chosen by cross-validation.\n",
    "\n",
    "However, lasso has a substantial advantage over ridge regression in\n",
    "that the resulting coefficient estimates are sparse. Here we see that 13 of\n",
    "the 19 coefficient estimates are exactly zero:"
   ]
  },
  {
   "cell_type": "code",
   "execution_count": 65,
   "metadata": {},
   "outputs": [
    {
     "data": {
      "text/plain": [
       "AtBat            0.000000\n",
       "Hits            47.417582\n",
       "HmRun            0.000000\n",
       "Runs             0.000000\n",
       "RBI              0.000000\n",
       "Walks           64.015661\n",
       "Years            0.000000\n",
       "CAtBat           0.000000\n",
       "CHits            0.000000\n",
       "CHmRun          16.243847\n",
       "CRuns            0.000000\n",
       "CRBI           168.983385\n",
       "CWalks           0.000000\n",
       "PutOuts        104.196395\n",
       "Assists         -0.000000\n",
       "Errors          -0.000000\n",
       "League_N         0.000000\n",
       "Division_W     -43.965512\n",
       "NewLeague_N      0.000000\n",
       "dtype: float64"
      ]
     },
     "execution_count": 65,
     "metadata": {},
     "output_type": "execute_result"
    }
   ],
   "source": [
    "# Some of the coefficients are now reduced to exactly zero.\n",
    "pd.Series(lasso.coef_, index=X.columns)"
   ]
  },
  {
   "cell_type": "markdown",
   "metadata": {},
   "source": [
    "### Alternative logic of lasso and ridge regression\n",
    "+ Instead of thinking of penalizing the error by either the $\\ell_1$ or $\\ell_2$ norm, we can think of setting up lasso/ridge regression as minimizing the squared errors subject to keeping the parameters less than a certain value. \n",
    "+ Think of this value as a 'budget', $s$, of allowable spending to occur. You can allow yourself to spend your parameters in any way you chose as long as you don't go over the total budget.\n",
    "+ For Lasso\n",
    "$$\\displaystyle \\min_{\\beta}\\left\\{ \\sum_{i=1}^n{\\left( y_i - \\beta_0 - \\sum_{j=1}^p{\\beta_j x_{ij}} \\right)^2} \\right\\} \\quad \\textrm{subject to} \\quad \\sum_{j=1}^p{\\left|\\beta_j\\right|} \\leq s$$\n",
    "and for ridge regression\n",
    "$$\\displaystyle \\min_{\\beta}\\left\\{ \\sum_{i=1}^n{\\left( y_i - \\beta_0 - \\sum_{j=1}^p{\\beta_j x_{ij}} \\right)^2} \\right\\} \\quad \\textrm{subject to} \\quad \\sum_{j=1}^p{\\beta^2_j} \\leq s$$\n",
    "\n",
    "+ Lasso yields predictors equivalent to 0 because of sharp corners\n"
   ]
  },
  {
   "cell_type": "markdown",
   "metadata": {},
   "source": [
    "![ridge and lasso](images/ridge.png)"
   ]
  },
  {
   "cell_type": "markdown",
   "metadata": {},
   "source": [
    "### Which is better Lasso or Ridge\n",
    "+ In general, when there are many important predictor variables that related to the response, ridge will perform better. \n",
    "+ When there are only a few variables that relate to the response, lasso will do better.\n",
    "+ However, cross validation can be used to determine this.\n",
    "\n",
    "### Choosing $\\lambda$\n",
    "Choose $\\lambda$ through cross validation. Search an array of $\\lambda$'s through cross validation and choose the $\\lambda$ which minimizes MSE. Then build your model with that $\\lambda$ on all the data."
   ]
  },
  {
   "cell_type": "markdown",
   "metadata": {},
   "source": [
    "# Your turn!\n",
    "\n",
    "1. Now it's time to test out these approaches (ridge regression and the lasso) and evaluation methods (validation set, cross validation) on other datasets. \n",
    "2. You may want to work with a team on this portion of the lab.\n",
    "3. You may use any of the datasets from the UCI machine learning repository (http://archive.ics.uci.edu/ml/datasets.html). \n",
    "4. Download a dataset, and try to determine the optimal set of parameters to use to model it! You are free to use the same dataset you have used previously."
   ]
  },
  {
   "cell_type": "code",
   "execution_count": null,
   "metadata": {},
   "outputs": [],
   "source": []
  },
  {
   "cell_type": "code",
   "execution_count": null,
   "metadata": {},
   "outputs": [],
   "source": []
  }
 ],
 "metadata": {
  "anaconda-cloud": {},
  "kernelspec": {
   "display_name": "Python 3",
   "language": "python",
   "name": "python3"
  },
  "language_info": {
   "codemirror_mode": {
    "name": "ipython",
    "version": 3
   },
   "file_extension": ".py",
   "mimetype": "text/x-python",
   "name": "python",
   "nbconvert_exporter": "python",
   "pygments_lexer": "ipython3",
   "version": "3.13.2"
  }
 },
 "nbformat": 4,
 "nbformat_minor": 4
}

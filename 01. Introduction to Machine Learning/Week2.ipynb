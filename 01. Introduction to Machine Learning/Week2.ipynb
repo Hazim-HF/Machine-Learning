{
 "cells": [
  {
   "cell_type": "markdown",
   "metadata": {},
   "source": [
    "# Linear Regression\n",
    "Used to predict quantitative (numerical) response.\n",
    "+ Can we determine if a relationship exists between predictors and response?\n",
    "+ How strong is this relationship?\n",
    "+ Which predictors are related to response?\n",
    "+ How accurate are predictions once model is fit?\n",
    "+ Is a linear model appropriate?\n",
    "+ Are there interaction effects?\n",
    "\n",
    "## Simple Linear Regression (SLR)\n",
    "Technically this means one predictor is linearly related to the response.\n",
    "\t$$ Y = \\beta_0 +  \\beta_1 X + \\epsilon$$\n",
    "\n",
    "There are two unknown constants that we need to estimate, the intercept $\\beta_0$ and the slope, $\\beta_1$. Also called coefficients or parameters. \n",
    "\t\n",
    "Once they are estimated, the estimated fit becomes \n",
    "\t$$ \\hat{Y} = \\hat{\\beta_0} +  \\hat{\\beta_1} X$$\n",
    "\n",
    "There are various ways of estimating the coefficients. The most common approach is via the least squares technique."
   ]
  },
  {
   "cell_type": "code",
   "execution_count": 1,
   "metadata": {},
   "outputs": [],
   "source": [
    "import pandas as pd\n",
    "import numpy as np\n",
    "import matplotlib.pyplot as plt\n",
    "import seaborn as sns\n",
    "%matplotlib inline"
   ]
  },
  {
   "cell_type": "code",
   "execution_count": 6,
   "metadata": {
    "scrolled": true
   },
   "outputs": [
    {
     "data": {
      "application/vnd.microsoft.datawrangler.viewer.v0+json": {
       "columns": [
        {
         "name": "index",
         "rawType": "int64",
         "type": "integer"
        },
        {
         "name": "TV",
         "rawType": "float64",
         "type": "float"
        },
        {
         "name": "Radio",
         "rawType": "float64",
         "type": "float"
        },
        {
         "name": "Newspaper",
         "rawType": "float64",
         "type": "float"
        },
        {
         "name": "Sales",
         "rawType": "float64",
         "type": "float"
        }
       ],
       "conversionMethod": "pd.DataFrame",
       "ref": "e228308e-faf9-4d77-88b9-c1fb80e79d58",
       "rows": [
        [
         "0",
         "230.1",
         "37.8",
         "69.2",
         "22.1"
        ],
        [
         "1",
         "44.5",
         "39.3",
         "45.1",
         "10.4"
        ],
        [
         "2",
         "17.2",
         "45.9",
         "69.3",
         "9.3"
        ],
        [
         "3",
         "151.5",
         "41.3",
         "58.5",
         "18.5"
        ],
        [
         "4",
         "180.8",
         "10.8",
         "58.4",
         "12.9"
        ]
       ],
       "shape": {
        "columns": 4,
        "rows": 5
       }
      },
      "text/html": [
       "<div>\n",
       "<style scoped>\n",
       "    .dataframe tbody tr th:only-of-type {\n",
       "        vertical-align: middle;\n",
       "    }\n",
       "\n",
       "    .dataframe tbody tr th {\n",
       "        vertical-align: top;\n",
       "    }\n",
       "\n",
       "    .dataframe thead th {\n",
       "        text-align: right;\n",
       "    }\n",
       "</style>\n",
       "<table border=\"1\" class=\"dataframe\">\n",
       "  <thead>\n",
       "    <tr style=\"text-align: right;\">\n",
       "      <th></th>\n",
       "      <th>TV</th>\n",
       "      <th>Radio</th>\n",
       "      <th>Newspaper</th>\n",
       "      <th>Sales</th>\n",
       "    </tr>\n",
       "  </thead>\n",
       "  <tbody>\n",
       "    <tr>\n",
       "      <th>0</th>\n",
       "      <td>230.1</td>\n",
       "      <td>37.8</td>\n",
       "      <td>69.2</td>\n",
       "      <td>22.1</td>\n",
       "    </tr>\n",
       "    <tr>\n",
       "      <th>1</th>\n",
       "      <td>44.5</td>\n",
       "      <td>39.3</td>\n",
       "      <td>45.1</td>\n",
       "      <td>10.4</td>\n",
       "    </tr>\n",
       "    <tr>\n",
       "      <th>2</th>\n",
       "      <td>17.2</td>\n",
       "      <td>45.9</td>\n",
       "      <td>69.3</td>\n",
       "      <td>9.3</td>\n",
       "    </tr>\n",
       "    <tr>\n",
       "      <th>3</th>\n",
       "      <td>151.5</td>\n",
       "      <td>41.3</td>\n",
       "      <td>58.5</td>\n",
       "      <td>18.5</td>\n",
       "    </tr>\n",
       "    <tr>\n",
       "      <th>4</th>\n",
       "      <td>180.8</td>\n",
       "      <td>10.8</td>\n",
       "      <td>58.4</td>\n",
       "      <td>12.9</td>\n",
       "    </tr>\n",
       "  </tbody>\n",
       "</table>\n",
       "</div>"
      ],
      "text/plain": [
       "      TV  Radio  Newspaper  Sales\n",
       "0  230.1   37.8       69.2   22.1\n",
       "1   44.5   39.3       45.1   10.4\n",
       "2   17.2   45.9       69.3    9.3\n",
       "3  151.5   41.3       58.5   18.5\n",
       "4  180.8   10.8       58.4   12.9"
      ]
     },
     "execution_count": 6,
     "metadata": {},
     "output_type": "execute_result"
    }
   ],
   "source": [
    "# directory name is not case sensitive\n",
    "adv = pd.read_csv('data/advertising.csv')\n",
    "adv.head()"
   ]
  },
  {
   "cell_type": "code",
   "execution_count": null,
   "metadata": {},
   "outputs": [
    {
     "data": {
      "image/png": "[encoded data removed]",
      "text/plain": [
       "<Figure size 800x600 with 1 Axes>"
      ]
     },
     "metadata": {},
     "output_type": "display_data"
    }
   ],
   "source": [
    "# fit linear regression model using numpy\n",
    "fit = np.polyfit(adv['TV'], adv['Sales'], deg=1)\n",
    "\n",
    "# fit[0] is the slope, fit[1] is the intercept\n",
    "# y = mx + b\n",
    "y_hat = fit[1] + adv['TV'] * fit[0]\n",
    "\n",
    "plt.figure(figsize=(8, 6))\n",
    "sns.regplot(x='TV', y='Sales', data=adv)\n",
    "plt.vlines(adv['TV'], y_hat, adv['Sales'], lw = .4);"
   ]
  },
  {
   "cell_type": "code",
   "execution_count": 8,
   "metadata": {},
   "outputs": [
    {
     "name": "stdout",
     "output_type": "stream",
     "text": [
      "\u001b[31mSignature:\u001b[39m       np.polyfit(x, y, deg, rcond=\u001b[38;5;28;01mNone\u001b[39;00m, full=\u001b[38;5;28;01mFalse\u001b[39;00m, w=\u001b[38;5;28;01mNone\u001b[39;00m, cov=\u001b[38;5;28;01mFalse\u001b[39;00m)\n",
      "\u001b[31mCall signature:\u001b[39m  np.polyfit(*args, **kwargs)\n",
      "\u001b[31mType:\u001b[39m            _ArrayFunctionDispatcher\n",
      "\u001b[31mString form:\u001b[39m     <function polyfit at 0x000002B87EAC2DE0>\n",
      "\u001b[31mFile:\u001b[39m            c:\\users\\user\\appdata\\local\\programs\\python\\python313\\lib\\site-packages\\numpy\\lib\\_polynomial_impl.py\n",
      "\u001b[31mDocstring:\u001b[39m      \n",
      "Least squares polynomial fit.\n",
      "\n",
      ".. note::\n",
      "   This forms part of the old polynomial API. Since version 1.4, the\n",
      "   new polynomial API defined in `numpy.polynomial` is preferred.\n",
      "   A summary of the differences can be found in the\n",
      "   :doc:`transition guide </reference/routines.polynomials>`.\n",
      "\n",
      "Fit a polynomial ``p(x) = p[0] * x**deg + ... + p[deg]`` of degree `deg`\n",
      "to points `(x, y)`. Returns a vector of coefficients `p` that minimises\n",
      "the squared error in the order `deg`, `deg-1`, ... `0`.\n",
      "\n",
      "The `Polynomial.fit <numpy.polynomial.polynomial.Polynomial.fit>` class\n",
      "method is recommended for new code as it is more stable numerically. See\n",
      "the documentation of the method for more information.\n",
      "\n",
      "Parameters\n",
      "----------\n",
      "x : array_like, shape (M,)\n",
      "    x-coordinates of the M sample points ``(x[i], y[i])``.\n",
      "y : array_like, shape (M,) or (M, K)\n",
      "    y-coordinates of the sample points. Several data sets of sample\n",
      "    points sharing the same x-coordinates can be fitted at once by\n",
      "    passing in a 2D-array that contains one dataset per column.\n",
      "deg : int\n",
      "    Degree of the fitting polynomial\n",
      "rcond : float, optional\n",
      "    Relative condition number of the fit. Singular values smaller than\n",
      "    this relative to the largest singular value will be ignored. The\n",
      "    default value is len(x)*eps, where eps is the relative precision of\n",
      "    the float type, about 2e-16 in most cases.\n",
      "full : bool, optional\n",
      "    Switch determining nature of return value. When it is False (the\n",
      "    default) just the coefficients are returned, when True diagnostic\n",
      "    information from the singular value decomposition is also returned.\n",
      "w : array_like, shape (M,), optional\n",
      "    Weights. If not None, the weight ``w[i]`` applies to the unsquared\n",
      "    residual ``y[i] - y_hat[i]`` at ``x[i]``. Ideally the weights are\n",
      "    chosen so that the errors of the products ``w[i]*y[i]`` all have the\n",
      "    same variance.  When using inverse-variance weighting, use\n",
      "    ``w[i] = 1/sigma(y[i])``.  The default value is None.\n",
      "cov : bool or str, optional\n",
      "    If given and not `False`, return not just the estimate but also its\n",
      "    covariance matrix. By default, the covariance are scaled by\n",
      "    chi2/dof, where dof = M - (deg + 1), i.e., the weights are presumed\n",
      "    to be unreliable except in a relative sense and everything is scaled\n",
      "    such that the reduced chi2 is unity. This scaling is omitted if\n",
      "    ``cov='unscaled'``, as is relevant for the case that the weights are\n",
      "    w = 1/sigma, with sigma known to be a reliable estimate of the\n",
      "    uncertainty.\n",
      "\n",
      "Returns\n",
      "-------\n",
      "p : ndarray, shape (deg + 1,) or (deg + 1, K)\n",
      "    Polynomial coefficients, highest power first.  If `y` was 2-D, the\n",
      "    coefficients for `k`-th data set are in ``p[:,k]``.\n",
      "\n",
      "residuals, rank, singular_values, rcond\n",
      "    These values are only returned if ``full == True``\n",
      "\n",
      "    - residuals -- sum of squared residuals of the least squares fit\n",
      "    - rank -- the effective rank of the scaled Vandermonde\n",
      "       coefficient matrix\n",
      "    - singular_values -- singular values of the scaled Vandermonde\n",
      "       coefficient matrix\n",
      "    - rcond -- value of `rcond`.\n",
      "\n",
      "    For more details, see `numpy.linalg.lstsq`.\n",
      "\n",
      "V : ndarray, shape (deg + 1, deg + 1) or (deg + 1, deg + 1, K)\n",
      "    Present only if ``full == False`` and ``cov == True``.  The covariance\n",
      "    matrix of the polynomial coefficient estimates.  The diagonal of\n",
      "    this matrix are the variance estimates for each coefficient.  If y\n",
      "    is a 2-D array, then the covariance matrix for the `k`-th data set\n",
      "    are in ``V[:,:,k]``\n",
      "\n",
      "\n",
      "Warns\n",
      "-----\n",
      "RankWarning\n",
      "    The rank of the coefficient matrix in the least-squares fit is\n",
      "    deficient. The warning is only raised if ``full == False``.\n",
      "\n",
      "    The warnings can be turned off by\n",
      "\n",
      "    >>> import warnings\n",
      "    >>> warnings.simplefilter('ignore', np.exceptions.RankWarning)\n",
      "\n",
      "See Also\n",
      "--------\n",
      "polyval : Compute polynomial values.\n",
      "linalg.lstsq : Computes a least-squares fit.\n",
      "scipy.interpolate.UnivariateSpline : Computes spline fits.\n",
      "\n",
      "Notes\n",
      "-----\n",
      "The solution minimizes the squared error\n",
      "\n",
      ".. math::\n",
      "    E = \\sum_{j=0}^k |p(x_j) - y_j|^2\n",
      "\n",
      "in the equations::\n",
      "\n",
      "    x[0]**n * p[0] + ... + x[0] * p[n-1] + p[n] = y[0]\n",
      "    x[1]**n * p[0] + ... + x[1] * p[n-1] + p[n] = y[1]\n",
      "    ...\n",
      "    x[k]**n * p[0] + ... + x[k] * p[n-1] + p[n] = y[k]\n",
      "\n",
      "The coefficient matrix of the coefficients `p` is a Vandermonde matrix.\n",
      "\n",
      "`polyfit` issues a `~exceptions.RankWarning` when the least-squares fit is\n",
      "badly conditioned. This implies that the best fit is not well-defined due\n",
      "to numerical error. The results may be improved by lowering the polynomial\n",
      "degree or by replacing `x` by `x` - `x`.mean(). The `rcond` parameter\n",
      "can also be set to a value smaller than its default, but the resulting\n",
      "fit may be spurious: including contributions from the small singular\n",
      "values can add numerical noise to the result.\n",
      "\n",
      "Note that fitting polynomial coefficients is inherently badly conditioned\n",
      "when the degree of the polynomial is large or the interval of sample points\n",
      "is badly centered. The quality of the fit should always be checked in these\n",
      "cases. When polynomial fits are not satisfactory, splines may be a good\n",
      "alternative.\n",
      "\n",
      "References\n",
      "----------\n",
      ".. [1] Wikipedia, \"Curve fitting\",\n",
      "       https://en.wikipedia.org/wiki/Curve_fitting\n",
      ".. [2] Wikipedia, \"Polynomial interpolation\",\n",
      "       https://en.wikipedia.org/wiki/Polynomial_interpolation\n",
      "\n",
      "Examples\n",
      "--------\n",
      ">>> import numpy as np\n",
      ">>> import warnings\n",
      ">>> x = np.array([0.0, 1.0, 2.0, 3.0,  4.0,  5.0])\n",
      ">>> y = np.array([0.0, 0.8, 0.9, 0.1, -0.8, -1.0])\n",
      ">>> z = np.polyfit(x, y, 3)\n",
      ">>> z\n",
      "array([ 0.08703704, -0.81349206,  1.69312169, -0.03968254]) # may vary\n",
      "\n",
      "It is convenient to use `poly1d` objects for dealing with polynomials:\n",
      "\n",
      ">>> p = np.poly1d(z)\n",
      ">>> p(0.5)\n",
      "0.6143849206349179 # may vary\n",
      ">>> p(3.5)\n",
      "-0.34732142857143039 # may vary\n",
      ">>> p(10)\n",
      "22.579365079365115 # may vary\n",
      "\n",
      "High-order polynomials may oscillate wildly:\n",
      "\n",
      ">>> with warnings.catch_warnings():\n",
      "...     warnings.simplefilter('ignore', np.exceptions.RankWarning)\n",
      "...     p30 = np.poly1d(np.polyfit(x, y, 30))\n",
      "...\n",
      ">>> p30(4)\n",
      "-0.80000000000000204 # may vary\n",
      ">>> p30(5)\n",
      "-0.99999999999999445 # may vary\n",
      ">>> p30(4.5)\n",
      "-0.10547061179440398 # may vary\n",
      "\n",
      "Illustration:\n",
      "\n",
      ">>> import matplotlib.pyplot as plt\n",
      ">>> xp = np.linspace(-2, 6, 100)\n",
      ">>> _ = plt.plot(x, y, '.', xp, p(xp), '-', xp, p30(xp), '--')\n",
      ">>> plt.ylim(-2,2)\n",
      "(-2, 2)\n",
      ">>> plt.show()\n",
      "\u001b[31mClass docstring:\u001b[39m\n",
      "Class to wrap functions with checks for __array_function__ overrides.\n",
      "\n",
      "All arguments are required, and can only be passed by position.\n",
      "\n",
      "Parameters\n",
      "----------\n",
      "dispatcher : function or None\n",
      "    The dispatcher function that returns a single sequence-like object\n",
      "    of all arguments relevant.  It must have the same signature (except\n",
      "    the default values) as the actual implementation.\n",
      "    If ``None``, this is a ``like=`` dispatcher and the\n",
      "    ``_ArrayFunctionDispatcher`` must be called with ``like`` as the\n",
      "    first (additional and positional) argument.\n",
      "implementation : function\n",
      "    Function that implements the operation on NumPy arrays without\n",
      "    overrides.  Arguments passed calling the ``_ArrayFunctionDispatcher``\n",
      "    will be forwarded to this (and the ``dispatcher``) as if using\n",
      "    ``*args, **kwargs``.\n",
      "\n",
      "Attributes\n",
      "----------\n",
      "_implementation : function\n",
      "    The original implementation passed in."
     ]
    }
   ],
   "source": [
    "np.polyfit?"
   ]
  },
  {
   "cell_type": "code",
   "execution_count": 9,
   "metadata": {},
   "outputs": [
    {
     "data": {
      "text/plain": [
       "array([0.04753664, 7.03259355])"
      ]
     },
     "execution_count": 9,
     "metadata": {},
     "output_type": "execute_result"
    }
   ],
   "source": [
    "fit"
   ]
  },
  {
   "cell_type": "markdown",
   "metadata": {},
   "source": [
    "### Assessing the Accuracy of the Coefficient Estimates\n",
    "The theoretical best linear relationship can be defined as: \n",
    "\t$$Y = \\beta_0 + \\beta_1 X + \\epsilon$$\n",
    "\n",
    "This **population regression line** will never be known in practice and remain unobserved unless it came from simulated data.\n",
    "\n",
    "**Unbiased** - An estimator that doesn't systematically over or underestimate the value of the parameter it is estimating\t\n",
    "\n",
    "**How much will the linear regression line expect to vary from sample to sample?**\n",
    "\n",
    "In the case of estimating a sample mean $\\hat{\\mu}$ from a number of points $n$, we get that the $Var(\\hat{\\mu}) = \\frac{\\sigma^2}{n}$ where $\\sigma$ is the standard distribution of the original set of $n$ points. \n",
    "\n",
    "The square root of this value is called the **standard error** and gives us a rough idea of how much the estimator will change from sample to sample.\n",
    "The standard errors of $\\beta_0$ and $\\beta_1$ are\n",
    "\t$$\tSE(\\hat{\\beta}_0)^2 = \\sigma^2 \\left[\\frac{1}{n} + \\frac{\\bar{x}^2}{\\sum_{i=1}^n{\\left(x_i - \\bar{x} \\right)^2}} \\right] $$\n",
    "\t$$\tSE(\\hat{\\beta}_1)^2 = \\frac{\\sigma^2}{\\sum_{i=1}^n{\\left(x_i - \\bar{x} \\right)^2}} $$\n",
    "    \n",
    "Knowing how to derive our standard error and assuming the errors are Gaussian we can generate a **confidence interval** based on a $t$-distribution. \n",
    "For instance, approximately 95\\% of all samples will be contained in the following interval: $$\\beta_1 \\pm 1.96 \\cdot SE(\\beta_1)$$\n",
    "\n",
    "If the standard error is large and the estimated value small then the estimator might not be significantly different than 0, meaning it statistically is insignificant. To test significance a hypothesis test can be done on any of the predictors. The hypothesis test is usually done to test whether the predictor is different than 0. \n",
    "\n",
    "The null hypothesis \n",
    "\t$$H_0: \\beta_1 = 0 $$\n",
    "is tested against the alternative\n",
    "$$H_a: \\beta_1 \\ne 0 $$\n",
    "\n",
    "To test this we find out how many standard errors our parameter is away from 0. \n",
    "\t$$t = \\frac{\\hat{\\beta_1}}{SE(\\hat{\\beta_1})}$$\n",
    "\n",
    "The $t$-distribution is then used to determine the percentage of time that a random value would fall beyond this t-statistic. This percentage is called the **$p$-value** and used as a measure of how extreme the results of your data are. \n",
    "The smaller the $p$-value the more extreme the results and the more likely they did not come from randomness.\n",
    "\n",
    "### Using the statsmodels api\n",
    "The excellent [statsmodels library](http://statsmodels.sourceforge.net/) integrates neatly with the pandas DataFrame to do statistical analysis. Some simple "
   ]
  },
  {
   "cell_type": "code",
   "execution_count": 11,
   "metadata": {},
   "outputs": [],
   "source": [
    "import statsmodels.formula.api as smf"
   ]
  },
  {
   "cell_type": "code",
   "execution_count": 12,
   "metadata": {},
   "outputs": [],
   "source": [
    "results1 = smf.ols('Sales ~ TV', data=adv).fit()"
   ]
  },
  {
   "cell_type": "code",
   "execution_count": 13,
   "metadata": {},
   "outputs": [
    {
     "data": {
      "text/html": [
       "<table class=\"simpletable\">\n",
       "<caption>OLS Regression Results</caption>\n",
       "<tr>\n",
       "  <th>Dep. Variable:</th>          <td>Sales</td>      <th>  R-squared:         </th> <td>   0.612</td>\n",
       "</tr>\n",
       "<tr>\n",
       "  <th>Model:</th>                   <td>OLS</td>       <th>  Adj. R-squared:    </th> <td>   0.610</td>\n",
       "</tr>\n",
       "<tr>\n",
       "  <th>Method:</th>             <td>Least Squares</td>  <th>  F-statistic:       </th> <td>   312.1</td>\n",
       "</tr>\n",
       "<tr>\n",
       "  <th>Date:</th>             <td>Sat, 29 Mar 2025</td> <th>  Prob (F-statistic):</th> <td>1.47e-42</td>\n",
       "</tr>\n",
       "<tr>\n",
       "  <th>Time:</th>                 <td>12:03:55</td>     <th>  Log-Likelihood:    </th> <td> -519.05</td>\n",
       "</tr>\n",
       "<tr>\n",
       "  <th>No. Observations:</th>      <td>   200</td>      <th>  AIC:               </th> <td>   1042.</td>\n",
       "</tr>\n",
       "<tr>\n",
       "  <th>Df Residuals:</th>          <td>   198</td>      <th>  BIC:               </th> <td>   1049.</td>\n",
       "</tr>\n",
       "<tr>\n",
       "  <th>Df Model:</th>              <td>     1</td>      <th>                     </th>     <td> </td>   \n",
       "</tr>\n",
       "<tr>\n",
       "  <th>Covariance Type:</th>      <td>nonrobust</td>    <th>                     </th>     <td> </td>   \n",
       "</tr>\n",
       "</table>\n",
       "<table class=\"simpletable\">\n",
       "<tr>\n",
       "      <td></td>         <th>coef</th>     <th>std err</th>      <th>t</th>      <th>P>|t|</th>  <th>[0.025</th>    <th>0.975]</th>  \n",
       "</tr>\n",
       "<tr>\n",
       "  <th>Intercept</th> <td>    7.0326</td> <td>    0.458</td> <td>   15.360</td> <td> 0.000</td> <td>    6.130</td> <td>    7.935</td>\n",
       "</tr>\n",
       "<tr>\n",
       "  <th>TV</th>        <td>    0.0475</td> <td>    0.003</td> <td>   17.668</td> <td> 0.000</td> <td>    0.042</td> <td>    0.053</td>\n",
       "</tr>\n",
       "</table>\n",
       "<table class=\"simpletable\">\n",
       "<tr>\n",
       "  <th>Omnibus:</th>       <td> 0.531</td> <th>  Durbin-Watson:     </th> <td>   1.935</td>\n",
       "</tr>\n",
       "<tr>\n",
       "  <th>Prob(Omnibus):</th> <td> 0.767</td> <th>  Jarque-Bera (JB):  </th> <td>   0.669</td>\n",
       "</tr>\n",
       "<tr>\n",
       "  <th>Skew:</th>          <td>-0.089</td> <th>  Prob(JB):          </th> <td>   0.716</td>\n",
       "</tr>\n",
       "<tr>\n",
       "  <th>Kurtosis:</th>      <td> 2.779</td> <th>  Cond. No.          </th> <td>    338.</td>\n",
       "</tr>\n",
       "</table><br/><br/>Notes:<br/>[1] Standard Errors assume that the covariance matrix of the errors is correctly specified."
      ],
      "text/latex": [
       "\\begin{center}\n",
       "\\begin{tabular}{lclc}\n",
       "\\toprule\n",
       "\\textbf{Dep. Variable:}    &      Sales       & \\textbf{  R-squared:         } &     0.612   \\\\\n",
       "\\textbf{Model:}            &       OLS        & \\textbf{  Adj. R-squared:    } &     0.610   \\\\\n",
       "\\textbf{Method:}           &  Least Squares   & \\textbf{  F-statistic:       } &     312.1   \\\\\n",
       "\\textbf{Date:}             & Sat, 29 Mar 2025 & \\textbf{  Prob (F-statistic):} &  1.47e-42   \\\\\n",
       "\\textbf{Time:}             &     12:03:55     & \\textbf{  Log-Likelihood:    } &   -519.05   \\\\\n",
       "\\textbf{No. Observations:} &         200      & \\textbf{  AIC:               } &     1042.   \\\\\n",
       "\\textbf{Df Residuals:}     &         198      & \\textbf{  BIC:               } &     1049.   \\\\\n",
       "\\textbf{Df Model:}         &           1      & \\textbf{                     } &             \\\\\n",
       "\\textbf{Covariance Type:}  &    nonrobust     & \\textbf{                     } &             \\\\\n",
       "\\bottomrule\n",
       "\\end{tabular}\n",
       "\\begin{tabular}{lcccccc}\n",
       "                   & \\textbf{coef} & \\textbf{std err} & \\textbf{t} & \\textbf{P$> |$t$|$} & \\textbf{[0.025} & \\textbf{0.975]}  \\\\\n",
       "\\midrule\n",
       "\\textbf{Intercept} &       7.0326  &        0.458     &    15.360  &         0.000        &        6.130    &        7.935     \\\\\n",
       "\\textbf{TV}        &       0.0475  &        0.003     &    17.668  &         0.000        &        0.042    &        0.053     \\\\\n",
       "\\bottomrule\n",
       "\\end{tabular}\n",
       "\\begin{tabular}{lclc}\n",
       "\\textbf{Omnibus:}       &  0.531 & \\textbf{  Durbin-Watson:     } &    1.935  \\\\\n",
       "\\textbf{Prob(Omnibus):} &  0.767 & \\textbf{  Jarque-Bera (JB):  } &    0.669  \\\\\n",
       "\\textbf{Skew:}          & -0.089 & \\textbf{  Prob(JB):          } &    0.716  \\\\\n",
       "\\textbf{Kurtosis:}      &  2.779 & \\textbf{  Cond. No.          } &     338.  \\\\\n",
       "\\bottomrule\n",
       "\\end{tabular}\n",
       "%\\caption{OLS Regression Results}\n",
       "\\end{center}\n",
       "\n",
       "Notes: \\newline\n",
       " [1] Standard Errors assume that the covariance matrix of the errors is correctly specified."
      ],
      "text/plain": [
       "<class 'statsmodels.iolib.summary.Summary'>\n",
       "\"\"\"\n",
       "                            OLS Regression Results                            \n",
       "==============================================================================\n",
       "Dep. Variable:                  Sales   R-squared:                       0.612\n",
       "Model:                            OLS   Adj. R-squared:                  0.610\n",
       "Method:                 Least Squares   F-statistic:                     312.1\n",
       "Date:                Sat, 29 Mar 2025   Prob (F-statistic):           1.47e-42\n",
       "Time:                        12:03:55   Log-Likelihood:                -519.05\n",
       "No. Observations:                 200   AIC:                             1042.\n",
       "Df Residuals:                     198   BIC:                             1049.\n",
       "Df Model:                           1                                         \n",
       "Covariance Type:            nonrobust                                         \n",
       "==============================================================================\n",
       "                 coef    std err          t      P>|t|      [0.025      0.975]\n",
       "------------------------------------------------------------------------------\n",
       "Intercept      7.0326      0.458     15.360      0.000       6.130       7.935\n",
       "TV             0.0475      0.003     17.668      0.000       0.042       0.053\n",
       "==============================================================================\n",
       "Omnibus:                        0.531   Durbin-Watson:                   1.935\n",
       "Prob(Omnibus):                  0.767   Jarque-Bera (JB):                0.669\n",
       "Skew:                          -0.089   Prob(JB):                        0.716\n",
       "Kurtosis:                       2.779   Cond. No.                         338.\n",
       "==============================================================================\n",
       "\n",
       "Notes:\n",
       "[1] Standard Errors assume that the covariance matrix of the errors is correctly specified.\n",
       "\"\"\""
      ]
     },
     "execution_count": 13,
     "metadata": {},
     "output_type": "execute_result"
    }
   ],
   "source": [
    "results1.summary()"
   ]
  },
  {
   "cell_type": "code",
   "execution_count": 15,
   "metadata": {},
   "outputs": [
    {
     "data": {
      "text/html": [
       "<table class=\"simpletable\">\n",
       "<caption>OLS Regression Results</caption>\n",
       "<tr>\n",
       "  <th>Dep. Variable:</th>          <td>Sales</td>      <th>  R-squared:         </th> <td>   0.052</td>\n",
       "</tr>\n",
       "<tr>\n",
       "  <th>Model:</th>                   <td>OLS</td>       <th>  Adj. R-squared:    </th> <td>   0.047</td>\n",
       "</tr>\n",
       "<tr>\n",
       "  <th>Method:</th>             <td>Least Squares</td>  <th>  F-statistic:       </th> <td>   10.89</td>\n",
       "</tr>\n",
       "<tr>\n",
       "  <th>Date:</th>             <td>Sat, 29 Mar 2025</td> <th>  Prob (F-statistic):</th>  <td>0.00115</td>\n",
       "</tr>\n",
       "<tr>\n",
       "  <th>Time:</th>                 <td>12:17:56</td>     <th>  Log-Likelihood:    </th> <td> -608.34</td>\n",
       "</tr>\n",
       "<tr>\n",
       "  <th>No. Observations:</th>      <td>   200</td>      <th>  AIC:               </th> <td>   1221.</td>\n",
       "</tr>\n",
       "<tr>\n",
       "  <th>Df Residuals:</th>          <td>   198</td>      <th>  BIC:               </th> <td>   1227.</td>\n",
       "</tr>\n",
       "<tr>\n",
       "  <th>Df Model:</th>              <td>     1</td>      <th>                     </th>     <td> </td>   \n",
       "</tr>\n",
       "<tr>\n",
       "  <th>Covariance Type:</th>      <td>nonrobust</td>    <th>                     </th>     <td> </td>   \n",
       "</tr>\n",
       "</table>\n",
       "<table class=\"simpletable\">\n",
       "<tr>\n",
       "      <td></td>         <th>coef</th>     <th>std err</th>      <th>t</th>      <th>P>|t|</th>  <th>[0.025</th>    <th>0.975]</th>  \n",
       "</tr>\n",
       "<tr>\n",
       "  <th>Intercept</th> <td>   12.3514</td> <td>    0.621</td> <td>   19.876</td> <td> 0.000</td> <td>   11.126</td> <td>   13.577</td>\n",
       "</tr>\n",
       "<tr>\n",
       "  <th>Newspaper</th> <td>    0.0547</td> <td>    0.017</td> <td>    3.300</td> <td> 0.001</td> <td>    0.022</td> <td>    0.087</td>\n",
       "</tr>\n",
       "</table>\n",
       "<table class=\"simpletable\">\n",
       "<tr>\n",
       "  <th>Omnibus:</th>       <td> 6.231</td> <th>  Durbin-Watson:     </th> <td>   1.983</td>\n",
       "</tr>\n",
       "<tr>\n",
       "  <th>Prob(Omnibus):</th> <td> 0.044</td> <th>  Jarque-Bera (JB):  </th> <td>   5.483</td>\n",
       "</tr>\n",
       "<tr>\n",
       "  <th>Skew:</th>          <td> 0.330</td> <th>  Prob(JB):          </th> <td>  0.0645</td>\n",
       "</tr>\n",
       "<tr>\n",
       "  <th>Kurtosis:</th>      <td> 2.527</td> <th>  Cond. No.          </th> <td>    64.7</td>\n",
       "</tr>\n",
       "</table><br/><br/>Notes:<br/>[1] Standard Errors assume that the covariance matrix of the errors is correctly specified."
      ],
      "text/latex": [
       "\\begin{center}\n",
       "\\begin{tabular}{lclc}\n",
       "\\toprule\n",
       "\\textbf{Dep. Variable:}    &      Sales       & \\textbf{  R-squared:         } &     0.052   \\\\\n",
       "\\textbf{Model:}            &       OLS        & \\textbf{  Adj. R-squared:    } &     0.047   \\\\\n",
       "\\textbf{Method:}           &  Least Squares   & \\textbf{  F-statistic:       } &     10.89   \\\\\n",
       "\\textbf{Date:}             & Sat, 29 Mar 2025 & \\textbf{  Prob (F-statistic):} &  0.00115    \\\\\n",
       "\\textbf{Time:}             &     12:17:56     & \\textbf{  Log-Likelihood:    } &   -608.34   \\\\\n",
       "\\textbf{No. Observations:} &         200      & \\textbf{  AIC:               } &     1221.   \\\\\n",
       "\\textbf{Df Residuals:}     &         198      & \\textbf{  BIC:               } &     1227.   \\\\\n",
       "\\textbf{Df Model:}         &           1      & \\textbf{                     } &             \\\\\n",
       "\\textbf{Covariance Type:}  &    nonrobust     & \\textbf{                     } &             \\\\\n",
       "\\bottomrule\n",
       "\\end{tabular}\n",
       "\\begin{tabular}{lcccccc}\n",
       "                   & \\textbf{coef} & \\textbf{std err} & \\textbf{t} & \\textbf{P$> |$t$|$} & \\textbf{[0.025} & \\textbf{0.975]}  \\\\\n",
       "\\midrule\n",
       "\\textbf{Intercept} &      12.3514  &        0.621     &    19.876  &         0.000        &       11.126    &       13.577     \\\\\n",
       "\\textbf{Newspaper} &       0.0547  &        0.017     &     3.300  &         0.001        &        0.022    &        0.087     \\\\\n",
       "\\bottomrule\n",
       "\\end{tabular}\n",
       "\\begin{tabular}{lclc}\n",
       "\\textbf{Omnibus:}       &  6.231 & \\textbf{  Durbin-Watson:     } &    1.983  \\\\\n",
       "\\textbf{Prob(Omnibus):} &  0.044 & \\textbf{  Jarque-Bera (JB):  } &    5.483  \\\\\n",
       "\\textbf{Skew:}          &  0.330 & \\textbf{  Prob(JB):          } &   0.0645  \\\\\n",
       "\\textbf{Kurtosis:}      &  2.527 & \\textbf{  Cond. No.          } &     64.7  \\\\\n",
       "\\bottomrule\n",
       "\\end{tabular}\n",
       "%\\caption{OLS Regression Results}\n",
       "\\end{center}\n",
       "\n",
       "Notes: \\newline\n",
       " [1] Standard Errors assume that the covariance matrix of the errors is correctly specified."
      ],
      "text/plain": [
       "<class 'statsmodels.iolib.summary.Summary'>\n",
       "\"\"\"\n",
       "                            OLS Regression Results                            \n",
       "==============================================================================\n",
       "Dep. Variable:                  Sales   R-squared:                       0.052\n",
       "Model:                            OLS   Adj. R-squared:                  0.047\n",
       "Method:                 Least Squares   F-statistic:                     10.89\n",
       "Date:                Sat, 29 Mar 2025   Prob (F-statistic):            0.00115\n",
       "Time:                        12:17:56   Log-Likelihood:                -608.34\n",
       "No. Observations:                 200   AIC:                             1221.\n",
       "Df Residuals:                     198   BIC:                             1227.\n",
       "Df Model:                           1                                         \n",
       "Covariance Type:            nonrobust                                         \n",
       "==============================================================================\n",
       "                 coef    std err          t      P>|t|      [0.025      0.975]\n",
       "------------------------------------------------------------------------------\n",
       "Intercept     12.3514      0.621     19.876      0.000      11.126      13.577\n",
       "Newspaper      0.0547      0.017      3.300      0.001       0.022       0.087\n",
       "==============================================================================\n",
       "Omnibus:                        6.231   Durbin-Watson:                   1.983\n",
       "Prob(Omnibus):                  0.044   Jarque-Bera (JB):                5.483\n",
       "Skew:                           0.330   Prob(JB):                       0.0645\n",
       "Kurtosis:                       2.527   Cond. No.                         64.7\n",
       "==============================================================================\n",
       "\n",
       "Notes:\n",
       "[1] Standard Errors assume that the covariance matrix of the errors is correctly specified.\n",
       "\"\"\""
      ]
     },
     "execution_count": 15,
     "metadata": {},
     "output_type": "execute_result"
    }
   ],
   "source": [
    "# Simple linear regression with newspaper\n",
    "results2 = smf.ols('Sales ~ Newspaper', data=adv).fit()\n",
    "results2.summary()"
   ]
  },
  {
   "cell_type": "code",
   "execution_count": null,
   "metadata": {},
   "outputs": [],
   "source": [
    "results3 = smf.ols('Sales ~ Radio', data=adv).fit()\n",
    "results3.summary()"
   ]
  },
  {
   "cell_type": "markdown",
   "metadata": {},
   "source": [
    "# Multiple Regression\n",
    "Instead of running a simple linear model for each predictor, a model can be built that incorporates all of the predictors. \n",
    "\n",
    "The MLR model is\n",
    "$$Y = \\beta_0 + \\beta_1 X_1 + \\beta_2 X_2 + \\ldots + \\beta_p X_p + \\epsilon$$\n",
    "\n",
    "A few important questions in MLR:\n",
    "1. Is at least one of the predictors $X_1,X_2, \\ldots, X_p$ useful in predicting the response?\n",
    "2. Do all the predictors help to explain $Y$, or is only a subset of the predictors useful?\n",
    "3. How well does the model fit the data? **Use R$^2$ or RSE**\n",
    "\n",
    "4. Given a set of predictor values, what response value should we predict, and how accurate is our prediction? **Fit into the model. Use PI**"
   ]
  },
  {
   "cell_type": "markdown",
   "metadata": {},
   "source": [
    "### A1: Test the hypothesis \n",
    "$$H_0 : \\beta_0 = \\beta_1 = \\beta_2 = \\cdots = \\beta_p =0$$\n",
    "vs\n",
    "\n",
    "$$H_a : \\textrm{at least one } \\beta_j \\neq 0$$\n",
    "\n",
    "An F test is performed to test for significance.\n",
    "$$ F = \\frac{(SST - SSE)/p}{SSE / (n - p - 1)}$$ \n",
    "\n",
    "or just use the P-value\n"
   ]
  },
  {
   "cell_type": "code",
   "execution_count": null,
   "metadata": {
    "scrolled": true
   },
   "outputs": [],
   "source": [
    "results = smf.ols('Sales ~ TV + Newspaper + Radio', data=adv).fit()\n",
    "results.summary()"
   ]
  },
  {
   "cell_type": "code",
   "execution_count": null,
   "metadata": {},
   "outputs": [],
   "source": [
    "# Newspaper is least highly correlated with Sales\n",
    "# Its relatively high correlation to Radio could be the reason it was significant on its own and not\n",
    "# when Radio was also in the model\n",
    "adv.corr()"
   ]
  },
  {
   "cell_type": "code",
   "execution_count": null,
   "metadata": {},
   "outputs": [],
   "source": [
    "results = smf.ols('Sales ~ TV + Radio', data=adv).fit()\n",
    "results.summary()"
   ]
  },
  {
   "cell_type": "markdown",
   "metadata": {},
   "source": [
    "### A2: Selecting a subset of a model\n",
    "In the above model, Newspaper does not appear to have a relationship with sales and hence would be a good candidate to drop from our model. But if the number of predictors were more, it might be troubling to manually fit many models and hand-select which variables to include in the model. Forward, backward and mixed selection processes can be used to find a better model. All of these selection models make their variable selection based on some statistic - AIC, BIC, Mallows CP, Adjusted R-squared\n",
    "\n",
    "* Forward - starts with an empty model and adds one variable at a time until the statistic is maximized\n",
    "* Backward - starts with a full model and removes one variable at a time\n",
    "* Mixed - starts empty and either removes or adds a variable at each step"
   ]
  },
  {
   "cell_type": "markdown",
   "metadata": {},
   "source": [
    "# Categorical predictor variables\n",
    "Variables that are non-numeric or are numerical but represent categories are called categorical variables. Also called qualitative or factor variables. \n"
   ]
  },
  {
   "cell_type": "code",
   "execution_count": null,
   "metadata": {},
   "outputs": [],
   "source": [
    "credit = pd.read_csv('data/Credit.csv')\n",
    "credit"
   ]
  },
  {
   "cell_type": "code",
   "execution_count": null,
   "metadata": {},
   "outputs": [],
   "source": [
    "credit['Female'] = (credit.Gender == 'Female').astype(int)"
   ]
  },
  {
   "cell_type": "code",
   "execution_count": null,
   "metadata": {},
   "outputs": [],
   "source": [
    "credit.head()"
   ]
  },
  {
   "cell_type": "code",
   "execution_count": null,
   "metadata": {},
   "outputs": [],
   "source": [
    "results = smf.ols('Balance ~ Female', data=credit).fit()\n",
    "results.summary()"
   ]
  },
  {
   "cell_type": "code",
   "execution_count": null,
   "metadata": {},
   "outputs": [],
   "source": [
    "# same thing\n",
    "credit[credit['Female'] == 0]['Balance'].mean(), credit[credit['Female'] == 1]['Balance'].mean()"
   ]
  },
  {
   "cell_type": "code",
   "execution_count": null,
   "metadata": {},
   "outputs": [],
   "source": [
    "results = smf.ols('Balance ~ Female + Age + Income', data=credit).fit()\n",
    "results.summary()"
   ]
  },
  {
   "cell_type": "markdown",
   "metadata": {},
   "source": [
    "# The broken assumptions of a linear model\n",
    "There are several assumptions that are used when fitting a linear model. \n",
    "* The errors are normally distributed and have constant variance\n",
    "* The errors are not correlated with one another\n",
    "* The predictor variables are independent. An increase in one won't result in an increase in another\n",
    "* The change in response for a one unit increase in X is the same no matter what the value of X\n",
    "\n",
    "# Challenging the linearity constraint through interaction effects\n",
    "In a linear regression with no interaction effects (no two predictors are multiplied together) and the assumption is that an increase in one unit in one variable will not have any effect on another variable. In many real world problems an increase in one variable might change the impact that another variable has on the response. To capture this in multiple regression, we multiply the predictors together."
   ]
  },
  {
   "cell_type": "markdown",
   "metadata": {},
   "source": [
    "$Y = \\beta_0 + \\beta_1 X_1 + \\beta_2 X_2 + \\beta_3 X_1 X_2$"
   ]
  },
  {
   "cell_type": "code",
   "execution_count": null,
   "metadata": {},
   "outputs": [],
   "source": [
    "# interaction model\n",
    "results = smf.ols('Sales ~ TV + Radio + TV * Radio', data=adv).fit()\n",
    "results.summary()"
   ]
  },
  {
   "cell_type": "markdown",
   "metadata": {},
   "source": [
    "# Polynomial Regression is Still Linear\n",
    "Despite the fact that the regression line can be visibly non-linear the squaring predictor variables still means we are doing linear regression. The requirements for a regression to be 'linear' is to have it linear in the parameters. Heres a good link discussing the difference between linear and non-linear regression. http://blog.minitab.com/blog/adventures-in-statistics/what-is-the-difference-between-linear-and-nonlinear-equations-in-regression-analysis"
   ]
  },
  {
   "cell_type": "code",
   "execution_count": null,
   "metadata": {},
   "outputs": [],
   "source": [
    "# Nonlinearity of data\n",
    "resid = adv['Sales'] - results.predict(adv)"
   ]
  },
  {
   "cell_type": "code",
   "execution_count": null,
   "metadata": {},
   "outputs": [],
   "source": [
    "# Looks like a non-random shape. data appears slightly non-linear though not too bad\n",
    "plt.figure(figsize=(12,10))\n",
    "plt.scatter(results.predict(adv), resid)\n",
    "plt.ylim(-2, 2);"
   ]
  },
  {
   "cell_type": "markdown",
   "metadata": {},
   "source": [
    "# Lab\n",
    "In the book, the lab focuses on performing a linear regression on the Boston dataset. We will do so using seaborn, statsmodels and scikit learn"
   ]
  },
  {
   "cell_type": "code",
   "execution_count": null,
   "metadata": {},
   "outputs": [],
   "source": [
    "boston = pd.read_csv('data/boston.csv')\n",
    "boston.head(10)"
   ]
  },
  {
   "cell_type": "code",
   "execution_count": null,
   "metadata": {},
   "outputs": [],
   "source": [
    "sns.regplot(x='lstat', y='medv', data=boston);"
   ]
  },
  {
   "cell_type": "code",
   "execution_count": null,
   "metadata": {},
   "outputs": [],
   "source": [
    "# statsmodels\n",
    "results = smf.ols('medv ~ lstat', data=boston).fit()\n",
    "results.summary()"
   ]
  },
  {
   "cell_type": "code",
   "execution_count": null,
   "metadata": {},
   "outputs": [],
   "source": [
    "# look at residuals\n",
    "# Yikes. lots of nonlinearity. Need a different model\n",
    "plt.scatter(results.fittedvalues, results.resid);"
   ]
  },
  {
   "cell_type": "code",
   "execution_count": null,
   "metadata": {},
   "outputs": [],
   "source": [
    "# Get all columns. No easy way to do this like in R\n",
    "# Mostly highly significant variables\n",
    "string_cols = ' + '.join(boston.columns[:-1])\n",
    "results = smf.ols('medv ~ {}'.format(string_cols), data=boston).fit()\n",
    "results.summary()"
   ]
  },
  {
   "cell_type": "code",
   "execution_count": null,
   "metadata": {},
   "outputs": [],
   "source": [
    "# remove age\n",
    "string_cols = ' + '.join(boston.columns[:-1].difference(['age']))\n",
    "results = smf.ols('medv ~ {}'.format(string_cols), data=boston).fit()\n",
    "results.summary()"
   ]
  },
  {
   "cell_type": "code",
   "execution_count": null,
   "metadata": {},
   "outputs": [],
   "source": [
    "# Interaction\n",
    "results = smf.ols('medv ~ lstat * age', data=boston).fit()\n",
    "results.summary()"
   ]
  },
  {
   "cell_type": "code",
   "execution_count": null,
   "metadata": {},
   "outputs": [],
   "source": [
    "# Interaction\n",
    "results = smf.ols('medv ~ lstat + np.power(lstat, 2)', data=boston).fit()\n",
    "results.summary()"
   ]
  },
  {
   "cell_type": "code",
   "execution_count": null,
   "metadata": {},
   "outputs": [],
   "source": [
    "from statsmodels.stats.anova import anova_lm"
   ]
  },
  {
   "cell_type": "code",
   "execution_count": null,
   "metadata": {},
   "outputs": [],
   "source": [
    "results1 = smf.ols('medv ~ lstat', data=boston).fit()\n",
    "results2 = smf.ols('medv ~ lstat + np.power(lstat, 2)', data=boston).fit()\n",
    "\n",
    "anova_lm(results1, results2)"
   ]
  },
  {
   "cell_type": "code",
   "execution_count": null,
   "metadata": {},
   "outputs": [],
   "source": [
    "anova_lm?"
   ]
  },
  {
   "cell_type": "code",
   "execution_count": null,
   "metadata": {},
   "outputs": [],
   "source": [
    "# Manually compute F\n",
    "(results1.ssr - results2.ssr) / (results2.ssr / results2.df_resid)"
   ]
  },
  {
   "cell_type": "code",
   "execution_count": null,
   "metadata": {},
   "outputs": [],
   "source": [
    "anova_lm(results1)"
   ]
  },
  {
   "cell_type": "code",
   "execution_count": null,
   "metadata": {},
   "outputs": [],
   "source": [
    "results1.summary()"
   ]
  },
  {
   "cell_type": "code",
   "execution_count": null,
   "metadata": {},
   "outputs": [],
   "source": [
    "carseats = pd.read_csv('data/carseats.csv')\n",
    "carseats.head()"
   ]
  },
  {
   "cell_type": "code",
   "execution_count": null,
   "metadata": {},
   "outputs": [],
   "source": [
    "results = smf.ols('Sales ~ ShelveLoc + Price + Urban', data=carseats).fit()\n",
    "results.summary()"
   ]
  },
  {
   "cell_type": "markdown",
   "metadata": {},
   "source": [
    "# Exercises"
   ]
  },
  {
   "cell_type": "markdown",
   "metadata": {},
   "source": [
    "# 1\n",
    "There are 3 different null hypotheses for each of TV, Radio and Newspaper each testing whether there is a relationship from that variable to Sales given that the other two variables are held constant. From this model we can reject the null hypotheses that both TV and Radio have no correspondence with sales. We fail to reject the null hypotheses that Newspaper advertising is related to Sales.\n",
    "\n",
    "# 2\n",
    "KNN classification predicts as the category who has the highest frequency among it's k nearest neighbors. KNN regression predicts the mean of its nearest K neighbors.\n",
    "\n",
    "# 3\n",
    "a) iii is correct. Males will earn more than females GPA is high enough. Higher than 3.5 to be exact to wipe away the female advantage.  \n",
    "b) 50 + (20 * 4) + (.07 * 110) + (35 * 1) + (.01 * 110 * 4)  - (10 * 1 * 4) = 137.1  \n",
    "c) False, it all comes down to the standard error of the coefficient to determine significance. It could very well be the most significant factor.\n",
    "\n",
    "# 4\n",
    "a) For training data, the RSS always decreases as model complexity increases so the cubic model will have lower RSS.  \n",
    "b) For test data, the RSS for the linear model should do better as the cubic model will have fit noise and the true model is linear.  \n",
    "c) Cubic model. Same answer as a)  \n",
    "d) This would be impossible to know. It could go both ways as the true model is not known. Must compute RSS on test data in this case\n",
    "\n",
    "# 5\n",
    "Combining the first equation $\\hat{y_i} = x_i\\hat{\\beta}$ with (3.38) we get $$\\hat{y_i} = \\frac{x_i\\sum\\limits_{k=1}^n x_k y_k}{\\sum\\limits_{j=1}^nx_j^2}$$\n",
    "\n",
    "The $x_i$ outside of the summation is a constant and be distributed inside the summation. $$\\hat{y_i} = \\sum\\limits_{k=1}^n (\\frac{x_i x_k}{\\sum\\limits_{j=1}^nx_j^2})y_k$$\n",
    "\n",
    "$a_i$ is everything between the parentheses. $$a_i = \\frac{x_i x_k}{\\sum\\limits_{j=1}^nx_j^2}$$\n",
    "\n",
    "# 6\n",
    "Just rearrange the second equation in 3.4 and you have the equality \n",
    "# 7\n",
    "See image below"
   ]
  },
  {
   "cell_type": "code",
   "execution_count": null,
   "metadata": {},
   "outputs": [],
   "source": [
    "from IPython.display import Image"
   ]
  },
  {
   "cell_type": "code",
   "execution_count": null,
   "metadata": {},
   "outputs": [],
   "source": [
    "Image('images/Chapter 3 - 7 proof.jpg')"
   ]
  },
  {
   "cell_type": "markdown",
   "metadata": {},
   "source": [
    "# 8"
   ]
  },
  {
   "cell_type": "code",
   "execution_count": null,
   "metadata": {},
   "outputs": [],
   "source": [
    "auto = pd.read_csv('data/auto.csv')\n",
    "auto.head()"
   ]
  },
  {
   "cell_type": "code",
   "execution_count": null,
   "metadata": {},
   "outputs": [],
   "source": [
    "results = smf.ols('mpg ~ horsepower', data=auto).fit()\n",
    "results.summary()"
   ]
  },
  {
   "cell_type": "markdown",
   "metadata": {},
   "source": [
    "i) Yes there is strong evidence of a relationship between mpg and horsepower  \n",
    "ii) Just from the summary it is very strong as the t-statistic is -24 though there is still lots of variation left in the model with an r-squared of .6  \n",
    "iii) negative  \n",
    "iv) "
   ]
  },
  {
   "cell_type": "code",
   "execution_count": null,
   "metadata": {},
   "outputs": [],
   "source": [
    "results.conf_int()"
   ]
  },
  {
   "cell_type": "code",
   "execution_count": null,
   "metadata": {},
   "outputs": [],
   "source": [
    "results.params['Intercept'] + results.params['horsepower'] * 98"
   ]
  },
  {
   "cell_type": "code",
   "execution_count": null,
   "metadata": {},
   "outputs": [],
   "source": [
    "results.conf_int()"
   ]
  },
  {
   "cell_type": "code",
   "execution_count": null,
   "metadata": {},
   "outputs": [],
   "source": [
    "results.bse"
   ]
  },
  {
   "cell_type": "code",
   "execution_count": null,
   "metadata": {},
   "outputs": [],
   "source": [
    "from statsmodels.sandbox.regression.predstd import wls_prediction_std\n",
    "from statsmodels.stats.outliers_influence import summary_table\n",
    "from statsmodels.stats.outliers_influence import OLSInfluence\n",
    "from scipy import stats"
   ]
  },
  {
   "cell_type": "code",
   "execution_count": null,
   "metadata": {},
   "outputs": [],
   "source": [
    "st, data, ss2 = summary_table(results, alpha=0.05)\n",
    "\n",
    "fittedvalues = data[:,2]\n",
    "predict_mean_se  = data[:,3]\n",
    "predict_mean_ci_low, predict_mean_ci_upp = data[:,4:6].T\n",
    "predict_ci_low, predict_ci_upp = data[:,6:8].T\n",
    "\n",
    "# wls cinv\n",
    "prstd, iv_l, iv_u = wls_prediction_std(results)\n",
    "\n",
    "# plot OLS\n",
    "cil, = plt.plot(auto['horsepower'], predict_ci_low, 'r--', lw=1, alpha=0.5)\n",
    "ciu, = plt.plot(auto['horsepower'], predict_ci_upp, 'r--', lw=1, alpha=0.5)\n",
    "mcil, = plt.plot(auto['horsepower'], predict_mean_ci_low, 'b--', lw=1, alpha=0.5)\n",
    "mciu, = plt.plot(auto['horsepower'], predict_mean_ci_upp, 'b--', lw=1, alpha=0.5)\n",
    "\n",
    "\n",
    "plt.scatter(auto['horsepower'], auto['mpg']);"
   ]
  },
  {
   "cell_type": "code",
   "execution_count": null,
   "metadata": {},
   "outputs": [],
   "source": [
    "# create function to compute confidence or prediction interval given an x value\n",
    "def create_interval(ols_result, interval_type, alpha, x_values, conf_x):\n",
    "    if interval_type == 'confidence':\n",
    "        add_one = 0\n",
    "    elif interval_type == 'prediction':\n",
    "        add_one = 1\n",
    "    else:\n",
    "        print(\"Choose interval_type as confidence or prediction\")\n",
    "        return\n",
    "    n = len(x_values)\n",
    "    t_value = stats.t.ppf(1 - alpha / 2, df = n - 2)\n",
    "    sy = np.sqrt((ols_result.resid ** 2).sum() / (n - 2))\n",
    "    numerator = (conf_x - x_values.mean()) ** 2\n",
    "    denominator = ((x_values - x_values.mean()) ** 2).sum()\n",
    "    interval = t_value * sy * np.sqrt(add_one + 1 / n + numerator / denominator)\n",
    "    prediction = results.params[0] + results.params[1] * conf_x\n",
    "    return (prediction - interval, prediction + interval)"
   ]
  },
  {
   "cell_type": "code",
   "execution_count": null,
   "metadata": {},
   "outputs": [],
   "source": [
    "create_interval(results, 'confidence', .05, auto['horsepower'], 98)"
   ]
  },
  {
   "cell_type": "code",
   "execution_count": null,
   "metadata": {},
   "outputs": [],
   "source": [
    "create_interval(results, 'prediction', .05, auto['horsepower'], 98)"
   ]
  },
  {
   "cell_type": "code",
   "execution_count": null,
   "metadata": {},
   "outputs": [],
   "source": [
    "# Severe problems with the data\n",
    "plt.scatter(results.fittedvalues, results.resid);"
   ]
  },
  {
   "cell_type": "code",
   "execution_count": null,
   "metadata": {},
   "outputs": [],
   "source": [
    "from statsmodels.graphics.regressionplots import plot_leverage_resid2\n",
    "fig, ax = plt.subplots(figsize=(8,6))\n",
    "fig = plot_leverage_resid2(results, ax = ax)"
   ]
  },
  {
   "cell_type": "markdown",
   "metadata": {},
   "source": [
    "# 9"
   ]
  },
  {
   "cell_type": "code",
   "execution_count": null,
   "metadata": {},
   "outputs": [],
   "source": [
    "sns.pairplot(auto)"
   ]
  },
  {
   "cell_type": "code",
   "execution_count": null,
   "metadata": {},
   "outputs": [],
   "source": [
    "auto.corr()"
   ]
  },
  {
   "cell_type": "code",
   "execution_count": null,
   "metadata": {},
   "outputs": [],
   "source": [
    "formula = 'mpg ~ ' + \" + \".join(auto.columns[1:-1])\n",
    "formula"
   ]
  },
  {
   "cell_type": "code",
   "execution_count": null,
   "metadata": {},
   "outputs": [],
   "source": [
    "results = smf.ols(formula, data=auto).fit()\n",
    "results.summary()"
   ]
  },
  {
   "cell_type": "markdown",
   "metadata": {},
   "source": [
    "i) There is a clear relationship between predictor and response. F-stat is very high.  \n",
    "ii) displacement, weight, year, origin are statistically significant    \n",
    "iii) Its positive, so the higher the year the more the mpg    "
   ]
  },
  {
   "cell_type": "markdown",
   "metadata": {},
   "source": [
    "### d) look at diagnostic plots"
   ]
  },
  {
   "cell_type": "code",
   "execution_count": null,
   "metadata": {},
   "outputs": [],
   "source": [
    "results_influence = OLSInfluence(results)"
   ]
  },
  {
   "cell_type": "code",
   "execution_count": null,
   "metadata": {},
   "outputs": [],
   "source": [
    "import statsmodels.api as sm\n",
    "\n",
    "# looks very similar to previous problem\n",
    "fig, ax = plt.subplots(2, 2, figsize=(12,10))\n",
    "ax[0, 0].scatter(results.fittedvalues, results.resid)\n",
    "ax[0, 0].set_ylabel(\"Raw Residuals\")\n",
    "ax[1, 0].scatter(results.fittedvalues, results_influence.resid_studentized_external)\n",
    "ax[1, 0].set_ylabel(\"Studentized Residual\")\n",
    "sm.graphics.qqplot(results.resid / np.sqrt((results.resid ** 2).sum() / 390), line='45', ax=ax[0, 1])\n",
    "ax[1, 1].scatter(results_influence.resid_studentized_external ** 2, results_influence.influence);"
   ]
  },
  {
   "cell_type": "markdown",
   "metadata": {},
   "source": [
    "Most residuals fall within 3 standard deviations and the qqplot looks relatively good until the right tail where a few observations are above 3 standard deviations indicating outliers."
   ]
  },
  {
   "cell_type": "code",
   "execution_count": null,
   "metadata": {},
   "outputs": [],
   "source": [
    "# point 13 has unusually large leverage\n",
    "fig, ax = plt.subplots(figsize=(8,6))\n",
    "fig = plot_leverage_resid2(results, ax = ax)"
   ]
  },
  {
   "cell_type": "markdown",
   "metadata": {},
   "source": [
    "### e) Add interaction effects"
   ]
  },
  {
   "cell_type": "code",
   "execution_count": null,
   "metadata": {},
   "outputs": [],
   "source": [
    "formula = 'mpg ~ ' + \" + \".join(auto.columns[1:-1])"
   ]
  },
  {
   "cell_type": "code",
   "execution_count": null,
   "metadata": {},
   "outputs": [],
   "source": [
    "from itertools import combinations"
   ]
  },
  {
   "cell_type": "code",
   "execution_count": null,
   "metadata": {},
   "outputs": [],
   "source": [
    "interactions_formula =  \" + \".join([comb[0] + \" * \" + comb[1] for comb in combinations(auto.columns[1:-1], 2)])\n",
    "interactions_formula"
   ]
  },
  {
   "cell_type": "code",
   "execution_count": null,
   "metadata": {},
   "outputs": [],
   "source": [
    "formula = 'mpg ~ ' + \" + \".join(auto.columns[1:-1])\n",
    "formula += ' + ' + interactions_formula"
   ]
  },
  {
   "cell_type": "code",
   "execution_count": null,
   "metadata": {},
   "outputs": [],
   "source": [
    "results = smf.ols(formula, data=auto).fit()\n",
    "results.summary()"
   ]
  },
  {
   "cell_type": "markdown",
   "metadata": {},
   "source": [
    "After adding all possible (7c2 = 21) interaction combination effects to the model only one of them is significant at the .01 level. Acceleration * origin"
   ]
  },
  {
   "cell_type": "code",
   "execution_count": null,
   "metadata": {},
   "outputs": [],
   "source": [
    "# add displacement squared to model"
   ]
  },
  {
   "cell_type": "code",
   "execution_count": null,
   "metadata": {},
   "outputs": [],
   "source": [
    "formula += ' + np.power(displacement, 2)'\n",
    "results = smf.ols(formula, data=auto).fit()\n",
    "results.summary()"
   ]
  },
  {
   "cell_type": "code",
   "execution_count": null,
   "metadata": {},
   "outputs": [],
   "source": [
    "# lots of multicolinearity going on here\n",
    "results = smf.ols('mpg ~ displacement + origin + np.power(displacement, 2)', data=auto).fit()\n",
    "results.summary()"
   ]
  },
  {
   "cell_type": "code",
   "execution_count": null,
   "metadata": {},
   "outputs": [],
   "source": [
    "# sqrt of horsepower has higher r-squared than horsepower by itself\n",
    "results = smf.ols('mpg ~ np.sqrt(horsepower)', data=auto).fit()\n",
    "results.summary()"
   ]
  },
  {
   "cell_type": "code",
   "execution_count": null,
   "metadata": {},
   "outputs": [],
   "source": [
    "fig, (ax1, ax2) = plt.subplots(1, 2, figsize=(16,8))\n",
    "ax1.scatter(auto['horsepower'], auto['mpg'])\n",
    "ax1.set_title(\"Horsepower vs MPG\")\n",
    "ax2.scatter(np.log(np.log(auto['horsepower'])), auto['mpg'])\n",
    "ax2.set_title(\"Log(Log(Horsepower)) vs MPG\");"
   ]
  },
  {
   "cell_type": "code",
   "execution_count": null,
   "metadata": {},
   "outputs": [],
   "source": [
    "# R-squared increases a bit more with log-log-horsepower\n",
    "results = smf.ols('mpg ~ np.log(np.log((horsepower)))', data=auto).fit()\n",
    "results.summary()"
   ]
  },
  {
   "cell_type": "markdown",
   "metadata": {},
   "source": [
    "# 10 - Carseats data"
   ]
  },
  {
   "cell_type": "code",
   "execution_count": null,
   "metadata": {},
   "outputs": [],
   "source": [
    "carseats = pd.read_csv('data/carseats.csv')\n",
    "carseats.head()"
   ]
  },
  {
   "cell_type": "code",
   "execution_count": null,
   "metadata": {},
   "outputs": [],
   "source": [
    "results = smf.ols('Sales ~ Price + Urban + US', data=carseats).fit()\n",
    "results.summary()"
   ]
  },
  {
   "cell_type": "markdown",
   "metadata": {},
   "source": [
    "Only US and Price are statistically significant in our model. There is no difference whether someone is living in an urban area or not. Living in the US adds 1.2 to Sales up from 13 for outside of US. For every 1 unit increase in Price a corresponding .05 decrease in sales is seen."
   ]
  },
  {
   "cell_type": "markdown",
   "metadata": {},
   "source": [
    "# equations\n",
    "Ignoring Urban because its not significant.\n",
    "* In US: $Sales = 14.24 - .055 * Price$\n",
    "* Not in US: $Sales = 13.04 - .055 * Price$"
   ]
  },
  {
   "cell_type": "markdown",
   "metadata": {},
   "source": [
    "d) Reject null for US and Price"
   ]
  },
  {
   "cell_type": "code",
   "execution_count": null,
   "metadata": {},
   "outputs": [],
   "source": [
    "# e) smaller model without urban\n",
    "results = smf.ols('Sales ~ Price + US', data=carseats).fit()\n",
    "results.summary()"
   ]
  },
  {
   "cell_type": "markdown",
   "metadata": {},
   "source": [
    "f) Since urban is nearly completely random, there is almost no difference in the two models above. R-squared is low so lots of variance remains in the model  \n",
    "g) See table"
   ]
  },
  {
   "cell_type": "code",
   "execution_count": null,
   "metadata": {},
   "outputs": [],
   "source": [
    "# Doesn't appear to be outliers\n",
    "plt.scatter(results.fittedvalues, results.resid);"
   ]
  },
  {
   "cell_type": "code",
   "execution_count": null,
   "metadata": {},
   "outputs": [],
   "source": [
    "# a few high leverage points above .025\n",
    "fig, ax = plt.subplots(figsize=(8,6))\n",
    "fig = plot_leverage_resid2(results, ax = ax)"
   ]
  },
  {
   "cell_type": "markdown",
   "metadata": {},
   "source": [
    "# 11"
   ]
  },
  {
   "cell_type": "code",
   "execution_count": null,
   "metadata": {},
   "outputs": [],
   "source": [
    "np.random.seed(1)\n",
    "x = np.random.randn(100)\n",
    "y = 2 * x + np.random.randn(100)"
   ]
  },
  {
   "cell_type": "code",
   "execution_count": null,
   "metadata": {},
   "outputs": [],
   "source": [
    "plt.scatter(x, y);"
   ]
  },
  {
   "cell_type": "code",
   "execution_count": null,
   "metadata": {},
   "outputs": [],
   "source": [
    "# No constant. Highly signifcant predictor\n",
    "results = sm.OLS(y, x).fit()\n",
    "results.summary()"
   ]
  },
  {
   "cell_type": "code",
   "execution_count": null,
   "metadata": {},
   "outputs": [],
   "source": [
    "# x onto y. Same as above\n",
    "results = sm.OLS(x, y).fit()\n",
    "results.summary()"
   ]
  },
  {
   "cell_type": "markdown",
   "metadata": {},
   "source": [
    "e) The derived equation is symmetric to x and y, meaning you can replace x and y and the equation would be the exact same."
   ]
  },
  {
   "cell_type": "code",
   "execution_count": null,
   "metadata": {},
   "outputs": [],
   "source": [
    "results = sm.OLS(x, sm.add_constant(y)).fit()\n",
    "results.summary()"
   ]
  },
  {
   "cell_type": "code",
   "execution_count": null,
   "metadata": {},
   "outputs": [],
   "source": [
    "# F-statistic and t-stat is same with an intercept\n",
    "results = sm.OLS(y, sm.add_constant(x)).fit()\n",
    "results.summary()"
   ]
  },
  {
   "cell_type": "markdown",
   "metadata": {},
   "source": [
    "# 12\n",
    "a) Using equation 3.38, the coefficients will be the same when $\\sum{y^2} = \\sum{x^2}$  \n",
    "b) Its very difficult to get the exact same coefficients. Any random pairing will do"
   ]
  },
  {
   "cell_type": "code",
   "execution_count": null,
   "metadata": {},
   "outputs": [],
   "source": [
    "# b\n",
    "np.random.seed(1)\n",
    "x = np.random.randn(100)\n",
    "y = x + np.random.randn(100) / 100"
   ]
  },
  {
   "cell_type": "code",
   "execution_count": null,
   "metadata": {},
   "outputs": [],
   "source": [
    "# very close to a perfect line\n",
    "plt.scatter(x, y)"
   ]
  },
  {
   "cell_type": "code",
   "execution_count": null,
   "metadata": {},
   "outputs": [],
   "source": [
    "np.corrcoef(x, y)"
   ]
  },
  {
   "cell_type": "code",
   "execution_count": null,
   "metadata": {},
   "outputs": [],
   "source": [
    "results = sm.OLS(y, x).fit()\n",
    "results.summary()"
   ]
  },
  {
   "cell_type": "code",
   "execution_count": null,
   "metadata": {},
   "outputs": [],
   "source": [
    "# coefficients are just a little different\n",
    "results = sm.OLS(x, y).fit()\n",
    "results.summary()"
   ]
  },
  {
   "cell_type": "code",
   "execution_count": null,
   "metadata": {},
   "outputs": [],
   "source": [
    "# c) if x and y are the exact same (but in a different order) the coefficients for the model should be the same\n",
    "x = np.random.randn(100) * 5\n",
    "y = x.copy()\n",
    "np.random.shuffle(y)"
   ]
  },
  {
   "cell_type": "code",
   "execution_count": null,
   "metadata": {},
   "outputs": [],
   "source": [
    "# perf\n",
    "plt.scatter(x, y);"
   ]
  },
  {
   "cell_type": "code",
   "execution_count": null,
   "metadata": {},
   "outputs": [],
   "source": [
    "results = sm.OLS(x, y).fit()\n",
    "results.summary()"
   ]
  },
  {
   "cell_type": "code",
   "execution_count": null,
   "metadata": {},
   "outputs": [],
   "source": [
    "# Same coefficient!\n",
    "results = sm.OLS(y, x).fit()\n",
    "results.summary()"
   ]
  },
  {
   "cell_type": "markdown",
   "metadata": {},
   "source": [
    "# 13"
   ]
  },
  {
   "cell_type": "code",
   "execution_count": null,
   "metadata": {},
   "outputs": [],
   "source": [
    "x = np.random.randn(100)\n",
    "eps = np.random.randn(100) * .25\n",
    "y = -1 + .5 * x + eps # b0 = -1 and b1 = .5"
   ]
  },
  {
   "cell_type": "code",
   "execution_count": null,
   "metadata": {},
   "outputs": [],
   "source": [
    "plt.scatter(x, y);"
   ]
  },
  {
   "cell_type": "code",
   "execution_count": null,
   "metadata": {},
   "outputs": [],
   "source": [
    "# coefficient estimates are very close to actual\n",
    "results = sm.OLS(y, sm.add_constant(x)).fit()\n",
    "results.summary()"
   ]
  },
  {
   "cell_type": "code",
   "execution_count": null,
   "metadata": {},
   "outputs": [],
   "source": [
    "# they are very close to one another\n",
    "plt.scatter(x, y)\n",
    "plt.plot(x, -1 + .5 * x, label ='pop')\n",
    "plt.plot(x, results.params[0] + results.params[1] * x, label = 'fit')\n",
    "plt.legend();"
   ]
  },
  {
   "cell_type": "code",
   "execution_count": null,
   "metadata": {},
   "outputs": [],
   "source": [
    "results.params"
   ]
  },
  {
   "cell_type": "code",
   "execution_count": null,
   "metadata": {},
   "outputs": [],
   "source": [
    "# x squared is not significant\n",
    "x2 = np.column_stack((np.ones(100), x, x ** 2))\n",
    "results = sm.OLS(y, x2).fit()\n",
    "results.summary()"
   ]
  },
  {
   "cell_type": "code",
   "execution_count": null,
   "metadata": {},
   "outputs": [],
   "source": [
    "# the confidence intervals will shrink/expand with eps"
   ]
  },
  {
   "cell_type": "markdown",
   "metadata": {},
   "source": [
    "# 14"
   ]
  },
  {
   "cell_type": "code",
   "execution_count": null,
   "metadata": {},
   "outputs": [],
   "source": [
    "np.random.seed(1)\n",
    "x1 = np.random.rand(100)\n",
    "x2 = .5 * x1 + np.random.rand(100) / 10\n",
    "y = 2 + 2 * x1 + .3 * x2 + np.random.randn(100)\n",
    "# regresion coeffs are 2, 2, .3"
   ]
  },
  {
   "cell_type": "code",
   "execution_count": null,
   "metadata": {},
   "outputs": [],
   "source": [
    "# very highly correlated. Only differ by random factor between 0 and .1\n",
    "np.corrcoef(x1, x2)"
   ]
  },
  {
   "cell_type": "code",
   "execution_count": null,
   "metadata": {},
   "outputs": [],
   "source": [
    "plt.scatter(x1, x2);"
   ]
  },
  {
   "cell_type": "code",
   "execution_count": null,
   "metadata": {},
   "outputs": [],
   "source": [
    "# Surprisingly both variables are not significant\n",
    "X = np.column_stack((np.ones(100), x1, x2))\n",
    "results = sm.OLS(y, X).fit()\n",
    "results.summary()"
   ]
  },
  {
   "cell_type": "code",
   "execution_count": null,
   "metadata": {},
   "outputs": [],
   "source": [
    "X = np.column_stack((np.ones(100), x1))\n",
    "results = sm.OLS(y, X).fit()\n",
    "results.summary()"
   ]
  },
  {
   "cell_type": "code",
   "execution_count": null,
   "metadata": {},
   "outputs": [],
   "source": [
    "X = np.column_stack((np.ones(100), x2))\n",
    "results = sm.OLS(y, X).fit()\n",
    "results.summary()"
   ]
  },
  {
   "cell_type": "markdown",
   "metadata": {},
   "source": [
    "Since x1 and x2 are very highly correlated to one another it makes sense that when substituted in a linear model for one another a very similar r-squared would be achieved. The high collinearity is causing havoc with the model when both x1 and x2 are in the model. We know beforehand that each variable has a positive relationship with y and in the first model, x1 is positive and x2 is negative which is an impossibility. The standard errors for each predictor grow because of the collinearity which causes them not to be significant when they are."
   ]
  },
  {
   "cell_type": "code",
   "execution_count": null,
   "metadata": {},
   "outputs": [],
   "source": [
    "x1_new = np.append(x1, .1)\n",
    "x2_new = np.append(x2, .8)\n",
    "y_new = np.append(y, 6)"
   ]
  },
  {
   "cell_type": "code",
   "execution_count": null,
   "metadata": {},
   "outputs": [],
   "source": [
    "X = np.column_stack((y_new, x1_new, x2_new))\n",
    "df_new = pd.DataFrame(X, columns=['y', 'x1', 'x2'])\n",
    "results = smf.ols('y ~ x2', data=df_new).fit()\n",
    "results.summary()"
   ]
  },
  {
   "cell_type": "code",
   "execution_count": null,
   "metadata": {},
   "outputs": [],
   "source": [
    "# correlation goes way down with one point\n",
    "np.corrcoef(x1_new, x2_new)"
   ]
  },
  {
   "cell_type": "code",
   "execution_count": null,
   "metadata": {},
   "outputs": [],
   "source": [
    "# huge outlier here\n",
    "plt.scatter(x1_new, x2_new)"
   ]
  },
  {
   "cell_type": "code",
   "execution_count": null,
   "metadata": {},
   "outputs": [],
   "source": [
    "# Not an outlier in terms of residual, but very likely very influential\n",
    "plt.scatter(results.fittedvalues, results.resid);"
   ]
  },
  {
   "cell_type": "code",
   "execution_count": null,
   "metadata": {},
   "outputs": [],
   "source": [
    "# Yup its unbelievably influential\n",
    "fig, ax = plt.subplots(figsize=(8,6))\n",
    "fig = plot_leverage_resid2(results, ax = ax)"
   ]
  },
  {
   "cell_type": "markdown",
   "metadata": {},
   "source": [
    "# 15"
   ]
  },
  {
   "cell_type": "code",
   "execution_count": null,
   "metadata": {},
   "outputs": [],
   "source": [
    "# a) simple linear regression for each predictor\n",
    "boston = pd.read_csv('data/boston.csv')\n",
    "boston.head()"
   ]
  },
  {
   "cell_type": "code",
   "execution_count": null,
   "metadata": {},
   "outputs": [],
   "source": [
    "# The below prints the confindence interval for each predictor in a simple linear regression\n",
    "# Nearly all the predictors have 95% confindence bands that don't include 0 meaning they rejecy the null hypothesis\n",
    "# the only predictors that fails to reject null: chas \n",
    "for col in boston.columns[1:]:\n",
    "    results = smf.ols('crim ~ {}'.format(col), data=boston).fit()\n",
    "    print(results.conf_int())"
   ]
  },
  {
   "cell_type": "code",
   "execution_count": null,
   "metadata": {},
   "outputs": [],
   "source": [
    "formula = 'crim ~ ' + ' + '.join(boston.columns[1:])\n",
    "formula"
   ]
  },
  {
   "cell_type": "code",
   "execution_count": null,
   "metadata": {},
   "outputs": [],
   "source": [
    "# All variables in model. Many are not significant now\n",
    "results = smf.ols(formula, data=boston).fit()\n",
    "results.summary()"
   ]
  },
  {
   "cell_type": "code",
   "execution_count": null,
   "metadata": {},
   "outputs": [],
   "source": [
    "# all significant predictors\n",
    "results.tvalues[abs(results.tvalues) > 2]"
   ]
  },
  {
   "cell_type": "code",
   "execution_count": null,
   "metadata": {},
   "outputs": [],
   "source": [
    "# Get all coefficients from multiple reression model\n",
    "multiple_linear_params = results.params.iloc[1:]\n",
    "\n",
    "simple_linear_params = pd.Series()\n",
    "for col in boston.columns[1:]:\n",
    "    results_slr = smf.ols('crim ~ {}'.format(col), data=boston).fit()\n",
    "    simple_linear_params = simple_linear_params.append(results_slr.params.loc[[col]])\n",
    "    \n",
    "both_models = pd.DataFrame({'simple': simple_linear_params, 'multiple':multiple_linear_params})\n",
    "both_models"
   ]
  },
  {
   "cell_type": "code",
   "execution_count": null,
   "metadata": {},
   "outputs": [],
   "source": [
    "both_models.plot.scatter('simple', 'multiple')"
   ]
  },
  {
   "cell_type": "code",
   "execution_count": null,
   "metadata": {},
   "outputs": [],
   "source": [
    "# there are several variables raised to the power of 2 or 3 that are showing significance\n",
    "# but these need to be combined with other variables to assess their actual importance\n",
    "for col in boston.columns[1:]:\n",
    "    results = smf.ols('crim ~ {} + np.power({}, 2) + np.power({}, 3)'.format(col, col, col), data=boston).fit()\n",
    "    print(results.conf_int())"
   ]
  }
 ],
 "metadata": {
  "kernelspec": {
   "display_name": "Python 3",
   "language": "python",
   "name": "python3"
  },
  "language_info": {
   "codemirror_mode": {
    "name": "ipython",
    "version": 3
   },
   "file_extension": ".py",
   "mimetype": "text/x-python",
   "name": "python",
   "nbconvert_exporter": "python",
   "pygments_lexer": "ipython3",
   "version": "3.13.2"
  }
 },
 "nbformat": 4,
 "nbformat_minor": 1
}

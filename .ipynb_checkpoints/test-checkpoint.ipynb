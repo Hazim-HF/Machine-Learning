{
 "cells": [
  {
   "cell_type": "markdown",
   "id": "74ce8e82",
   "metadata": {},
   "source": [
    "<div class=\"alert alert-block alert-info\">\n",
    "<b>Tip:</b> Use blue boxes (alert-info) for tips and notes. \n",
    "If it’s a note, you don’t have to include the word “Note”.\n",
    "</div>"
   ]
  },
  {
   "cell_type": "markdown",
   "id": "a43a0d3c",
   "metadata": {},
   "source": [
    "<div class=\"alert alert-block alert-warning\">\n",
    "<b>Example:</b> Use yellow boxes for examples that are not \n",
    "inside code cells, or use for mathematical formulas if needed.\n",
    "</div>"
   ]
  },
  {
   "cell_type": "markdown",
   "id": "49b98a3b",
   "metadata": {},
   "source": [
    "<div class=\"alert alert-block alert-success\">\n",
    "<b>Up to you:</b> Use green boxes sparingly, and only for some specific \n",
    "purpose that the other boxes can't cover. For example, if you have a lot \n",
    "of related content to link to, maybe you decide to use green boxes for \n",
    "related links from each section of a notebook.\n",
    "</div>"
   ]
  },
  {
   "cell_type": "markdown",
   "id": "6ff92907",
   "metadata": {},
   "source": [
    "<div class=\"alert alert-block alert-danger\">\n",
    "<b>Just don't:</b> In general, avoid the red boxes. These should only be\n",
    "used for actions that might cause data loss or another major issue.\n",
    "</div>"
   ]
  },
  {
   "cell_type": "markdown",
   "id": "db9c681a",
   "metadata": {},
   "source": [
    "%%HTML\n",
    "<style> code {background-color : lightgrey !important;} </style>"
   ]
  },
  {
   "cell_type": "markdown",
   "id": "59e40eec",
   "metadata": {},
   "source": [
    "`highlight code`"
   ]
  },
  {
   "cell_type": "markdown",
   "id": "9a2e71a6",
   "metadata": {},
   "source": [
    "*** \n",
    "horizontal lines\n",
    "***"
   ]
  },
  {
   "cell_type": "markdown",
   "id": "20e10dc5",
   "metadata": {},
   "source": [
    ">indent"
   ]
  },
  {
   "cell_type": "markdown",
   "id": "45f3604e",
   "metadata": {},
   "source": [
    "<span style=\"background-color: yellow;\">py -m pip install numpy</span>\n"
   ]
  },
  {
   "cell_type": "markdown",
   "id": "5fb4fa25",
   "metadata": {},
   "source": [
    "<pre><code>py -m pip install numpy</code></pre>\n"
   ]
  },
  {
   "cell_type": "markdown",
   "id": "dd6bb99b",
   "metadata": {},
   "source": [
    "<span style=\"background-color: #fff9c4;\">py -m pip install numpy</span>\n"
   ]
  },
  {
   "cell_type": "markdown",
   "id": "5829d19e",
   "metadata": {},
   "source": []
  }
 ],
 "metadata": {
  "language_info": {
   "name": "python"
  }
 },
 "nbformat": 4,
 "nbformat_minor": 5
}

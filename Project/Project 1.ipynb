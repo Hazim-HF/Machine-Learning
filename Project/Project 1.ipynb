{
 "cells": [
  {
   "cell_type": "code",
   "execution_count": 7,
   "id": "aa2c6cd5",
   "metadata": {},
   "outputs": [
    {
     "data": {
      "application/vnd.microsoft.datawrangler.viewer.v0+json": {
       "columns": [
        {
         "name": "index",
         "rawType": "int64",
         "type": "integer"
        },
        {
         "name": "school",
         "rawType": "object",
         "type": "string"
        },
        {
         "name": "sex",
         "rawType": "object",
         "type": "string"
        },
        {
         "name": "age",
         "rawType": "int64",
         "type": "integer"
        },
        {
         "name": "address",
         "rawType": "object",
         "type": "string"
        },
        {
         "name": "famsize",
         "rawType": "object",
         "type": "string"
        },
        {
         "name": "Pstatus",
         "rawType": "object",
         "type": "string"
        },
        {
         "name": "Medu",
         "rawType": "int64",
         "type": "integer"
        },
        {
         "name": "Fedu",
         "rawType": "int64",
         "type": "integer"
        },
        {
         "name": "Mjob",
         "rawType": "object",
         "type": "string"
        },
        {
         "name": "Fjob",
         "rawType": "object",
         "type": "string"
        },
        {
         "name": "reason",
         "rawType": "object",
         "type": "string"
        },
        {
         "name": "guardian",
         "rawType": "object",
         "type": "string"
        },
        {
         "name": "traveltime",
         "rawType": "int64",
         "type": "integer"
        },
        {
         "name": "studytime",
         "rawType": "int64",
         "type": "integer"
        },
        {
         "name": "failures",
         "rawType": "int64",
         "type": "integer"
        },
        {
         "name": "schoolsup",
         "rawType": "object",
         "type": "string"
        },
        {
         "name": "famsup",
         "rawType": "object",
         "type": "string"
        },
        {
         "name": "paid",
         "rawType": "object",
         "type": "string"
        },
        {
         "name": "activities",
         "rawType": "object",
         "type": "string"
        },
        {
         "name": "nursery",
         "rawType": "object",
         "type": "string"
        },
        {
         "name": "higher",
         "rawType": "object",
         "type": "string"
        },
        {
         "name": "internet",
         "rawType": "object",
         "type": "string"
        },
        {
         "name": "romantic",
         "rawType": "object",
         "type": "string"
        },
        {
         "name": "famrel",
         "rawType": "int64",
         "type": "integer"
        },
        {
         "name": "freetime",
         "rawType": "int64",
         "type": "integer"
        },
        {
         "name": "goout",
         "rawType": "int64",
         "type": "integer"
        },
        {
         "name": "Dalc",
         "rawType": "int64",
         "type": "integer"
        },
        {
         "name": "Walc",
         "rawType": "int64",
         "type": "integer"
        },
        {
         "name": "health",
         "rawType": "int64",
         "type": "integer"
        },
        {
         "name": "absences",
         "rawType": "int64",
         "type": "integer"
        },
        {
         "name": "G1",
         "rawType": "int64",
         "type": "integer"
        },
        {
         "name": "G2",
         "rawType": "int64",
         "type": "integer"
        },
        {
         "name": "G3",
         "rawType": "int64",
         "type": "integer"
        }
       ],
       "conversionMethod": "pd.DataFrame",
       "ref": "0925b723-dba5-440f-85e3-590cfc82d816",
       "rows": [
        [
         "0",
         "GP",
         "F",
         "18",
         "U",
         "GT3",
         "A",
         "4",
         "4",
         "at_home",
         "teacher",
         "course",
         "mother",
         "2",
         "2",
         "0",
         "yes",
         "no",
         "no",
         "no",
         "yes",
         "yes",
         "no",
         "no",
         "4",
         "3",
         "4",
         "1",
         "1",
         "3",
         "4",
         "0",
         "11",
         "11"
        ],
        [
         "1",
         "GP",
         "F",
         "17",
         "U",
         "GT3",
         "T",
         "1",
         "1",
         "at_home",
         "other",
         "course",
         "father",
         "1",
         "2",
         "0",
         "no",
         "yes",
         "no",
         "no",
         "no",
         "yes",
         "yes",
         "no",
         "5",
         "3",
         "3",
         "1",
         "1",
         "3",
         "2",
         "9",
         "11",
         "11"
        ],
        [
         "2",
         "GP",
         "F",
         "15",
         "U",
         "LE3",
         "T",
         "1",
         "1",
         "at_home",
         "other",
         "other",
         "mother",
         "1",
         "2",
         "0",
         "yes",
         "no",
         "no",
         "no",
         "yes",
         "yes",
         "yes",
         "no",
         "4",
         "3",
         "2",
         "2",
         "3",
         "3",
         "6",
         "12",
         "13",
         "12"
        ],
        [
         "3",
         "GP",
         "F",
         "15",
         "U",
         "GT3",
         "T",
         "4",
         "2",
         "health",
         "services",
         "home",
         "mother",
         "1",
         "3",
         "0",
         "no",
         "yes",
         "no",
         "yes",
         "yes",
         "yes",
         "yes",
         "yes",
         "3",
         "2",
         "2",
         "1",
         "1",
         "5",
         "0",
         "14",
         "14",
         "14"
        ],
        [
         "4",
         "GP",
         "F",
         "16",
         "U",
         "GT3",
         "T",
         "3",
         "3",
         "other",
         "other",
         "home",
         "father",
         "1",
         "2",
         "0",
         "no",
         "yes",
         "no",
         "no",
         "yes",
         "yes",
         "no",
         "no",
         "4",
         "3",
         "2",
         "1",
         "2",
         "5",
         "0",
         "11",
         "13",
         "13"
        ]
       ],
       "shape": {
        "columns": 33,
        "rows": 5
       }
      },
      "text/html": [
       "<div>\n",
       "<style scoped>\n",
       "    .dataframe tbody tr th:only-of-type {\n",
       "        vertical-align: middle;\n",
       "    }\n",
       "\n",
       "    .dataframe tbody tr th {\n",
       "        vertical-align: top;\n",
       "    }\n",
       "\n",
       "    .dataframe thead th {\n",
       "        text-align: right;\n",
       "    }\n",
       "</style>\n",
       "<table border=\"1\" class=\"dataframe\">\n",
       "  <thead>\n",
       "    <tr style=\"text-align: right;\">\n",
       "      <th></th>\n",
       "      <th>school</th>\n",
       "      <th>sex</th>\n",
       "      <th>age</th>\n",
       "      <th>address</th>\n",
       "      <th>famsize</th>\n",
       "      <th>Pstatus</th>\n",
       "      <th>Medu</th>\n",
       "      <th>Fedu</th>\n",
       "      <th>Mjob</th>\n",
       "      <th>Fjob</th>\n",
       "      <th>...</th>\n",
       "      <th>famrel</th>\n",
       "      <th>freetime</th>\n",
       "      <th>goout</th>\n",
       "      <th>Dalc</th>\n",
       "      <th>Walc</th>\n",
       "      <th>health</th>\n",
       "      <th>absences</th>\n",
       "      <th>G1</th>\n",
       "      <th>G2</th>\n",
       "      <th>G3</th>\n",
       "    </tr>\n",
       "  </thead>\n",
       "  <tbody>\n",
       "    <tr>\n",
       "      <th>0</th>\n",
       "      <td>GP</td>\n",
       "      <td>F</td>\n",
       "      <td>18</td>\n",
       "      <td>U</td>\n",
       "      <td>GT3</td>\n",
       "      <td>A</td>\n",
       "      <td>4</td>\n",
       "      <td>4</td>\n",
       "      <td>at_home</td>\n",
       "      <td>teacher</td>\n",
       "      <td>...</td>\n",
       "      <td>4</td>\n",
       "      <td>3</td>\n",
       "      <td>4</td>\n",
       "      <td>1</td>\n",
       "      <td>1</td>\n",
       "      <td>3</td>\n",
       "      <td>4</td>\n",
       "      <td>0</td>\n",
       "      <td>11</td>\n",
       "      <td>11</td>\n",
       "    </tr>\n",
       "    <tr>\n",
       "      <th>1</th>\n",
       "      <td>GP</td>\n",
       "      <td>F</td>\n",
       "      <td>17</td>\n",
       "      <td>U</td>\n",
       "      <td>GT3</td>\n",
       "      <td>T</td>\n",
       "      <td>1</td>\n",
       "      <td>1</td>\n",
       "      <td>at_home</td>\n",
       "      <td>other</td>\n",
       "      <td>...</td>\n",
       "      <td>5</td>\n",
       "      <td>3</td>\n",
       "      <td>3</td>\n",
       "      <td>1</td>\n",
       "      <td>1</td>\n",
       "      <td>3</td>\n",
       "      <td>2</td>\n",
       "      <td>9</td>\n",
       "      <td>11</td>\n",
       "      <td>11</td>\n",
       "    </tr>\n",
       "    <tr>\n",
       "      <th>2</th>\n",
       "      <td>GP</td>\n",
       "      <td>F</td>\n",
       "      <td>15</td>\n",
       "      <td>U</td>\n",
       "      <td>LE3</td>\n",
       "      <td>T</td>\n",
       "      <td>1</td>\n",
       "      <td>1</td>\n",
       "      <td>at_home</td>\n",
       "      <td>other</td>\n",
       "      <td>...</td>\n",
       "      <td>4</td>\n",
       "      <td>3</td>\n",
       "      <td>2</td>\n",
       "      <td>2</td>\n",
       "      <td>3</td>\n",
       "      <td>3</td>\n",
       "      <td>6</td>\n",
       "      <td>12</td>\n",
       "      <td>13</td>\n",
       "      <td>12</td>\n",
       "    </tr>\n",
       "    <tr>\n",
       "      <th>3</th>\n",
       "      <td>GP</td>\n",
       "      <td>F</td>\n",
       "      <td>15</td>\n",
       "      <td>U</td>\n",
       "      <td>GT3</td>\n",
       "      <td>T</td>\n",
       "      <td>4</td>\n",
       "      <td>2</td>\n",
       "      <td>health</td>\n",
       "      <td>services</td>\n",
       "      <td>...</td>\n",
       "      <td>3</td>\n",
       "      <td>2</td>\n",
       "      <td>2</td>\n",
       "      <td>1</td>\n",
       "      <td>1</td>\n",
       "      <td>5</td>\n",
       "      <td>0</td>\n",
       "      <td>14</td>\n",
       "      <td>14</td>\n",
       "      <td>14</td>\n",
       "    </tr>\n",
       "    <tr>\n",
       "      <th>4</th>\n",
       "      <td>GP</td>\n",
       "      <td>F</td>\n",
       "      <td>16</td>\n",
       "      <td>U</td>\n",
       "      <td>GT3</td>\n",
       "      <td>T</td>\n",
       "      <td>3</td>\n",
       "      <td>3</td>\n",
       "      <td>other</td>\n",
       "      <td>other</td>\n",
       "      <td>...</td>\n",
       "      <td>4</td>\n",
       "      <td>3</td>\n",
       "      <td>2</td>\n",
       "      <td>1</td>\n",
       "      <td>2</td>\n",
       "      <td>5</td>\n",
       "      <td>0</td>\n",
       "      <td>11</td>\n",
       "      <td>13</td>\n",
       "      <td>13</td>\n",
       "    </tr>\n",
       "  </tbody>\n",
       "</table>\n",
       "<p>5 rows × 33 columns</p>\n",
       "</div>"
      ],
      "text/plain": [
       "  school sex  age address famsize Pstatus  Medu  Fedu     Mjob      Fjob  ...  \\\n",
       "0     GP   F   18       U     GT3       A     4     4  at_home   teacher  ...   \n",
       "1     GP   F   17       U     GT3       T     1     1  at_home     other  ...   \n",
       "2     GP   F   15       U     LE3       T     1     1  at_home     other  ...   \n",
       "3     GP   F   15       U     GT3       T     4     2   health  services  ...   \n",
       "4     GP   F   16       U     GT3       T     3     3    other     other  ...   \n",
       "\n",
       "  famrel freetime  goout  Dalc  Walc health absences  G1  G2  G3  \n",
       "0      4        3      4     1     1      3        4   0  11  11  \n",
       "1      5        3      3     1     1      3        2   9  11  11  \n",
       "2      4        3      2     2     3      3        6  12  13  12  \n",
       "3      3        2      2     1     1      5        0  14  14  14  \n",
       "4      4        3      2     1     2      5        0  11  13  13  \n",
       "\n",
       "[5 rows x 33 columns]"
      ]
     },
     "execution_count": 7,
     "metadata": {},
     "output_type": "execute_result"
    }
   ],
   "source": [
    "import pandas as pd\n",
    "from ucimlrepo import fetch_ucirepo \n",
    "  \n",
    "# fetch dataset \n",
    "student_performance = fetch_ucirepo(id=320) \n",
    "  \n",
    "# data (as pandas dataframes) \n",
    "X = student_performance.data.features \n",
    "y = student_performance.data.targets \n",
    "  \n",
    "df = pd.concat([X, y], axis=1)\n",
    "df.head()\n"
   ]
  },
  {
   "cell_type": "code",
   "execution_count": null,
   "id": "ec9adfe9",
   "metadata": {},
   "outputs": [
    {
     "data": {
      "text/plain": [
       "pandas.core.frame.DataFrame"
      ]
     },
     "execution_count": 12,
     "metadata": {},
     "output_type": "execute_result"
    }
   ],
   "source": [
    "# Exploratory Data Analysis (EDA)\n"
   ]
  }
 ],
 "metadata": {
  "kernelspec": {
   "display_name": "Python 3",
   "language": "python",
   "name": "python3"
  },
  "language_info": {
   "codemirror_mode": {
    "name": "ipython",
    "version": 3
   },
   "file_extension": ".py",
   "mimetype": "text/x-python",
   "name": "python",
   "nbconvert_exporter": "python",
   "pygments_lexer": "ipython3",
   "version": "3.13.2"
  }
 },
 "nbformat": 4,
 "nbformat_minor": 5
}

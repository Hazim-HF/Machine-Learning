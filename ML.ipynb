{
 "cells": [
  {
   "cell_type": "markdown",
   "metadata": {},
   "source": [
    "# Import common library"
   ]
  },
  {
   "cell_type": "code",
   "execution_count": 2,
   "metadata": {},
   "outputs": [],
   "source": [
    "import pandas as pd\n",
    "import numpy as np\n",
    "import matplotlib.pyplot as plt\n",
    "import seaborn as sns\n",
    "import os\n",
    "from sklearn.model_selection import train_test_split, cross_val_score, LeaveOneOut, KFold\n",
    "from sklearn.metrics import mean_squared_error\n",
    "from sklearn.linear_model import LinearRegression\n",
    "from statsmodels.api import OLS, add_constant\n",
    "from mlxtend.feature_selection import SequentialFeatureSelector"
   ]
  },
  {
   "cell_type": "code",
   "execution_count": 6,
   "metadata": {},
   "outputs": [],
   "source": [
    "os.chdir('D:/Machine-Learning')"
   ]
  },
  {
   "cell_type": "markdown",
   "metadata": {},
   "source": [
    "<h1 style='font-weight:bold; color:orange'>Introduction to Machine Learning (Week 1)</h1>"
   ]
  },
  {
   "cell_type": "markdown",
   "metadata": {},
   "source": [
    "<h1 style='font-weight:bold; color:orange'>3 Linear Regression (Week 2, Chapter 3)</h1>"
   ]
  },
  {
   "cell_type": "markdown",
   "metadata": {},
   "source": [
    "<h2 style='font-weight:bold; color:#00bfff'> 3.1 Simple Linear Regression </h2>"
   ]
  },
  {
   "cell_type": "markdown",
   "metadata": {},
   "source": [
    "<h3 style='color:#00bfff; font-weight:bold'>using statsmodel</h3>\n",
    "\n",
    "`getwd()`<br>\n",
    "`setwd('D:/machine-learning/data')`<br>\n",
    "`boston = read.csv('boston.csv')`<br>\n",
    "`model = lm('medv ~ .', data = boston)`<br>\n",
    "`summary(model)`<br>\n"
   ]
  },
  {
   "cell_type": "code",
   "execution_count": null,
   "metadata": {},
   "outputs": [
    {
     "data": {
      "text/html": [
       "<table class=\"simpletable\">\n",
       "<caption>OLS Regression Results</caption>\n",
       "<tr>\n",
       "  <th>Dep. Variable:</th>          <td>medv</td>       <th>  R-squared:         </th> <td>   0.741</td> \n",
       "</tr>\n",
       "<tr>\n",
       "  <th>Model:</th>                   <td>OLS</td>       <th>  Adj. R-squared:    </th> <td>   0.734</td> \n",
       "</tr>\n",
       "<tr>\n",
       "  <th>Method:</th>             <td>Least Squares</td>  <th>  F-statistic:       </th> <td>   108.1</td> \n",
       "</tr>\n",
       "<tr>\n",
       "  <th>Date:</th>             <td>Tue, 10 Jun 2025</td> <th>  Prob (F-statistic):</th> <td>6.72e-135</td>\n",
       "</tr>\n",
       "<tr>\n",
       "  <th>Time:</th>                 <td>20:02:10</td>     <th>  Log-Likelihood:    </th> <td> -1498.8</td> \n",
       "</tr>\n",
       "<tr>\n",
       "  <th>No. Observations:</th>      <td>   506</td>      <th>  AIC:               </th> <td>   3026.</td> \n",
       "</tr>\n",
       "<tr>\n",
       "  <th>Df Residuals:</th>          <td>   492</td>      <th>  BIC:               </th> <td>   3085.</td> \n",
       "</tr>\n",
       "<tr>\n",
       "  <th>Df Model:</th>              <td>    13</td>      <th>                     </th>     <td> </td>    \n",
       "</tr>\n",
       "<tr>\n",
       "  <th>Covariance Type:</th>      <td>nonrobust</td>    <th>                     </th>     <td> </td>    \n",
       "</tr>\n",
       "</table>\n",
       "<table class=\"simpletable\">\n",
       "<tr>\n",
       "     <td></td>        <th>coef</th>     <th>std err</th>      <th>t</th>      <th>P>|t|</th>  <th>[0.025</th>    <th>0.975]</th>  \n",
       "</tr>\n",
       "<tr>\n",
       "  <th>const</th>   <td>   36.4595</td> <td>    5.103</td> <td>    7.144</td> <td> 0.000</td> <td>   26.432</td> <td>   46.487</td>\n",
       "</tr>\n",
       "<tr>\n",
       "  <th>crim</th>    <td>   -0.1080</td> <td>    0.033</td> <td>   -3.287</td> <td> 0.001</td> <td>   -0.173</td> <td>   -0.043</td>\n",
       "</tr>\n",
       "<tr>\n",
       "  <th>zn</th>      <td>    0.0464</td> <td>    0.014</td> <td>    3.382</td> <td> 0.001</td> <td>    0.019</td> <td>    0.073</td>\n",
       "</tr>\n",
       "<tr>\n",
       "  <th>indus</th>   <td>    0.0206</td> <td>    0.061</td> <td>    0.334</td> <td> 0.738</td> <td>   -0.100</td> <td>    0.141</td>\n",
       "</tr>\n",
       "<tr>\n",
       "  <th>chas</th>    <td>    2.6867</td> <td>    0.862</td> <td>    3.118</td> <td> 0.002</td> <td>    0.994</td> <td>    4.380</td>\n",
       "</tr>\n",
       "<tr>\n",
       "  <th>nox</th>     <td>  -17.7666</td> <td>    3.820</td> <td>   -4.651</td> <td> 0.000</td> <td>  -25.272</td> <td>  -10.262</td>\n",
       "</tr>\n",
       "<tr>\n",
       "  <th>rm</th>      <td>    3.8099</td> <td>    0.418</td> <td>    9.116</td> <td> 0.000</td> <td>    2.989</td> <td>    4.631</td>\n",
       "</tr>\n",
       "<tr>\n",
       "  <th>age</th>     <td>    0.0007</td> <td>    0.013</td> <td>    0.052</td> <td> 0.958</td> <td>   -0.025</td> <td>    0.027</td>\n",
       "</tr>\n",
       "<tr>\n",
       "  <th>dis</th>     <td>   -1.4756</td> <td>    0.199</td> <td>   -7.398</td> <td> 0.000</td> <td>   -1.867</td> <td>   -1.084</td>\n",
       "</tr>\n",
       "<tr>\n",
       "  <th>rad</th>     <td>    0.3060</td> <td>    0.066</td> <td>    4.613</td> <td> 0.000</td> <td>    0.176</td> <td>    0.436</td>\n",
       "</tr>\n",
       "<tr>\n",
       "  <th>tax</th>     <td>   -0.0123</td> <td>    0.004</td> <td>   -3.280</td> <td> 0.001</td> <td>   -0.020</td> <td>   -0.005</td>\n",
       "</tr>\n",
       "<tr>\n",
       "  <th>ptratio</th> <td>   -0.9527</td> <td>    0.131</td> <td>   -7.283</td> <td> 0.000</td> <td>   -1.210</td> <td>   -0.696</td>\n",
       "</tr>\n",
       "<tr>\n",
       "  <th>black</th>   <td>    0.0093</td> <td>    0.003</td> <td>    3.467</td> <td> 0.001</td> <td>    0.004</td> <td>    0.015</td>\n",
       "</tr>\n",
       "<tr>\n",
       "  <th>lstat</th>   <td>   -0.5248</td> <td>    0.051</td> <td>  -10.347</td> <td> 0.000</td> <td>   -0.624</td> <td>   -0.425</td>\n",
       "</tr>\n",
       "</table>\n",
       "<table class=\"simpletable\">\n",
       "<tr>\n",
       "  <th>Omnibus:</th>       <td>178.041</td> <th>  Durbin-Watson:     </th> <td>   1.078</td> \n",
       "</tr>\n",
       "<tr>\n",
       "  <th>Prob(Omnibus):</th> <td> 0.000</td>  <th>  Jarque-Bera (JB):  </th> <td> 783.126</td> \n",
       "</tr>\n",
       "<tr>\n",
       "  <th>Skew:</th>          <td> 1.521</td>  <th>  Prob(JB):          </th> <td>8.84e-171</td>\n",
       "</tr>\n",
       "<tr>\n",
       "  <th>Kurtosis:</th>      <td> 8.281</td>  <th>  Cond. No.          </th> <td>1.51e+04</td> \n",
       "</tr>\n",
       "</table><br/><br/>Notes:<br/>[1] Standard Errors assume that the covariance matrix of the errors is correctly specified.<br/>[2] The condition number is large, 1.51e+04. This might indicate that there are<br/>strong multicollinearity or other numerical problems."
      ],
      "text/latex": [
       "\\begin{center}\n",
       "\\begin{tabular}{lclc}\n",
       "\\toprule\n",
       "\\textbf{Dep. Variable:}    &       medv       & \\textbf{  R-squared:         } &     0.741   \\\\\n",
       "\\textbf{Model:}            &       OLS        & \\textbf{  Adj. R-squared:    } &     0.734   \\\\\n",
       "\\textbf{Method:}           &  Least Squares   & \\textbf{  F-statistic:       } &     108.1   \\\\\n",
       "\\textbf{Date:}             & Tue, 10 Jun 2025 & \\textbf{  Prob (F-statistic):} & 6.72e-135   \\\\\n",
       "\\textbf{Time:}             &     20:02:10     & \\textbf{  Log-Likelihood:    } &   -1498.8   \\\\\n",
       "\\textbf{No. Observations:} &         506      & \\textbf{  AIC:               } &     3026.   \\\\\n",
       "\\textbf{Df Residuals:}     &         492      & \\textbf{  BIC:               } &     3085.   \\\\\n",
       "\\textbf{Df Model:}         &          13      & \\textbf{                     } &             \\\\\n",
       "\\textbf{Covariance Type:}  &    nonrobust     & \\textbf{                     } &             \\\\\n",
       "\\bottomrule\n",
       "\\end{tabular}\n",
       "\\begin{tabular}{lcccccc}\n",
       "                 & \\textbf{coef} & \\textbf{std err} & \\textbf{t} & \\textbf{P$> |$t$|$} & \\textbf{[0.025} & \\textbf{0.975]}  \\\\\n",
       "\\midrule\n",
       "\\textbf{const}   &      36.4595  &        5.103     &     7.144  &         0.000        &       26.432    &       46.487     \\\\\n",
       "\\textbf{crim}    &      -0.1080  &        0.033     &    -3.287  &         0.001        &       -0.173    &       -0.043     \\\\\n",
       "\\textbf{zn}      &       0.0464  &        0.014     &     3.382  &         0.001        &        0.019    &        0.073     \\\\\n",
       "\\textbf{indus}   &       0.0206  &        0.061     &     0.334  &         0.738        &       -0.100    &        0.141     \\\\\n",
       "\\textbf{chas}    &       2.6867  &        0.862     &     3.118  &         0.002        &        0.994    &        4.380     \\\\\n",
       "\\textbf{nox}     &     -17.7666  &        3.820     &    -4.651  &         0.000        &      -25.272    &      -10.262     \\\\\n",
       "\\textbf{rm}      &       3.8099  &        0.418     &     9.116  &         0.000        &        2.989    &        4.631     \\\\\n",
       "\\textbf{age}     &       0.0007  &        0.013     &     0.052  &         0.958        &       -0.025    &        0.027     \\\\\n",
       "\\textbf{dis}     &      -1.4756  &        0.199     &    -7.398  &         0.000        &       -1.867    &       -1.084     \\\\\n",
       "\\textbf{rad}     &       0.3060  &        0.066     &     4.613  &         0.000        &        0.176    &        0.436     \\\\\n",
       "\\textbf{tax}     &      -0.0123  &        0.004     &    -3.280  &         0.001        &       -0.020    &       -0.005     \\\\\n",
       "\\textbf{ptratio} &      -0.9527  &        0.131     &    -7.283  &         0.000        &       -1.210    &       -0.696     \\\\\n",
       "\\textbf{black}   &       0.0093  &        0.003     &     3.467  &         0.001        &        0.004    &        0.015     \\\\\n",
       "\\textbf{lstat}   &      -0.5248  &        0.051     &   -10.347  &         0.000        &       -0.624    &       -0.425     \\\\\n",
       "\\bottomrule\n",
       "\\end{tabular}\n",
       "\\begin{tabular}{lclc}\n",
       "\\textbf{Omnibus:}       & 178.041 & \\textbf{  Durbin-Watson:     } &     1.078  \\\\\n",
       "\\textbf{Prob(Omnibus):} &   0.000 & \\textbf{  Jarque-Bera (JB):  } &   783.126  \\\\\n",
       "\\textbf{Skew:}          &   1.521 & \\textbf{  Prob(JB):          } & 8.84e-171  \\\\\n",
       "\\textbf{Kurtosis:}      &   8.281 & \\textbf{  Cond. No.          } &  1.51e+04  \\\\\n",
       "\\bottomrule\n",
       "\\end{tabular}\n",
       "%\\caption{OLS Regression Results}\n",
       "\\end{center}\n",
       "\n",
       "Notes: \\newline\n",
       " [1] Standard Errors assume that the covariance matrix of the errors is correctly specified. \\newline\n",
       " [2] The condition number is large, 1.51e+04. This might indicate that there are \\newline\n",
       " strong multicollinearity or other numerical problems."
      ],
      "text/plain": [
       "<class 'statsmodels.iolib.summary.Summary'>\n",
       "\"\"\"\n",
       "                            OLS Regression Results                            \n",
       "==============================================================================\n",
       "Dep. Variable:                   medv   R-squared:                       0.741\n",
       "Model:                            OLS   Adj. R-squared:                  0.734\n",
       "Method:                 Least Squares   F-statistic:                     108.1\n",
       "Date:                Tue, 10 Jun 2025   Prob (F-statistic):          6.72e-135\n",
       "Time:                        20:02:10   Log-Likelihood:                -1498.8\n",
       "No. Observations:                 506   AIC:                             3026.\n",
       "Df Residuals:                     492   BIC:                             3085.\n",
       "Df Model:                          13                                         \n",
       "Covariance Type:            nonrobust                                         \n",
       "==============================================================================\n",
       "                 coef    std err          t      P>|t|      [0.025      0.975]\n",
       "------------------------------------------------------------------------------\n",
       "const         36.4595      5.103      7.144      0.000      26.432      46.487\n",
       "crim          -0.1080      0.033     -3.287      0.001      -0.173      -0.043\n",
       "zn             0.0464      0.014      3.382      0.001       0.019       0.073\n",
       "indus          0.0206      0.061      0.334      0.738      -0.100       0.141\n",
       "chas           2.6867      0.862      3.118      0.002       0.994       4.380\n",
       "nox          -17.7666      3.820     -4.651      0.000     -25.272     -10.262\n",
       "rm             3.8099      0.418      9.116      0.000       2.989       4.631\n",
       "age            0.0007      0.013      0.052      0.958      -0.025       0.027\n",
       "dis           -1.4756      0.199     -7.398      0.000      -1.867      -1.084\n",
       "rad            0.3060      0.066      4.613      0.000       0.176       0.436\n",
       "tax           -0.0123      0.004     -3.280      0.001      -0.020      -0.005\n",
       "ptratio       -0.9527      0.131     -7.283      0.000      -1.210      -0.696\n",
       "black          0.0093      0.003      3.467      0.001       0.004       0.015\n",
       "lstat         -0.5248      0.051    -10.347      0.000      -0.624      -0.425\n",
       "==============================================================================\n",
       "Omnibus:                      178.041   Durbin-Watson:                   1.078\n",
       "Prob(Omnibus):                  0.000   Jarque-Bera (JB):              783.126\n",
       "Skew:                           1.521   Prob(JB):                    8.84e-171\n",
       "Kurtosis:                       8.281   Cond. No.                     1.51e+04\n",
       "==============================================================================\n",
       "\n",
       "Notes:\n",
       "[1] Standard Errors assume that the covariance matrix of the errors is correctly specified.\n",
       "[2] The condition number is large, 1.51e+04. This might indicate that there are\n",
       "strong multicollinearity or other numerical problems.\n",
       "\"\"\""
      ]
     },
     "execution_count": 27,
     "metadata": {},
     "output_type": "execute_result"
    }
   ],
   "source": [
    "boston = pd.read_csv('data/boston.csv')\n",
    "# Y = medv (Median value of owner-occupied homes in $1000s)\n",
    "\n",
    "# response variable is medv\n",
    "y = boston['medv']\n",
    "\n",
    "# predictor variables are all other columns (13 columns)\n",
    "x = boston.drop('medv', axis=1)\n",
    "\n",
    "# add constant for the intercept to predictor variables\n",
    "# If no constant added, it will pass through the origin (0,0)\n",
    "x1 = add_constant(x)\n",
    "\n",
    "# create and fit the OLS model\n",
    "model = OLS(y, x1).fit()\n",
    "\n",
    "# print the summary of the model\n",
    "model.summary()"
   ]
  },
  {
   "cell_type": "markdown",
   "metadata": {},
   "source": [
    "<h3 style='font-weight:bold; color:#00bfff'> Using scikit-learn </h3>"
   ]
  },
  {
   "cell_type": "code",
   "execution_count": null,
   "metadata": {},
   "outputs": [],
   "source": []
  },
  {
   "cell_type": "markdown",
   "metadata": {},
   "source": [
    "<h1 style='font-weight:bold; color:orange'> 4 Classification (Week 3, Chapter 4) </h1>"
   ]
  },
  {
   "cell_type": "code",
   "execution_count": 29,
   "metadata": {},
   "outputs": [
    {
     "name": "stdout",
     "output_type": "stream",
     "text": [
      "  default student      balance        income\n",
      "0      No      No   729.526495  44361.625074\n",
      "1      No     Yes   817.180407  12106.134700\n",
      "2      No      No  1073.549164  31767.138947\n",
      "3      No      No   529.250605  35704.493935\n",
      "4      No      No   785.655883  38463.495879\n",
      "5      No     Yes   919.588530   7491.558572\n",
      "6      No      No   825.513331  24905.226578\n",
      "7      No     Yes   808.667504  17600.451344\n",
      "8      No      No  1161.057854  37468.529288\n",
      "9      No      No     0.000000  29275.268293\n",
      "--------------------------------------------\n",
      "(10000, 4)\n"
     ]
    }
   ],
   "source": [
    "default = pd.read_csv('data/default.csv')\n",
    "print(default.head(10))\n",
    "print('--------------------------------------------')\n",
    "print(default.shape)"
   ]
  },
  {
   "cell_type": "code",
   "execution_count": 34,
   "metadata": {},
   "outputs": [
    {
     "data": {
      "image/png": "[encoded data removed]",
      "text/plain": [
       "<Figure size 640x480 with 1 Axes>"
      ]
     },
     "metadata": {},
     "output_type": "display_data"
    }
   ],
   "source": [
    "sns.scatterplot(x='balance', y='income', data=default.sample(1000), hue='default')\n",
    "plt.show();"
   ]
  },
  {
   "cell_type": "markdown",
   "metadata": {},
   "source": [
    "income does not influence whether a person default or not but balance does influence where a person with higher balance is more likely to default than a person with a lower balance."
   ]
  },
  {
   "cell_type": "code",
   "execution_count": 35,
   "metadata": {},
   "outputs": [
    {
     "data": {
      "image/png": "[encoded data removed]",
      "text/plain": [
       "<Figure size 640x480 with 1 Axes>"
      ]
     },
     "metadata": {},
     "output_type": "display_data"
    }
   ],
   "source": [
    "sns.boxplot(x='student', y='balance', data=default, hue='default');"
   ]
  },
  {
   "cell_type": "markdown",
   "metadata": {},
   "source": [
    "Student or not does not effect whether a person is a defaulter or not."
   ]
  },
  {
   "cell_type": "code",
   "execution_count": 36,
   "metadata": {},
   "outputs": [
    {
     "data": {
      "application/vnd.microsoft.datawrangler.viewer.v0+json": {
       "columns": [
        {
         "name": "index",
         "rawType": "int64",
         "type": "integer"
        },
        {
         "name": "default",
         "rawType": "object",
         "type": "string"
        },
        {
         "name": "student",
         "rawType": "object",
         "type": "string"
        },
        {
         "name": "balance",
         "rawType": "float64",
         "type": "float"
        },
        {
         "name": "income",
         "rawType": "float64",
         "type": "float"
        },
        {
         "name": "Yes",
         "rawType": "int64",
         "type": "integer"
        }
       ],
       "ref": "f5616b34-6f09-49b0-8ad5-d2ca9ebb0733",
       "rows": [
        [
         "0",
         "No",
         "No",
         "729.5264952072861",
         "44361.62507426691",
         "0"
        ],
        [
         "1",
         "No",
         "Yes",
         "817.180406555498",
         "12106.1347003149",
         "0"
        ],
        [
         "2",
         "No",
         "No",
         "1073.54916401173",
         "31767.1389473999",
         "0"
        ],
        [
         "3",
         "No",
         "No",
         "529.250604745278",
         "35704.4939350781",
         "0"
        ],
        [
         "4",
         "No",
         "No",
         "785.655882930501",
         "38463.4958787229",
         "0"
        ],
        [
         "5",
         "No",
         "Yes",
         "919.5885304745",
         "7491.55857182746",
         "0"
        ],
        [
         "6",
         "No",
         "No",
         "825.513330517201",
         "24905.226577523503",
         "0"
        ],
        [
         "7",
         "No",
         "Yes",
         "808.667504297266",
         "17600.4513435869",
         "0"
        ],
        [
         "8",
         "No",
         "No",
         "1161.05785403132",
         "37468.5292875375",
         "0"
        ],
        [
         "9",
         "No",
         "No",
         "0.0",
         "29275.2682931678",
         "0"
        ]
       ],
       "shape": {
        "columns": 5,
        "rows": 10
       }
      },
      "text/html": [
       "<div>\n",
       "<style scoped>\n",
       "    .dataframe tbody tr th:only-of-type {\n",
       "        vertical-align: middle;\n",
       "    }\n",
       "\n",
       "    .dataframe tbody tr th {\n",
       "        vertical-align: top;\n",
       "    }\n",
       "\n",
       "    .dataframe thead th {\n",
       "        text-align: right;\n",
       "    }\n",
       "</style>\n",
       "<table border=\"1\" class=\"dataframe\">\n",
       "  <thead>\n",
       "    <tr style=\"text-align: right;\">\n",
       "      <th></th>\n",
       "      <th>default</th>\n",
       "      <th>student</th>\n",
       "      <th>balance</th>\n",
       "      <th>income</th>\n",
       "      <th>Yes</th>\n",
       "    </tr>\n",
       "  </thead>\n",
       "  <tbody>\n",
       "    <tr>\n",
       "      <th>0</th>\n",
       "      <td>No</td>\n",
       "      <td>No</td>\n",
       "      <td>729.526495</td>\n",
       "      <td>44361.625074</td>\n",
       "      <td>0</td>\n",
       "    </tr>\n",
       "    <tr>\n",
       "      <th>1</th>\n",
       "      <td>No</td>\n",
       "      <td>Yes</td>\n",
       "      <td>817.180407</td>\n",
       "      <td>12106.134700</td>\n",
       "      <td>0</td>\n",
       "    </tr>\n",
       "    <tr>\n",
       "      <th>2</th>\n",
       "      <td>No</td>\n",
       "      <td>No</td>\n",
       "      <td>1073.549164</td>\n",
       "      <td>31767.138947</td>\n",
       "      <td>0</td>\n",
       "    </tr>\n",
       "    <tr>\n",
       "      <th>3</th>\n",
       "      <td>No</td>\n",
       "      <td>No</td>\n",
       "      <td>529.250605</td>\n",
       "      <td>35704.493935</td>\n",
       "      <td>0</td>\n",
       "    </tr>\n",
       "    <tr>\n",
       "      <th>4</th>\n",
       "      <td>No</td>\n",
       "      <td>No</td>\n",
       "      <td>785.655883</td>\n",
       "      <td>38463.495879</td>\n",
       "      <td>0</td>\n",
       "    </tr>\n",
       "    <tr>\n",
       "      <th>5</th>\n",
       "      <td>No</td>\n",
       "      <td>Yes</td>\n",
       "      <td>919.588530</td>\n",
       "      <td>7491.558572</td>\n",
       "      <td>0</td>\n",
       "    </tr>\n",
       "    <tr>\n",
       "      <th>6</th>\n",
       "      <td>No</td>\n",
       "      <td>No</td>\n",
       "      <td>825.513331</td>\n",
       "      <td>24905.226578</td>\n",
       "      <td>0</td>\n",
       "    </tr>\n",
       "    <tr>\n",
       "      <th>7</th>\n",
       "      <td>No</td>\n",
       "      <td>Yes</td>\n",
       "      <td>808.667504</td>\n",
       "      <td>17600.451344</td>\n",
       "      <td>0</td>\n",
       "    </tr>\n",
       "    <tr>\n",
       "      <th>8</th>\n",
       "      <td>No</td>\n",
       "      <td>No</td>\n",
       "      <td>1161.057854</td>\n",
       "      <td>37468.529288</td>\n",
       "      <td>0</td>\n",
       "    </tr>\n",
       "    <tr>\n",
       "      <th>9</th>\n",
       "      <td>No</td>\n",
       "      <td>No</td>\n",
       "      <td>0.000000</td>\n",
       "      <td>29275.268293</td>\n",
       "      <td>0</td>\n",
       "    </tr>\n",
       "  </tbody>\n",
       "</table>\n",
       "</div>"
      ],
      "text/plain": [
       "  default student      balance        income  Yes\n",
       "0      No      No   729.526495  44361.625074    0\n",
       "1      No     Yes   817.180407  12106.134700    0\n",
       "2      No      No  1073.549164  31767.138947    0\n",
       "3      No      No   529.250605  35704.493935    0\n",
       "4      No      No   785.655883  38463.495879    0\n",
       "5      No     Yes   919.588530   7491.558572    0\n",
       "6      No      No   825.513331  24905.226578    0\n",
       "7      No     Yes   808.667504  17600.451344    0\n",
       "8      No      No  1161.057854  37468.529288    0\n",
       "9      No      No     0.000000  29275.268293    0"
      ]
     },
     "execution_count": 36,
     "metadata": {},
     "output_type": "execute_result"
    }
   ],
   "source": [
    "default['Yes'] = (default['default'] == 'Yes').astype(int)\n",
    "default.head(10)"
   ]
  },
  {
   "cell_type": "code",
   "execution_count": 37,
   "metadata": {},
   "outputs": [
    {
     "name": "stdout",
     "output_type": "stream",
     "text": [
      "Optimization terminated successfully.\n",
      "         Current function value: 0.079823\n",
      "         Iterations 10\n"
     ]
    },
    {
     "data": {
      "text/plain": [
       "<statsmodels.discrete.discrete_model.BinaryResultsWrapper at 0x1af686c9d30>"
      ]
     },
     "execution_count": 37,
     "metadata": {},
     "output_type": "execute_result"
    }
   ],
   "source": [
    "import statsmodels.formula.api as smf\n",
    "smf.logit(formula='Yes ~ balance', data=default).fit()"
   ]
  },
  {
   "cell_type": "markdown",
   "metadata": {},
   "source": [
    "<h1 style='font-weight:bold; color:orange'> 5 Resampling Methods (Week 4, Chapter 5) </h1>"
   ]
  },
  {
   "cell_type": "markdown",
   "metadata": {},
   "source": [
    "<h2 style='font-weight:bold; color:#00bfff'> 5.1 Cross Validation </h2>"
   ]
  },
  {
   "cell_type": "markdown",
   "metadata": {},
   "source": [
    "<h3 style='font-weight:bold; color:#00bfff'> 5.1.1 The Validation Set Approach </h3>\n",
    "\n",
    "The validation set approach split the data into two comparable size to validate the training data"
   ]
  },
  {
   "cell_type": "code",
   "execution_count": 40,
   "metadata": {},
   "outputs": [
    {
     "name": "stdout",
     "output_type": "stream",
     "text": [
      "Training MSE: 24.48\n",
      "Test MSE: 22.15\n"
     ]
    }
   ],
   "source": [
    "# load data\n",
    "auto = pd.read_csv('data/auto.csv')\n",
    "\n",
    "# split data into training and test sets\n",
    "auto_train, auto_test = train_test_split(auto, test_size=0.2, random_state=42)\n",
    "\n",
    "# define the predictor and response variables for the training set\n",
    "y_train = auto_train['mpg']\n",
    "x_train = auto_train['horsepower'].values.reshape(-1, 1)\n",
    "\n",
    "# define the predictor and response variables for the test set\n",
    "y_test = auto_test['mpg']\n",
    "x_test = auto_test['horsepower'].values.reshape(-1, 1)\n",
    "\n",
    "# fit a linear regression model on the training set\n",
    "lr = LinearRegression()\n",
    "model = lr.fit(x_train, y_train)\n",
    "\n",
    "# make predictions on the training set\n",
    "train_pred = model.predict(x_train)\n",
    "\n",
    "# make predictions on the test set\n",
    "test_pred = model.predict(x_test)\n",
    "\n",
    "# calculate the mean squared error on the training set\n",
    "train_mse = mean_squared_error(y_train, train_pred)\n",
    "print(f'Training MSE: {train_mse:.2f}')\n",
    "\n",
    "# calculate the mean squared error on the test set\n",
    "test_mse = mean_squared_error(y_test, test_pred)\n",
    "print(f'Test MSE: {test_mse:.2f}')"
   ]
  },
  {
   "cell_type": "code",
   "execution_count": 41,
   "metadata": {},
   "outputs": [
    {
     "name": "stdout",
     "output_type": "stream",
     "text": [
      "Training MSE: 24.07\n",
      "Test MSE: 23.62\n"
     ]
    }
   ],
   "source": [
    "mse_train = []\n",
    "mse_test = []\n",
    "\n",
    "for i in range(10):\n",
    "    # split data into training and test sets\n",
    "    auto_train, auto_test = train_test_split(auto, test_size=0.2, random_state=i)\n",
    "\n",
    "    # define the predictor and response variables for the training set\n",
    "    y_train = auto_train['mpg']\n",
    "    x_train = auto_train['horsepower'].values.reshape(-1, 1)\n",
    "\n",
    "    # define the predictor and response variables for the test set\n",
    "    y_test = auto_test['mpg']\n",
    "    x_test = auto_test['horsepower'].values.reshape(-1, 1)\n",
    "\n",
    "    # fit a linear regression model on the training set\n",
    "    lr = LinearRegression()\n",
    "    model = lr.fit(x_train, y_train)\n",
    "\n",
    "    # make predictions on the training set\n",
    "    train_pred = model.predict(x_train)\n",
    "\n",
    "    # make predictions on the test set\n",
    "    test_pred = model.predict(x_test)\n",
    "\n",
    "    # calculate the mean squared error on the training set\n",
    "    train_mse = mean_squared_error(y_train, train_pred)\n",
    "    mse_train.append(train_mse)\n",
    "\n",
    "    # calculate the mean squared error on the test set\n",
    "    test_mse = mean_squared_error(y_test, test_pred)\n",
    "    mse_test.append(test_mse)\n",
    "\n",
    "print(f'Training MSE: {np.mean(mse_train):.2f}')\n",
    "print(f'Test MSE: {np.mean(mse_test):.2f}')"
   ]
  },
  {
   "cell_type": "markdown",
   "metadata": {},
   "source": [
    "<h3 style='font-weight:bold; color:#00bfff'> 5.1.2 Leave-One-Out-Cross-Validation </h3>"
   ]
  },
  {
   "cell_type": "code",
   "execution_count": 42,
   "metadata": {},
   "outputs": [
    {
     "name": "stdout",
     "output_type": "stream",
     "text": [
      "LOOCV RMSE: 2.67\n"
     ]
    }
   ],
   "source": [
    "# define x and y\n",
    "y = auto['mpg']\n",
    "x = auto.drop(['mpg', 'name', 'origin'], axis=1).values.reshape(-1, 6)\n",
    "\n",
    "# define loocv\n",
    "loo = LeaveOneOut()\n",
    "\n",
    "# perform loocv with negative mse\n",
    "neg_mse = cross_val_score(lr, x, y, cv=loo, scoring='neg_mean_squared_error')\n",
    "\n",
    "# convert to rmse\n",
    "rmse = np.sqrt(-neg_mse)\n",
    "\n",
    "# print the mean rmse\n",
    "print(f'LOOCV RMSE: {rmse.mean():.2f}')"
   ]
  },
  {
   "cell_type": "markdown",
   "metadata": {},
   "source": [
    "<h3 style='font-weight:bold; color:#00bfff'> 5.1.3 k-Fold Cross-Validation </h3>"
   ]
  },
  {
   "cell_type": "code",
   "execution_count": 43,
   "metadata": {},
   "outputs": [
    {
     "name": "stdout",
     "output_type": "stream",
     "text": [
      "KFold RMSE: 3.43\n"
     ]
    }
   ],
   "source": [
    "# define kfold\n",
    "kf = KFold(n_splits=10, shuffle=True, random_state=42)\n",
    "\n",
    "# negative mse\n",
    "neg_mse = cross_val_score(lr, x, y, cv=kf, scoring='neg_mean_squared_error')\n",
    "\n",
    "# convert to rmse\n",
    "rmse = np.sqrt(-neg_mse)\n",
    "\n",
    "# print the mean rmse\n",
    "print(f'KFold RMSE: {rmse.mean():.2f}')"
   ]
  },
  {
   "cell_type": "code",
   "execution_count": null,
   "metadata": {},
   "outputs": [],
   "source": [
    "# manual k-fold\n",
    "\n",
    "feature = []\n",
    "\n",
    "model = LinearRegression()\n",
    "\n",
    "kf = KFold(n_splits=10, shuffle=True, random_state=42)\n",
    "\n",
    "# visualize the training and testing set for each folds\n",
    "pd.DataFrame(kf.split(X))\n",
    "\n",
    "mse_scores = []\n",
    "\n",
    "# Perform k-fold cross-validation\n",
    "for train_index, test_index in kf.split(X):\n",
    "    X_train, X_test = X.iloc[train_index], X.iloc[test_index]\n",
    "    y_train, y_test = y.iloc[train_index], y.iloc[test_index]\n",
    "    \n",
    "    model.fit(X_train, y_train)\n",
    "    y_pred = model.predict(X_test)\n",
    "    \n",
    "    mse = mean_squared_error(y_test, y_pred)\n",
    "    mse_scores.append(mse)\n",
    "\n",
    "np.mean(mse_scores)"
   ]
  },
  {
   "cell_type": "markdown",
   "metadata": {},
   "source": [
    "Cuba buat manually to check output from the above function"
   ]
  },
  {
   "cell_type": "code",
   "execution_count": null,
   "metadata": {},
   "outputs": [
    {
     "data": {
      "text/plain": [
       "(392, 9)"
      ]
     },
     "execution_count": 44,
     "metadata": {},
     "output_type": "execute_result"
    }
   ],
   "source": [
    "#  auto dataset has 392 rows and 9 columns\n",
    "\n",
    "auto.sample(98)"
   ]
  },
  {
   "cell_type": "markdown",
   "metadata": {},
   "source": [
    "<h2 style='font-weight:bold; color:#00bfff'> 5.2 Bootstrap </h2>"
   ]
  },
  {
   "cell_type": "markdown",
   "metadata": {},
   "source": [
    "<h1 style='font-weight:bold; color:orange'> 6 Linear Model Selection (Week 5, Chapter 6) </h1>\n",
    "\n",
    "- This is also called **Feature Selection**\n",
    "- alternative to least square\n",
    "\n",
    "Advantage of Linear model\n",
    "1. Inference"
   ]
  },
  {
   "cell_type": "markdown",
   "metadata": {},
   "source": [
    "<h2 style='color:#00bfff; font-weight:bold'> 6.1 Subset Selection </h2>"
   ]
  },
  {
   "cell_type": "markdown",
   "metadata": {},
   "source": [
    "<h3 style='color:#00bfff; font-weight:bold'> 6.1.1 Best Subset Selection </h3>\n",
    "\n",
    "Fit a separate least square regression for each possible model. The number of model that we will fit is 2^p where p is the number of variable. For example, if a data has 20 predictor variable, then the number of model will be 2^20 = 1,048,576. This is a very high number of possibility and will use a lot of computational power to execute best subset selection.\n",
    "\n",
    "**Cons**\n",
    "1. Use high computational power if there is a lot number of variables\n",
    "2. Higher search space leads to higher chance of finding model that overfit and have high variance on coefficient estimates\n",
    "\n",
    "no 2 tu maksudnya lagi banyak option yang kita consider untuk bina model, lagi senang untuk kita dapat model yang perform bagus untuk training data tapi tak power untuk predict new/future data. Jadi model tu akan overfit dan ada variance yang tinggi."
   ]
  },
  {
   "cell_type": "code",
   "execution_count": null,
   "metadata": {},
   "outputs": [],
   "source": []
  },
  {
   "cell_type": "code",
   "execution_count": null,
   "metadata": {},
   "outputs": [],
   "source": []
  },
  {
   "cell_type": "markdown",
   "metadata": {},
   "source": [
    "<h3 style='color:#00bfff; font-weight:bold'> 6.1.2 Stepwise Selection </h3>\n",
    "\n",
    "1. Forward Selection\n",
    "2. Backward Selection\n",
    "3. Forward-Backward Selection"
   ]
  },
  {
   "cell_type": "markdown",
   "metadata": {},
   "source": [
    "<h4 style='color:#00bfff; font-weight:bold'> 6.1.2.1 Forward Selection </h4>\n",
    "\n",
    "Begin with no predictor in the model. Then add one at a time until all predictors are in the model. \n",
    "\n",
    "Criteria when choosing model for each iteration\n",
    "1. Lowest RSS\n",
    "2. Highest R^2"
   ]
  },
  {
   "cell_type": "code",
   "execution_count": null,
   "metadata": {},
   "outputs": [
    {
     "data": {
      "application/vnd.microsoft.datawrangler.viewer.v0+json": {
       "columns": [
        {
         "name": "index",
         "rawType": "int64",
         "type": "integer"
        },
        {
         "name": "League_A",
         "rawType": "bool",
         "type": "boolean"
        },
        {
         "name": "League_N",
         "rawType": "bool",
         "type": "boolean"
        },
        {
         "name": "Division_E",
         "rawType": "bool",
         "type": "boolean"
        },
        {
         "name": "Division_W",
         "rawType": "bool",
         "type": "boolean"
        },
        {
         "name": "NewLeague_A",
         "rawType": "bool",
         "type": "boolean"
        },
        {
         "name": "NewLeague_N",
         "rawType": "bool",
         "type": "boolean"
        }
       ],
       "conversionMethod": "pd.DataFrame",
       "ref": "bd33ec97-77fe-4f2f-aa24-9bd5ade0c09d",
       "rows": [
        [
         "1",
         "False",
         "True",
         "False",
         "True",
         "False",
         "True"
        ],
        [
         "2",
         "True",
         "False",
         "False",
         "True",
         "True",
         "False"
        ],
        [
         "3",
         "False",
         "True",
         "True",
         "False",
         "False",
         "True"
        ],
        [
         "4",
         "False",
         "True",
         "True",
         "False",
         "False",
         "True"
        ],
        [
         "5",
         "True",
         "False",
         "False",
         "True",
         "True",
         "False"
        ],
        [
         "6",
         "False",
         "True",
         "True",
         "False",
         "True",
         "False"
        ],
        [
         "7",
         "True",
         "False",
         "False",
         "True",
         "True",
         "False"
        ],
        [
         "8",
         "False",
         "True",
         "False",
         "True",
         "False",
         "True"
        ],
        [
         "9",
         "True",
         "False",
         "True",
         "False",
         "True",
         "False"
        ],
        [
         "10",
         "True",
         "False",
         "True",
         "False",
         "True",
         "False"
        ],
        [
         "11",
         "False",
         "True",
         "False",
         "True",
         "False",
         "True"
        ],
        [
         "12",
         "False",
         "True",
         "True",
         "False",
         "False",
         "True"
        ],
        [
         "13",
         "True",
         "False",
         "True",
         "False",
         "True",
         "False"
        ],
        [
         "14",
         "False",
         "True",
         "True",
         "False",
         "False",
         "True"
        ],
        [
         "16",
         "False",
         "True",
         "False",
         "True",
         "False",
         "True"
        ],
        [
         "17",
         "True",
         "False",
         "False",
         "True",
         "True",
         "False"
        ],
        [
         "19",
         "False",
         "True",
         "False",
         "True",
         "False",
         "True"
        ],
        [
         "20",
         "False",
         "True",
         "True",
         "False",
         "False",
         "True"
        ],
        [
         "21",
         "True",
         "False",
         "False",
         "True",
         "False",
         "True"
        ],
        [
         "23",
         "False",
         "True",
         "False",
         "True",
         "False",
         "True"
        ],
        [
         "24",
         "True",
         "False",
         "True",
         "False",
         "True",
         "False"
        ],
        [
         "25",
         "True",
         "False",
         "True",
         "False",
         "True",
         "False"
        ],
        [
         "26",
         "False",
         "True",
         "True",
         "False",
         "False",
         "True"
        ],
        [
         "27",
         "False",
         "True",
         "False",
         "True",
         "False",
         "True"
        ],
        [
         "28",
         "False",
         "True",
         "False",
         "True",
         "False",
         "True"
        ],
        [
         "29",
         "True",
         "False",
         "False",
         "True",
         "True",
         "False"
        ],
        [
         "31",
         "False",
         "True",
         "False",
         "True",
         "False",
         "True"
        ],
        [
         "33",
         "True",
         "False",
         "True",
         "False",
         "True",
         "False"
        ],
        [
         "34",
         "True",
         "False",
         "False",
         "True",
         "True",
         "False"
        ],
        [
         "35",
         "False",
         "True",
         "False",
         "True",
         "False",
         "True"
        ],
        [
         "37",
         "False",
         "True",
         "False",
         "True",
         "False",
         "True"
        ],
        [
         "40",
         "True",
         "False",
         "True",
         "False",
         "True",
         "False"
        ],
        [
         "43",
         "True",
         "False",
         "True",
         "False",
         "True",
         "False"
        ],
        [
         "45",
         "True",
         "False",
         "True",
         "False",
         "True",
         "False"
        ],
        [
         "46",
         "False",
         "True",
         "False",
         "True",
         "False",
         "True"
        ],
        [
         "47",
         "True",
         "False",
         "True",
         "False",
         "True",
         "False"
        ],
        [
         "49",
         "False",
         "True",
         "False",
         "True",
         "False",
         "True"
        ],
        [
         "50",
         "True",
         "False",
         "False",
         "True",
         "True",
         "False"
        ],
        [
         "51",
         "False",
         "True",
         "True",
         "False",
         "False",
         "True"
        ],
        [
         "53",
         "True",
         "False",
         "False",
         "True",
         "True",
         "False"
        ],
        [
         "54",
         "True",
         "False",
         "True",
         "False",
         "True",
         "False"
        ],
        [
         "55",
         "False",
         "True",
         "False",
         "True",
         "False",
         "True"
        ],
        [
         "56",
         "False",
         "True",
         "False",
         "True",
         "False",
         "True"
        ],
        [
         "58",
         "False",
         "True",
         "False",
         "True",
         "False",
         "True"
        ],
        [
         "59",
         "True",
         "False",
         "True",
         "False",
         "True",
         "False"
        ],
        [
         "60",
         "True",
         "False",
         "True",
         "False",
         "True",
         "False"
        ],
        [
         "61",
         "False",
         "True",
         "True",
         "False",
         "False",
         "True"
        ],
        [
         "62",
         "True",
         "False",
         "False",
         "True",
         "True",
         "False"
        ],
        [
         "63",
         "False",
         "True",
         "False",
         "True",
         "False",
         "True"
        ],
        [
         "65",
         "True",
         "False",
         "True",
         "False",
         "True",
         "False"
        ]
       ],
       "shape": {
        "columns": 6,
        "rows": 263
       }
      },
      "text/html": [
       "<div>\n",
       "<style scoped>\n",
       "    .dataframe tbody tr th:only-of-type {\n",
       "        vertical-align: middle;\n",
       "    }\n",
       "\n",
       "    .dataframe tbody tr th {\n",
       "        vertical-align: top;\n",
       "    }\n",
       "\n",
       "    .dataframe thead th {\n",
       "        text-align: right;\n",
       "    }\n",
       "</style>\n",
       "<table border=\"1\" class=\"dataframe\">\n",
       "  <thead>\n",
       "    <tr style=\"text-align: right;\">\n",
       "      <th></th>\n",
       "      <th>League_A</th>\n",
       "      <th>League_N</th>\n",
       "      <th>Division_E</th>\n",
       "      <th>Division_W</th>\n",
       "      <th>NewLeague_A</th>\n",
       "      <th>NewLeague_N</th>\n",
       "    </tr>\n",
       "  </thead>\n",
       "  <tbody>\n",
       "    <tr>\n",
       "      <th>1</th>\n",
       "      <td>False</td>\n",
       "      <td>True</td>\n",
       "      <td>False</td>\n",
       "      <td>True</td>\n",
       "      <td>False</td>\n",
       "      <td>True</td>\n",
       "    </tr>\n",
       "    <tr>\n",
       "      <th>2</th>\n",
       "      <td>True</td>\n",
       "      <td>False</td>\n",
       "      <td>False</td>\n",
       "      <td>True</td>\n",
       "      <td>True</td>\n",
       "      <td>False</td>\n",
       "    </tr>\n",
       "    <tr>\n",
       "      <th>3</th>\n",
       "      <td>False</td>\n",
       "      <td>True</td>\n",
       "      <td>True</td>\n",
       "      <td>False</td>\n",
       "      <td>False</td>\n",
       "      <td>True</td>\n",
       "    </tr>\n",
       "    <tr>\n",
       "      <th>4</th>\n",
       "      <td>False</td>\n",
       "      <td>True</td>\n",
       "      <td>True</td>\n",
       "      <td>False</td>\n",
       "      <td>False</td>\n",
       "      <td>True</td>\n",
       "    </tr>\n",
       "    <tr>\n",
       "      <th>5</th>\n",
       "      <td>True</td>\n",
       "      <td>False</td>\n",
       "      <td>False</td>\n",
       "      <td>True</td>\n",
       "      <td>True</td>\n",
       "      <td>False</td>\n",
       "    </tr>\n",
       "    <tr>\n",
       "      <th>...</th>\n",
       "      <td>...</td>\n",
       "      <td>...</td>\n",
       "      <td>...</td>\n",
       "      <td>...</td>\n",
       "      <td>...</td>\n",
       "      <td>...</td>\n",
       "    </tr>\n",
       "    <tr>\n",
       "      <th>317</th>\n",
       "      <td>False</td>\n",
       "      <td>True</td>\n",
       "      <td>True</td>\n",
       "      <td>False</td>\n",
       "      <td>False</td>\n",
       "      <td>True</td>\n",
       "    </tr>\n",
       "    <tr>\n",
       "      <th>318</th>\n",
       "      <td>True</td>\n",
       "      <td>False</td>\n",
       "      <td>True</td>\n",
       "      <td>False</td>\n",
       "      <td>True</td>\n",
       "      <td>False</td>\n",
       "    </tr>\n",
       "    <tr>\n",
       "      <th>319</th>\n",
       "      <td>True</td>\n",
       "      <td>False</td>\n",
       "      <td>False</td>\n",
       "      <td>True</td>\n",
       "      <td>True</td>\n",
       "      <td>False</td>\n",
       "    </tr>\n",
       "    <tr>\n",
       "      <th>320</th>\n",
       "      <td>True</td>\n",
       "      <td>False</td>\n",
       "      <td>True</td>\n",
       "      <td>False</td>\n",
       "      <td>True</td>\n",
       "      <td>False</td>\n",
       "    </tr>\n",
       "    <tr>\n",
       "      <th>321</th>\n",
       "      <td>True</td>\n",
       "      <td>False</td>\n",
       "      <td>False</td>\n",
       "      <td>True</td>\n",
       "      <td>True</td>\n",
       "      <td>False</td>\n",
       "    </tr>\n",
       "  </tbody>\n",
       "</table>\n",
       "<p>263 rows × 6 columns</p>\n",
       "</div>"
      ],
      "text/plain": [
       "     League_A  League_N  Division_E  Division_W  NewLeague_A  NewLeague_N\n",
       "1       False      True       False        True        False         True\n",
       "2        True     False       False        True         True        False\n",
       "3       False      True        True       False        False         True\n",
       "4       False      True        True       False        False         True\n",
       "5        True     False       False        True         True        False\n",
       "..        ...       ...         ...         ...          ...          ...\n",
       "317     False      True        True       False        False         True\n",
       "318      True     False        True       False         True        False\n",
       "319      True     False       False        True         True        False\n",
       "320      True     False        True       False         True        False\n",
       "321      True     False       False        True         True        False\n",
       "\n",
       "[263 rows x 6 columns]"
      ]
     },
     "execution_count": 10,
     "metadata": {},
     "output_type": "execute_result"
    }
   ],
   "source": [
    "hitters = pd.read_csv('data/hitters.csv').dropna()\n",
    "\n",
    "y = hitters['Salary']\n",
    "\n",
    "df = pd.get_dummies(hitters[['League', 'Division', 'NewLeague']])\n",
    "\n",
    "lr = LinearRegression()\n",
    "\n",
    "def process(feature):\n",
    "    model = lr.fit(x[feature], y)\n",
    "    pred = model.predict(x[feature])\n",
    "    mse = mean_squared_error(y, pred)\n",
    "    return mse\n",
    "\n",
    "\n"
   ]
  },
  {
   "cell_type": "code",
   "execution_count": null,
   "metadata": {},
   "outputs": [
    {
     "name": "stdout",
     "output_type": "stream",
     "text": [
      "-205708.8753359605\n"
     ]
    }
   ],
   "source": [
    "# load data\n",
    "hitters = pd.read_csv('data/hitters.csv').dropna()\n",
    "\n",
    "# list out all columns with type 'object'\n",
    "object = hitters.select_dtypes(include=['object']).columns\n",
    "\n",
    "# remove all columns with type 'object'\n",
    "hitter = hitters.drop(object, axis=1)\n",
    "\n",
    "# define x and y\n",
    "y = hitter['Salary'] \n",
    "x = hitter.drop('Salary', axis=1)\n",
    "\n",
    "selected_features = []\n",
    "remaining_features = list(x.columns)\n",
    "scores_history = []\n",
    "kf = KFold(n_splits=10, shuffle=True, random_state=42)\n",
    "\n",
    "for feature in remaining_features:\n",
    "    current_features = selected_features + [feature] # add list to list, maybe can use append\n",
    "    subset = x[current_features]\n",
    "    \n",
    "\n",
    "model = LinearRegression()\n",
    "mse = cross_val_score(model, subset, y, cv=kf, scoring='neg_mean_squared_error')\n",
    "avg_mse = np.mean(mse)\n",
    "\n",
    "np.argmax()"
   ]
  },
  {
   "cell_type": "markdown",
   "metadata": {},
   "source": [
    "<h4 style='font-weight:bold; color:#00bfff'> Backward Selection </h4>"
   ]
  },
  {
   "cell_type": "code",
   "execution_count": 37,
   "metadata": {},
   "outputs": [
    {
     "data": {
      "text/plain": [
       "<statsmodels.regression.linear_model.RegressionResultsWrapper at 0x247d90edcd0>"
      ]
     },
     "execution_count": 37,
     "metadata": {},
     "output_type": "execute_result"
    }
   ],
   "source": [
    "x = add_constant(hitter.drop('Salary', axis=1))\n",
    "y = hitter['Salary']\n",
    "\n",
    "model = OLS(y, x).fit()\n",
    "\n",
    "feature = list(x.columns)\n",
    "\n",
    "while len(feature) > 0:\n",
    "    x_opt = x[feature]\n",
    "    model = OLS(y, x_opt).fit()\n",
    "    p_val = model.pvalues\n",
    "    max_p_val = p_val.max()\n",
    "\n",
    "    if max_p_val > 0.05:\n",
    "        excluded_feature = p_val.idxmax()\n",
    "        feature.remove(excluded_feature)\n",
    "        print(max_p_val)\n",
    "\n",
    "    else:\n",
    "        break\n",
    "\n",
    "model"
   ]
  },
  {
   "cell_type": "markdown",
   "metadata": {},
   "source": [
    "<h4 style='font-weight:bold; color:#00bfff'> Forward-Backward Selection </h4>"
   ]
  },
  {
   "cell_type": "code",
   "execution_count": null,
   "metadata": {},
   "outputs": [],
   "source": []
  },
  {
   "cell_type": "markdown",
   "metadata": {},
   "source": [
    "<h1 style='font-weight:bold; color:orange'> 7 Nonlinear models (Week 6, Chapter 7) </h1>"
   ]
  },
  {
   "cell_type": "code",
   "execution_count": 18,
   "metadata": {},
   "outputs": [],
   "source": [
    "from sklearn.preprocessing import PolynomialFeatures\n",
    "from statsmodels.api import GLS"
   ]
  },
  {
   "cell_type": "code",
   "execution_count": 8,
   "metadata": {},
   "outputs": [
    {
     "name": "stdout",
     "output_type": "stream",
     "text": [
      "(3000, 12)\n",
      "--------------------------------------------\n",
      "   year  age      sex            maritl      race        education  \\\n",
      "0  2006   18  1. Male  1. Never Married  1. White     1. < HS Grad   \n",
      "1  2004   24  1. Male  1. Never Married  1. White  4. College Grad   \n",
      "2  2003   45  1. Male        2. Married  1. White  3. Some College   \n",
      "3  2003   43  1. Male        2. Married  3. Asian  4. College Grad   \n",
      "4  2005   50  1. Male       4. Divorced  1. White       2. HS Grad   \n",
      "\n",
      "               region        jobclass          health health_ins   logwage  \\\n",
      "0  2. Middle Atlantic   1. Industrial       1. <=Good      2. No  4.318063   \n",
      "1  2. Middle Atlantic  2. Information  2. >=Very Good      2. No  4.255273   \n",
      "2  2. Middle Atlantic   1. Industrial       1. <=Good     1. Yes  4.875061   \n",
      "3  2. Middle Atlantic  2. Information  2. >=Very Good     1. Yes  5.041393   \n",
      "4  2. Middle Atlantic  2. Information       1. <=Good     1. Yes  4.318063   \n",
      "\n",
      "         wage  \n",
      "0   75.043154  \n",
      "1   70.476020  \n",
      "2  130.982177  \n",
      "3  154.685293  \n",
      "4   75.043154  \n",
      "--------------------------------------------\n",
      "<class 'pandas.core.frame.DataFrame'>\n",
      "RangeIndex: 3000 entries, 0 to 2999\n",
      "Data columns (total 12 columns):\n",
      " #   Column      Non-Null Count  Dtype  \n",
      "---  ------      --------------  -----  \n",
      " 0   year        3000 non-null   int64  \n",
      " 1   age         3000 non-null   int64  \n",
      " 2   sex         3000 non-null   object \n",
      " 3   maritl      3000 non-null   object \n",
      " 4   race        3000 non-null   object \n",
      " 5   education   3000 non-null   object \n",
      " 6   region      3000 non-null   object \n",
      " 7   jobclass    3000 non-null   object \n",
      " 8   health      3000 non-null   object \n",
      " 9   health_ins  3000 non-null   object \n",
      " 10  logwage     3000 non-null   float64\n",
      " 11  wage        3000 non-null   float64\n",
      "dtypes: float64(2), int64(2), object(8)\n",
      "memory usage: 281.4+ KB\n",
      "None\n"
     ]
    }
   ],
   "source": [
    "wage = pd.read_csv('data/wage.csv')\n",
    "print(wage.shape)\n",
    "print('--------------------------------------------')\n",
    "print(wage.head(5))\n",
    "print('--------------------------------------------')\n",
    "print(wage.info())"
   ]
  },
  {
   "cell_type": "code",
   "execution_count": null,
   "metadata": {},
   "outputs": [],
   "source": []
  },
  {
   "cell_type": "code",
   "execution_count": 38,
   "metadata": {},
   "outputs": [],
   "source": [
    "x = add_constant(wage['age'])\n",
    "y = wage['wage']\n",
    "model = OLS(y, x).fit()\n",
    "prediction = model.predict(x)"
   ]
  },
  {
   "cell_type": "code",
   "execution_count": 39,
   "metadata": {},
   "outputs": [
    {
     "data": {
      "image/png": "[encoded data removed]",
      "text/plain": [
       "<Figure size 640x480 with 1 Axes>"
      ]
     },
     "metadata": {},
     "output_type": "display_data"
    }
   ],
   "source": [
    "sns.scatterplot(x='age', y='wage', data=wage)\n",
    "plt.plot(x, prediction, color='red', label='predicted value')\n",
    "plt.title('Degree 4 Polynomial Regression')\n",
    "plt.show();"
   ]
  },
  {
   "cell_type": "code",
   "execution_count": 41,
   "metadata": {},
   "outputs": [
    {
     "name": "stdout",
     "output_type": "stream",
     "text": [
      "-10.425224262028578\n"
     ]
    }
   ],
   "source": [
    "x_poly = PolynomialFeatures(degree=2).fit_transform(wage['age'].values.reshape(-1, 1))\n",
    "y = wage['wage']\n",
    "\n",
    "print(LinearRegression().fit(x_poly, y).intercept_)"
   ]
  },
  {
   "cell_type": "code",
   "execution_count": 50,
   "metadata": {},
   "outputs": [
    {
     "data": {
      "image/png": "[encoded data removed]",
      "text/plain": [
       "<Figure size 1000x600 with 1 Axes>"
      ]
     },
     "metadata": {},
     "output_type": "display_data"
    }
   ],
   "source": [
    "import numpy as np\n",
    "import matplotlib.pyplot as plt\n",
    "import seaborn as sns\n",
    "from sklearn.linear_model import LinearRegression\n",
    "from sklearn.preprocessing import PolynomialFeatures\n",
    "\n",
    "# Generate data\n",
    "m = 100\n",
    "X = 6 * np.random.rand(m, 1) - 3\n",
    "y = 0.5 * X**2 + X + 2 + np.random.randn(m, 1)\n",
    "\n",
    "# Create polynomial features\n",
    "poly = PolynomialFeatures(degree=2, include_bias=False)\n",
    "X_poly = poly.fit_transform(X)\n",
    "\n",
    "# Fit model and predict\n",
    "model = LinearRegression().fit(X_poly, y)\n",
    "predictions = model.predict(X_poly)\n",
    "\n",
    "# Sort X and predictions for proper plotting\n",
    "sorted_indices = np.argsort(X[:, 0])\n",
    "X_sorted = X[sorted_indices]\n",
    "predictions_sorted = predictions[sorted_indices]\n",
    "\n",
    "# Plot\n",
    "plt.figure(figsize=(10, 6))\n",
    "sns.scatterplot(x=X_sorted[:, 0], y=y[sorted_indices][:, 0], alpha=0.7)\n",
    "plt.plot(X_sorted[:, 0], predictions_sorted[:, 0], 'r-', linewidth=2)\n",
    "plt.title(\"Polynomial Regression (Degree=2)\")\n",
    "plt.xlabel(\"X\")\n",
    "plt.ylabel(\"y\")\n",
    "plt.show()"
   ]
  },
  {
   "cell_type": "code",
   "execution_count": 52,
   "metadata": {},
   "outputs": [
    {
     "ename": "ValueError",
     "evalue": "Per-column arrays must each be 1-dimensional",
     "output_type": "error",
     "traceback": [
      "\u001b[31m---------------------------------------------------------------------------\u001b[39m",
      "\u001b[31mValueError\u001b[39m                                Traceback (most recent call last)",
      "\u001b[36mCell\u001b[39m\u001b[36m \u001b[39m\u001b[32mIn[52]\u001b[39m\u001b[32m, line 10\u001b[39m\n\u001b[32m      7\u001b[39m x_poly = poly.fit_transform(X)\n\u001b[32m      8\u001b[39m prediction = LinearRegression().fit(x_poly, y).predict(x_poly)\n\u001b[32m---> \u001b[39m\u001b[32m10\u001b[39m \u001b[43msns\u001b[49m\u001b[43m.\u001b[49m\u001b[43mscatterplot\u001b[49m\u001b[43m(\u001b[49m\u001b[43mx\u001b[49m\u001b[43m=\u001b[49m\u001b[43mx_poly\u001b[49m\u001b[43m,\u001b[49m\u001b[43m \u001b[49m\u001b[43my\u001b[49m\u001b[43m=\u001b[49m\u001b[43my\u001b[49m\u001b[43m)\u001b[49m\n\u001b[32m     11\u001b[39m plt.plot(X, prediction)\n",
      "\u001b[36mFile \u001b[39m\u001b[32mc:\\Users\\user\\AppData\\Local\\Programs\\Python\\Python313\\Lib\\site-packages\\seaborn\\relational.py:615\u001b[39m, in \u001b[36mscatterplot\u001b[39m\u001b[34m(data, x, y, hue, size, style, palette, hue_order, hue_norm, sizes, size_order, size_norm, markers, style_order, legend, ax, **kwargs)\u001b[39m\n\u001b[32m    606\u001b[39m \u001b[38;5;28;01mdef\u001b[39;00m\u001b[38;5;250m \u001b[39m\u001b[34mscatterplot\u001b[39m(\n\u001b[32m    607\u001b[39m     data=\u001b[38;5;28;01mNone\u001b[39;00m, *,\n\u001b[32m    608\u001b[39m     x=\u001b[38;5;28;01mNone\u001b[39;00m, y=\u001b[38;5;28;01mNone\u001b[39;00m, hue=\u001b[38;5;28;01mNone\u001b[39;00m, size=\u001b[38;5;28;01mNone\u001b[39;00m, style=\u001b[38;5;28;01mNone\u001b[39;00m,\n\u001b[32m   (...)\u001b[39m\u001b[32m    612\u001b[39m     **kwargs\n\u001b[32m    613\u001b[39m ):\n\u001b[32m--> \u001b[39m\u001b[32m615\u001b[39m     p = \u001b[43m_ScatterPlotter\u001b[49m\u001b[43m(\u001b[49m\n\u001b[32m    616\u001b[39m \u001b[43m        \u001b[49m\u001b[43mdata\u001b[49m\u001b[43m=\u001b[49m\u001b[43mdata\u001b[49m\u001b[43m,\u001b[49m\n\u001b[32m    617\u001b[39m \u001b[43m        \u001b[49m\u001b[43mvariables\u001b[49m\u001b[43m=\u001b[49m\u001b[38;5;28;43mdict\u001b[39;49m\u001b[43m(\u001b[49m\u001b[43mx\u001b[49m\u001b[43m=\u001b[49m\u001b[43mx\u001b[49m\u001b[43m,\u001b[49m\u001b[43m \u001b[49m\u001b[43my\u001b[49m\u001b[43m=\u001b[49m\u001b[43my\u001b[49m\u001b[43m,\u001b[49m\u001b[43m \u001b[49m\u001b[43mhue\u001b[49m\u001b[43m=\u001b[49m\u001b[43mhue\u001b[49m\u001b[43m,\u001b[49m\u001b[43m \u001b[49m\u001b[43msize\u001b[49m\u001b[43m=\u001b[49m\u001b[43msize\u001b[49m\u001b[43m,\u001b[49m\u001b[43m \u001b[49m\u001b[43mstyle\u001b[49m\u001b[43m=\u001b[49m\u001b[43mstyle\u001b[49m\u001b[43m)\u001b[49m\u001b[43m,\u001b[49m\n\u001b[32m    618\u001b[39m \u001b[43m        \u001b[49m\u001b[43mlegend\u001b[49m\u001b[43m=\u001b[49m\u001b[43mlegend\u001b[49m\n\u001b[32m    619\u001b[39m \u001b[43m    \u001b[49m\u001b[43m)\u001b[49m\n\u001b[32m    621\u001b[39m     p.map_hue(palette=palette, order=hue_order, norm=hue_norm)\n\u001b[32m    622\u001b[39m     p.map_size(sizes=sizes, order=size_order, norm=size_norm)\n",
      "\u001b[36mFile \u001b[39m\u001b[32mc:\\Users\\user\\AppData\\Local\\Programs\\Python\\Python313\\Lib\\site-packages\\seaborn\\relational.py:396\u001b[39m, in \u001b[36m_ScatterPlotter.__init__\u001b[39m\u001b[34m(self, data, variables, legend)\u001b[39m\n\u001b[32m    387\u001b[39m \u001b[38;5;28;01mdef\u001b[39;00m\u001b[38;5;250m \u001b[39m\u001b[34m__init__\u001b[39m(\u001b[38;5;28mself\u001b[39m, *, data=\u001b[38;5;28;01mNone\u001b[39;00m, variables={}, legend=\u001b[38;5;28;01mNone\u001b[39;00m):\n\u001b[32m    388\u001b[39m \n\u001b[32m    389\u001b[39m     \u001b[38;5;66;03m# TODO this is messy, we want the mapping to be agnostic about\u001b[39;00m\n\u001b[32m    390\u001b[39m     \u001b[38;5;66;03m# the kind of plot to draw, but for the time being we need to set\u001b[39;00m\n\u001b[32m    391\u001b[39m     \u001b[38;5;66;03m# this information so the SizeMapping can use it\u001b[39;00m\n\u001b[32m    392\u001b[39m     \u001b[38;5;28mself\u001b[39m._default_size_range = (\n\u001b[32m    393\u001b[39m         np.r_[\u001b[32m.5\u001b[39m, \u001b[32m2\u001b[39m] * np.square(mpl.rcParams[\u001b[33m\"\u001b[39m\u001b[33mlines.markersize\u001b[39m\u001b[33m\"\u001b[39m])\n\u001b[32m    394\u001b[39m     )\n\u001b[32m--> \u001b[39m\u001b[32m396\u001b[39m     \u001b[38;5;28;43msuper\u001b[39;49m\u001b[43m(\u001b[49m\u001b[43m)\u001b[49m\u001b[43m.\u001b[49m\u001b[34;43m__init__\u001b[39;49m\u001b[43m(\u001b[49m\u001b[43mdata\u001b[49m\u001b[43m=\u001b[49m\u001b[43mdata\u001b[49m\u001b[43m,\u001b[49m\u001b[43m \u001b[49m\u001b[43mvariables\u001b[49m\u001b[43m=\u001b[49m\u001b[43mvariables\u001b[49m\u001b[43m)\u001b[49m\n\u001b[32m    398\u001b[39m     \u001b[38;5;28mself\u001b[39m.legend = legend\n",
      "\u001b[36mFile \u001b[39m\u001b[32mc:\\Users\\user\\AppData\\Local\\Programs\\Python\\Python313\\Lib\\site-packages\\seaborn\\_base.py:634\u001b[39m, in \u001b[36mVectorPlotter.__init__\u001b[39m\u001b[34m(self, data, variables)\u001b[39m\n\u001b[32m    629\u001b[39m \u001b[38;5;66;03m# var_ordered is relevant only for categorical axis variables, and may\u001b[39;00m\n\u001b[32m    630\u001b[39m \u001b[38;5;66;03m# be better handled by an internal axis information object that tracks\u001b[39;00m\n\u001b[32m    631\u001b[39m \u001b[38;5;66;03m# such information and is set up by the scale_* methods. The analogous\u001b[39;00m\n\u001b[32m    632\u001b[39m \u001b[38;5;66;03m# information for numeric axes would be information about log scales.\u001b[39;00m\n\u001b[32m    633\u001b[39m \u001b[38;5;28mself\u001b[39m._var_ordered = {\u001b[33m\"\u001b[39m\u001b[33mx\u001b[39m\u001b[33m\"\u001b[39m: \u001b[38;5;28;01mFalse\u001b[39;00m, \u001b[33m\"\u001b[39m\u001b[33my\u001b[39m\u001b[33m\"\u001b[39m: \u001b[38;5;28;01mFalse\u001b[39;00m}  \u001b[38;5;66;03m# alt., used DefaultDict\u001b[39;00m\n\u001b[32m--> \u001b[39m\u001b[32m634\u001b[39m \u001b[38;5;28;43mself\u001b[39;49m\u001b[43m.\u001b[49m\u001b[43massign_variables\u001b[49m\u001b[43m(\u001b[49m\u001b[43mdata\u001b[49m\u001b[43m,\u001b[49m\u001b[43m \u001b[49m\u001b[43mvariables\u001b[49m\u001b[43m)\u001b[49m\n\u001b[32m    636\u001b[39m \u001b[38;5;66;03m# TODO Lots of tests assume that these are called to initialize the\u001b[39;00m\n\u001b[32m    637\u001b[39m \u001b[38;5;66;03m# mappings to default values on class initialization. I'd prefer to\u001b[39;00m\n\u001b[32m    638\u001b[39m \u001b[38;5;66;03m# move away from that and only have a mapping when explicitly called.\u001b[39;00m\n\u001b[32m    639\u001b[39m \u001b[38;5;28;01mfor\u001b[39;00m var \u001b[38;5;129;01min\u001b[39;00m [\u001b[33m\"\u001b[39m\u001b[33mhue\u001b[39m\u001b[33m\"\u001b[39m, \u001b[33m\"\u001b[39m\u001b[33msize\u001b[39m\u001b[33m\"\u001b[39m, \u001b[33m\"\u001b[39m\u001b[33mstyle\u001b[39m\u001b[33m\"\u001b[39m]:\n",
      "\u001b[36mFile \u001b[39m\u001b[32mc:\\Users\\user\\AppData\\Local\\Programs\\Python\\Python313\\Lib\\site-packages\\seaborn\\_base.py:679\u001b[39m, in \u001b[36mVectorPlotter.assign_variables\u001b[39m\u001b[34m(self, data, variables)\u001b[39m\n\u001b[32m    674\u001b[39m \u001b[38;5;28;01melse\u001b[39;00m:\n\u001b[32m    675\u001b[39m     \u001b[38;5;66;03m# When dealing with long-form input, use the newer PlotData\u001b[39;00m\n\u001b[32m    676\u001b[39m     \u001b[38;5;66;03m# object (internal but introduced for the objects interface)\u001b[39;00m\n\u001b[32m    677\u001b[39m     \u001b[38;5;66;03m# to centralize / standardize data consumption logic.\u001b[39;00m\n\u001b[32m    678\u001b[39m     \u001b[38;5;28mself\u001b[39m.input_format = \u001b[33m\"\u001b[39m\u001b[33mlong\u001b[39m\u001b[33m\"\u001b[39m\n\u001b[32m--> \u001b[39m\u001b[32m679\u001b[39m     plot_data = \u001b[43mPlotData\u001b[49m\u001b[43m(\u001b[49m\u001b[43mdata\u001b[49m\u001b[43m,\u001b[49m\u001b[43m \u001b[49m\u001b[43mvariables\u001b[49m\u001b[43m)\u001b[49m\n\u001b[32m    680\u001b[39m     frame = plot_data.frame\n\u001b[32m    681\u001b[39m     names = plot_data.names\n",
      "\u001b[36mFile \u001b[39m\u001b[32mc:\\Users\\user\\AppData\\Local\\Programs\\Python\\Python313\\Lib\\site-packages\\seaborn\\_core\\data.py:58\u001b[39m, in \u001b[36mPlotData.__init__\u001b[39m\u001b[34m(self, data, variables)\u001b[39m\n\u001b[32m     51\u001b[39m \u001b[38;5;28;01mdef\u001b[39;00m\u001b[38;5;250m \u001b[39m\u001b[34m__init__\u001b[39m(\n\u001b[32m     52\u001b[39m     \u001b[38;5;28mself\u001b[39m,\n\u001b[32m     53\u001b[39m     data: DataSource,\n\u001b[32m     54\u001b[39m     variables: \u001b[38;5;28mdict\u001b[39m[\u001b[38;5;28mstr\u001b[39m, VariableSpec],\n\u001b[32m     55\u001b[39m ):\n\u001b[32m     57\u001b[39m     data = handle_data_source(data)\n\u001b[32m---> \u001b[39m\u001b[32m58\u001b[39m     frame, names, ids = \u001b[38;5;28;43mself\u001b[39;49m\u001b[43m.\u001b[49m\u001b[43m_assign_variables\u001b[49m\u001b[43m(\u001b[49m\u001b[43mdata\u001b[49m\u001b[43m,\u001b[49m\u001b[43m \u001b[49m\u001b[43mvariables\u001b[49m\u001b[43m)\u001b[49m\n\u001b[32m     60\u001b[39m     \u001b[38;5;28mself\u001b[39m.frame = frame\n\u001b[32m     61\u001b[39m     \u001b[38;5;28mself\u001b[39m.names = names\n",
      "\u001b[36mFile \u001b[39m\u001b[32mc:\\Users\\user\\AppData\\Local\\Programs\\Python\\Python313\\Lib\\site-packages\\seaborn\\_core\\data.py:265\u001b[39m, in \u001b[36mPlotData._assign_variables\u001b[39m\u001b[34m(self, data, variables)\u001b[39m\n\u001b[32m    260\u001b[39m             ids[key] = \u001b[38;5;28mid\u001b[39m(val)\n\u001b[32m    262\u001b[39m \u001b[38;5;66;03m# Construct a tidy plot DataFrame. This will convert a number of\u001b[39;00m\n\u001b[32m    263\u001b[39m \u001b[38;5;66;03m# types automatically, aligning on index in case of pandas objects\u001b[39;00m\n\u001b[32m    264\u001b[39m \u001b[38;5;66;03m# TODO Note: this fails when variable specs *only* have scalars!\u001b[39;00m\n\u001b[32m--> \u001b[39m\u001b[32m265\u001b[39m frame = \u001b[43mpd\u001b[49m\u001b[43m.\u001b[49m\u001b[43mDataFrame\u001b[49m\u001b[43m(\u001b[49m\u001b[43mplot_data\u001b[49m\u001b[43m)\u001b[49m\n\u001b[32m    267\u001b[39m \u001b[38;5;28;01mreturn\u001b[39;00m frame, names, ids\n",
      "\u001b[36mFile \u001b[39m\u001b[32mc:\\Users\\user\\AppData\\Local\\Programs\\Python\\Python313\\Lib\\site-packages\\pandas\\core\\frame.py:778\u001b[39m, in \u001b[36mDataFrame.__init__\u001b[39m\u001b[34m(self, data, index, columns, dtype, copy)\u001b[39m\n\u001b[32m    772\u001b[39m     mgr = \u001b[38;5;28mself\u001b[39m._init_mgr(\n\u001b[32m    773\u001b[39m         data, axes={\u001b[33m\"\u001b[39m\u001b[33mindex\u001b[39m\u001b[33m\"\u001b[39m: index, \u001b[33m\"\u001b[39m\u001b[33mcolumns\u001b[39m\u001b[33m\"\u001b[39m: columns}, dtype=dtype, copy=copy\n\u001b[32m    774\u001b[39m     )\n\u001b[32m    776\u001b[39m \u001b[38;5;28;01melif\u001b[39;00m \u001b[38;5;28misinstance\u001b[39m(data, \u001b[38;5;28mdict\u001b[39m):\n\u001b[32m    777\u001b[39m     \u001b[38;5;66;03m# GH#38939 de facto copy defaults to False only in non-dict cases\u001b[39;00m\n\u001b[32m--> \u001b[39m\u001b[32m778\u001b[39m     mgr = \u001b[43mdict_to_mgr\u001b[49m\u001b[43m(\u001b[49m\u001b[43mdata\u001b[49m\u001b[43m,\u001b[49m\u001b[43m \u001b[49m\u001b[43mindex\u001b[49m\u001b[43m,\u001b[49m\u001b[43m \u001b[49m\u001b[43mcolumns\u001b[49m\u001b[43m,\u001b[49m\u001b[43m \u001b[49m\u001b[43mdtype\u001b[49m\u001b[43m=\u001b[49m\u001b[43mdtype\u001b[49m\u001b[43m,\u001b[49m\u001b[43m \u001b[49m\u001b[43mcopy\u001b[49m\u001b[43m=\u001b[49m\u001b[43mcopy\u001b[49m\u001b[43m,\u001b[49m\u001b[43m \u001b[49m\u001b[43mtyp\u001b[49m\u001b[43m=\u001b[49m\u001b[43mmanager\u001b[49m\u001b[43m)\u001b[49m\n\u001b[32m    779\u001b[39m \u001b[38;5;28;01melif\u001b[39;00m \u001b[38;5;28misinstance\u001b[39m(data, ma.MaskedArray):\n\u001b[32m    780\u001b[39m     \u001b[38;5;28;01mfrom\u001b[39;00m\u001b[38;5;250m \u001b[39m\u001b[34;01mnumpy\u001b[39;00m\u001b[34;01m.\u001b[39;00m\u001b[34;01mma\u001b[39;00m\u001b[38;5;250m \u001b[39m\u001b[38;5;28;01mimport\u001b[39;00m mrecords\n",
      "\u001b[36mFile \u001b[39m\u001b[32mc:\\Users\\user\\AppData\\Local\\Programs\\Python\\Python313\\Lib\\site-packages\\pandas\\core\\internals\\construction.py:503\u001b[39m, in \u001b[36mdict_to_mgr\u001b[39m\u001b[34m(data, index, columns, dtype, typ, copy)\u001b[39m\n\u001b[32m    499\u001b[39m     \u001b[38;5;28;01melse\u001b[39;00m:\n\u001b[32m    500\u001b[39m         \u001b[38;5;66;03m# dtype check to exclude e.g. range objects, scalars\u001b[39;00m\n\u001b[32m    501\u001b[39m         arrays = [x.copy() \u001b[38;5;28;01mif\u001b[39;00m \u001b[38;5;28mhasattr\u001b[39m(x, \u001b[33m\"\u001b[39m\u001b[33mdtype\u001b[39m\u001b[33m\"\u001b[39m) \u001b[38;5;28;01melse\u001b[39;00m x \u001b[38;5;28;01mfor\u001b[39;00m x \u001b[38;5;129;01min\u001b[39;00m arrays]\n\u001b[32m--> \u001b[39m\u001b[32m503\u001b[39m \u001b[38;5;28;01mreturn\u001b[39;00m \u001b[43marrays_to_mgr\u001b[49m\u001b[43m(\u001b[49m\u001b[43marrays\u001b[49m\u001b[43m,\u001b[49m\u001b[43m \u001b[49m\u001b[43mcolumns\u001b[49m\u001b[43m,\u001b[49m\u001b[43m \u001b[49m\u001b[43mindex\u001b[49m\u001b[43m,\u001b[49m\u001b[43m \u001b[49m\u001b[43mdtype\u001b[49m\u001b[43m=\u001b[49m\u001b[43mdtype\u001b[49m\u001b[43m,\u001b[49m\u001b[43m \u001b[49m\u001b[43mtyp\u001b[49m\u001b[43m=\u001b[49m\u001b[43mtyp\u001b[49m\u001b[43m,\u001b[49m\u001b[43m \u001b[49m\u001b[43mconsolidate\u001b[49m\u001b[43m=\u001b[49m\u001b[43mcopy\u001b[49m\u001b[43m)\u001b[49m\n",
      "\u001b[36mFile \u001b[39m\u001b[32mc:\\Users\\user\\AppData\\Local\\Programs\\Python\\Python313\\Lib\\site-packages\\pandas\\core\\internals\\construction.py:114\u001b[39m, in \u001b[36marrays_to_mgr\u001b[39m\u001b[34m(arrays, columns, index, dtype, verify_integrity, typ, consolidate)\u001b[39m\n\u001b[32m    111\u001b[39m \u001b[38;5;28;01mif\u001b[39;00m verify_integrity:\n\u001b[32m    112\u001b[39m     \u001b[38;5;66;03m# figure out the index, if necessary\u001b[39;00m\n\u001b[32m    113\u001b[39m     \u001b[38;5;28;01mif\u001b[39;00m index \u001b[38;5;129;01mis\u001b[39;00m \u001b[38;5;28;01mNone\u001b[39;00m:\n\u001b[32m--> \u001b[39m\u001b[32m114\u001b[39m         index = \u001b[43m_extract_index\u001b[49m\u001b[43m(\u001b[49m\u001b[43marrays\u001b[49m\u001b[43m)\u001b[49m\n\u001b[32m    115\u001b[39m     \u001b[38;5;28;01melse\u001b[39;00m:\n\u001b[32m    116\u001b[39m         index = ensure_index(index)\n",
      "\u001b[36mFile \u001b[39m\u001b[32mc:\\Users\\user\\AppData\\Local\\Programs\\Python\\Python313\\Lib\\site-packages\\pandas\\core\\internals\\construction.py:664\u001b[39m, in \u001b[36m_extract_index\u001b[39m\u001b[34m(data)\u001b[39m\n\u001b[32m    662\u001b[39m         raw_lengths.append(\u001b[38;5;28mlen\u001b[39m(val))\n\u001b[32m    663\u001b[39m     \u001b[38;5;28;01melif\u001b[39;00m \u001b[38;5;28misinstance\u001b[39m(val, np.ndarray) \u001b[38;5;129;01mand\u001b[39;00m val.ndim > \u001b[32m1\u001b[39m:\n\u001b[32m--> \u001b[39m\u001b[32m664\u001b[39m         \u001b[38;5;28;01mraise\u001b[39;00m \u001b[38;5;167;01mValueError\u001b[39;00m(\u001b[33m\"\u001b[39m\u001b[33mPer-column arrays must each be 1-dimensional\u001b[39m\u001b[33m\"\u001b[39m)\n\u001b[32m    666\u001b[39m \u001b[38;5;28;01mif\u001b[39;00m \u001b[38;5;129;01mnot\u001b[39;00m indexes \u001b[38;5;129;01mand\u001b[39;00m \u001b[38;5;129;01mnot\u001b[39;00m raw_lengths:\n\u001b[32m    667\u001b[39m     \u001b[38;5;28;01mraise\u001b[39;00m \u001b[38;5;167;01mValueError\u001b[39;00m(\u001b[33m\"\u001b[39m\u001b[33mIf using all scalar values, you must pass an index\u001b[39m\u001b[33m\"\u001b[39m)\n",
      "\u001b[31mValueError\u001b[39m: Per-column arrays must each be 1-dimensional"
     ]
    }
   ],
   "source": [
    "m = 100\n",
    "X = 6 * np.random.rand(m, 1) - 3\n",
    "y = 0.5 * X**2 + X + 2 + np.random.randn(m, 1)\n",
    "\n",
    "from sklearn.preprocessing import PolynomialFeatures\n",
    "poly = PolynomialFeatures(degree=2, include_bias=False) # try to include bias\n",
    "x_poly = poly.fit_transform(X)\n",
    "prediction = LinearRegression().fit(x_poly, y).predict(x_poly)\n",
    "\n",
    "sns.scatterplot(x=x_poly, y=y)\n",
    "plt.plot(X, prediction)"
   ]
  },
  {
   "cell_type": "markdown",
   "metadata": {},
   "source": [
    "<h1 style='font-weight:bold; color:orange'> 10 Deep Learning </h1>"
   ]
  },
  {
   "cell_type": "code",
   "execution_count": 16,
   "metadata": {},
   "outputs": [
    {
     "data": {
      "text/plain": [
       "array([[1.4, 0.2],\n",
       "       [1.4, 0.2],\n",
       "       [1.3, 0.2],\n",
       "       [1.5, 0.2],\n",
       "       [1.4, 0.2],\n",
       "       [1.7, 0.4],\n",
       "       [1.4, 0.3],\n",
       "       [1.5, 0.2],\n",
       "       [1.4, 0.2],\n",
       "       [1.5, 0.1],\n",
       "       [1.5, 0.2],\n",
       "       [1.6, 0.2],\n",
       "       [1.4, 0.1],\n",
       "       [1.1, 0.1],\n",
       "       [1.2, 0.2],\n",
       "       [1.5, 0.4],\n",
       "       [1.3, 0.4],\n",
       "       [1.4, 0.3],\n",
       "       [1.7, 0.3],\n",
       "       [1.5, 0.3],\n",
       "       [1.7, 0.2],\n",
       "       [1.5, 0.4],\n",
       "       [1. , 0.2],\n",
       "       [1.7, 0.5],\n",
       "       [1.9, 0.2],\n",
       "       [1.6, 0.2],\n",
       "       [1.6, 0.4],\n",
       "       [1.5, 0.2],\n",
       "       [1.4, 0.2],\n",
       "       [1.6, 0.2],\n",
       "       [1.6, 0.2],\n",
       "       [1.5, 0.4],\n",
       "       [1.5, 0.1],\n",
       "       [1.4, 0.2],\n",
       "       [1.5, 0.2],\n",
       "       [1.2, 0.2],\n",
       "       [1.3, 0.2],\n",
       "       [1.4, 0.1],\n",
       "       [1.3, 0.2],\n",
       "       [1.5, 0.2],\n",
       "       [1.3, 0.3],\n",
       "       [1.3, 0.3],\n",
       "       [1.3, 0.2],\n",
       "       [1.6, 0.6],\n",
       "       [1.9, 0.4],\n",
       "       [1.4, 0.3],\n",
       "       [1.6, 0.2],\n",
       "       [1.4, 0.2],\n",
       "       [1.5, 0.2],\n",
       "       [1.4, 0.2],\n",
       "       [4.7, 1.4],\n",
       "       [4.5, 1.5],\n",
       "       [4.9, 1.5],\n",
       "       [4. , 1.3],\n",
       "       [4.6, 1.5],\n",
       "       [4.5, 1.3],\n",
       "       [4.7, 1.6],\n",
       "       [3.3, 1. ],\n",
       "       [4.6, 1.3],\n",
       "       [3.9, 1.4],\n",
       "       [3.5, 1. ],\n",
       "       [4.2, 1.5],\n",
       "       [4. , 1. ],\n",
       "       [4.7, 1.4],\n",
       "       [3.6, 1.3],\n",
       "       [4.4, 1.4],\n",
       "       [4.5, 1.5],\n",
       "       [4.1, 1. ],\n",
       "       [4.5, 1.5],\n",
       "       [3.9, 1.1],\n",
       "       [4.8, 1.8],\n",
       "       [4. , 1.3],\n",
       "       [4.9, 1.5],\n",
       "       [4.7, 1.2],\n",
       "       [4.3, 1.3],\n",
       "       [4.4, 1.4],\n",
       "       [4.8, 1.4],\n",
       "       [5. , 1.7],\n",
       "       [4.5, 1.5],\n",
       "       [3.5, 1. ],\n",
       "       [3.8, 1.1],\n",
       "       [3.7, 1. ],\n",
       "       [3.9, 1.2],\n",
       "       [5.1, 1.6],\n",
       "       [4.5, 1.5],\n",
       "       [4.5, 1.6],\n",
       "       [4.7, 1.5],\n",
       "       [4.4, 1.3],\n",
       "       [4.1, 1.3],\n",
       "       [4. , 1.3],\n",
       "       [4.4, 1.2],\n",
       "       [4.6, 1.4],\n",
       "       [4. , 1.2],\n",
       "       [3.3, 1. ],\n",
       "       [4.2, 1.3],\n",
       "       [4.2, 1.2],\n",
       "       [4.2, 1.3],\n",
       "       [4.3, 1.3],\n",
       "       [3. , 1.1],\n",
       "       [4.1, 1.3],\n",
       "       [6. , 2.5],\n",
       "       [5.1, 1.9],\n",
       "       [5.9, 2.1],\n",
       "       [5.6, 1.8],\n",
       "       [5.8, 2.2],\n",
       "       [6.6, 2.1],\n",
       "       [4.5, 1.7],\n",
       "       [6.3, 1.8],\n",
       "       [5.8, 1.8],\n",
       "       [6.1, 2.5],\n",
       "       [5.1, 2. ],\n",
       "       [5.3, 1.9],\n",
       "       [5.5, 2.1],\n",
       "       [5. , 2. ],\n",
       "       [5.1, 2.4],\n",
       "       [5.3, 2.3],\n",
       "       [5.5, 1.8],\n",
       "       [6.7, 2.2],\n",
       "       [6.9, 2.3],\n",
       "       [5. , 1.5],\n",
       "       [5.7, 2.3],\n",
       "       [4.9, 2. ],\n",
       "       [6.7, 2. ],\n",
       "       [4.9, 1.8],\n",
       "       [5.7, 2.1],\n",
       "       [6. , 1.8],\n",
       "       [4.8, 1.8],\n",
       "       [4.9, 1.8],\n",
       "       [5.6, 2.1],\n",
       "       [5.8, 1.6],\n",
       "       [6.1, 1.9],\n",
       "       [6.4, 2. ],\n",
       "       [5.6, 2.2],\n",
       "       [5.1, 1.5],\n",
       "       [5.6, 1.4],\n",
       "       [6.1, 2.3],\n",
       "       [5.6, 2.4],\n",
       "       [5.5, 1.8],\n",
       "       [4.8, 1.8],\n",
       "       [5.4, 2.1],\n",
       "       [5.6, 2.4],\n",
       "       [5.1, 2.3],\n",
       "       [5.1, 1.9],\n",
       "       [5.9, 2.3],\n",
       "       [5.7, 2.5],\n",
       "       [5.2, 2.3],\n",
       "       [5. , 1.9],\n",
       "       [5.2, 2. ],\n",
       "       [5.4, 2.3],\n",
       "       [5.1, 1.8]])"
      ]
     },
     "execution_count": 16,
     "metadata": {},
     "output_type": "execute_result"
    }
   ],
   "source": [
    "import numpy as np\n",
    "from sklearn.datasets import load_iris\n",
    "from sklearn.linear_model import Perceptron\n",
    "\n",
    "# load data\n",
    "iris = load_iris()\n",
    "\n",
    "# take only the third column\n",
    "x = iris.data[:, (2, 3)]\n",
    "y = (iris.target == 0)\n",
    "df = pd.DataFrame({\"Petal Length\":iris.data[:, 2]})\n",
    "x"
   ]
  },
  {
   "cell_type": "code",
   "execution_count": null,
   "metadata": {},
   "outputs": [],
   "source": [
    "\n"
   ]
  },
  {
   "cell_type": "code",
   "execution_count": null,
   "metadata": {},
   "outputs": [],
   "source": []
  },
  {
   "cell_type": "code",
   "execution_count": null,
   "metadata": {},
   "outputs": [],
   "source": []
  },
  {
   "cell_type": "code",
   "execution_count": null,
   "metadata": {},
   "outputs": [],
   "source": []
  },
  {
   "cell_type": "code",
   "execution_count": null,
   "metadata": {},
   "outputs": [],
   "source": []
  },
  {
   "cell_type": "code",
   "execution_count": null,
   "metadata": {},
   "outputs": [],
   "source": []
  },
  {
   "cell_type": "code",
   "execution_count": null,
   "metadata": {},
   "outputs": [],
   "source": []
  },
  {
   "cell_type": "code",
   "execution_count": null,
   "metadata": {},
   "outputs": [],
   "source": []
  },
  {
   "cell_type": "code",
   "execution_count": null,
   "metadata": {},
   "outputs": [],
   "source": []
  },
  {
   "cell_type": "code",
   "execution_count": null,
   "metadata": {},
   "outputs": [],
   "source": []
  },
  {
   "cell_type": "code",
   "execution_count": null,
   "metadata": {},
   "outputs": [],
   "source": []
  },
  {
   "cell_type": "code",
   "execution_count": null,
   "metadata": {},
   "outputs": [],
   "source": []
  },
  {
   "cell_type": "code",
   "execution_count": null,
   "metadata": {},
   "outputs": [],
   "source": []
  },
  {
   "cell_type": "code",
   "execution_count": null,
   "metadata": {},
   "outputs": [],
   "source": []
  },
  {
   "cell_type": "code",
   "execution_count": null,
   "metadata": {},
   "outputs": [],
   "source": []
  },
  {
   "cell_type": "code",
   "execution_count": null,
   "metadata": {},
   "outputs": [],
   "source": []
  },
  {
   "cell_type": "code",
   "execution_count": null,
   "metadata": {},
   "outputs": [],
   "source": []
  },
  {
   "cell_type": "code",
   "execution_count": null,
   "metadata": {},
   "outputs": [],
   "source": []
  },
  {
   "cell_type": "code",
   "execution_count": null,
   "metadata": {},
   "outputs": [],
   "source": []
  },
  {
   "cell_type": "code",
   "execution_count": null,
   "metadata": {},
   "outputs": [],
   "source": []
  },
  {
   "cell_type": "code",
   "execution_count": null,
   "metadata": {},
   "outputs": [],
   "source": []
  },
  {
   "cell_type": "code",
   "execution_count": null,
   "metadata": {},
   "outputs": [],
   "source": []
  },
  {
   "cell_type": "code",
   "execution_count": null,
   "metadata": {},
   "outputs": [],
   "source": []
  }
 ],
 "metadata": {
  "kernelspec": {
   "display_name": "Python 3",
   "language": "python",
   "name": "python3"
  },
  "language_info": {
   "codemirror_mode": {
    "name": "ipython",
    "version": 3
   },
   "file_extension": ".py",
   "mimetype": "text/x-python",
   "name": "python",
   "nbconvert_exporter": "python",
   "pygments_lexer": "ipython3",
   "version": "3.13.2"
  }
 },
 "nbformat": 4,
 "nbformat_minor": 4
}

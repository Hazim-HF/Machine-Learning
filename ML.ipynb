{
 "cells": [
  {
   "cell_type": "markdown",
   "metadata": {},
   "source": [
    "# Week 1 - Introduction to Machine Learning"
   ]
  },
  {
   "cell_type": "code",
   "execution_count": 4,
   "metadata": {},
   "outputs": [
    {
     "data": {
      "text/plain": [
       "['.ipynb_checkpoints',\n",
       " 'Advertising.csv',\n",
       " 'auto.csv',\n",
       " 'boston.csv',\n",
       " 'caravan.csv',\n",
       " 'carseats.csv',\n",
       " 'college.csv',\n",
       " 'Credit.csv',\n",
       " 'default.csv',\n",
       " 'hitters.csv',\n",
       " 'khan_xtest.csv',\n",
       " 'khan_xtrain.csv',\n",
       " 'khan_ytest.csv',\n",
       " 'khan_ytrain.csv',\n",
       " 'nci60_data.csv',\n",
       " 'nci60_labs.csv',\n",
       " 'optdigits.tes',\n",
       " 'optdigits.tes.txt',\n",
       " 'optdigits.tra',\n",
       " 'portfolio.csv',\n",
       " 'smarket.csv',\n",
       " 'titanic.csv',\n",
       " 'usarrests.csv',\n",
       " 'wage.csv',\n",
       " 'weekly.csv']"
      ]
     },
     "execution_count": 4,
     "metadata": {},
     "output_type": "execute_result"
    }
   ],
   "source": [
    "import os\n",
    "os.listdir('01. Introduction to Machine Learning/Data')"
   ]
  },
  {
   "cell_type": "code",
   "execution_count": null,
   "metadata": {},
   "outputs": [],
   "source": []
  }
 ],
 "metadata": {
  "kernelspec": {
   "display_name": "Python 3",
   "language": "python",
   "name": "python3"
  },
  "language_info": {
   "codemirror_mode": {
    "name": "ipython",
    "version": 3
   },
   "file_extension": ".py",
   "mimetype": "text/x-python",
   "name": "python",
   "nbconvert_exporter": "python",
   "pygments_lexer": "ipython3",
   "version": "3.13.2"
  }
 },
 "nbformat": 4,
 "nbformat_minor": 2
}

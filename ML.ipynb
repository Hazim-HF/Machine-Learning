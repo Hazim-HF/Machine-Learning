{
 "cells": [
  {
   "cell_type": "markdown",
   "metadata": {},
   "source": [
    "# Import common library"
   ]
  },
  {
   "cell_type": "code",
   "execution_count": 1,
   "metadata": {},
   "outputs": [],
   "source": [
    "import pandas as pd\n",
    "import numpy as np\n",
    "import matplotlib.pyplot as plt\n",
    "import seaborn as sns\n",
    "import os\n",
    "\n",
    "import sklearn\n",
    "from sklearn.model_selection import train_test_split, cross_val_score, LeaveOneOut, KFold\n",
    "from sklearn.metrics import mean_squared_error\n",
    "from sklearn.linear_model import LinearRegression\n",
    "\n",
    "import tensorflow as tf\n",
    "\n",
    "from statsmodels.api import OLS, add_constant\n",
    "\n",
    "from mlxtend.feature_selection import SequentialFeatureSelector"
   ]
  },
  {
   "cell_type": "code",
   "execution_count": 2,
   "metadata": {},
   "outputs": [
    {
     "name": "stdout",
     "output_type": "stream",
     "text": [
      "Numpy version: 1.23.5\n",
      "Pandas version: 2.3.0\n",
      "Seaborn version: 0.13.2\n",
      "Tensorflow version: 2.12.0\n",
      "Scikit-learn version: 1.7.0\n"
     ]
    }
   ],
   "source": [
    "print(f'Numpy version: {np.__version__}')\n",
    "print(f'Pandas version: {pd.__version__}')\n",
    "print(f'Seaborn version: {sns.__version__}')\n",
    "print(f'Tensorflow version: {tf.__version__}')\n",
    "print(f'Scikit-learn version: {sklearn.__version__}')"
   ]
  },
  {
   "cell_type": "markdown",
   "metadata": {},
   "source": [
    "<span> Data Cleaning </span>"
   ]
  },
  {
   "cell_type": "code",
   "execution_count": null,
   "metadata": {},
   "outputs": [],
   "source": [
    "df.dropna()\n",
    "\n",
    "df.drop_duplicates()\n",
    "\n",
    "df.fillna(value={'column1': 10, 'column2':df['column2'].mean()}) # fill missing value in column 1 with 10\n",
    "\n"
   ]
  },
  {
   "cell_type": "markdown",
   "metadata": {},
   "source": [
    "❌ **No — you should NOT use `.fit_transform()` every time, especially on test data.**\n",
    "Here’s why:\n",
    "\n",
    "---\n",
    "\n",
    "### ✅ **Correct Practice**\n",
    "\n",
    "| Data Type    | What to Use                     | Why                                          |\n",
    "| ------------ | ------------------------------- | -------------------------------------------- |\n",
    "| **Training** | `scaler.fit_transform(X_train)` | Learn mean/std **and** scale training data   |\n",
    "| **Test**     | `scaler.transform(X_test)`      | Use training mean/std to transform test data |\n",
    "\n",
    "---\n",
    "\n",
    "### ❗ Why not `fit_transform()` on test data?\n",
    "\n",
    "Using `.fit_transform(X_test)` **learns a new mean and std from test data**, which:\n",
    "\n",
    "* **Leaks information** from test set (data leakage)\n",
    "* **Makes model evaluation invalid**\n",
    "* **Gives biased performance metrics**\n",
    "\n",
    "---\n",
    "\n",
    "### 📌 Best Workflow:\n",
    "\n",
    "```python\n",
    "from sklearn.preprocessing import StandardScaler\n",
    "\n",
    "scaler = StandardScaler()\n",
    "\n",
    "# Training\n",
    "X_train_scaled = scaler.fit_transform(X_train)\n",
    "\n",
    "# Test (or validation)\n",
    "X_test_scaled = scaler.transform(X_test)\n",
    "```\n",
    "\n",
    "---\n",
    "\n",
    "### ✅ Bottom line:\n",
    "\n",
    "Use `.fit_transform()` **only on training data**.\n",
    "Use `.transform()` **on everything else** (validation, test, new data).\n",
    "\n",
    "Let me know if you want a diagram or scikit-learn pipeline version!\n"
   ]
  },
  {
   "cell_type": "markdown",
   "metadata": {},
   "source": [
    "Great question! The reason we use `train_test_split` **before** applying `StandardScaler` is to **prevent data leakage**.\n",
    "\n",
    "---\n",
    "\n",
    "### 🔑 **Data Leakage Explained**:\n",
    "\n",
    "If you **scale the entire dataset before splitting**, then:\n",
    "\n",
    "* The scaler \"sees\" the **test data** during `.fit()`\n",
    "* It computes the **mean and standard deviation using all data**, including the test set\n",
    "* This means your model **indirectly uses information from the test set during training**\n",
    "* Your evaluation metrics will be **over-optimistic and invalid**\n",
    "\n",
    "---\n",
    "\n",
    "### ✅ Correct Order:\n",
    "\n",
    "1. **Split the data first** using `train_test_split`\n",
    "2. **Fit the scaler only on training data**\n",
    "3. **Transform both training and test sets** using that scaler\n",
    "\n",
    "```python\n",
    "x_train, x_test = train_test_split(x)\n",
    "scaler = StandardScaler()\n",
    "x_train_scaled = scaler.fit_transform(x_train)\n",
    "x_test_scaled = scaler.transform(x_test)\n",
    "```\n",
    "\n",
    "---\n",
    "\n",
    "### 🧠 Analogy:\n",
    "\n",
    "Imagine you're predicting exam scores, and you normalize scores using the **class average**.\n",
    "If you compute the average using **everyone's** scores (including the future test-takers), you're cheating!\n",
    "\n",
    "---\n",
    "\n",
    "### ✅ Summary:\n",
    "\n",
    "Always `train_test_split` **first**, then scale. This ensures the model only learns from training data — just like it would in the real world.\n"
   ]
  },
  {
   "cell_type": "code",
   "execution_count": null,
   "metadata": {},
   "outputs": [],
   "source": []
  },
  {
   "cell_type": "markdown",
   "metadata": {},
   "source": [
    "<h1 style='font-weight:bold; color:orange'>Introduction to Machine Learning (Week 1)</h1>"
   ]
  },
  {
   "cell_type": "markdown",
   "metadata": {},
   "source": [
    "<h1 style='font-weight:bold; color:orange'>3 Linear Regression (Week 2, Chapter 3)</h1>"
   ]
  },
  {
   "cell_type": "markdown",
   "metadata": {},
   "source": [
    "<h2 style='font-weight:bold; color:#00bfff'> 3.1 Simple Linear Regression </h2>"
   ]
  },
  {
   "cell_type": "markdown",
   "metadata": {},
   "source": [
    "<h3 style='color:#00bfff; font-weight:bold'>using statsmodel</h3>\n",
    "\n",
    "`getwd()`<br>\n",
    "`setwd('D:/machine-learning/data')`<br>\n",
    "`boston = read.csv('boston.csv')`<br>\n",
    "`model = lm('medv ~ .', data = boston)`<br>\n",
    "`summary(model)`<br>\n"
   ]
  },
  {
   "cell_type": "code",
   "execution_count": 9,
   "metadata": {},
   "outputs": [
    {
     "data": {
      "text/html": [
       "<table class=\"simpletable\">\n",
       "<caption>OLS Regression Results</caption>\n",
       "<tr>\n",
       "  <th>Dep. Variable:</th>          <td>medv</td>       <th>  R-squared:         </th> <td>   0.741</td> \n",
       "</tr>\n",
       "<tr>\n",
       "  <th>Model:</th>                   <td>OLS</td>       <th>  Adj. R-squared:    </th> <td>   0.734</td> \n",
       "</tr>\n",
       "<tr>\n",
       "  <th>Method:</th>             <td>Least Squares</td>  <th>  F-statistic:       </th> <td>   108.1</td> \n",
       "</tr>\n",
       "<tr>\n",
       "  <th>Date:</th>             <td>Sun, 06 Jul 2025</td> <th>  Prob (F-statistic):</th> <td>6.72e-135</td>\n",
       "</tr>\n",
       "<tr>\n",
       "  <th>Time:</th>                 <td>18:24:13</td>     <th>  Log-Likelihood:    </th> <td> -1498.8</td> \n",
       "</tr>\n",
       "<tr>\n",
       "  <th>No. Observations:</th>      <td>   506</td>      <th>  AIC:               </th> <td>   3026.</td> \n",
       "</tr>\n",
       "<tr>\n",
       "  <th>Df Residuals:</th>          <td>   492</td>      <th>  BIC:               </th> <td>   3085.</td> \n",
       "</tr>\n",
       "<tr>\n",
       "  <th>Df Model:</th>              <td>    13</td>      <th>                     </th>     <td> </td>    \n",
       "</tr>\n",
       "<tr>\n",
       "  <th>Covariance Type:</th>      <td>nonrobust</td>    <th>                     </th>     <td> </td>    \n",
       "</tr>\n",
       "</table>\n",
       "<table class=\"simpletable\">\n",
       "<tr>\n",
       "     <td></td>        <th>coef</th>     <th>std err</th>      <th>t</th>      <th>P>|t|</th>  <th>[0.025</th>    <th>0.975]</th>  \n",
       "</tr>\n",
       "<tr>\n",
       "  <th>const</th>   <td>   36.4595</td> <td>    5.103</td> <td>    7.144</td> <td> 0.000</td> <td>   26.432</td> <td>   46.487</td>\n",
       "</tr>\n",
       "<tr>\n",
       "  <th>crim</th>    <td>   -0.1080</td> <td>    0.033</td> <td>   -3.287</td> <td> 0.001</td> <td>   -0.173</td> <td>   -0.043</td>\n",
       "</tr>\n",
       "<tr>\n",
       "  <th>zn</th>      <td>    0.0464</td> <td>    0.014</td> <td>    3.382</td> <td> 0.001</td> <td>    0.019</td> <td>    0.073</td>\n",
       "</tr>\n",
       "<tr>\n",
       "  <th>indus</th>   <td>    0.0206</td> <td>    0.061</td> <td>    0.334</td> <td> 0.738</td> <td>   -0.100</td> <td>    0.141</td>\n",
       "</tr>\n",
       "<tr>\n",
       "  <th>chas</th>    <td>    2.6867</td> <td>    0.862</td> <td>    3.118</td> <td> 0.002</td> <td>    0.994</td> <td>    4.380</td>\n",
       "</tr>\n",
       "<tr>\n",
       "  <th>nox</th>     <td>  -17.7666</td> <td>    3.820</td> <td>   -4.651</td> <td> 0.000</td> <td>  -25.272</td> <td>  -10.262</td>\n",
       "</tr>\n",
       "<tr>\n",
       "  <th>rm</th>      <td>    3.8099</td> <td>    0.418</td> <td>    9.116</td> <td> 0.000</td> <td>    2.989</td> <td>    4.631</td>\n",
       "</tr>\n",
       "<tr>\n",
       "  <th>age</th>     <td>    0.0007</td> <td>    0.013</td> <td>    0.052</td> <td> 0.958</td> <td>   -0.025</td> <td>    0.027</td>\n",
       "</tr>\n",
       "<tr>\n",
       "  <th>dis</th>     <td>   -1.4756</td> <td>    0.199</td> <td>   -7.398</td> <td> 0.000</td> <td>   -1.867</td> <td>   -1.084</td>\n",
       "</tr>\n",
       "<tr>\n",
       "  <th>rad</th>     <td>    0.3060</td> <td>    0.066</td> <td>    4.613</td> <td> 0.000</td> <td>    0.176</td> <td>    0.436</td>\n",
       "</tr>\n",
       "<tr>\n",
       "  <th>tax</th>     <td>   -0.0123</td> <td>    0.004</td> <td>   -3.280</td> <td> 0.001</td> <td>   -0.020</td> <td>   -0.005</td>\n",
       "</tr>\n",
       "<tr>\n",
       "  <th>ptratio</th> <td>   -0.9527</td> <td>    0.131</td> <td>   -7.283</td> <td> 0.000</td> <td>   -1.210</td> <td>   -0.696</td>\n",
       "</tr>\n",
       "<tr>\n",
       "  <th>black</th>   <td>    0.0093</td> <td>    0.003</td> <td>    3.467</td> <td> 0.001</td> <td>    0.004</td> <td>    0.015</td>\n",
       "</tr>\n",
       "<tr>\n",
       "  <th>lstat</th>   <td>   -0.5248</td> <td>    0.051</td> <td>  -10.347</td> <td> 0.000</td> <td>   -0.624</td> <td>   -0.425</td>\n",
       "</tr>\n",
       "</table>\n",
       "<table class=\"simpletable\">\n",
       "<tr>\n",
       "  <th>Omnibus:</th>       <td>178.041</td> <th>  Durbin-Watson:     </th> <td>   1.078</td> \n",
       "</tr>\n",
       "<tr>\n",
       "  <th>Prob(Omnibus):</th> <td> 0.000</td>  <th>  Jarque-Bera (JB):  </th> <td> 783.126</td> \n",
       "</tr>\n",
       "<tr>\n",
       "  <th>Skew:</th>          <td> 1.521</td>  <th>  Prob(JB):          </th> <td>8.84e-171</td>\n",
       "</tr>\n",
       "<tr>\n",
       "  <th>Kurtosis:</th>      <td> 8.281</td>  <th>  Cond. No.          </th> <td>1.51e+04</td> \n",
       "</tr>\n",
       "</table><br/><br/>Notes:<br/>[1] Standard Errors assume that the covariance matrix of the errors is correctly specified.<br/>[2] The condition number is large, 1.51e+04. This might indicate that there are<br/>strong multicollinearity or other numerical problems."
      ],
      "text/latex": [
       "\\begin{center}\n",
       "\\begin{tabular}{lclc}\n",
       "\\toprule\n",
       "\\textbf{Dep. Variable:}    &       medv       & \\textbf{  R-squared:         } &     0.741   \\\\\n",
       "\\textbf{Model:}            &       OLS        & \\textbf{  Adj. R-squared:    } &     0.734   \\\\\n",
       "\\textbf{Method:}           &  Least Squares   & \\textbf{  F-statistic:       } &     108.1   \\\\\n",
       "\\textbf{Date:}             & Sun, 06 Jul 2025 & \\textbf{  Prob (F-statistic):} & 6.72e-135   \\\\\n",
       "\\textbf{Time:}             &     18:24:13     & \\textbf{  Log-Likelihood:    } &   -1498.8   \\\\\n",
       "\\textbf{No. Observations:} &         506      & \\textbf{  AIC:               } &     3026.   \\\\\n",
       "\\textbf{Df Residuals:}     &         492      & \\textbf{  BIC:               } &     3085.   \\\\\n",
       "\\textbf{Df Model:}         &          13      & \\textbf{                     } &             \\\\\n",
       "\\textbf{Covariance Type:}  &    nonrobust     & \\textbf{                     } &             \\\\\n",
       "\\bottomrule\n",
       "\\end{tabular}\n",
       "\\begin{tabular}{lcccccc}\n",
       "                 & \\textbf{coef} & \\textbf{std err} & \\textbf{t} & \\textbf{P$> |$t$|$} & \\textbf{[0.025} & \\textbf{0.975]}  \\\\\n",
       "\\midrule\n",
       "\\textbf{const}   &      36.4595  &        5.103     &     7.144  &         0.000        &       26.432    &       46.487     \\\\\n",
       "\\textbf{crim}    &      -0.1080  &        0.033     &    -3.287  &         0.001        &       -0.173    &       -0.043     \\\\\n",
       "\\textbf{zn}      &       0.0464  &        0.014     &     3.382  &         0.001        &        0.019    &        0.073     \\\\\n",
       "\\textbf{indus}   &       0.0206  &        0.061     &     0.334  &         0.738        &       -0.100    &        0.141     \\\\\n",
       "\\textbf{chas}    &       2.6867  &        0.862     &     3.118  &         0.002        &        0.994    &        4.380     \\\\\n",
       "\\textbf{nox}     &     -17.7666  &        3.820     &    -4.651  &         0.000        &      -25.272    &      -10.262     \\\\\n",
       "\\textbf{rm}      &       3.8099  &        0.418     &     9.116  &         0.000        &        2.989    &        4.631     \\\\\n",
       "\\textbf{age}     &       0.0007  &        0.013     &     0.052  &         0.958        &       -0.025    &        0.027     \\\\\n",
       "\\textbf{dis}     &      -1.4756  &        0.199     &    -7.398  &         0.000        &       -1.867    &       -1.084     \\\\\n",
       "\\textbf{rad}     &       0.3060  &        0.066     &     4.613  &         0.000        &        0.176    &        0.436     \\\\\n",
       "\\textbf{tax}     &      -0.0123  &        0.004     &    -3.280  &         0.001        &       -0.020    &       -0.005     \\\\\n",
       "\\textbf{ptratio} &      -0.9527  &        0.131     &    -7.283  &         0.000        &       -1.210    &       -0.696     \\\\\n",
       "\\textbf{black}   &       0.0093  &        0.003     &     3.467  &         0.001        &        0.004    &        0.015     \\\\\n",
       "\\textbf{lstat}   &      -0.5248  &        0.051     &   -10.347  &         0.000        &       -0.624    &       -0.425     \\\\\n",
       "\\bottomrule\n",
       "\\end{tabular}\n",
       "\\begin{tabular}{lclc}\n",
       "\\textbf{Omnibus:}       & 178.041 & \\textbf{  Durbin-Watson:     } &     1.078  \\\\\n",
       "\\textbf{Prob(Omnibus):} &   0.000 & \\textbf{  Jarque-Bera (JB):  } &   783.126  \\\\\n",
       "\\textbf{Skew:}          &   1.521 & \\textbf{  Prob(JB):          } & 8.84e-171  \\\\\n",
       "\\textbf{Kurtosis:}      &   8.281 & \\textbf{  Cond. No.          } &  1.51e+04  \\\\\n",
       "\\bottomrule\n",
       "\\end{tabular}\n",
       "%\\caption{OLS Regression Results}\n",
       "\\end{center}\n",
       "\n",
       "Notes: \\newline\n",
       " [1] Standard Errors assume that the covariance matrix of the errors is correctly specified. \\newline\n",
       " [2] The condition number is large, 1.51e+04. This might indicate that there are \\newline\n",
       " strong multicollinearity or other numerical problems."
      ],
      "text/plain": [
       "<class 'statsmodels.iolib.summary.Summary'>\n",
       "\"\"\"\n",
       "                            OLS Regression Results                            \n",
       "==============================================================================\n",
       "Dep. Variable:                   medv   R-squared:                       0.741\n",
       "Model:                            OLS   Adj. R-squared:                  0.734\n",
       "Method:                 Least Squares   F-statistic:                     108.1\n",
       "Date:                Sun, 06 Jul 2025   Prob (F-statistic):          6.72e-135\n",
       "Time:                        18:24:13   Log-Likelihood:                -1498.8\n",
       "No. Observations:                 506   AIC:                             3026.\n",
       "Df Residuals:                     492   BIC:                             3085.\n",
       "Df Model:                          13                                         \n",
       "Covariance Type:            nonrobust                                         \n",
       "==============================================================================\n",
       "                 coef    std err          t      P>|t|      [0.025      0.975]\n",
       "------------------------------------------------------------------------------\n",
       "const         36.4595      5.103      7.144      0.000      26.432      46.487\n",
       "crim          -0.1080      0.033     -3.287      0.001      -0.173      -0.043\n",
       "zn             0.0464      0.014      3.382      0.001       0.019       0.073\n",
       "indus          0.0206      0.061      0.334      0.738      -0.100       0.141\n",
       "chas           2.6867      0.862      3.118      0.002       0.994       4.380\n",
       "nox          -17.7666      3.820     -4.651      0.000     -25.272     -10.262\n",
       "rm             3.8099      0.418      9.116      0.000       2.989       4.631\n",
       "age            0.0007      0.013      0.052      0.958      -0.025       0.027\n",
       "dis           -1.4756      0.199     -7.398      0.000      -1.867      -1.084\n",
       "rad            0.3060      0.066      4.613      0.000       0.176       0.436\n",
       "tax           -0.0123      0.004     -3.280      0.001      -0.020      -0.005\n",
       "ptratio       -0.9527      0.131     -7.283      0.000      -1.210      -0.696\n",
       "black          0.0093      0.003      3.467      0.001       0.004       0.015\n",
       "lstat         -0.5248      0.051    -10.347      0.000      -0.624      -0.425\n",
       "==============================================================================\n",
       "Omnibus:                      178.041   Durbin-Watson:                   1.078\n",
       "Prob(Omnibus):                  0.000   Jarque-Bera (JB):              783.126\n",
       "Skew:                           1.521   Prob(JB):                    8.84e-171\n",
       "Kurtosis:                       8.281   Cond. No.                     1.51e+04\n",
       "==============================================================================\n",
       "\n",
       "Notes:\n",
       "[1] Standard Errors assume that the covariance matrix of the errors is correctly specified.\n",
       "[2] The condition number is large, 1.51e+04. This might indicate that there are\n",
       "strong multicollinearity or other numerical problems.\n",
       "\"\"\""
      ]
     },
     "execution_count": 9,
     "metadata": {},
     "output_type": "execute_result"
    }
   ],
   "source": [
    "from statsmodels.api import OLS, add_constant\n",
    "\n",
    "boston = pd.read_csv('data/boston.csv')\n",
    "# Y = medv (Median value of owner-occupied homes in $1000s)\n",
    "\n",
    "# response variable is medv\n",
    "y = boston['medv']\n",
    "\n",
    "# predictor variables are all other columns (13 columns)\n",
    "x = boston.drop('medv', axis=1)\n",
    "\n",
    "# add constant for the intercept to predictor variables\n",
    "# If no constant added, it will pass through the origin (0,0)\n",
    "x1 = add_constant(x)\n",
    "\n",
    "# create and fit the OLS model\n",
    "model = OLS(y, x1).fit()\n",
    "\n",
    "# print the summary of the model\n",
    "model.summary()"
   ]
  },
  {
   "cell_type": "markdown",
   "metadata": {},
   "source": [
    "<h3 style='font-weight:bold; color:#00bfff'> Using scikit-learn </h3>"
   ]
  },
  {
   "cell_type": "code",
   "execution_count": 7,
   "metadata": {},
   "outputs": [
    {
     "name": "stdout",
     "output_type": "stream",
     "text": [
      "<class 'pandas.core.frame.DataFrame'>\n",
      "RangeIndex: 506 entries, 0 to 505\n",
      "Data columns (total 13 columns):\n",
      " #   Column   Non-Null Count  Dtype  \n",
      "---  ------   --------------  -----  \n",
      " 0   crim     506 non-null    float64\n",
      " 1   zn       506 non-null    float64\n",
      " 2   indus    506 non-null    float64\n",
      " 3   chas     506 non-null    int64  \n",
      " 4   nox      506 non-null    float64\n",
      " 5   rm       506 non-null    float64\n",
      " 6   age      506 non-null    float64\n",
      " 7   dis      506 non-null    float64\n",
      " 8   rad      506 non-null    int64  \n",
      " 9   tax      506 non-null    int64  \n",
      " 10  ptratio  506 non-null    float64\n",
      " 11  black    506 non-null    float64\n",
      " 12  lstat    506 non-null    float64\n",
      "dtypes: float64(10), int64(3)\n",
      "memory usage: 51.5 KB\n"
     ]
    }
   ],
   "source": [
    "x.info()"
   ]
  },
  {
   "cell_type": "code",
   "execution_count": 24,
   "metadata": {},
   "outputs": [
    {
     "name": "stdout",
     "output_type": "stream",
     "text": [
      "[-1.00213533  0.69626862  0.27806485  0.7187384  -2.0223194   3.14523956\n",
      " -0.17604788 -3.0819076   2.25140666 -1.76701378 -2.03775151  1.12956831\n",
      " -3.61165842]\n",
      "22.796534653465347\n"
     ]
    }
   ],
   "source": [
    "import pandas as pd\n",
    "\n",
    "from sklearn.linear_model import LinearRegression\n",
    "from sklearn.model_selection import train_test_split\n",
    "from sklearn.preprocessing import StandardScaler, OneHotEncoder\n",
    "\n",
    "boston = pd.read_csv('data/boston.csv')\n",
    "\n",
    "y = boston['medv']\n",
    "x = boston.drop('medv', axis=1)\n",
    "\n",
    "from sklearn.model_selection import train_test_split\n",
    "x_train, x_test, y_train, y_test = train_test_split(x, y, test_size=0.2, random_state=42)\n",
    "\n",
    "from sklearn.preprocessing import StandardScaler, OneHotEncoder\n",
    "scale = StandardScaler()\n",
    "ohe = OneHotEncoder(sparse_output=False, handle_unknown='ignore')\n",
    "\n",
    "x_train_scale = scale.fit_transform(x_train.select_dtypes(include=['float64', 'int64']))\n",
    "x_test_scale = scale.fit_transform(x_test.select_dtypes(include=['float64', 'int64']))\n",
    "\n",
    "from sklearn.linear_model import LinearRegression\n",
    "lr = LinearRegression()\n",
    "\n",
    "modle = lr.fit(x_train_scale, y_train)\n",
    "\n",
    "print(lr.coef_)\n",
    "\n",
    "print(lr.intercept_)\n"
   ]
  },
  {
   "cell_type": "markdown",
   "metadata": {},
   "source": [
    "<h1 style='font-weight:bold; color:orange'> 4 Classification (Week 3, Chapter 4) </h1>"
   ]
  },
  {
   "cell_type": "code",
   "execution_count": 25,
   "metadata": {},
   "outputs": [
    {
     "name": "stdout",
     "output_type": "stream",
     "text": [
      "  default student      balance        income\n",
      "0      No      No   729.526495  44361.625074\n",
      "1      No     Yes   817.180407  12106.134700\n",
      "2      No      No  1073.549164  31767.138947\n",
      "3      No      No   529.250605  35704.493935\n",
      "4      No      No   785.655883  38463.495879\n",
      "5      No     Yes   919.588530   7491.558572\n",
      "6      No      No   825.513331  24905.226578\n",
      "7      No     Yes   808.667504  17600.451344\n",
      "8      No      No  1161.057854  37468.529288\n",
      "9      No      No     0.000000  29275.268293\n",
      "--------------------------------------------\n",
      "(10000, 4)\n"
     ]
    }
   ],
   "source": [
    "default = pd.read_csv('data/default.csv')\n",
    "print(default.head(10))\n",
    "print('--------------------------------------------')\n",
    "print(default.shape)"
   ]
  },
  {
   "cell_type": "code",
   "execution_count": 21,
   "metadata": {},
   "outputs": [
    {
     "data": {
      "image/png": "[encoded data removed]",
      "text/plain": [
       "<Figure size 640x480 with 1 Axes>"
      ]
     },
     "metadata": {},
     "output_type": "display_data"
    }
   ],
   "source": [
    "sns.scatterplot(x='balance', y='income', data=default.sample(1000), hue='default')\n",
    "plt.show();"
   ]
  },
  {
   "cell_type": "markdown",
   "metadata": {},
   "source": [
    "income does not influence whether a person default or not but balance does influence where a person with higher balance is more likely to default than a person with a lower balance."
   ]
  },
  {
   "cell_type": "code",
   "execution_count": 22,
   "metadata": {},
   "outputs": [
    {
     "data": {
      "image/png": "[encoded data removed]",
      "text/plain": [
       "<Figure size 640x480 with 1 Axes>"
      ]
     },
     "metadata": {},
     "output_type": "display_data"
    }
   ],
   "source": [
    "sns.boxplot(x='student', y='balance', data=default, hue='default');"
   ]
  },
  {
   "cell_type": "markdown",
   "metadata": {},
   "source": [
    "Student or not does not effect whether a person is a defaulter or not."
   ]
  },
  {
   "cell_type": "code",
   "execution_count": 23,
   "metadata": {},
   "outputs": [
    {
     "name": "stdout",
     "output_type": "stream",
     "text": [
      "<class 'pandas.core.frame.DataFrame'>\n",
      "RangeIndex: 10000 entries, 0 to 9999\n",
      "Data columns (total 4 columns):\n",
      " #   Column   Non-Null Count  Dtype  \n",
      "---  ------   --------------  -----  \n",
      " 0   default  10000 non-null  object \n",
      " 1   student  10000 non-null  object \n",
      " 2   balance  10000 non-null  float64\n",
      " 3   income   10000 non-null  float64\n",
      "dtypes: float64(2), object(2)\n",
      "memory usage: 312.6+ KB\n"
     ]
    }
   ],
   "source": [
    "default.info()"
   ]
  },
  {
   "cell_type": "code",
   "execution_count": 34,
   "metadata": {},
   "outputs": [
    {
     "data": {
      "text/plain": [
       "array([[1., 0.],\n",
       "       [1., 0.],\n",
       "       [1., 0.],\n",
       "       ...,\n",
       "       [1., 0.],\n",
       "       [0., 1.],\n",
       "       [1., 0.]])"
      ]
     },
     "execution_count": 34,
     "metadata": {},
     "output_type": "execute_result"
    }
   ],
   "source": [
    "x_test_cat"
   ]
  },
  {
   "cell_type": "code",
   "execution_count": null,
   "metadata": {},
   "outputs": [
    {
     "data": {
      "text/plain": [
       "array(['No', 'No', 'No', ..., 'No', 'No', 'No'], dtype=object)"
      ]
     },
     "execution_count": 51,
     "metadata": {},
     "output_type": "execute_result"
    }
   ],
   "source": [
    "from sklearn.linear_model import LogisticRegression\n",
    "from sklearn.preprocessing import StandardScaler, OneHotEncoder\n",
    "\n",
    "\n",
    "x = default.drop('default', axis=1)\n",
    "y = default['default']\n",
    "\n",
    "x_train, x_test, y_train, y_test = train_test_split(x, y, \n",
    "                                                    test_size=0.2,\n",
    "                                                    random_state=42)\n",
    "\n",
    "scale = StandardScaler()\n",
    "ohe = OneHotEncoder(sparse_output=False, handle_unknown='ignore')\n",
    "\n",
    "x_train_num = scale.fit_transform(x_train.select_dtypes(include=['float64']))\n",
    "x_test_num = scale.fit_transform(x_test.select_dtypes(include=['float64']))\n",
    "\n",
    "x_train_cat = ohe.fit_transform(x_train.select_dtypes(include=['object']))\n",
    "x_test_cat = ohe.fit_transform(x_test.select_dtypes(include=['object']))\n",
    "\n",
    "x_train_processed = np.hstack((x_train_num, x_train_cat))\n",
    "x_test_processed = np.hstack((x_test_num, x_test_cat))\n",
    "\n",
    "logreg = LogisticRegression()\n",
    "\n",
    "logreg.fit(x_train_processed, y_train)\n",
    "\n",
    "logreg.predict(x_train_processed)"
   ]
  },
  {
   "cell_type": "code",
   "execution_count": null,
   "metadata": {},
   "outputs": [
    {
     "name": "stdout",
     "output_type": "stream",
     "text": [
      "Logistic Regression performance:\n",
      "      Yes  No\n",
      "Yes  1920  11\n",
      "No     50  19\n",
      "==========\n",
      "Accuracy:96.95%\n"
     ]
    }
   ],
   "source": [
    "from sklearn.metrics import (\n",
    "    confusion_matrix, accuracy_score, f1_score, classification_report\n",
    ")\n",
    "\n",
    "print(\"Logistic Regression performance:\")\n",
    "print(pd.DataFrame(confusion_matrix(y_test, logreg.predict(x_test_processed)), \n",
    "                   index = ['Yes', 'No'], columns=['Yes', 'No']))\n",
    "\n",
    "print('==========')\n",
    "\n",
    "print(f'Accuracy: {(accuracy_score(y_test, logreg.predict(x_test_processed)) * 100):.2f}%')"
   ]
  },
  {
   "cell_type": "markdown",
   "metadata": {},
   "source": [
    "<h2 style='font-weight:bold; color:skyblue'> 4.1 Linear Discriminant Analysis (LDA) </h2>\n",
    "\n",
    "* Used for multiclass classification problems\n",
    "* Assume all predictors come from a **gaussian distribution**"
   ]
  },
  {
   "cell_type": "code",
   "execution_count": 60,
   "metadata": {},
   "outputs": [
    {
     "name": "stdout",
     "output_type": "stream",
     "text": [
      "Linear Discrimant Analysis performance:\n",
      "      Yes  No\n",
      "Yes  1925   6\n",
      "No     57  12\n",
      "==========\n",
      "Accuracy: 96.85%\n"
     ]
    }
   ],
   "source": [
    "from sklearn.discriminant_analysis import LinearDiscriminantAnalysis\n",
    "from sklearn.metrics import confusion_matrix\n",
    "\n",
    "lda = LinearDiscriminantAnalysis()\n",
    "\n",
    "lda.fit(x_train_processed, y_train)\n",
    "\n",
    "print('Linear Discrimant Analysis performance:')\n",
    "print(pd.DataFrame(confusion_matrix(y_test, lda.predict(x_test_processed)), \n",
    "                   index=['Yes', 'No'], columns=['Yes', 'No']))\n",
    "\n",
    "print('==========')\n",
    "\n",
    "print(f'Accuracy: {(accuracy_score(y_test, lda.predict(x_test_processed)) * 100):.2f}%')\n"
   ]
  },
  {
   "cell_type": "markdown",
   "metadata": {},
   "source": [
    "<h2 style='font-weight:bold; color:skyblue'> 4.2 Quadratic Discriminant Analysis (QDA)</h2>"
   ]
  },
  {
   "cell_type": "markdown",
   "metadata": {},
   "source": []
  },
  {
   "cell_type": "code",
   "execution_count": 61,
   "metadata": {},
   "outputs": [
    {
     "name": "stdout",
     "output_type": "stream",
     "text": [
      "Quadratic Discrimant Analysis performance:\n",
      "      Yes   No\n",
      "Yes  1730  201\n",
      "No     38   31\n",
      "==========\n",
      "Accuracy: 88.05%\n"
     ]
    },
    {
     "name": "stderr",
     "output_type": "stream",
     "text": [
      "c:\\Users\\user\\AppData\\Local\\Programs\\Python\\Python310\\lib\\site-packages\\sklearn\\discriminant_analysis.py:1024: LinAlgWarning: The covariance matrix of class 0 is not full rank. Increasing the value of parameter `reg_param` might help reducing the collinearity.\n",
      "  warnings.warn(\n",
      "c:\\Users\\user\\AppData\\Local\\Programs\\Python\\Python310\\lib\\site-packages\\sklearn\\discriminant_analysis.py:1024: LinAlgWarning: The covariance matrix of class 1 is not full rank. Increasing the value of parameter `reg_param` might help reducing the collinearity.\n",
      "  warnings.warn(\n"
     ]
    }
   ],
   "source": [
    "from sklearn.discriminant_analysis import QuadraticDiscriminantAnalysis\n",
    "\n",
    "qda = QuadraticDiscriminantAnalysis()\n",
    "\n",
    "qda.fit(x_train_processed, y_train)\n",
    "\n",
    "print('Quadratic Discrimant Analysis performance:')\n",
    "print(pd.DataFrame(confusion_matrix(y_test, qda.predict(x_test_processed)), \n",
    "                   index=['Yes', 'No'], columns=['Yes', 'No']))\n",
    "\n",
    "print('==========')\n",
    "\n",
    "print(f'Accuracy: {(accuracy_score(y_test, qda.predict(x_test_processed)) * 100):.2f}%')"
   ]
  },
  {
   "cell_type": "markdown",
   "metadata": {},
   "source": [
    "<h2 style='font-weight:bold; color:skyblue'> 4.3 K-Nearest Neighbor (KNN) </h2>"
   ]
  },
  {
   "cell_type": "markdown",
   "metadata": {},
   "source": [
    "## 📘 **Example Problem**\n",
    "\n",
    "You want to classify a new point using **K=3** based on the following training data:\n",
    "\n",
    "| Point | X1 | X2 | Class |\n",
    "| ----- | -- | -- | ----- |\n",
    "| A     | 1  | 2  | 0     |\n",
    "| B     | 2  | 3  | 0     |\n",
    "| C     | 3  | 3  | 1     |\n",
    "| D     | 6  | 5  | 1     |\n",
    "\n",
    "And the **new point** to classify is:\n",
    "\n",
    "```\n",
    "New Point = (3, 2)\n",
    "```\n",
    "\n",
    "---\n",
    "\n",
    "## 🧮 **Step 1: Compute Euclidean Distance**\n",
    "\n",
    "Use the formula:\n",
    "\n",
    "$$\n",
    "d = \\sqrt{(x_1 - x_1')^2 + (x_2 - x_2')^2}\n",
    "$$\n",
    "\n",
    "| Point | Coordinates | Distance to (3,2)                   |\n",
    "| ----- | ----------- | ----------------------------------- |\n",
    "| A     | (1, 2)      | √((3−1)² + (2−2)²) = √4 = **2.0**   |\n",
    "| B     | (2, 3)      | √((3−2)² + (2−3)²) = √2 = **1.41**  |\n",
    "| C     | (3, 3)      | √((3−3)² + (2−3)²) = √1 = **1.0**   |\n",
    "| D     | (6, 5)      | √((3−6)² + (2−5)²) = √18 = **4.24** |\n",
    "\n",
    "---\n",
    "\n",
    "## 🔍 **Step 2: Find K Nearest Neighbors (K = 3)**\n",
    "\n",
    "Sorted by distance:\n",
    "\n",
    "1. C → 1.0 → Class 1\n",
    "2. B → 1.41 → Class 0\n",
    "3. A → 2.0 → Class 0\n",
    "\n",
    "---\n",
    "\n",
    "## 🗳️ **Step 3: Majority Vote**\n",
    "\n",
    "Among the 3 nearest neighbors:\n",
    "\n",
    "* Class 0: 2 votes (B, A)\n",
    "* Class 1: 1 vote (C)\n",
    "\n",
    "🎯 **Predicted class = 0**\n",
    "\n",
    "---\n",
    "\n",
    "## ✅ Final Answer:\n",
    "\n",
    "**The new point (3, 2) is classified as Class 0.**\n"
   ]
  },
  {
   "cell_type": "code",
   "execution_count": null,
   "metadata": {},
   "outputs": [],
   "source": [
    "from sklearn.neighbors import KNeighborsClassifier\n",
    "\n",
    "knn = KNeighborsClassifier(n_neighbors=3)\n",
    "\n",
    "knn.fit(x_train, y_train)\n",
    "\n",
    "confusion_matrix(x_test, knn.predict(y_test))"
   ]
  },
  {
   "cell_type": "markdown",
   "metadata": {},
   "source": [
    "<h1 style='font-weight:bold; color:orange'> 5 Resampling Methods (Week 4, Chapter 5) </h1>"
   ]
  },
  {
   "cell_type": "markdown",
   "metadata": {},
   "source": [
    "<h2 style='font-weight:bold; color:#00bfff'> 5.1 Cross Validation </h2>"
   ]
  },
  {
   "cell_type": "markdown",
   "metadata": {},
   "source": [
    "<h3 style='font-weight:bold; color:#00bfff'> 5.1.1 The Validation Set Approach </h3>\n",
    "\n",
    "The validation set approach split the data into two comparable size to validate the training data"
   ]
  },
  {
   "cell_type": "code",
   "execution_count": 62,
   "metadata": {},
   "outputs": [
    {
     "name": "stdout",
     "output_type": "stream",
     "text": [
      "Training set MSE: 24.48\n",
      "Testing set MSE: 22.15\n"
     ]
    }
   ],
   "source": [
    "# load data\n",
    "auto = pd.read_csv('data/auto.csv')\n",
    "\n",
    "# split data into training and test sets\n",
    "auto_train, auto_test = train_test_split(auto, test_size=0.2, random_state=42)\n",
    "\n",
    "# define the predictor and response variables for the training set\n",
    "y_train = auto_train['mpg']\n",
    "x_train = auto_train['horsepower'].values.reshape(-1, 1)\n",
    "\n",
    "# define the predictor and response variables for the test set\n",
    "y_test = auto_test['mpg']\n",
    "x_test = auto_test['horsepower'].values.reshape(-1, 1)\n",
    "\n",
    "# fit a linear regression model on the training set\n",
    "lr = LinearRegression()\n",
    "model = lr.fit(x_train, y_train)\n",
    "\n",
    "# make predictions on the training set\n",
    "train_pred = model.predict(x_train)\n",
    "\n",
    "# make predictions on the test set\n",
    "test_pred = model.predict(x_test)\n",
    "\n",
    "# calculate the mean squared error on the training set\n",
    "train_mse = mean_squared_error(y_train, train_pred)\n",
    "print(f'Training set MSE: {train_mse:.2f}')\n",
    "\n",
    "# calculate the mean squared error on the test set\n",
    "test_mse = mean_squared_error(y_test, test_pred)\n",
    "print(f'Testing set MSE: {test_mse:.2f}')"
   ]
  },
  {
   "cell_type": "code",
   "execution_count": null,
   "metadata": {},
   "outputs": [
    {
     "name": "stdout",
     "output_type": "stream",
     "text": [
      "Training MSE: 24.07\n",
      "Test MSE: 23.62\n"
     ]
    }
   ],
   "source": [
    "mse_train = []\n",
    "mse_test = []\n",
    "\n",
    "for i in range(10):\n",
    "    # split data into training and test sets\n",
    "    auto_train, auto_test = train_test_split(auto, test_size=0.2, random_state=i)\n",
    "\n",
    "    # define the predictor and response variables for the training set\n",
    "    y_train = auto_train['mpg']\n",
    "    x_train = auto_train['horsepower'].values.reshape(-1, 1)\n",
    "\n",
    "    # define the predictor and response variables for the test set\n",
    "    y_test = auto_test['mpg']\n",
    "    x_test = auto_test['horsepower'].values.reshape(-1, 1)\n",
    "\n",
    "    # fit a linear regression model on the training set\n",
    "    lr = LinearRegression()\n",
    "    model = lr.fit(x_train, y_train)\n",
    "\n",
    "    # make predictions on the training set\n",
    "    train_pred = model.predict(x_train)\n",
    "\n",
    "    # make predictions on the test set\n",
    "    test_pred = model.predict(x_test)\n",
    "\n",
    "    # calculate the mean squared error on the training set\n",
    "    train_mse = mean_squared_error(y_train, train_pred)\n",
    "    mse_train.append(train_mse)\n",
    "\n",
    "    # calculate the mean squared error on the test set\n",
    "    test_mse = mean_squared_error(y_test, test_pred)\n",
    "    mse_test.append(test_mse)\n",
    "\n",
    "print(f'Training MSE: {np.mean(mse_train):.2f}')\n",
    "print(f'Test MSE: {np.mean(mse_test):.2f}')"
   ]
  },
  {
   "cell_type": "markdown",
   "metadata": {},
   "source": [
    "<h3 style='font-weight:bold; color:#00bfff'> 5.1.2 Leave-One-Out-Cross-Validation </h3>"
   ]
  },
  {
   "cell_type": "code",
   "execution_count": 63,
   "metadata": {},
   "outputs": [
    {
     "name": "stdout",
     "output_type": "stream",
     "text": [
      "LOOCV RMSE: 2.67\n"
     ]
    }
   ],
   "source": [
    "# define x and y\n",
    "y = auto['mpg']\n",
    "x = auto.drop(['mpg', 'name', 'origin'], axis=1).values.reshape(-1, 6)\n",
    "\n",
    "# define loocv\n",
    "loo = LeaveOneOut()\n",
    "\n",
    "# perform loocv with negative mse\n",
    "neg_mse = cross_val_score(lr, x, y, cv=loo, scoring='neg_mean_squared_error')\n",
    "\n",
    "# convert to rmse\n",
    "rmse = np.sqrt(-neg_mse)\n",
    "\n",
    "# print the mean rmse\n",
    "print(f'LOOCV RMSE: {rmse.mean():.2f}')"
   ]
  },
  {
   "cell_type": "markdown",
   "metadata": {},
   "source": [
    "<h3 style='font-weight:bold; color:#00bfff'> 5.1.3 k-Fold Cross-Validation </h3>"
   ]
  },
  {
   "cell_type": "code",
   "execution_count": 64,
   "metadata": {},
   "outputs": [
    {
     "name": "stdout",
     "output_type": "stream",
     "text": [
      "KFold RMSE: 3.43\n"
     ]
    }
   ],
   "source": [
    "# define kfold\n",
    "kf = KFold(n_splits=10, shuffle=True, random_state=42)\n",
    "\n",
    "# negative mse\n",
    "neg_mse = cross_val_score(lr, x, y, cv=kf, scoring='neg_mean_squared_error')\n",
    "\n",
    "# convert to rmse\n",
    "rmse = np.sqrt(-neg_mse)\n",
    "\n",
    "# print the mean rmse\n",
    "print(f'KFold RMSE: {rmse.mean():.2f}')"
   ]
  },
  {
   "cell_type": "code",
   "execution_count": 67,
   "metadata": {},
   "outputs": [
    {
     "ename": "AttributeError",
     "evalue": "'numpy.ndarray' object has no attribute 'iloc'",
     "output_type": "error",
     "traceback": [
      "\u001b[1;31m---------------------------------------------------------------------------\u001b[0m",
      "\u001b[1;31mAttributeError\u001b[0m                            Traceback (most recent call last)",
      "Cell \u001b[1;32mIn[67], line 16\u001b[0m\n\u001b[0;32m     14\u001b[0m \u001b[38;5;66;03m# Perform k-fold cross-validation\u001b[39;00m\n\u001b[0;32m     15\u001b[0m \u001b[38;5;28;01mfor\u001b[39;00m train_index, test_index \u001b[38;5;129;01min\u001b[39;00m kf\u001b[38;5;241m.\u001b[39msplit(x):\n\u001b[1;32m---> 16\u001b[0m     x_train, x_test \u001b[38;5;241m=\u001b[39m \u001b[43mx\u001b[49m\u001b[38;5;241;43m.\u001b[39;49m\u001b[43miloc\u001b[49m[train_index], x\u001b[38;5;241m.\u001b[39miloc[test_index]\n\u001b[0;32m     17\u001b[0m     y_train, y_test \u001b[38;5;241m=\u001b[39m y\u001b[38;5;241m.\u001b[39miloc[train_index], y\u001b[38;5;241m.\u001b[39miloc[test_index]\n\u001b[0;32m     19\u001b[0m     model\u001b[38;5;241m.\u001b[39mfit(x_train, y_train)\n",
      "\u001b[1;31mAttributeError\u001b[0m: 'numpy.ndarray' object has no attribute 'iloc'"
     ]
    }
   ],
   "source": [
    "# manual k-fold\n",
    "\n",
    "feature = []\n",
    "\n",
    "model = LinearRegression()\n",
    "\n",
    "kf = KFold(n_splits=10, shuffle=True, random_state=42)\n",
    "\n",
    "# visualize the training and testing set for each folds\n",
    "pd.DataFrame(kf.split(x))\n",
    "\n",
    "mse_scores = []\n",
    "\n",
    "# Perform k-fold cross-validation\n",
    "for train_index, test_index in kf.split(x):\n",
    "    x_train, x_test = x.iloc[train_index], x.iloc[test_index]\n",
    "    y_train, y_test = y.iloc[train_index], y.iloc[test_index]\n",
    "    \n",
    "    model.fit(x_train, y_train)\n",
    "    y_pred = model.predict(x_test)\n",
    "    \n",
    "    mse = mean_squared_error(y_test, y_pred)\n",
    "    mse_scores.append(mse)\n",
    "\n",
    "np.mean(mse_scores)"
   ]
  },
  {
   "cell_type": "markdown",
   "metadata": {},
   "source": [
    "Cuba buat manually to check output from the above function"
   ]
  },
  {
   "cell_type": "code",
   "execution_count": null,
   "metadata": {},
   "outputs": [
    {
     "data": {
      "text/plain": [
       "(392, 9)"
      ]
     },
     "execution_count": 44,
     "metadata": {},
     "output_type": "execute_result"
    }
   ],
   "source": [
    "#  auto dataset has 392 rows and 9 columns\n",
    "\n",
    "auto.sample(98)"
   ]
  },
  {
   "cell_type": "markdown",
   "metadata": {},
   "source": [
    "<h2 style='font-weight:bold; color:#00bfff'> 5.2 Bootstrap </h2>"
   ]
  },
  {
   "cell_type": "markdown",
   "metadata": {},
   "source": [
    "Bootstrap is basically resampling with replacement"
   ]
  },
  {
   "cell_type": "code",
   "execution_count": 70,
   "metadata": {},
   "outputs": [
    {
     "name": "stdout",
     "output_type": "stream",
     "text": [
      "<class 'pandas.core.frame.DataFrame'>\n",
      "RangeIndex: 100 entries, 0 to 99\n",
      "Data columns (total 3 columns):\n",
      " #   Column      Non-Null Count  Dtype  \n",
      "---  ------      --------------  -----  \n",
      " 0   Unnamed: 0  100 non-null    int64  \n",
      " 1   X           100 non-null    float64\n",
      " 2   Y           100 non-null    float64\n",
      "dtypes: float64(2), int64(1)\n",
      "memory usage: 2.5 KB\n"
     ]
    }
   ],
   "source": [
    "portfolio = pd.read_csv('data/portfolio.csv')\n",
    "portfolio.info()"
   ]
  },
  {
   "cell_type": "code",
   "execution_count": 72,
   "metadata": {},
   "outputs": [
    {
     "name": "stdout",
     "output_type": "stream",
     "text": [
      "<class 'pandas.core.frame.DataFrame'>\n",
      "Index: 100 entries, 51 to 23\n",
      "Data columns (total 3 columns):\n",
      " #   Column      Non-Null Count  Dtype  \n",
      "---  ------      --------------  -----  \n",
      " 0   Unnamed: 0  100 non-null    int64  \n",
      " 1   X           100 non-null    float64\n",
      " 2   Y           100 non-null    float64\n",
      "dtypes: float64(2), int64(1)\n",
      "memory usage: 3.1 KB\n"
     ]
    }
   ],
   "source": [
    "x = portfolio['X']\n",
    "y = portfolio['Y']\n",
    "\n",
    "# bootstrap\n",
    "dfsample = portfolio.sample(frac=1, replace=True, random_state=42)\n",
    "dfsample.info()"
   ]
  },
  {
   "cell_type": "markdown",
   "metadata": {},
   "source": [
    "<h1 style='font-weight:bold; color:orange'> 6 Linear Model Selection (Week 5, Chapter 6) </h1>\n",
    "\n",
    "- This is also called **Feature Selection**\n",
    "- alternative to least square\n",
    "\n",
    "Advantage of Linear model\n",
    "1. Inference"
   ]
  },
  {
   "cell_type": "markdown",
   "metadata": {},
   "source": [
    "<h2 style='color:#00bfff; font-weight:bold'> 6.1 Subset Selection </h2>"
   ]
  },
  {
   "cell_type": "markdown",
   "metadata": {},
   "source": [
    "<h3 style='color:#00bfff; font-weight:bold'> 6.1.1 Best Subset Selection </h3>\n",
    "\n",
    "Fit a separate least square regression for each possible model. The number of model that we will fit is 2^p where p is the number of variable. For example, if a data has 20 predictor variable, then the number of model will be 2^20 = 1,048,576. This is a very high number of possibility and will use a lot of computational power to execute best subset selection.\n",
    "\n",
    "**Cons**\n",
    "1. Use high computational power if there is a lot number of variables\n",
    "2. Higher search space leads to higher chance of finding model that overfit and have high variance on coefficient estimates\n",
    "\n",
    "no 2 tu maksudnya lagi banyak option yang kita consider untuk bina model, lagi senang untuk kita dapat model yang perform bagus untuk training data tapi tak power untuk predict new/future data. Jadi model tu akan overfit dan ada variance yang tinggi."
   ]
  },
  {
   "cell_type": "code",
   "execution_count": null,
   "metadata": {},
   "outputs": [],
   "source": []
  },
  {
   "cell_type": "code",
   "execution_count": null,
   "metadata": {},
   "outputs": [],
   "source": []
  },
  {
   "cell_type": "markdown",
   "metadata": {},
   "source": [
    "<h3 style='color:#00bfff; font-weight:bold'> 6.1.2 Stepwise Selection </h3>\n",
    "\n",
    "1. Forward Selection\n",
    "2. Backward Selection\n",
    "3. Forward-Backward Selection"
   ]
  },
  {
   "cell_type": "markdown",
   "metadata": {},
   "source": [
    "<h4 style='color:#00bfff; font-weight:bold'> 6.1.2.1 Forward Selection </h4>\n",
    "\n",
    "Begin with no predictor in the model. Then add one at a time until all predictors are in the model. \n",
    "\n",
    "Criteria when choosing model for each iteration\n",
    "1. Lowest RSS\n",
    "2. Highest R^2"
   ]
  },
  {
   "cell_type": "code",
   "execution_count": null,
   "metadata": {},
   "outputs": [
    {
     "data": {
      "application/vnd.microsoft.datawrangler.viewer.v0+json": {
       "columns": [
        {
         "name": "index",
         "rawType": "int64",
         "type": "integer"
        },
        {
         "name": "League_A",
         "rawType": "bool",
         "type": "boolean"
        },
        {
         "name": "League_N",
         "rawType": "bool",
         "type": "boolean"
        },
        {
         "name": "Division_E",
         "rawType": "bool",
         "type": "boolean"
        },
        {
         "name": "Division_W",
         "rawType": "bool",
         "type": "boolean"
        },
        {
         "name": "NewLeague_A",
         "rawType": "bool",
         "type": "boolean"
        },
        {
         "name": "NewLeague_N",
         "rawType": "bool",
         "type": "boolean"
        }
       ],
       "conversionMethod": "pd.DataFrame",
       "ref": "bd33ec97-77fe-4f2f-aa24-9bd5ade0c09d",
       "rows": [
        [
         "1",
         "False",
         "True",
         "False",
         "True",
         "False",
         "True"
        ],
        [
         "2",
         "True",
         "False",
         "False",
         "True",
         "True",
         "False"
        ],
        [
         "3",
         "False",
         "True",
         "True",
         "False",
         "False",
         "True"
        ],
        [
         "4",
         "False",
         "True",
         "True",
         "False",
         "False",
         "True"
        ],
        [
         "5",
         "True",
         "False",
         "False",
         "True",
         "True",
         "False"
        ],
        [
         "6",
         "False",
         "True",
         "True",
         "False",
         "True",
         "False"
        ],
        [
         "7",
         "True",
         "False",
         "False",
         "True",
         "True",
         "False"
        ],
        [
         "8",
         "False",
         "True",
         "False",
         "True",
         "False",
         "True"
        ],
        [
         "9",
         "True",
         "False",
         "True",
         "False",
         "True",
         "False"
        ],
        [
         "10",
         "True",
         "False",
         "True",
         "False",
         "True",
         "False"
        ],
        [
         "11",
         "False",
         "True",
         "False",
         "True",
         "False",
         "True"
        ],
        [
         "12",
         "False",
         "True",
         "True",
         "False",
         "False",
         "True"
        ],
        [
         "13",
         "True",
         "False",
         "True",
         "False",
         "True",
         "False"
        ],
        [
         "14",
         "False",
         "True",
         "True",
         "False",
         "False",
         "True"
        ],
        [
         "16",
         "False",
         "True",
         "False",
         "True",
         "False",
         "True"
        ],
        [
         "17",
         "True",
         "False",
         "False",
         "True",
         "True",
         "False"
        ],
        [
         "19",
         "False",
         "True",
         "False",
         "True",
         "False",
         "True"
        ],
        [
         "20",
         "False",
         "True",
         "True",
         "False",
         "False",
         "True"
        ],
        [
         "21",
         "True",
         "False",
         "False",
         "True",
         "False",
         "True"
        ],
        [
         "23",
         "False",
         "True",
         "False",
         "True",
         "False",
         "True"
        ],
        [
         "24",
         "True",
         "False",
         "True",
         "False",
         "True",
         "False"
        ],
        [
         "25",
         "True",
         "False",
         "True",
         "False",
         "True",
         "False"
        ],
        [
         "26",
         "False",
         "True",
         "True",
         "False",
         "False",
         "True"
        ],
        [
         "27",
         "False",
         "True",
         "False",
         "True",
         "False",
         "True"
        ],
        [
         "28",
         "False",
         "True",
         "False",
         "True",
         "False",
         "True"
        ],
        [
         "29",
         "True",
         "False",
         "False",
         "True",
         "True",
         "False"
        ],
        [
         "31",
         "False",
         "True",
         "False",
         "True",
         "False",
         "True"
        ],
        [
         "33",
         "True",
         "False",
         "True",
         "False",
         "True",
         "False"
        ],
        [
         "34",
         "True",
         "False",
         "False",
         "True",
         "True",
         "False"
        ],
        [
         "35",
         "False",
         "True",
         "False",
         "True",
         "False",
         "True"
        ],
        [
         "37",
         "False",
         "True",
         "False",
         "True",
         "False",
         "True"
        ],
        [
         "40",
         "True",
         "False",
         "True",
         "False",
         "True",
         "False"
        ],
        [
         "43",
         "True",
         "False",
         "True",
         "False",
         "True",
         "False"
        ],
        [
         "45",
         "True",
         "False",
         "True",
         "False",
         "True",
         "False"
        ],
        [
         "46",
         "False",
         "True",
         "False",
         "True",
         "False",
         "True"
        ],
        [
         "47",
         "True",
         "False",
         "True",
         "False",
         "True",
         "False"
        ],
        [
         "49",
         "False",
         "True",
         "False",
         "True",
         "False",
         "True"
        ],
        [
         "50",
         "True",
         "False",
         "False",
         "True",
         "True",
         "False"
        ],
        [
         "51",
         "False",
         "True",
         "True",
         "False",
         "False",
         "True"
        ],
        [
         "53",
         "True",
         "False",
         "False",
         "True",
         "True",
         "False"
        ],
        [
         "54",
         "True",
         "False",
         "True",
         "False",
         "True",
         "False"
        ],
        [
         "55",
         "False",
         "True",
         "False",
         "True",
         "False",
         "True"
        ],
        [
         "56",
         "False",
         "True",
         "False",
         "True",
         "False",
         "True"
        ],
        [
         "58",
         "False",
         "True",
         "False",
         "True",
         "False",
         "True"
        ],
        [
         "59",
         "True",
         "False",
         "True",
         "False",
         "True",
         "False"
        ],
        [
         "60",
         "True",
         "False",
         "True",
         "False",
         "True",
         "False"
        ],
        [
         "61",
         "False",
         "True",
         "True",
         "False",
         "False",
         "True"
        ],
        [
         "62",
         "True",
         "False",
         "False",
         "True",
         "True",
         "False"
        ],
        [
         "63",
         "False",
         "True",
         "False",
         "True",
         "False",
         "True"
        ],
        [
         "65",
         "True",
         "False",
         "True",
         "False",
         "True",
         "False"
        ]
       ],
       "shape": {
        "columns": 6,
        "rows": 263
       }
      },
      "text/html": [
       "<div>\n",
       "<style scoped>\n",
       "    .dataframe tbody tr th:only-of-type {\n",
       "        vertical-align: middle;\n",
       "    }\n",
       "\n",
       "    .dataframe tbody tr th {\n",
       "        vertical-align: top;\n",
       "    }\n",
       "\n",
       "    .dataframe thead th {\n",
       "        text-align: right;\n",
       "    }\n",
       "</style>\n",
       "<table border=\"1\" class=\"dataframe\">\n",
       "  <thead>\n",
       "    <tr style=\"text-align: right;\">\n",
       "      <th></th>\n",
       "      <th>League_A</th>\n",
       "      <th>League_N</th>\n",
       "      <th>Division_E</th>\n",
       "      <th>Division_W</th>\n",
       "      <th>NewLeague_A</th>\n",
       "      <th>NewLeague_N</th>\n",
       "    </tr>\n",
       "  </thead>\n",
       "  <tbody>\n",
       "    <tr>\n",
       "      <th>1</th>\n",
       "      <td>False</td>\n",
       "      <td>True</td>\n",
       "      <td>False</td>\n",
       "      <td>True</td>\n",
       "      <td>False</td>\n",
       "      <td>True</td>\n",
       "    </tr>\n",
       "    <tr>\n",
       "      <th>2</th>\n",
       "      <td>True</td>\n",
       "      <td>False</td>\n",
       "      <td>False</td>\n",
       "      <td>True</td>\n",
       "      <td>True</td>\n",
       "      <td>False</td>\n",
       "    </tr>\n",
       "    <tr>\n",
       "      <th>3</th>\n",
       "      <td>False</td>\n",
       "      <td>True</td>\n",
       "      <td>True</td>\n",
       "      <td>False</td>\n",
       "      <td>False</td>\n",
       "      <td>True</td>\n",
       "    </tr>\n",
       "    <tr>\n",
       "      <th>4</th>\n",
       "      <td>False</td>\n",
       "      <td>True</td>\n",
       "      <td>True</td>\n",
       "      <td>False</td>\n",
       "      <td>False</td>\n",
       "      <td>True</td>\n",
       "    </tr>\n",
       "    <tr>\n",
       "      <th>5</th>\n",
       "      <td>True</td>\n",
       "      <td>False</td>\n",
       "      <td>False</td>\n",
       "      <td>True</td>\n",
       "      <td>True</td>\n",
       "      <td>False</td>\n",
       "    </tr>\n",
       "    <tr>\n",
       "      <th>...</th>\n",
       "      <td>...</td>\n",
       "      <td>...</td>\n",
       "      <td>...</td>\n",
       "      <td>...</td>\n",
       "      <td>...</td>\n",
       "      <td>...</td>\n",
       "    </tr>\n",
       "    <tr>\n",
       "      <th>317</th>\n",
       "      <td>False</td>\n",
       "      <td>True</td>\n",
       "      <td>True</td>\n",
       "      <td>False</td>\n",
       "      <td>False</td>\n",
       "      <td>True</td>\n",
       "    </tr>\n",
       "    <tr>\n",
       "      <th>318</th>\n",
       "      <td>True</td>\n",
       "      <td>False</td>\n",
       "      <td>True</td>\n",
       "      <td>False</td>\n",
       "      <td>True</td>\n",
       "      <td>False</td>\n",
       "    </tr>\n",
       "    <tr>\n",
       "      <th>319</th>\n",
       "      <td>True</td>\n",
       "      <td>False</td>\n",
       "      <td>False</td>\n",
       "      <td>True</td>\n",
       "      <td>True</td>\n",
       "      <td>False</td>\n",
       "    </tr>\n",
       "    <tr>\n",
       "      <th>320</th>\n",
       "      <td>True</td>\n",
       "      <td>False</td>\n",
       "      <td>True</td>\n",
       "      <td>False</td>\n",
       "      <td>True</td>\n",
       "      <td>False</td>\n",
       "    </tr>\n",
       "    <tr>\n",
       "      <th>321</th>\n",
       "      <td>True</td>\n",
       "      <td>False</td>\n",
       "      <td>False</td>\n",
       "      <td>True</td>\n",
       "      <td>True</td>\n",
       "      <td>False</td>\n",
       "    </tr>\n",
       "  </tbody>\n",
       "</table>\n",
       "<p>263 rows × 6 columns</p>\n",
       "</div>"
      ],
      "text/plain": [
       "     League_A  League_N  Division_E  Division_W  NewLeague_A  NewLeague_N\n",
       "1       False      True       False        True        False         True\n",
       "2        True     False       False        True         True        False\n",
       "3       False      True        True       False        False         True\n",
       "4       False      True        True       False        False         True\n",
       "5        True     False       False        True         True        False\n",
       "..        ...       ...         ...         ...          ...          ...\n",
       "317     False      True        True       False        False         True\n",
       "318      True     False        True       False         True        False\n",
       "319      True     False       False        True         True        False\n",
       "320      True     False        True       False         True        False\n",
       "321      True     False       False        True         True        False\n",
       "\n",
       "[263 rows x 6 columns]"
      ]
     },
     "execution_count": 10,
     "metadata": {},
     "output_type": "execute_result"
    }
   ],
   "source": [
    "hitters = pd.read_csv('data/hitters.csv').dropna()\n",
    "\n",
    "y = hitters['Salary']\n",
    "\n",
    "df = pd.get_dummies(hitters[['League', 'Division', 'NewLeague']])\n",
    "\n",
    "lr = LinearRegression()\n",
    "\n",
    "def process(feature):\n",
    "    model = lr.fit(x[feature], y)\n",
    "    pred = model.predict(x[feature])\n",
    "    mse = mean_squared_error(y, pred)\n",
    "    return mse\n",
    "\n",
    "\n"
   ]
  },
  {
   "cell_type": "code",
   "execution_count": null,
   "metadata": {},
   "outputs": [
    {
     "name": "stdout",
     "output_type": "stream",
     "text": [
      "-205708.8753359605\n"
     ]
    }
   ],
   "source": [
    "# load data\n",
    "hitters = pd.read_csv('data/hitters.csv').dropna()\n",
    "\n",
    "# list out all columns with type 'object'\n",
    "object = hitters.select_dtypes(include=['object']).columns\n",
    "\n",
    "# remove all columns with type 'object'\n",
    "hitter = hitters.drop(object, axis=1)\n",
    "\n",
    "# define x and y\n",
    "y = hitter['Salary'] \n",
    "x = hitter.drop('Salary', axis=1)\n",
    "\n",
    "selected_features = []\n",
    "remaining_features = list(x.columns)\n",
    "scores_history = []\n",
    "kf = KFold(n_splits=10, shuffle=True, random_state=42)\n",
    "\n",
    "for feature in remaining_features:\n",
    "    current_features = selected_features + [feature] # add list to list, maybe can use append\n",
    "    subset = x[current_features]\n",
    "    \n",
    "\n",
    "model = LinearRegression()\n",
    "mse = cross_val_score(model, subset, y, cv=kf, scoring='neg_mean_squared_error')\n",
    "avg_mse = np.mean(mse)\n",
    "\n",
    "np.argmax()"
   ]
  },
  {
   "cell_type": "markdown",
   "metadata": {},
   "source": [
    "<h4 style='font-weight:bold; color:#00bfff'> Backward Selection </h4>"
   ]
  },
  {
   "cell_type": "code",
   "execution_count": null,
   "metadata": {},
   "outputs": [
    {
     "data": {
      "text/plain": [
       "<statsmodels.regression.linear_model.RegressionResultsWrapper at 0x247d90edcd0>"
      ]
     },
     "execution_count": 37,
     "metadata": {},
     "output_type": "execute_result"
    }
   ],
   "source": [
    "x = add_constant(hitter.drop('Salary', axis=1))\n",
    "y = hitter['Salary']\n",
    "\n",
    "model = OLS(y, x).fit()\n",
    "\n",
    "feature = list(x.columns)\n",
    "\n",
    "while len(feature) > 0:\n",
    "    x_opt = x[feature]\n",
    "    model = OLS(y, x_opt).fit()\n",
    "    p_val = model.pvalues\n",
    "    max_p_val = p_val.max()\n",
    "\n",
    "    if max_p_val > 0.05:\n",
    "        excluded_feature = p_val.idxmax()\n",
    "        feature.remove(excluded_feature)\n",
    "        print(max_p_val)\n",
    "\n",
    "    else:\n",
    "        break\n",
    "\n",
    "model"
   ]
  },
  {
   "cell_type": "markdown",
   "metadata": {},
   "source": [
    "<h4 style='font-weight:bold; color:#00bfff'> Forward-Backward Selection </h4>"
   ]
  },
  {
   "cell_type": "code",
   "execution_count": null,
   "metadata": {},
   "outputs": [],
   "source": []
  },
  {
   "cell_type": "markdown",
   "metadata": {},
   "source": [
    "<h1 style='font-weight:bold; color:orange'> 7 Nonlinear models (Week 6, Chapter 7) </h1>"
   ]
  },
  {
   "cell_type": "code",
   "execution_count": null,
   "metadata": {},
   "outputs": [],
   "source": [
    "from sklearn.preprocessing import PolynomialFeatures\n",
    "from statsmodels.api import GLS"
   ]
  },
  {
   "cell_type": "code",
   "execution_count": null,
   "metadata": {},
   "outputs": [
    {
     "name": "stdout",
     "output_type": "stream",
     "text": [
      "(3000, 12)\n",
      "--------------------------------------------\n",
      "   year  age      sex            maritl      race        education  \\\n",
      "0  2006   18  1. Male  1. Never Married  1. White     1. < HS Grad   \n",
      "1  2004   24  1. Male  1. Never Married  1. White  4. College Grad   \n",
      "2  2003   45  1. Male        2. Married  1. White  3. Some College   \n",
      "3  2003   43  1. Male        2. Married  3. Asian  4. College Grad   \n",
      "4  2005   50  1. Male       4. Divorced  1. White       2. HS Grad   \n",
      "\n",
      "               region        jobclass          health health_ins   logwage  \\\n",
      "0  2. Middle Atlantic   1. Industrial       1. <=Good      2. No  4.318063   \n",
      "1  2. Middle Atlantic  2. Information  2. >=Very Good      2. No  4.255273   \n",
      "2  2. Middle Atlantic   1. Industrial       1. <=Good     1. Yes  4.875061   \n",
      "3  2. Middle Atlantic  2. Information  2. >=Very Good     1. Yes  5.041393   \n",
      "4  2. Middle Atlantic  2. Information       1. <=Good     1. Yes  4.318063   \n",
      "\n",
      "         wage  \n",
      "0   75.043154  \n",
      "1   70.476020  \n",
      "2  130.982177  \n",
      "3  154.685293  \n",
      "4   75.043154  \n",
      "--------------------------------------------\n",
      "<class 'pandas.core.frame.DataFrame'>\n",
      "RangeIndex: 3000 entries, 0 to 2999\n",
      "Data columns (total 12 columns):\n",
      " #   Column      Non-Null Count  Dtype  \n",
      "---  ------      --------------  -----  \n",
      " 0   year        3000 non-null   int64  \n",
      " 1   age         3000 non-null   int64  \n",
      " 2   sex         3000 non-null   object \n",
      " 3   maritl      3000 non-null   object \n",
      " 4   race        3000 non-null   object \n",
      " 5   education   3000 non-null   object \n",
      " 6   region      3000 non-null   object \n",
      " 7   jobclass    3000 non-null   object \n",
      " 8   health      3000 non-null   object \n",
      " 9   health_ins  3000 non-null   object \n",
      " 10  logwage     3000 non-null   float64\n",
      " 11  wage        3000 non-null   float64\n",
      "dtypes: float64(2), int64(2), object(8)\n",
      "memory usage: 281.4+ KB\n",
      "None\n"
     ]
    }
   ],
   "source": [
    "wage = pd.read_csv('data/wage.csv')\n",
    "print(wage.shape)\n",
    "print('--------------------------------------------')\n",
    "print(wage.head(5))\n",
    "print('--------------------------------------------')\n",
    "print(wage.info())"
   ]
  },
  {
   "cell_type": "code",
   "execution_count": null,
   "metadata": {},
   "outputs": [],
   "source": []
  },
  {
   "cell_type": "code",
   "execution_count": null,
   "metadata": {},
   "outputs": [],
   "source": [
    "x = add_constant(wage['age'])\n",
    "y = wage['wage']\n",
    "model = OLS(y, x).fit()\n",
    "prediction = model.predict(x)"
   ]
  },
  {
   "cell_type": "code",
   "execution_count": null,
   "metadata": {},
   "outputs": [
    {
     "data": {
      "image/png": "[encoded data removed]",
      "text/plain": [
       "<Figure size 640x480 with 1 Axes>"
      ]
     },
     "metadata": {},
     "output_type": "display_data"
    }
   ],
   "source": [
    "sns.scatterplot(x='age', y='wage', data=wage)\n",
    "plt.plot(x, prediction, color='red', label='predicted value')\n",
    "plt.title('Degree 4 Polynomial Regression')\n",
    "plt.show();"
   ]
  },
  {
   "cell_type": "code",
   "execution_count": null,
   "metadata": {},
   "outputs": [
    {
     "name": "stdout",
     "output_type": "stream",
     "text": [
      "-10.425224262028578\n"
     ]
    }
   ],
   "source": [
    "x_poly = PolynomialFeatures(degree=2).fit_transform(wage['age'].values.reshape(-1, 1))\n",
    "y = wage['wage']\n",
    "\n",
    "print(LinearRegression().fit(x_poly, y).intercept_)"
   ]
  },
  {
   "cell_type": "code",
   "execution_count": null,
   "metadata": {},
   "outputs": [
    {
     "data": {
      "image/png": "[encoded data removed]",
      "text/plain": [
       "<Figure size 1000x600 with 1 Axes>"
      ]
     },
     "metadata": {},
     "output_type": "display_data"
    }
   ],
   "source": [
    "import numpy as np\n",
    "import matplotlib.pyplot as plt\n",
    "import seaborn as sns\n",
    "from sklearn.linear_model import LinearRegression\n",
    "from sklearn.preprocessing import PolynomialFeatures\n",
    "\n",
    "# Generate data\n",
    "m = 100\n",
    "X = 6 * np.random.rand(m, 1) - 3\n",
    "y = 0.5 * X**2 + X + 2 + np.random.randn(m, 1)\n",
    "\n",
    "# Create polynomial features\n",
    "poly = PolynomialFeatures(degree=2, include_bias=False)\n",
    "X_poly = poly.fit_transform(X)\n",
    "\n",
    "# Fit model and predict\n",
    "model = LinearRegression().fit(X_poly, y)\n",
    "predictions = model.predict(X_poly)\n",
    "\n",
    "# Sort X and predictions for proper plotting\n",
    "sorted_indices = np.argsort(X[:, 0])\n",
    "X_sorted = X[sorted_indices]\n",
    "predictions_sorted = predictions[sorted_indices]\n",
    "\n",
    "# Plot\n",
    "plt.figure(figsize=(10, 6))\n",
    "sns.scatterplot(x=X_sorted[:, 0], y=y[sorted_indices][:, 0], alpha=0.7)\n",
    "plt.plot(X_sorted[:, 0], predictions_sorted[:, 0], 'r-', linewidth=2)\n",
    "plt.title(\"Polynomial Regression (Degree=2)\")\n",
    "plt.xlabel(\"X\")\n",
    "plt.ylabel(\"y\")\n",
    "plt.show()"
   ]
  },
  {
   "cell_type": "code",
   "execution_count": null,
   "metadata": {},
   "outputs": [
    {
     "ename": "ValueError",
     "evalue": "Per-column arrays must each be 1-dimensional",
     "output_type": "error",
     "traceback": [
      "\u001b[31m---------------------------------------------------------------------------\u001b[39m",
      "\u001b[31mValueError\u001b[39m                                Traceback (most recent call last)",
      "\u001b[36mCell\u001b[39m\u001b[36m \u001b[39m\u001b[32mIn[68]\u001b[39m\u001b[32m, line 10\u001b[39m\n\u001b[32m      7\u001b[39m x_poly = poly.fit_transform(X)\n\u001b[32m      8\u001b[39m prediction = LinearRegression().fit(x_poly, y).predict(x_poly)\n\u001b[32m---> \u001b[39m\u001b[32m10\u001b[39m \u001b[43msns\u001b[49m\u001b[43m.\u001b[49m\u001b[43mscatterplot\u001b[49m\u001b[43m(\u001b[49m\u001b[43mx\u001b[49m\u001b[43m=\u001b[49m\u001b[43mx_poly\u001b[49m\u001b[43m,\u001b[49m\u001b[43m \u001b[49m\u001b[43my\u001b[49m\u001b[43m=\u001b[49m\u001b[43my\u001b[49m\u001b[43m)\u001b[49m\n\u001b[32m     11\u001b[39m plt.plot(X, prediction)\n",
      "\u001b[36mFile \u001b[39m\u001b[32mc:\\Users\\user\\AppData\\Local\\Programs\\Python\\Python313\\Lib\\site-packages\\seaborn\\relational.py:615\u001b[39m, in \u001b[36mscatterplot\u001b[39m\u001b[34m(data, x, y, hue, size, style, palette, hue_order, hue_norm, sizes, size_order, size_norm, markers, style_order, legend, ax, **kwargs)\u001b[39m\n\u001b[32m    606\u001b[39m \u001b[38;5;28;01mdef\u001b[39;00m\u001b[38;5;250m \u001b[39m\u001b[34mscatterplot\u001b[39m(\n\u001b[32m    607\u001b[39m     data=\u001b[38;5;28;01mNone\u001b[39;00m, *,\n\u001b[32m    608\u001b[39m     x=\u001b[38;5;28;01mNone\u001b[39;00m, y=\u001b[38;5;28;01mNone\u001b[39;00m, hue=\u001b[38;5;28;01mNone\u001b[39;00m, size=\u001b[38;5;28;01mNone\u001b[39;00m, style=\u001b[38;5;28;01mNone\u001b[39;00m,\n\u001b[32m   (...)\u001b[39m\u001b[32m    612\u001b[39m     **kwargs\n\u001b[32m    613\u001b[39m ):\n\u001b[32m--> \u001b[39m\u001b[32m615\u001b[39m     p = \u001b[43m_ScatterPlotter\u001b[49m\u001b[43m(\u001b[49m\n\u001b[32m    616\u001b[39m \u001b[43m        \u001b[49m\u001b[43mdata\u001b[49m\u001b[43m=\u001b[49m\u001b[43mdata\u001b[49m\u001b[43m,\u001b[49m\n\u001b[32m    617\u001b[39m \u001b[43m        \u001b[49m\u001b[43mvariables\u001b[49m\u001b[43m=\u001b[49m\u001b[38;5;28;43mdict\u001b[39;49m\u001b[43m(\u001b[49m\u001b[43mx\u001b[49m\u001b[43m=\u001b[49m\u001b[43mx\u001b[49m\u001b[43m,\u001b[49m\u001b[43m \u001b[49m\u001b[43my\u001b[49m\u001b[43m=\u001b[49m\u001b[43my\u001b[49m\u001b[43m,\u001b[49m\u001b[43m \u001b[49m\u001b[43mhue\u001b[49m\u001b[43m=\u001b[49m\u001b[43mhue\u001b[49m\u001b[43m,\u001b[49m\u001b[43m \u001b[49m\u001b[43msize\u001b[49m\u001b[43m=\u001b[49m\u001b[43msize\u001b[49m\u001b[43m,\u001b[49m\u001b[43m \u001b[49m\u001b[43mstyle\u001b[49m\u001b[43m=\u001b[49m\u001b[43mstyle\u001b[49m\u001b[43m)\u001b[49m\u001b[43m,\u001b[49m\n\u001b[32m    618\u001b[39m \u001b[43m        \u001b[49m\u001b[43mlegend\u001b[49m\u001b[43m=\u001b[49m\u001b[43mlegend\u001b[49m\n\u001b[32m    619\u001b[39m \u001b[43m    \u001b[49m\u001b[43m)\u001b[49m\n\u001b[32m    621\u001b[39m     p.map_hue(palette=palette, order=hue_order, norm=hue_norm)\n\u001b[32m    622\u001b[39m     p.map_size(sizes=sizes, order=size_order, norm=size_norm)\n",
      "\u001b[36mFile \u001b[39m\u001b[32mc:\\Users\\user\\AppData\\Local\\Programs\\Python\\Python313\\Lib\\site-packages\\seaborn\\relational.py:396\u001b[39m, in \u001b[36m_ScatterPlotter.__init__\u001b[39m\u001b[34m(self, data, variables, legend)\u001b[39m\n\u001b[32m    387\u001b[39m \u001b[38;5;28;01mdef\u001b[39;00m\u001b[38;5;250m \u001b[39m\u001b[34m__init__\u001b[39m(\u001b[38;5;28mself\u001b[39m, *, data=\u001b[38;5;28;01mNone\u001b[39;00m, variables={}, legend=\u001b[38;5;28;01mNone\u001b[39;00m):\n\u001b[32m    388\u001b[39m \n\u001b[32m    389\u001b[39m     \u001b[38;5;66;03m# TODO this is messy, we want the mapping to be agnostic about\u001b[39;00m\n\u001b[32m    390\u001b[39m     \u001b[38;5;66;03m# the kind of plot to draw, but for the time being we need to set\u001b[39;00m\n\u001b[32m    391\u001b[39m     \u001b[38;5;66;03m# this information so the SizeMapping can use it\u001b[39;00m\n\u001b[32m    392\u001b[39m     \u001b[38;5;28mself\u001b[39m._default_size_range = (\n\u001b[32m    393\u001b[39m         np.r_[\u001b[32m.5\u001b[39m, \u001b[32m2\u001b[39m] * np.square(mpl.rcParams[\u001b[33m\"\u001b[39m\u001b[33mlines.markersize\u001b[39m\u001b[33m\"\u001b[39m])\n\u001b[32m    394\u001b[39m     )\n\u001b[32m--> \u001b[39m\u001b[32m396\u001b[39m     \u001b[38;5;28;43msuper\u001b[39;49m\u001b[43m(\u001b[49m\u001b[43m)\u001b[49m\u001b[43m.\u001b[49m\u001b[34;43m__init__\u001b[39;49m\u001b[43m(\u001b[49m\u001b[43mdata\u001b[49m\u001b[43m=\u001b[49m\u001b[43mdata\u001b[49m\u001b[43m,\u001b[49m\u001b[43m \u001b[49m\u001b[43mvariables\u001b[49m\u001b[43m=\u001b[49m\u001b[43mvariables\u001b[49m\u001b[43m)\u001b[49m\n\u001b[32m    398\u001b[39m     \u001b[38;5;28mself\u001b[39m.legend = legend\n",
      "\u001b[36mFile \u001b[39m\u001b[32mc:\\Users\\user\\AppData\\Local\\Programs\\Python\\Python313\\Lib\\site-packages\\seaborn\\_base.py:634\u001b[39m, in \u001b[36mVectorPlotter.__init__\u001b[39m\u001b[34m(self, data, variables)\u001b[39m\n\u001b[32m    629\u001b[39m \u001b[38;5;66;03m# var_ordered is relevant only for categorical axis variables, and may\u001b[39;00m\n\u001b[32m    630\u001b[39m \u001b[38;5;66;03m# be better handled by an internal axis information object that tracks\u001b[39;00m\n\u001b[32m    631\u001b[39m \u001b[38;5;66;03m# such information and is set up by the scale_* methods. The analogous\u001b[39;00m\n\u001b[32m    632\u001b[39m \u001b[38;5;66;03m# information for numeric axes would be information about log scales.\u001b[39;00m\n\u001b[32m    633\u001b[39m \u001b[38;5;28mself\u001b[39m._var_ordered = {\u001b[33m\"\u001b[39m\u001b[33mx\u001b[39m\u001b[33m\"\u001b[39m: \u001b[38;5;28;01mFalse\u001b[39;00m, \u001b[33m\"\u001b[39m\u001b[33my\u001b[39m\u001b[33m\"\u001b[39m: \u001b[38;5;28;01mFalse\u001b[39;00m}  \u001b[38;5;66;03m# alt., used DefaultDict\u001b[39;00m\n\u001b[32m--> \u001b[39m\u001b[32m634\u001b[39m \u001b[38;5;28;43mself\u001b[39;49m\u001b[43m.\u001b[49m\u001b[43massign_variables\u001b[49m\u001b[43m(\u001b[49m\u001b[43mdata\u001b[49m\u001b[43m,\u001b[49m\u001b[43m \u001b[49m\u001b[43mvariables\u001b[49m\u001b[43m)\u001b[49m\n\u001b[32m    636\u001b[39m \u001b[38;5;66;03m# TODO Lots of tests assume that these are called to initialize the\u001b[39;00m\n\u001b[32m    637\u001b[39m \u001b[38;5;66;03m# mappings to default values on class initialization. I'd prefer to\u001b[39;00m\n\u001b[32m    638\u001b[39m \u001b[38;5;66;03m# move away from that and only have a mapping when explicitly called.\u001b[39;00m\n\u001b[32m    639\u001b[39m \u001b[38;5;28;01mfor\u001b[39;00m var \u001b[38;5;129;01min\u001b[39;00m [\u001b[33m\"\u001b[39m\u001b[33mhue\u001b[39m\u001b[33m\"\u001b[39m, \u001b[33m\"\u001b[39m\u001b[33msize\u001b[39m\u001b[33m\"\u001b[39m, \u001b[33m\"\u001b[39m\u001b[33mstyle\u001b[39m\u001b[33m\"\u001b[39m]:\n",
      "\u001b[36mFile \u001b[39m\u001b[32mc:\\Users\\user\\AppData\\Local\\Programs\\Python\\Python313\\Lib\\site-packages\\seaborn\\_base.py:679\u001b[39m, in \u001b[36mVectorPlotter.assign_variables\u001b[39m\u001b[34m(self, data, variables)\u001b[39m\n\u001b[32m    674\u001b[39m \u001b[38;5;28;01melse\u001b[39;00m:\n\u001b[32m    675\u001b[39m     \u001b[38;5;66;03m# When dealing with long-form input, use the newer PlotData\u001b[39;00m\n\u001b[32m    676\u001b[39m     \u001b[38;5;66;03m# object (internal but introduced for the objects interface)\u001b[39;00m\n\u001b[32m    677\u001b[39m     \u001b[38;5;66;03m# to centralize / standardize data consumption logic.\u001b[39;00m\n\u001b[32m    678\u001b[39m     \u001b[38;5;28mself\u001b[39m.input_format = \u001b[33m\"\u001b[39m\u001b[33mlong\u001b[39m\u001b[33m\"\u001b[39m\n\u001b[32m--> \u001b[39m\u001b[32m679\u001b[39m     plot_data = \u001b[43mPlotData\u001b[49m\u001b[43m(\u001b[49m\u001b[43mdata\u001b[49m\u001b[43m,\u001b[49m\u001b[43m \u001b[49m\u001b[43mvariables\u001b[49m\u001b[43m)\u001b[49m\n\u001b[32m    680\u001b[39m     frame = plot_data.frame\n\u001b[32m    681\u001b[39m     names = plot_data.names\n",
      "\u001b[36mFile \u001b[39m\u001b[32mc:\\Users\\user\\AppData\\Local\\Programs\\Python\\Python313\\Lib\\site-packages\\seaborn\\_core\\data.py:58\u001b[39m, in \u001b[36mPlotData.__init__\u001b[39m\u001b[34m(self, data, variables)\u001b[39m\n\u001b[32m     51\u001b[39m \u001b[38;5;28;01mdef\u001b[39;00m\u001b[38;5;250m \u001b[39m\u001b[34m__init__\u001b[39m(\n\u001b[32m     52\u001b[39m     \u001b[38;5;28mself\u001b[39m,\n\u001b[32m     53\u001b[39m     data: DataSource,\n\u001b[32m     54\u001b[39m     variables: \u001b[38;5;28mdict\u001b[39m[\u001b[38;5;28mstr\u001b[39m, VariableSpec],\n\u001b[32m     55\u001b[39m ):\n\u001b[32m     57\u001b[39m     data = handle_data_source(data)\n\u001b[32m---> \u001b[39m\u001b[32m58\u001b[39m     frame, names, ids = \u001b[38;5;28;43mself\u001b[39;49m\u001b[43m.\u001b[49m\u001b[43m_assign_variables\u001b[49m\u001b[43m(\u001b[49m\u001b[43mdata\u001b[49m\u001b[43m,\u001b[49m\u001b[43m \u001b[49m\u001b[43mvariables\u001b[49m\u001b[43m)\u001b[49m\n\u001b[32m     60\u001b[39m     \u001b[38;5;28mself\u001b[39m.frame = frame\n\u001b[32m     61\u001b[39m     \u001b[38;5;28mself\u001b[39m.names = names\n",
      "\u001b[36mFile \u001b[39m\u001b[32mc:\\Users\\user\\AppData\\Local\\Programs\\Python\\Python313\\Lib\\site-packages\\seaborn\\_core\\data.py:265\u001b[39m, in \u001b[36mPlotData._assign_variables\u001b[39m\u001b[34m(self, data, variables)\u001b[39m\n\u001b[32m    260\u001b[39m             ids[key] = \u001b[38;5;28mid\u001b[39m(val)\n\u001b[32m    262\u001b[39m \u001b[38;5;66;03m# Construct a tidy plot DataFrame. This will convert a number of\u001b[39;00m\n\u001b[32m    263\u001b[39m \u001b[38;5;66;03m# types automatically, aligning on index in case of pandas objects\u001b[39;00m\n\u001b[32m    264\u001b[39m \u001b[38;5;66;03m# TODO Note: this fails when variable specs *only* have scalars!\u001b[39;00m\n\u001b[32m--> \u001b[39m\u001b[32m265\u001b[39m frame = \u001b[43mpd\u001b[49m\u001b[43m.\u001b[49m\u001b[43mDataFrame\u001b[49m\u001b[43m(\u001b[49m\u001b[43mplot_data\u001b[49m\u001b[43m)\u001b[49m\n\u001b[32m    267\u001b[39m \u001b[38;5;28;01mreturn\u001b[39;00m frame, names, ids\n",
      "\u001b[36mFile \u001b[39m\u001b[32mc:\\Users\\user\\AppData\\Local\\Programs\\Python\\Python313\\Lib\\site-packages\\pandas\\core\\frame.py:778\u001b[39m, in \u001b[36mDataFrame.__init__\u001b[39m\u001b[34m(self, data, index, columns, dtype, copy)\u001b[39m\n\u001b[32m    772\u001b[39m     mgr = \u001b[38;5;28mself\u001b[39m._init_mgr(\n\u001b[32m    773\u001b[39m         data, axes={\u001b[33m\"\u001b[39m\u001b[33mindex\u001b[39m\u001b[33m\"\u001b[39m: index, \u001b[33m\"\u001b[39m\u001b[33mcolumns\u001b[39m\u001b[33m\"\u001b[39m: columns}, dtype=dtype, copy=copy\n\u001b[32m    774\u001b[39m     )\n\u001b[32m    776\u001b[39m \u001b[38;5;28;01melif\u001b[39;00m \u001b[38;5;28misinstance\u001b[39m(data, \u001b[38;5;28mdict\u001b[39m):\n\u001b[32m    777\u001b[39m     \u001b[38;5;66;03m# GH#38939 de facto copy defaults to False only in non-dict cases\u001b[39;00m\n\u001b[32m--> \u001b[39m\u001b[32m778\u001b[39m     mgr = \u001b[43mdict_to_mgr\u001b[49m\u001b[43m(\u001b[49m\u001b[43mdata\u001b[49m\u001b[43m,\u001b[49m\u001b[43m \u001b[49m\u001b[43mindex\u001b[49m\u001b[43m,\u001b[49m\u001b[43m \u001b[49m\u001b[43mcolumns\u001b[49m\u001b[43m,\u001b[49m\u001b[43m \u001b[49m\u001b[43mdtype\u001b[49m\u001b[43m=\u001b[49m\u001b[43mdtype\u001b[49m\u001b[43m,\u001b[49m\u001b[43m \u001b[49m\u001b[43mcopy\u001b[49m\u001b[43m=\u001b[49m\u001b[43mcopy\u001b[49m\u001b[43m,\u001b[49m\u001b[43m \u001b[49m\u001b[43mtyp\u001b[49m\u001b[43m=\u001b[49m\u001b[43mmanager\u001b[49m\u001b[43m)\u001b[49m\n\u001b[32m    779\u001b[39m \u001b[38;5;28;01melif\u001b[39;00m \u001b[38;5;28misinstance\u001b[39m(data, ma.MaskedArray):\n\u001b[32m    780\u001b[39m     \u001b[38;5;28;01mfrom\u001b[39;00m\u001b[38;5;250m \u001b[39m\u001b[34;01mnumpy\u001b[39;00m\u001b[34;01m.\u001b[39;00m\u001b[34;01mma\u001b[39;00m\u001b[38;5;250m \u001b[39m\u001b[38;5;28;01mimport\u001b[39;00m mrecords\n",
      "\u001b[36mFile \u001b[39m\u001b[32mc:\\Users\\user\\AppData\\Local\\Programs\\Python\\Python313\\Lib\\site-packages\\pandas\\core\\internals\\construction.py:503\u001b[39m, in \u001b[36mdict_to_mgr\u001b[39m\u001b[34m(data, index, columns, dtype, typ, copy)\u001b[39m\n\u001b[32m    499\u001b[39m     \u001b[38;5;28;01melse\u001b[39;00m:\n\u001b[32m    500\u001b[39m         \u001b[38;5;66;03m# dtype check to exclude e.g. range objects, scalars\u001b[39;00m\n\u001b[32m    501\u001b[39m         arrays = [x.copy() \u001b[38;5;28;01mif\u001b[39;00m \u001b[38;5;28mhasattr\u001b[39m(x, \u001b[33m\"\u001b[39m\u001b[33mdtype\u001b[39m\u001b[33m\"\u001b[39m) \u001b[38;5;28;01melse\u001b[39;00m x \u001b[38;5;28;01mfor\u001b[39;00m x \u001b[38;5;129;01min\u001b[39;00m arrays]\n\u001b[32m--> \u001b[39m\u001b[32m503\u001b[39m \u001b[38;5;28;01mreturn\u001b[39;00m \u001b[43marrays_to_mgr\u001b[49m\u001b[43m(\u001b[49m\u001b[43marrays\u001b[49m\u001b[43m,\u001b[49m\u001b[43m \u001b[49m\u001b[43mcolumns\u001b[49m\u001b[43m,\u001b[49m\u001b[43m \u001b[49m\u001b[43mindex\u001b[49m\u001b[43m,\u001b[49m\u001b[43m \u001b[49m\u001b[43mdtype\u001b[49m\u001b[43m=\u001b[49m\u001b[43mdtype\u001b[49m\u001b[43m,\u001b[49m\u001b[43m \u001b[49m\u001b[43mtyp\u001b[49m\u001b[43m=\u001b[49m\u001b[43mtyp\u001b[49m\u001b[43m,\u001b[49m\u001b[43m \u001b[49m\u001b[43mconsolidate\u001b[49m\u001b[43m=\u001b[49m\u001b[43mcopy\u001b[49m\u001b[43m)\u001b[49m\n",
      "\u001b[36mFile \u001b[39m\u001b[32mc:\\Users\\user\\AppData\\Local\\Programs\\Python\\Python313\\Lib\\site-packages\\pandas\\core\\internals\\construction.py:114\u001b[39m, in \u001b[36marrays_to_mgr\u001b[39m\u001b[34m(arrays, columns, index, dtype, verify_integrity, typ, consolidate)\u001b[39m\n\u001b[32m    111\u001b[39m \u001b[38;5;28;01mif\u001b[39;00m verify_integrity:\n\u001b[32m    112\u001b[39m     \u001b[38;5;66;03m# figure out the index, if necessary\u001b[39;00m\n\u001b[32m    113\u001b[39m     \u001b[38;5;28;01mif\u001b[39;00m index \u001b[38;5;129;01mis\u001b[39;00m \u001b[38;5;28;01mNone\u001b[39;00m:\n\u001b[32m--> \u001b[39m\u001b[32m114\u001b[39m         index = \u001b[43m_extract_index\u001b[49m\u001b[43m(\u001b[49m\u001b[43marrays\u001b[49m\u001b[43m)\u001b[49m\n\u001b[32m    115\u001b[39m     \u001b[38;5;28;01melse\u001b[39;00m:\n\u001b[32m    116\u001b[39m         index = ensure_index(index)\n",
      "\u001b[36mFile \u001b[39m\u001b[32mc:\\Users\\user\\AppData\\Local\\Programs\\Python\\Python313\\Lib\\site-packages\\pandas\\core\\internals\\construction.py:664\u001b[39m, in \u001b[36m_extract_index\u001b[39m\u001b[34m(data)\u001b[39m\n\u001b[32m    662\u001b[39m         raw_lengths.append(\u001b[38;5;28mlen\u001b[39m(val))\n\u001b[32m    663\u001b[39m     \u001b[38;5;28;01melif\u001b[39;00m \u001b[38;5;28misinstance\u001b[39m(val, np.ndarray) \u001b[38;5;129;01mand\u001b[39;00m val.ndim > \u001b[32m1\u001b[39m:\n\u001b[32m--> \u001b[39m\u001b[32m664\u001b[39m         \u001b[38;5;28;01mraise\u001b[39;00m \u001b[38;5;167;01mValueError\u001b[39;00m(\u001b[33m\"\u001b[39m\u001b[33mPer-column arrays must each be 1-dimensional\u001b[39m\u001b[33m\"\u001b[39m)\n\u001b[32m    666\u001b[39m \u001b[38;5;28;01mif\u001b[39;00m \u001b[38;5;129;01mnot\u001b[39;00m indexes \u001b[38;5;129;01mand\u001b[39;00m \u001b[38;5;129;01mnot\u001b[39;00m raw_lengths:\n\u001b[32m    667\u001b[39m     \u001b[38;5;28;01mraise\u001b[39;00m \u001b[38;5;167;01mValueError\u001b[39;00m(\u001b[33m\"\u001b[39m\u001b[33mIf using all scalar values, you must pass an index\u001b[39m\u001b[33m\"\u001b[39m)\n",
      "\u001b[31mValueError\u001b[39m: Per-column arrays must each be 1-dimensional"
     ]
    }
   ],
   "source": [
    "m = 100\n",
    "X = 6 * np.random.rand(m, 1) - 3\n",
    "y = 0.5 * X**2 + X + 2 + np.random.randn(m, 1)\n",
    "\n",
    "from sklearn.preprocessing import PolynomialFeatures\n",
    "poly = PolynomialFeatures(degree=2, include_bias=False) # try to include bias\n",
    "x_poly = poly.fit_transform(X)\n",
    "prediction = LinearRegression().fit(x_poly, y).predict(x_poly)\n",
    "\n",
    "sns.scatterplot(x=x_poly, y=y)\n",
    "plt.plot(X, prediction)"
   ]
  },
  {
   "cell_type": "markdown",
   "metadata": {},
   "source": [
    "<h1 style='font-weight:bold; color:orange'> 8 Tree Based Method </h1>"
   ]
  },
  {
   "cell_type": "markdown",
   "metadata": {},
   "source": [
    "|hai|name|\n",
    "|---:|---:|\n",
    "|hello|hazim|"
   ]
  },
  {
   "cell_type": "markdown",
   "metadata": {},
   "source": [
    "**Advantage**\n",
    "1. Easy to interpret/explain\n",
    "2. Closely mirror human decision-making\n",
    "3. Can be displayed graphically\n",
    "4. Can handle qualitative (categorical) variables without OHE\n",
    "\n",
    "**Disadvantage**\n",
    "1. Lower prediction accuray\n",
    "2. Trees can be non-robust (A small change in the data can cause a large change in the final estimated tree)"
   ]
  },
  {
   "cell_type": "markdown",
   "metadata": {},
   "source": [
    "<h2 style='font-weight:bold; color:skyblue'> Classification Tree </h2>"
   ]
  },
  {
   "cell_type": "code",
   "execution_count": 90,
   "metadata": {},
   "outputs": [],
   "source": [
    "from sklearn.tree import DecisionTreeClassifier\n",
    "from sklearn.metrics import confusion_matrix, accuracy_score\n",
    "from sklearn.model_selection import train_test_split\n",
    "from sklearn.ensemble import RandomForestRegressor\n",
    "import pandas as pd"
   ]
  },
  {
   "cell_type": "code",
   "execution_count": 180,
   "metadata": {},
   "outputs": [
    {
     "name": "stdout",
     "output_type": "stream",
     "text": [
      "<class 'pandas.core.frame.DataFrame'>\n",
      "RangeIndex: 400 entries, 0 to 399\n",
      "Data columns (total 11 columns):\n",
      " #   Column       Non-Null Count  Dtype  \n",
      "---  ------       --------------  -----  \n",
      " 0   Sales        400 non-null    float64\n",
      " 1   CompPrice    400 non-null    int64  \n",
      " 2   Income       400 non-null    int64  \n",
      " 3   Advertising  400 non-null    int64  \n",
      " 4   Population   400 non-null    int64  \n",
      " 5   Price        400 non-null    int64  \n",
      " 6   ShelveLoc    400 non-null    object \n",
      " 7   Age          400 non-null    int64  \n",
      " 8   Education    400 non-null    int64  \n",
      " 9   Urban        400 non-null    object \n",
      " 10  US           400 non-null    object \n",
      "dtypes: float64(1), int64(7), object(3)\n",
      "memory usage: 34.5+ KB\n"
     ]
    }
   ],
   "source": [
    "carseat = pd.read_csv('data/carseats.csv')\n",
    "carseat.info()"
   ]
  },
  {
   "cell_type": "markdown",
   "metadata": {},
   "source": [
    "In order to use classification tree, we need to convert reponse predictor variables into categorical and all categorical predictor variables into continous\n",
    "* X (predictor) : categorical to continous\n",
    "* Y (response) : continous to categorical (1 and 0)"
   ]
  },
  {
   "cell_type": "code",
   "execution_count": 181,
   "metadata": {},
   "outputs": [],
   "source": [
    "# convert continous variable 'Sales' into categorical 'High', 1 if Sales > 8 else 0\n",
    "carseat['High'] = carseat['Sales'].apply(lambda x: 1 if x > 8 else 0)\n",
    "\n",
    "carseat['ShelveLoc'] = carseat['ShelveLoc'].map({'Bad': 0, 'Medium': 1, 'Good': 2})\n",
    "carseat['Urban'] = carseat['Urban'].map({'No': 0, 'Yes': 1})\n",
    "carseat['US'] = carseat['US'].map({'No': 0, 'Yes':1})"
   ]
  },
  {
   "cell_type": "code",
   "execution_count": 182,
   "metadata": {},
   "outputs": [
    {
     "name": "stdout",
     "output_type": "stream",
     "text": [
      "Model Score for Training Set: 91.56%\n",
      "Model Score for Testing Set: 77.50%\n",
      "==========\n",
      "Accuracy score for Testing Set: 77.50%\n",
      "==========\n",
      "Confusion Matrix: \n",
      "     Yes  No\n",
      "Yes   37   6\n",
      "No    12  25\n"
     ]
    }
   ],
   "source": [
    "# define response and predictor variables\n",
    "y = carseat['High']\n",
    "x = carseat.drop(['Sales', 'High'], axis=1)\n",
    "\n",
    "# split data into training and test sets\n",
    "x_train, x_test, y_train, y_test = train_test_split(x, y, test_size=0.2, random_state=42)\n",
    "\n",
    "# fit model\n",
    "model = DecisionTreeClassifier(max_depth=6, random_state=42)\n",
    "model.fit(x_train, y_train)\n",
    "print(f'Model Score for Training Set: {(model.score(x_train, y_train) * 100):.2f}%')\n",
    "print(f'Model Score for Testing Set: {(model.score(x_test, y_test) * 100):.2f}%')\n",
    "\n",
    "print('==========')\n",
    "\n",
    "print(f'Accuracy score for Testing Set: {(accuracy_score(y_test, model.predict(x_test)) * 100):.2f}%')\n",
    "\n",
    "print('==========')\n",
    "\n",
    "print('Confusion Matrix: ')\n",
    "print(pd.DataFrame(confusion_matrix(y_test, model.predict(x_test)),\n",
    "                   index=['Yes', 'No'],\n",
    "                   columns=['Yes', 'No']))\n"
   ]
  },
  {
   "cell_type": "code",
   "execution_count": 184,
   "metadata": {},
   "outputs": [
    {
     "name": "stdout",
     "output_type": "stream",
     "text": [
      "Model Score for Test Set: 77.50%\n"
     ]
    }
   ],
   "source": [
    "pred = model.predict(x_test)\n",
    "print(f'Model Score for Test Set: {(model.score(x_test, y_test) * 100):.2f}%')"
   ]
  },
  {
   "cell_type": "code",
   "execution_count": 185,
   "metadata": {},
   "outputs": [
    {
     "name": "stdout",
     "output_type": "stream",
     "text": [
      "     Yes  No\n",
      "Yes   37  12\n",
      "No     6  25\n"
     ]
    }
   ],
   "source": [
    "print(pd.DataFrame(confusion_matrix(y_test, pred).T, \n",
    "                   index = ['Yes', 'No'], \n",
    "                   columns=['Yes', 'No']))"
   ]
  },
  {
   "cell_type": "markdown",
   "metadata": {},
   "source": [
    "<h2 style='font-weight:bold; color:skyblue'> Bagging </h2>"
   ]
  },
  {
   "cell_type": "markdown",
   "metadata": {},
   "source": [
    "* Train a lot of decision tree at the same time\n",
    "* Each decision tree are using different dataset that has been resample from the original dataset\n",
    "* **Bootstrap**: resample 100 data from the original 100 data with replacement (some observation are taken multiple times, some are not taken at all)\n",
    "* **Bootstrap Aggregation**"
   ]
  },
  {
   "cell_type": "markdown",
   "metadata": {},
   "source": [
    "<h2 style='font-weight:bold; color:skyblue'> Random Forest </h2>"
   ]
  },
  {
   "cell_type": "code",
   "execution_count": 186,
   "metadata": {},
   "outputs": [
    {
     "name": "stdout",
     "output_type": "stream",
     "text": [
      "Model Score for Test Set: 46.39%\n"
     ]
    }
   ],
   "source": [
    "# fit random forest regressor model\n",
    "rf = RandomForestRegressor(n_estimators=100, random_state=42)\n",
    "rf.fit(x_train, y_train)\n",
    "\n",
    "# make predictions on the test set\n",
    "pred = rf.predict(x_test)\n",
    "\n",
    "print(f'Model Score for Test Set: {(rf.score(x_test, y_test) * 100):.2f}%')\n"
   ]
  },
  {
   "cell_type": "markdown",
   "metadata": {},
   "source": [
    "<h2 style='font-weight:bold; color:skyblue'> Boosting </h2>"
   ]
  },
  {
   "cell_type": "markdown",
   "metadata": {},
   "source": [
    "* **n_estimators**: Number of decision trees\n",
    "* **learning_rate (shrinkage) $\\lambda$**: \n",
    "* **max_depth**: maximum depth of each decision tree. Deeper depth can capture more complex model, but it will prone to overfitting especially with high learning rate."
   ]
  },
  {
   "cell_type": "code",
   "execution_count": 187,
   "metadata": {},
   "outputs": [
    {
     "name": "stdout",
     "output_type": "stream",
     "text": [
      "MSE for Training Set: 0.0211\n",
      "MSE for Testing Set: 0.1385\n"
     ]
    }
   ],
   "source": [
    "from sklearn.ensemble import GradientBoostingRegressor\n",
    "\n",
    "boost = GradientBoostingRegressor(n_estimators=500, learning_rate=0.01, max_depth=4,\n",
    "                                  random_state=42)\n",
    "\n",
    "boost.fit(x_train, y_train)\n",
    "\n",
    "print(f'MSE for Training Set: {mean_squared_error(y_train, boost.predict(x_train)):.4f}')\n",
    "print(f'MSE for Testing Set: {mean_squared_error(y_test, boost.predict(x_test)):.4f}')"
   ]
  },
  {
   "cell_type": "code",
   "execution_count": 189,
   "metadata": {},
   "outputs": [
    {
     "name": "stdout",
     "output_type": "stream",
     "text": [
      "      Variable  Importance\n",
      "0    CompPrice    0.116175\n",
      "1       Income    0.106623\n",
      "2  Advertising    0.121085\n",
      "3   Population    0.030032\n",
      "4        Price    0.289173\n",
      "5    ShelveLoc    0.186637\n",
      "6          Age    0.108056\n",
      "7    Education    0.030398\n",
      "8        Urban    0.002758\n",
      "9           US    0.009062\n"
     ]
    }
   ],
   "source": [
    "print(pd.DataFrame({'Variable':x.columns, \n",
    "                    'Importance':boost.feature_importances_}))"
   ]
  },
  {
   "cell_type": "markdown",
   "metadata": {},
   "source": [
    "<h1 style='font-weight:bold; color:orange'> 9 Support Vector Machine (SVM) </h1>"
   ]
  },
  {
   "cell_type": "markdown",
   "metadata": {},
   "source": [
    "Recommended dataset for praticing SVC\n",
    "* **Linear Kernel**: Iris, Breast Cancer, Wine\n",
    "* **RBF Kernel / Non-Linear**: Moons Circles, Digits, MNIST\n",
    "* **High-dimensional data**: SpamBase, MNIST\n",
    "* **Imbalanced data**: Breast Cancer, Titanic\n",
    "\n",
    "**Kernel**\n",
    "* **linear**: linear plane\n",
    "* **poly**: polynomial kernel\n",
    "* **rbf**: radial basis function (radial kernel)"
   ]
  },
  {
   "cell_type": "code",
   "execution_count": 78,
   "metadata": {},
   "outputs": [],
   "source": [
    "from sklearn.svm import SVC # Support Vector Classifier\n",
    "from sklearn.metrics import confusion_matrix\n",
    "from sklearn.model_selection import GridSearchCV\n",
    "import pandas as pd"
   ]
  },
  {
   "cell_type": "code",
   "execution_count": 79,
   "metadata": {},
   "outputs": [
    {
     "name": "stdout",
     "output_type": "stream",
     "text": [
      "Train set shape: (3823, 64)\n",
      "Test set shape: (1797, 64)\n"
     ]
    }
   ],
   "source": [
    "# Optical Recognition of Handwritten Digits dataset\n",
    "train = pd.read_csv('data/optdigits.tra', header=None)\n",
    "x_train = train.drop(64, axis=1)  # drop the last column (label)\n",
    "y_train = train[64]  # last column is the label\n",
    "\n",
    "test = pd.read_csv('data/optdigits.tes', header=None)\n",
    "x_test = test.drop(64, axis=1)  # drop the last column (label)\n",
    "y_test = test[64]  # last column is the label\n",
    "\n",
    "print(f'Train set shape: {x_train.shape}')\n",
    "print(f'Test set shape: {x_test.shape}')"
   ]
  },
  {
   "cell_type": "code",
   "execution_count": null,
   "metadata": {},
   "outputs": [
    {
     "name": "stdout",
     "output_type": "stream",
     "text": [
      "Null values in train set: 0\n",
      "Duplicated values in train set: 0\n",
      "Null values in test set: 0\n",
      "Duplicated values in test set: 0\n"
     ]
    }
   ],
   "source": [
    "print(f'Null values in train set: {train.isna().sum().sum()}')\n",
    "print(f'Duplicated values in train set: {train.duplicated().sum()}')\n",
    "print(f'Null values in test set: {test.isna().sum().sum()}')\n",
    "print(f'Duplicated values in test set: {test.duplicated().sum()}')"
   ]
  },
  {
   "cell_type": "markdown",
   "metadata": {},
   "source": [
    "C : Regularization parameter\n",
    "\n",
    "small C => wider margin and tolerate more misclassification (prevent overfit)\n",
    "\n",
    "large C => narrow margin, tries to classify all training examples correctly (risk of overfit)\n",
    "\n",
    "to find the best value of C, use cross validation `GridSearchCV`"
   ]
  },
  {
   "cell_type": "code",
   "execution_count": null,
   "metadata": {},
   "outputs": [
    {
     "name": "stdout",
     "output_type": "stream",
     "text": [
      "Train set accuracy: 100.00%\n",
      "     0    1    2    3    4    5    6    7    8    9\n",
      "0  376    0    0    0    0    0    0    0    0    0\n",
      "1    0  389    0    0    0    0    0    0    0    0\n",
      "2    0    0  380    0    0    0    0    0    0    0\n",
      "3    0    0    0  389    0    0    0    0    0    0\n",
      "4    0    0    0    0  387    0    0    0    0    0\n",
      "5    0    0    0    0    0  376    0    0    0    0\n",
      "6    0    0    0    0    0    0  377    0    0    0\n",
      "7    0    0    0    0    0    0    0  387    0    0\n",
      "8    0    0    0    0    0    0    0    0  380    0\n",
      "9    0    0    0    0    0    0    0    0    0  382\n",
      "===================================================\n",
      "Test set accuracy: 96.10%\n",
      "     0    1    2    3    4    5    6    7    8    9\n",
      "0  177    0    0    0    0    1    0    0    0    0\n",
      "1    0  178    0    0    0    0    3    0    1    0\n",
      "2    0    7  170    0    0    0    0    0    0    0\n",
      "3    1    0    5  171    0    2    0    2    1    1\n",
      "4    0    0    0    0  180    0    0    0    1    0\n",
      "5    0    0    1    0    0  180    0    0    0    1\n",
      "6    0    0    0    0    1    0  179    0    1    0\n",
      "7    0    0    0    0    1    7    0  165    0    6\n",
      "8    0    9    1    5    0    2    0    0  157    0\n",
      "9    1    0    0    4    1    3    0    0    1  170\n"
     ]
    }
   ],
   "source": [
    "svc = SVC(kernel='linear', C=10, random_state=42)\n",
    "svc.fit(x_train, y_train)\n",
    "\n",
    "pred = svc.predict(x_train)\n",
    "print(f'Train set accuracy: {(svc.score(x_train, y_train) * 100):.2f}%')\n",
    "print(pd.DataFrame(confusion_matrix(y_train, pred)))\n",
    "print('===================================================')\n",
    "print(f'Test set accuracy: {(svc.score(x_test, y_test) * 100):.2f}%')\n",
    "print(pd.DataFrame(confusion_matrix(y_test, svc.predict(x_test))))"
   ]
  },
  {
   "cell_type": "code",
   "execution_count": null,
   "metadata": {},
   "outputs": [
    {
     "data": {
      "text/plain": [
       "{'C': 0.1}"
      ]
     },
     "execution_count": 67,
     "metadata": {},
     "output_type": "execute_result"
    }
   ],
   "source": [
    "# determine the optimal value of C\n",
    "tuned_parameters = {'C': [0.1, 1, 10, 100, 1000]}\n",
    "clf = GridSearchCV(SVC(kernel='linear', random_state=42), tuned_parameters, cv=10, scoring='accuracy')\n",
    "clf.fit(x_train, y_train)\n",
    "clf.best_params_"
   ]
  },
  {
   "cell_type": "code",
   "execution_count": null,
   "metadata": {},
   "outputs": [
    {
     "name": "stdout",
     "output_type": "stream",
     "text": [
      "Train set accuracy: 99.97%\n",
      "     0    1    2    3    4    5    6    7    8    9\n",
      "0  376    0    0    0    0    0    0    0    0    0\n",
      "1    0  389    0    0    0    0    0    0    0    0\n",
      "2    0    0  380    0    0    0    0    0    0    0\n",
      "3    0    0    0  389    0    0    0    0    0    0\n",
      "4    0    0    0    0  387    0    0    0    0    0\n",
      "5    0    0    0    0    0  376    0    0    0    0\n",
      "6    0    0    0    0    0    0  377    0    0    0\n",
      "7    0    0    0    0    0    0    0  387    0    0\n",
      "8    0    1    0    0    0    0    0    0  379    0\n",
      "9    0    0    0    0    0    0    0    0    0  382\n",
      "===================================================\n",
      "Test set accuracy: 96.16%\n",
      "     0    1    2    3    4    5    6    7    8    9\n",
      "0  177    0    0    0    0    1    0    0    0    0\n",
      "1    0  177    0    0    0    0    3    0    2    0\n",
      "2    0    7  170    0    0    0    0    0    0    0\n",
      "3    1    0    5  171    0    2    0    2    1    1\n",
      "4    0    0    0    0  180    0    0    0    1    0\n",
      "5    0    0    1    0    0  180    0    0    0    1\n",
      "6    0    0    0    0    1    0  179    0    1    0\n",
      "7    0    0    0    0    1    7    0  165    0    6\n",
      "8    0    8    1    5    0    1    0    0  159    0\n",
      "9    1    0    0    4    1    3    0    0    1  170\n"
     ]
    }
   ],
   "source": [
    "svc = SVC(kernel='linear', C=0.1, random_state=42)\n",
    "svc.fit(x_train, y_train)\n",
    "\n",
    "pred = svc.predict(x_train)\n",
    "print(f'Train set accuracy: {(svc.score(x_train, y_train) * 100):.2f}%')\n",
    "print(pd.DataFrame(confusion_matrix(y_train, pred)))\n",
    "print('===================================================')\n",
    "print(f'Test set accuracy: {(svc.score(x_test, y_test) * 100):.2f}%')\n",
    "print(pd.DataFrame(confusion_matrix(y_test, svc.predict(x_test))))"
   ]
  },
  {
   "cell_type": "markdown",
   "metadata": {},
   "source": [
    "<h2 style='font-weight:bold; color:skyblue'> Radial Basis Function (RBF) </h2>"
   ]
  },
  {
   "cell_type": "code",
   "execution_count": null,
   "metadata": {},
   "outputs": [],
   "source": []
  },
  {
   "cell_type": "markdown",
   "metadata": {},
   "source": [
    "<h1 style='font-weight:bold; color:orange'> 10 Unsupervised Learning </h1>"
   ]
  },
  {
   "cell_type": "markdown",
   "metadata": {},
   "source": [
    "* When our data does not have response (Y) value\n",
    "* When we want to find interesting things in explanatory (X) variables"
   ]
  },
  {
   "cell_type": "markdown",
   "metadata": {},
   "source": [
    "<h2 style='font-weight:bold; color:skyblue'> 10.1 Principal Component Analysis (PCA) </h2>"
   ]
  },
  {
   "cell_type": "code",
   "execution_count": 9,
   "metadata": {},
   "outputs": [],
   "source": [
    "import pandas as pd\n",
    "\n",
    "from sklearn.preprocessing import StandardScaler\n",
    "from sklearn.decomposition import PCA"
   ]
  },
  {
   "cell_type": "code",
   "execution_count": 29,
   "metadata": {},
   "outputs": [
    {
     "name": "stdout",
     "output_type": "stream",
     "text": [
      "<class 'pandas.core.frame.DataFrame'>\n",
      "Index: 50 entries, Alabama to Wyoming\n",
      "Data columns (total 4 columns):\n",
      " #   Column    Non-Null Count  Dtype  \n",
      "---  ------    --------------  -----  \n",
      " 0   Murder    50 non-null     float64\n",
      " 1   Assault   50 non-null     int64  \n",
      " 2   UrbanPop  50 non-null     int64  \n",
      " 3   Rape      50 non-null     float64\n",
      "dtypes: float64(2), int64(2)\n",
      "memory usage: 2.0+ KB\n"
     ]
    }
   ],
   "source": [
    "arrest = pd.read_csv('Data/USArrests.csv', index_col='Unnamed: 0')\n",
    "arrest.info()"
   ]
  },
  {
   "cell_type": "code",
   "execution_count": 30,
   "metadata": {},
   "outputs": [
    {
     "data": {
      "application/vnd.microsoft.datawrangler.viewer.v0+json": {
       "columns": [
        {
         "name": "index",
         "rawType": "int64",
         "type": "integer"
        },
        {
         "name": "Murder",
         "rawType": "float64",
         "type": "float"
        },
        {
         "name": "Assault",
         "rawType": "float64",
         "type": "float"
        },
        {
         "name": "UrbanPop",
         "rawType": "float64",
         "type": "float"
        },
        {
         "name": "Rape",
         "rawType": "float64",
         "type": "float"
        }
       ],
       "ref": "0cb11416-b2f1-494a-b4e8-8610b7900fb6",
       "rows": [
        [
         "0",
         "1.255179271101703",
         "0.7907871584384722",
         "-0.5261951421937138",
         "-0.003451158909659518"
        ],
        [
         "1",
         "0.5130185786542807",
         "1.118059587589894",
         "-1.2240666835646863",
         "2.5094239221867327"
        ],
        [
         "2",
         "0.07236066751362354",
         "1.4938168210600447",
         "1.0091222488224258",
         "1.0534662571738016"
        ],
        [
         "3",
         "0.23470831898649744",
         "0.23321190877308726",
         "-1.0844923752904918",
         "-0.18679397598536188"
        ],
        [
         "4",
         "0.2810933622644612",
         "1.2756352016257637",
         "1.7767809443304956",
         "2.088813930071886"
        ],
        [
         "5",
         "0.025975624235659807",
         "0.40290872388863924",
         "0.8695479405482314",
         "1.8839013698108071"
        ],
        [
         "6",
         "-1.04088037115751",
         "-0.7364841776014954",
         "0.7997607864111341",
         "-1.0927231897711858"
        ],
        [
         "7",
         "-0.4378748085439792",
         "0.8150295605978368",
         "0.4508250157256478",
         "-0.5858342249148318"
        ],
        [
         "8",
         "1.765414747159306",
         "1.9907860653270184",
         "1.0091222488224258",
         "1.150530101507997"
        ],
        [
         "9",
         "2.2292651799389445",
         "0.4877571314464152",
         "-0.38662083391951924",
         "0.4926529343540061"
        ],
        [
         "10",
         "-0.577029938377871",
         "-1.5122410467011616",
         "1.2184837112337177",
         "-0.11129987483654331"
        ],
        [
         "11",
         "-1.2032280226303838",
         "-0.6152721668046726",
         "-0.8053437587421027",
         "-0.758392170397846"
        ],
        [
         "12",
         "0.6057886652102086",
         "0.948362772474342",
         "1.2184837112337177",
         "0.29852524568561517"
        ],
        [
         "13",
         "-0.1363720272372139",
         "-0.7001205743624486",
         "-0.03768506323403295",
         "-0.0250209020950362"
        ],
        [
         "14",
         "-1.2959981091863113",
         "-1.3910290359043387",
         "-0.595982296330811",
         "-1.0711534465858088"
        ],
        [
         "15",
         "-0.4146822869049973",
         "-0.675878172203084",
         "0.0321020909030643",
         "-0.3485670498756876"
        ],
        [
         "16",
         "0.44344101373733463",
         "-0.7486053786811777",
         "-0.9449180670162972",
         "-0.53190986695139"
        ],
        [
         "17",
         "1.765414747159306",
         "0.948362772474342",
         "0.0321020909030643",
         "0.10439755701722427"
        ],
        [
         "18",
         "-1.3191906308252934",
         "-1.0637566067529172",
         "-1.0147052211533945",
         "-1.448623952329902"
        ],
        [
         "19",
         "0.8145213599610461",
         "1.5665440275381384",
         "0.10188924504016156",
         "0.7083503662077737"
        ],
        [
         "20",
         "-0.7857626331287084",
         "-0.26375733549388636",
         "1.3580580195079122",
         "-0.53190986695139"
        ],
        [
         "21",
         "1.0000615330729015",
         "1.0210899789524357",
         "0.5903993239998423",
         "1.4956459924740253"
        ],
        [
         "22",
         "-1.1800355009914016",
         "-1.1970898186294223",
         "0.0321020909030643",
         "-0.6828980692490273"
        ],
        [
         "23",
         "1.92776239863218",
         "1.0695747832711648",
         "-1.5032153001130752",
         "-0.44563089420988283"
        ],
        [
         "24",
         "0.2810933622644612",
         "0.08775749581689984",
         "0.31125070745145333",
         "0.751489852578527"
        ],
        [
         "25",
         "-0.4146822869049973",
         "-0.7486053786811777",
         "-0.8751309128792",
         "-0.5211249953587018"
        ],
        [
         "26",
         "-0.8089551547676905",
         "-0.8334537862389537",
         "-0.2470465256453247",
         "-0.5103401237660132"
        ],
        [
         "27",
         "1.0232540547118834",
         "0.9847263757133888",
         "1.0789094029595232",
         "2.6711969960770587"
        ],
        [
         "28",
         "-1.3191906308252934",
         "-1.3789078348246564",
         "-0.6657694504679083",
         "-1.2652811352541997"
        ],
        [
         "29",
         "-0.08998698395924994",
         "-0.14254532469706355",
         "1.6372066360563011",
         "-0.26228807713418045"
        ],
        [
         "30",
         "0.837713881600028",
         "1.3847260113429043",
         "0.31125070745145333",
         "1.172099844693374"
        ],
        [
         "31",
         "0.768136316683082",
         "1.0089687778727534",
         "1.4278451736450093",
         "0.5250075491320713"
        ],
        [
         "32",
         "1.2087942278237391",
         "2.015028467486383",
         "-1.4334281459759781",
         "-0.5534796101367666"
        ],
        [
         "33",
         "-1.6206934121320586",
         "-1.5243622477808438",
         "-1.5032153001130752",
         "-1.5025483102933441"
        ],
        [
         "34",
         "-0.11317950559823202",
         "-0.6152721668046726",
         "0.6601864781369395",
         "0.018118584275717164"
        ],
        [
         "35",
         "-0.2755271570711057",
         "-0.2395149333345218",
         "0.1716763991772588",
         "-0.13286961802192"
        ],
        [
         "36",
         "-0.6698000249337986",
         "-0.14254532469706355",
         "0.10188924504016156",
         "0.8701234400980994"
        ],
        [
         "37",
         "-0.34510472198805153",
         "-0.7849689819202246",
         "0.4508250157256478",
         "-0.6828980692490273"
        ],
        [
         "38",
         "-1.017687849518528",
         "0.03927269149817071",
         "1.4976323277821066",
         "-1.3946995943664602"
        ],
        [
         "39",
         "1.5334895307694865",
         "1.3119988048648106",
         "-1.2240666835646863",
         "0.13675217179528948"
        ],
        [
         "40",
         "-0.9249177629626003",
         "-1.0273930035138703",
         "-1.4334281459759781",
         "-0.9093803726954832"
        ],
        [
         "41",
         "1.255179271101703",
         "0.20896950661372268",
         "-0.4564079880566165",
         "0.611286521873578"
        ],
        [
         "42",
         "1.1392166629067932",
         "0.3665451206495924",
         "1.0091222488224258",
         "0.46029831957594086"
        ],
        [
         "43",
         "-1.064072892796492",
         "-0.6152721668046726",
         "1.0091222488224258",
         "0.17989165816604286"
        ],
        [
         "44",
         "-1.2959981091863113",
         "-1.487998644541797",
         "-2.340661149758242",
         "-1.0819383181784974"
        ],
        [
         "45",
         "0.1651307540695514",
         "-0.1789089279361104",
         "-0.17725937150822746",
         "-0.05737551687310141"
        ],
        [
         "46",
         "-0.8785327196846363",
         "-0.3122421398126155",
         "0.5206121698627451",
         "0.5357924207247594"
        ],
        [
         "47",
         "-0.48425985182194314",
         "-1.0879990089122817",
         "-1.8521510707985616",
         "-1.2868508784395765"
        ],
        [
         "48",
         "-1.2032280226303838",
         "-1.4273926391433855",
         "0.0321020909030643",
         "-1.1250778045492509"
        ],
        [
         "49",
         "-0.22914211379314176",
         "-0.11830292253769897",
         "-0.38662083391951924",
         "-0.6074039681002087"
        ]
       ],
       "shape": {
        "columns": 4,
        "rows": 50
       }
      },
      "text/html": [
       "<div>\n",
       "<style scoped>\n",
       "    .dataframe tbody tr th:only-of-type {\n",
       "        vertical-align: middle;\n",
       "    }\n",
       "\n",
       "    .dataframe tbody tr th {\n",
       "        vertical-align: top;\n",
       "    }\n",
       "\n",
       "    .dataframe thead th {\n",
       "        text-align: right;\n",
       "    }\n",
       "</style>\n",
       "<table border=\"1\" class=\"dataframe\">\n",
       "  <thead>\n",
       "    <tr style=\"text-align: right;\">\n",
       "      <th></th>\n",
       "      <th>Murder</th>\n",
       "      <th>Assault</th>\n",
       "      <th>UrbanPop</th>\n",
       "      <th>Rape</th>\n",
       "    </tr>\n",
       "  </thead>\n",
       "  <tbody>\n",
       "    <tr>\n",
       "      <th>0</th>\n",
       "      <td>1.255179</td>\n",
       "      <td>0.790787</td>\n",
       "      <td>-0.526195</td>\n",
       "      <td>-0.003451</td>\n",
       "    </tr>\n",
       "    <tr>\n",
       "      <th>1</th>\n",
       "      <td>0.513019</td>\n",
       "      <td>1.118060</td>\n",
       "      <td>-1.224067</td>\n",
       "      <td>2.509424</td>\n",
       "    </tr>\n",
       "    <tr>\n",
       "      <th>2</th>\n",
       "      <td>0.072361</td>\n",
       "      <td>1.493817</td>\n",
       "      <td>1.009122</td>\n",
       "      <td>1.053466</td>\n",
       "    </tr>\n",
       "    <tr>\n",
       "      <th>3</th>\n",
       "      <td>0.234708</td>\n",
       "      <td>0.233212</td>\n",
       "      <td>-1.084492</td>\n",
       "      <td>-0.186794</td>\n",
       "    </tr>\n",
       "    <tr>\n",
       "      <th>4</th>\n",
       "      <td>0.281093</td>\n",
       "      <td>1.275635</td>\n",
       "      <td>1.776781</td>\n",
       "      <td>2.088814</td>\n",
       "    </tr>\n",
       "    <tr>\n",
       "      <th>5</th>\n",
       "      <td>0.025976</td>\n",
       "      <td>0.402909</td>\n",
       "      <td>0.869548</td>\n",
       "      <td>1.883901</td>\n",
       "    </tr>\n",
       "    <tr>\n",
       "      <th>6</th>\n",
       "      <td>-1.040880</td>\n",
       "      <td>-0.736484</td>\n",
       "      <td>0.799761</td>\n",
       "      <td>-1.092723</td>\n",
       "    </tr>\n",
       "    <tr>\n",
       "      <th>7</th>\n",
       "      <td>-0.437875</td>\n",
       "      <td>0.815030</td>\n",
       "      <td>0.450825</td>\n",
       "      <td>-0.585834</td>\n",
       "    </tr>\n",
       "    <tr>\n",
       "      <th>8</th>\n",
       "      <td>1.765415</td>\n",
       "      <td>1.990786</td>\n",
       "      <td>1.009122</td>\n",
       "      <td>1.150530</td>\n",
       "    </tr>\n",
       "    <tr>\n",
       "      <th>9</th>\n",
       "      <td>2.229265</td>\n",
       "      <td>0.487757</td>\n",
       "      <td>-0.386621</td>\n",
       "      <td>0.492653</td>\n",
       "    </tr>\n",
       "    <tr>\n",
       "      <th>10</th>\n",
       "      <td>-0.577030</td>\n",
       "      <td>-1.512241</td>\n",
       "      <td>1.218484</td>\n",
       "      <td>-0.111300</td>\n",
       "    </tr>\n",
       "    <tr>\n",
       "      <th>11</th>\n",
       "      <td>-1.203228</td>\n",
       "      <td>-0.615272</td>\n",
       "      <td>-0.805344</td>\n",
       "      <td>-0.758392</td>\n",
       "    </tr>\n",
       "    <tr>\n",
       "      <th>12</th>\n",
       "      <td>0.605789</td>\n",
       "      <td>0.948363</td>\n",
       "      <td>1.218484</td>\n",
       "      <td>0.298525</td>\n",
       "    </tr>\n",
       "    <tr>\n",
       "      <th>13</th>\n",
       "      <td>-0.136372</td>\n",
       "      <td>-0.700121</td>\n",
       "      <td>-0.037685</td>\n",
       "      <td>-0.025021</td>\n",
       "    </tr>\n",
       "    <tr>\n",
       "      <th>14</th>\n",
       "      <td>-1.295998</td>\n",
       "      <td>-1.391029</td>\n",
       "      <td>-0.595982</td>\n",
       "      <td>-1.071153</td>\n",
       "    </tr>\n",
       "    <tr>\n",
       "      <th>15</th>\n",
       "      <td>-0.414682</td>\n",
       "      <td>-0.675878</td>\n",
       "      <td>0.032102</td>\n",
       "      <td>-0.348567</td>\n",
       "    </tr>\n",
       "    <tr>\n",
       "      <th>16</th>\n",
       "      <td>0.443441</td>\n",
       "      <td>-0.748605</td>\n",
       "      <td>-0.944918</td>\n",
       "      <td>-0.531910</td>\n",
       "    </tr>\n",
       "    <tr>\n",
       "      <th>17</th>\n",
       "      <td>1.765415</td>\n",
       "      <td>0.948363</td>\n",
       "      <td>0.032102</td>\n",
       "      <td>0.104398</td>\n",
       "    </tr>\n",
       "    <tr>\n",
       "      <th>18</th>\n",
       "      <td>-1.319191</td>\n",
       "      <td>-1.063757</td>\n",
       "      <td>-1.014705</td>\n",
       "      <td>-1.448624</td>\n",
       "    </tr>\n",
       "    <tr>\n",
       "      <th>19</th>\n",
       "      <td>0.814521</td>\n",
       "      <td>1.566544</td>\n",
       "      <td>0.101889</td>\n",
       "      <td>0.708350</td>\n",
       "    </tr>\n",
       "    <tr>\n",
       "      <th>20</th>\n",
       "      <td>-0.785763</td>\n",
       "      <td>-0.263757</td>\n",
       "      <td>1.358058</td>\n",
       "      <td>-0.531910</td>\n",
       "    </tr>\n",
       "    <tr>\n",
       "      <th>21</th>\n",
       "      <td>1.000062</td>\n",
       "      <td>1.021090</td>\n",
       "      <td>0.590399</td>\n",
       "      <td>1.495646</td>\n",
       "    </tr>\n",
       "    <tr>\n",
       "      <th>22</th>\n",
       "      <td>-1.180036</td>\n",
       "      <td>-1.197090</td>\n",
       "      <td>0.032102</td>\n",
       "      <td>-0.682898</td>\n",
       "    </tr>\n",
       "    <tr>\n",
       "      <th>23</th>\n",
       "      <td>1.927762</td>\n",
       "      <td>1.069575</td>\n",
       "      <td>-1.503215</td>\n",
       "      <td>-0.445631</td>\n",
       "    </tr>\n",
       "    <tr>\n",
       "      <th>24</th>\n",
       "      <td>0.281093</td>\n",
       "      <td>0.087757</td>\n",
       "      <td>0.311251</td>\n",
       "      <td>0.751490</td>\n",
       "    </tr>\n",
       "    <tr>\n",
       "      <th>25</th>\n",
       "      <td>-0.414682</td>\n",
       "      <td>-0.748605</td>\n",
       "      <td>-0.875131</td>\n",
       "      <td>-0.521125</td>\n",
       "    </tr>\n",
       "    <tr>\n",
       "      <th>26</th>\n",
       "      <td>-0.808955</td>\n",
       "      <td>-0.833454</td>\n",
       "      <td>-0.247047</td>\n",
       "      <td>-0.510340</td>\n",
       "    </tr>\n",
       "    <tr>\n",
       "      <th>27</th>\n",
       "      <td>1.023254</td>\n",
       "      <td>0.984726</td>\n",
       "      <td>1.078909</td>\n",
       "      <td>2.671197</td>\n",
       "    </tr>\n",
       "    <tr>\n",
       "      <th>28</th>\n",
       "      <td>-1.319191</td>\n",
       "      <td>-1.378908</td>\n",
       "      <td>-0.665769</td>\n",
       "      <td>-1.265281</td>\n",
       "    </tr>\n",
       "    <tr>\n",
       "      <th>29</th>\n",
       "      <td>-0.089987</td>\n",
       "      <td>-0.142545</td>\n",
       "      <td>1.637207</td>\n",
       "      <td>-0.262288</td>\n",
       "    </tr>\n",
       "    <tr>\n",
       "      <th>30</th>\n",
       "      <td>0.837714</td>\n",
       "      <td>1.384726</td>\n",
       "      <td>0.311251</td>\n",
       "      <td>1.172100</td>\n",
       "    </tr>\n",
       "    <tr>\n",
       "      <th>31</th>\n",
       "      <td>0.768136</td>\n",
       "      <td>1.008969</td>\n",
       "      <td>1.427845</td>\n",
       "      <td>0.525008</td>\n",
       "    </tr>\n",
       "    <tr>\n",
       "      <th>32</th>\n",
       "      <td>1.208794</td>\n",
       "      <td>2.015028</td>\n",
       "      <td>-1.433428</td>\n",
       "      <td>-0.553480</td>\n",
       "    </tr>\n",
       "    <tr>\n",
       "      <th>33</th>\n",
       "      <td>-1.620693</td>\n",
       "      <td>-1.524362</td>\n",
       "      <td>-1.503215</td>\n",
       "      <td>-1.502548</td>\n",
       "    </tr>\n",
       "    <tr>\n",
       "      <th>34</th>\n",
       "      <td>-0.113180</td>\n",
       "      <td>-0.615272</td>\n",
       "      <td>0.660186</td>\n",
       "      <td>0.018119</td>\n",
       "    </tr>\n",
       "    <tr>\n",
       "      <th>35</th>\n",
       "      <td>-0.275527</td>\n",
       "      <td>-0.239515</td>\n",
       "      <td>0.171676</td>\n",
       "      <td>-0.132870</td>\n",
       "    </tr>\n",
       "    <tr>\n",
       "      <th>36</th>\n",
       "      <td>-0.669800</td>\n",
       "      <td>-0.142545</td>\n",
       "      <td>0.101889</td>\n",
       "      <td>0.870123</td>\n",
       "    </tr>\n",
       "    <tr>\n",
       "      <th>37</th>\n",
       "      <td>-0.345105</td>\n",
       "      <td>-0.784969</td>\n",
       "      <td>0.450825</td>\n",
       "      <td>-0.682898</td>\n",
       "    </tr>\n",
       "    <tr>\n",
       "      <th>38</th>\n",
       "      <td>-1.017688</td>\n",
       "      <td>0.039273</td>\n",
       "      <td>1.497632</td>\n",
       "      <td>-1.394700</td>\n",
       "    </tr>\n",
       "    <tr>\n",
       "      <th>39</th>\n",
       "      <td>1.533490</td>\n",
       "      <td>1.311999</td>\n",
       "      <td>-1.224067</td>\n",
       "      <td>0.136752</td>\n",
       "    </tr>\n",
       "    <tr>\n",
       "      <th>40</th>\n",
       "      <td>-0.924918</td>\n",
       "      <td>-1.027393</td>\n",
       "      <td>-1.433428</td>\n",
       "      <td>-0.909380</td>\n",
       "    </tr>\n",
       "    <tr>\n",
       "      <th>41</th>\n",
       "      <td>1.255179</td>\n",
       "      <td>0.208970</td>\n",
       "      <td>-0.456408</td>\n",
       "      <td>0.611287</td>\n",
       "    </tr>\n",
       "    <tr>\n",
       "      <th>42</th>\n",
       "      <td>1.139217</td>\n",
       "      <td>0.366545</td>\n",
       "      <td>1.009122</td>\n",
       "      <td>0.460298</td>\n",
       "    </tr>\n",
       "    <tr>\n",
       "      <th>43</th>\n",
       "      <td>-1.064073</td>\n",
       "      <td>-0.615272</td>\n",
       "      <td>1.009122</td>\n",
       "      <td>0.179892</td>\n",
       "    </tr>\n",
       "    <tr>\n",
       "      <th>44</th>\n",
       "      <td>-1.295998</td>\n",
       "      <td>-1.487999</td>\n",
       "      <td>-2.340661</td>\n",
       "      <td>-1.081938</td>\n",
       "    </tr>\n",
       "    <tr>\n",
       "      <th>45</th>\n",
       "      <td>0.165131</td>\n",
       "      <td>-0.178909</td>\n",
       "      <td>-0.177259</td>\n",
       "      <td>-0.057376</td>\n",
       "    </tr>\n",
       "    <tr>\n",
       "      <th>46</th>\n",
       "      <td>-0.878533</td>\n",
       "      <td>-0.312242</td>\n",
       "      <td>0.520612</td>\n",
       "      <td>0.535792</td>\n",
       "    </tr>\n",
       "    <tr>\n",
       "      <th>47</th>\n",
       "      <td>-0.484260</td>\n",
       "      <td>-1.087999</td>\n",
       "      <td>-1.852151</td>\n",
       "      <td>-1.286851</td>\n",
       "    </tr>\n",
       "    <tr>\n",
       "      <th>48</th>\n",
       "      <td>-1.203228</td>\n",
       "      <td>-1.427393</td>\n",
       "      <td>0.032102</td>\n",
       "      <td>-1.125078</td>\n",
       "    </tr>\n",
       "    <tr>\n",
       "      <th>49</th>\n",
       "      <td>-0.229142</td>\n",
       "      <td>-0.118303</td>\n",
       "      <td>-0.386621</td>\n",
       "      <td>-0.607404</td>\n",
       "    </tr>\n",
       "  </tbody>\n",
       "</table>\n",
       "</div>"
      ],
      "text/plain": [
       "      Murder   Assault  UrbanPop      Rape\n",
       "0   1.255179  0.790787 -0.526195 -0.003451\n",
       "1   0.513019  1.118060 -1.224067  2.509424\n",
       "2   0.072361  1.493817  1.009122  1.053466\n",
       "3   0.234708  0.233212 -1.084492 -0.186794\n",
       "4   0.281093  1.275635  1.776781  2.088814\n",
       "5   0.025976  0.402909  0.869548  1.883901\n",
       "6  -1.040880 -0.736484  0.799761 -1.092723\n",
       "7  -0.437875  0.815030  0.450825 -0.585834\n",
       "8   1.765415  1.990786  1.009122  1.150530\n",
       "9   2.229265  0.487757 -0.386621  0.492653\n",
       "10 -0.577030 -1.512241  1.218484 -0.111300\n",
       "11 -1.203228 -0.615272 -0.805344 -0.758392\n",
       "12  0.605789  0.948363  1.218484  0.298525\n",
       "13 -0.136372 -0.700121 -0.037685 -0.025021\n",
       "14 -1.295998 -1.391029 -0.595982 -1.071153\n",
       "15 -0.414682 -0.675878  0.032102 -0.348567\n",
       "16  0.443441 -0.748605 -0.944918 -0.531910\n",
       "17  1.765415  0.948363  0.032102  0.104398\n",
       "18 -1.319191 -1.063757 -1.014705 -1.448624\n",
       "19  0.814521  1.566544  0.101889  0.708350\n",
       "20 -0.785763 -0.263757  1.358058 -0.531910\n",
       "21  1.000062  1.021090  0.590399  1.495646\n",
       "22 -1.180036 -1.197090  0.032102 -0.682898\n",
       "23  1.927762  1.069575 -1.503215 -0.445631\n",
       "24  0.281093  0.087757  0.311251  0.751490\n",
       "25 -0.414682 -0.748605 -0.875131 -0.521125\n",
       "26 -0.808955 -0.833454 -0.247047 -0.510340\n",
       "27  1.023254  0.984726  1.078909  2.671197\n",
       "28 -1.319191 -1.378908 -0.665769 -1.265281\n",
       "29 -0.089987 -0.142545  1.637207 -0.262288\n",
       "30  0.837714  1.384726  0.311251  1.172100\n",
       "31  0.768136  1.008969  1.427845  0.525008\n",
       "32  1.208794  2.015028 -1.433428 -0.553480\n",
       "33 -1.620693 -1.524362 -1.503215 -1.502548\n",
       "34 -0.113180 -0.615272  0.660186  0.018119\n",
       "35 -0.275527 -0.239515  0.171676 -0.132870\n",
       "36 -0.669800 -0.142545  0.101889  0.870123\n",
       "37 -0.345105 -0.784969  0.450825 -0.682898\n",
       "38 -1.017688  0.039273  1.497632 -1.394700\n",
       "39  1.533490  1.311999 -1.224067  0.136752\n",
       "40 -0.924918 -1.027393 -1.433428 -0.909380\n",
       "41  1.255179  0.208970 -0.456408  0.611287\n",
       "42  1.139217  0.366545  1.009122  0.460298\n",
       "43 -1.064073 -0.615272  1.009122  0.179892\n",
       "44 -1.295998 -1.487999 -2.340661 -1.081938\n",
       "45  0.165131 -0.178909 -0.177259 -0.057376\n",
       "46 -0.878533 -0.312242  0.520612  0.535792\n",
       "47 -0.484260 -1.087999 -1.852151 -1.286851\n",
       "48 -1.203228 -1.427393  0.032102 -1.125078\n",
       "49 -0.229142 -0.118303 -0.386621 -0.607404"
      ]
     },
     "execution_count": 30,
     "metadata": {},
     "output_type": "execute_result"
    }
   ],
   "source": [
    "scale = StandardScaler()\n",
    "arrest_scale = scale.fit_transform(arrest)\n",
    "pd.DataFrame(arrest_scale, columns=arrest.columns)"
   ]
  },
  {
   "cell_type": "code",
   "execution_count": 33,
   "metadata": {},
   "outputs": [
    {
     "data": {
      "application/vnd.microsoft.datawrangler.viewer.v0+json": {
       "columns": [
        {
         "name": "index",
         "rawType": "object",
         "type": "string"
        },
        {
         "name": "V1",
         "rawType": "object",
         "type": "unknown"
        },
        {
         "name": "V2",
         "rawType": "object",
         "type": "unknown"
        },
        {
         "name": "V3",
         "rawType": "object",
         "type": "unknown"
        },
        {
         "name": "V4",
         "rawType": "object",
         "type": "unknown"
        }
       ],
       "ref": "7b373232-aebc-44ac-90fb-4459ca9bda6b",
       "rows": [
        [
         "Alabama",
         "PCA()",
         "PCA()",
         "PCA()",
         "PCA()"
        ],
        [
         "Alaska",
         "PCA()",
         "PCA()",
         "PCA()",
         "PCA()"
        ],
        [
         "Arizona",
         "PCA()",
         "PCA()",
         "PCA()",
         "PCA()"
        ],
        [
         "Arkansas",
         "PCA()",
         "PCA()",
         "PCA()",
         "PCA()"
        ],
        [
         "California",
         "PCA()",
         "PCA()",
         "PCA()",
         "PCA()"
        ],
        [
         "Colorado",
         "PCA()",
         "PCA()",
         "PCA()",
         "PCA()"
        ],
        [
         "Connecticut",
         "PCA()",
         "PCA()",
         "PCA()",
         "PCA()"
        ],
        [
         "Delaware",
         "PCA()",
         "PCA()",
         "PCA()",
         "PCA()"
        ],
        [
         "Florida",
         "PCA()",
         "PCA()",
         "PCA()",
         "PCA()"
        ],
        [
         "Georgia",
         "PCA()",
         "PCA()",
         "PCA()",
         "PCA()"
        ],
        [
         "Hawaii",
         "PCA()",
         "PCA()",
         "PCA()",
         "PCA()"
        ],
        [
         "Idaho",
         "PCA()",
         "PCA()",
         "PCA()",
         "PCA()"
        ],
        [
         "Illinois",
         "PCA()",
         "PCA()",
         "PCA()",
         "PCA()"
        ],
        [
         "Indiana",
         "PCA()",
         "PCA()",
         "PCA()",
         "PCA()"
        ],
        [
         "Iowa",
         "PCA()",
         "PCA()",
         "PCA()",
         "PCA()"
        ],
        [
         "Kansas",
         "PCA()",
         "PCA()",
         "PCA()",
         "PCA()"
        ],
        [
         "Kentucky",
         "PCA()",
         "PCA()",
         "PCA()",
         "PCA()"
        ],
        [
         "Louisiana",
         "PCA()",
         "PCA()",
         "PCA()",
         "PCA()"
        ],
        [
         "Maine",
         "PCA()",
         "PCA()",
         "PCA()",
         "PCA()"
        ],
        [
         "Maryland",
         "PCA()",
         "PCA()",
         "PCA()",
         "PCA()"
        ],
        [
         "Massachusetts",
         "PCA()",
         "PCA()",
         "PCA()",
         "PCA()"
        ],
        [
         "Michigan",
         "PCA()",
         "PCA()",
         "PCA()",
         "PCA()"
        ],
        [
         "Minnesota",
         "PCA()",
         "PCA()",
         "PCA()",
         "PCA()"
        ],
        [
         "Mississippi",
         "PCA()",
         "PCA()",
         "PCA()",
         "PCA()"
        ],
        [
         "Missouri",
         "PCA()",
         "PCA()",
         "PCA()",
         "PCA()"
        ],
        [
         "Montana",
         "PCA()",
         "PCA()",
         "PCA()",
         "PCA()"
        ],
        [
         "Nebraska",
         "PCA()",
         "PCA()",
         "PCA()",
         "PCA()"
        ],
        [
         "Nevada",
         "PCA()",
         "PCA()",
         "PCA()",
         "PCA()"
        ],
        [
         "New Hampshire",
         "PCA()",
         "PCA()",
         "PCA()",
         "PCA()"
        ],
        [
         "New Jersey",
         "PCA()",
         "PCA()",
         "PCA()",
         "PCA()"
        ],
        [
         "New Mexico",
         "PCA()",
         "PCA()",
         "PCA()",
         "PCA()"
        ],
        [
         "New York",
         "PCA()",
         "PCA()",
         "PCA()",
         "PCA()"
        ],
        [
         "North Carolina",
         "PCA()",
         "PCA()",
         "PCA()",
         "PCA()"
        ],
        [
         "North Dakota",
         "PCA()",
         "PCA()",
         "PCA()",
         "PCA()"
        ],
        [
         "Ohio",
         "PCA()",
         "PCA()",
         "PCA()",
         "PCA()"
        ],
        [
         "Oklahoma",
         "PCA()",
         "PCA()",
         "PCA()",
         "PCA()"
        ],
        [
         "Oregon",
         "PCA()",
         "PCA()",
         "PCA()",
         "PCA()"
        ],
        [
         "Pennsylvania",
         "PCA()",
         "PCA()",
         "PCA()",
         "PCA()"
        ],
        [
         "Rhode Island",
         "PCA()",
         "PCA()",
         "PCA()",
         "PCA()"
        ],
        [
         "South Carolina",
         "PCA()",
         "PCA()",
         "PCA()",
         "PCA()"
        ],
        [
         "South Dakota",
         "PCA()",
         "PCA()",
         "PCA()",
         "PCA()"
        ],
        [
         "Tennessee",
         "PCA()",
         "PCA()",
         "PCA()",
         "PCA()"
        ],
        [
         "Texas",
         "PCA()",
         "PCA()",
         "PCA()",
         "PCA()"
        ],
        [
         "Utah",
         "PCA()",
         "PCA()",
         "PCA()",
         "PCA()"
        ],
        [
         "Vermont",
         "PCA()",
         "PCA()",
         "PCA()",
         "PCA()"
        ],
        [
         "Virginia",
         "PCA()",
         "PCA()",
         "PCA()",
         "PCA()"
        ],
        [
         "Washington",
         "PCA()",
         "PCA()",
         "PCA()",
         "PCA()"
        ],
        [
         "West Virginia",
         "PCA()",
         "PCA()",
         "PCA()",
         "PCA()"
        ],
        [
         "Wisconsin",
         "PCA()",
         "PCA()",
         "PCA()",
         "PCA()"
        ],
        [
         "Wyoming",
         "PCA()",
         "PCA()",
         "PCA()",
         "PCA()"
        ]
       ],
       "shape": {
        "columns": 4,
        "rows": 50
       }
      },
      "text/html": [
       "<div>\n",
       "<style scoped>\n",
       "    .dataframe tbody tr th:only-of-type {\n",
       "        vertical-align: middle;\n",
       "    }\n",
       "\n",
       "    .dataframe tbody tr th {\n",
       "        vertical-align: top;\n",
       "    }\n",
       "\n",
       "    .dataframe thead th {\n",
       "        text-align: right;\n",
       "    }\n",
       "</style>\n",
       "<table border=\"1\" class=\"dataframe\">\n",
       "  <thead>\n",
       "    <tr style=\"text-align: right;\">\n",
       "      <th></th>\n",
       "      <th>V1</th>\n",
       "      <th>V2</th>\n",
       "      <th>V3</th>\n",
       "      <th>V4</th>\n",
       "    </tr>\n",
       "  </thead>\n",
       "  <tbody>\n",
       "    <tr>\n",
       "      <th>Alabama</th>\n",
       "      <td>PCA()</td>\n",
       "      <td>PCA()</td>\n",
       "      <td>PCA()</td>\n",
       "      <td>PCA()</td>\n",
       "    </tr>\n",
       "    <tr>\n",
       "      <th>Alaska</th>\n",
       "      <td>PCA()</td>\n",
       "      <td>PCA()</td>\n",
       "      <td>PCA()</td>\n",
       "      <td>PCA()</td>\n",
       "    </tr>\n",
       "    <tr>\n",
       "      <th>Arizona</th>\n",
       "      <td>PCA()</td>\n",
       "      <td>PCA()</td>\n",
       "      <td>PCA()</td>\n",
       "      <td>PCA()</td>\n",
       "    </tr>\n",
       "    <tr>\n",
       "      <th>Arkansas</th>\n",
       "      <td>PCA()</td>\n",
       "      <td>PCA()</td>\n",
       "      <td>PCA()</td>\n",
       "      <td>PCA()</td>\n",
       "    </tr>\n",
       "    <tr>\n",
       "      <th>California</th>\n",
       "      <td>PCA()</td>\n",
       "      <td>PCA()</td>\n",
       "      <td>PCA()</td>\n",
       "      <td>PCA()</td>\n",
       "    </tr>\n",
       "    <tr>\n",
       "      <th>Colorado</th>\n",
       "      <td>PCA()</td>\n",
       "      <td>PCA()</td>\n",
       "      <td>PCA()</td>\n",
       "      <td>PCA()</td>\n",
       "    </tr>\n",
       "    <tr>\n",
       "      <th>Connecticut</th>\n",
       "      <td>PCA()</td>\n",
       "      <td>PCA()</td>\n",
       "      <td>PCA()</td>\n",
       "      <td>PCA()</td>\n",
       "    </tr>\n",
       "    <tr>\n",
       "      <th>Delaware</th>\n",
       "      <td>PCA()</td>\n",
       "      <td>PCA()</td>\n",
       "      <td>PCA()</td>\n",
       "      <td>PCA()</td>\n",
       "    </tr>\n",
       "    <tr>\n",
       "      <th>Florida</th>\n",
       "      <td>PCA()</td>\n",
       "      <td>PCA()</td>\n",
       "      <td>PCA()</td>\n",
       "      <td>PCA()</td>\n",
       "    </tr>\n",
       "    <tr>\n",
       "      <th>Georgia</th>\n",
       "      <td>PCA()</td>\n",
       "      <td>PCA()</td>\n",
       "      <td>PCA()</td>\n",
       "      <td>PCA()</td>\n",
       "    </tr>\n",
       "    <tr>\n",
       "      <th>Hawaii</th>\n",
       "      <td>PCA()</td>\n",
       "      <td>PCA()</td>\n",
       "      <td>PCA()</td>\n",
       "      <td>PCA()</td>\n",
       "    </tr>\n",
       "    <tr>\n",
       "      <th>Idaho</th>\n",
       "      <td>PCA()</td>\n",
       "      <td>PCA()</td>\n",
       "      <td>PCA()</td>\n",
       "      <td>PCA()</td>\n",
       "    </tr>\n",
       "    <tr>\n",
       "      <th>Illinois</th>\n",
       "      <td>PCA()</td>\n",
       "      <td>PCA()</td>\n",
       "      <td>PCA()</td>\n",
       "      <td>PCA()</td>\n",
       "    </tr>\n",
       "    <tr>\n",
       "      <th>Indiana</th>\n",
       "      <td>PCA()</td>\n",
       "      <td>PCA()</td>\n",
       "      <td>PCA()</td>\n",
       "      <td>PCA()</td>\n",
       "    </tr>\n",
       "    <tr>\n",
       "      <th>Iowa</th>\n",
       "      <td>PCA()</td>\n",
       "      <td>PCA()</td>\n",
       "      <td>PCA()</td>\n",
       "      <td>PCA()</td>\n",
       "    </tr>\n",
       "    <tr>\n",
       "      <th>Kansas</th>\n",
       "      <td>PCA()</td>\n",
       "      <td>PCA()</td>\n",
       "      <td>PCA()</td>\n",
       "      <td>PCA()</td>\n",
       "    </tr>\n",
       "    <tr>\n",
       "      <th>Kentucky</th>\n",
       "      <td>PCA()</td>\n",
       "      <td>PCA()</td>\n",
       "      <td>PCA()</td>\n",
       "      <td>PCA()</td>\n",
       "    </tr>\n",
       "    <tr>\n",
       "      <th>Louisiana</th>\n",
       "      <td>PCA()</td>\n",
       "      <td>PCA()</td>\n",
       "      <td>PCA()</td>\n",
       "      <td>PCA()</td>\n",
       "    </tr>\n",
       "    <tr>\n",
       "      <th>Maine</th>\n",
       "      <td>PCA()</td>\n",
       "      <td>PCA()</td>\n",
       "      <td>PCA()</td>\n",
       "      <td>PCA()</td>\n",
       "    </tr>\n",
       "    <tr>\n",
       "      <th>Maryland</th>\n",
       "      <td>PCA()</td>\n",
       "      <td>PCA()</td>\n",
       "      <td>PCA()</td>\n",
       "      <td>PCA()</td>\n",
       "    </tr>\n",
       "    <tr>\n",
       "      <th>Massachusetts</th>\n",
       "      <td>PCA()</td>\n",
       "      <td>PCA()</td>\n",
       "      <td>PCA()</td>\n",
       "      <td>PCA()</td>\n",
       "    </tr>\n",
       "    <tr>\n",
       "      <th>Michigan</th>\n",
       "      <td>PCA()</td>\n",
       "      <td>PCA()</td>\n",
       "      <td>PCA()</td>\n",
       "      <td>PCA()</td>\n",
       "    </tr>\n",
       "    <tr>\n",
       "      <th>Minnesota</th>\n",
       "      <td>PCA()</td>\n",
       "      <td>PCA()</td>\n",
       "      <td>PCA()</td>\n",
       "      <td>PCA()</td>\n",
       "    </tr>\n",
       "    <tr>\n",
       "      <th>Mississippi</th>\n",
       "      <td>PCA()</td>\n",
       "      <td>PCA()</td>\n",
       "      <td>PCA()</td>\n",
       "      <td>PCA()</td>\n",
       "    </tr>\n",
       "    <tr>\n",
       "      <th>Missouri</th>\n",
       "      <td>PCA()</td>\n",
       "      <td>PCA()</td>\n",
       "      <td>PCA()</td>\n",
       "      <td>PCA()</td>\n",
       "    </tr>\n",
       "    <tr>\n",
       "      <th>Montana</th>\n",
       "      <td>PCA()</td>\n",
       "      <td>PCA()</td>\n",
       "      <td>PCA()</td>\n",
       "      <td>PCA()</td>\n",
       "    </tr>\n",
       "    <tr>\n",
       "      <th>Nebraska</th>\n",
       "      <td>PCA()</td>\n",
       "      <td>PCA()</td>\n",
       "      <td>PCA()</td>\n",
       "      <td>PCA()</td>\n",
       "    </tr>\n",
       "    <tr>\n",
       "      <th>Nevada</th>\n",
       "      <td>PCA()</td>\n",
       "      <td>PCA()</td>\n",
       "      <td>PCA()</td>\n",
       "      <td>PCA()</td>\n",
       "    </tr>\n",
       "    <tr>\n",
       "      <th>New Hampshire</th>\n",
       "      <td>PCA()</td>\n",
       "      <td>PCA()</td>\n",
       "      <td>PCA()</td>\n",
       "      <td>PCA()</td>\n",
       "    </tr>\n",
       "    <tr>\n",
       "      <th>New Jersey</th>\n",
       "      <td>PCA()</td>\n",
       "      <td>PCA()</td>\n",
       "      <td>PCA()</td>\n",
       "      <td>PCA()</td>\n",
       "    </tr>\n",
       "    <tr>\n",
       "      <th>New Mexico</th>\n",
       "      <td>PCA()</td>\n",
       "      <td>PCA()</td>\n",
       "      <td>PCA()</td>\n",
       "      <td>PCA()</td>\n",
       "    </tr>\n",
       "    <tr>\n",
       "      <th>New York</th>\n",
       "      <td>PCA()</td>\n",
       "      <td>PCA()</td>\n",
       "      <td>PCA()</td>\n",
       "      <td>PCA()</td>\n",
       "    </tr>\n",
       "    <tr>\n",
       "      <th>North Carolina</th>\n",
       "      <td>PCA()</td>\n",
       "      <td>PCA()</td>\n",
       "      <td>PCA()</td>\n",
       "      <td>PCA()</td>\n",
       "    </tr>\n",
       "    <tr>\n",
       "      <th>North Dakota</th>\n",
       "      <td>PCA()</td>\n",
       "      <td>PCA()</td>\n",
       "      <td>PCA()</td>\n",
       "      <td>PCA()</td>\n",
       "    </tr>\n",
       "    <tr>\n",
       "      <th>Ohio</th>\n",
       "      <td>PCA()</td>\n",
       "      <td>PCA()</td>\n",
       "      <td>PCA()</td>\n",
       "      <td>PCA()</td>\n",
       "    </tr>\n",
       "    <tr>\n",
       "      <th>Oklahoma</th>\n",
       "      <td>PCA()</td>\n",
       "      <td>PCA()</td>\n",
       "      <td>PCA()</td>\n",
       "      <td>PCA()</td>\n",
       "    </tr>\n",
       "    <tr>\n",
       "      <th>Oregon</th>\n",
       "      <td>PCA()</td>\n",
       "      <td>PCA()</td>\n",
       "      <td>PCA()</td>\n",
       "      <td>PCA()</td>\n",
       "    </tr>\n",
       "    <tr>\n",
       "      <th>Pennsylvania</th>\n",
       "      <td>PCA()</td>\n",
       "      <td>PCA()</td>\n",
       "      <td>PCA()</td>\n",
       "      <td>PCA()</td>\n",
       "    </tr>\n",
       "    <tr>\n",
       "      <th>Rhode Island</th>\n",
       "      <td>PCA()</td>\n",
       "      <td>PCA()</td>\n",
       "      <td>PCA()</td>\n",
       "      <td>PCA()</td>\n",
       "    </tr>\n",
       "    <tr>\n",
       "      <th>South Carolina</th>\n",
       "      <td>PCA()</td>\n",
       "      <td>PCA()</td>\n",
       "      <td>PCA()</td>\n",
       "      <td>PCA()</td>\n",
       "    </tr>\n",
       "    <tr>\n",
       "      <th>South Dakota</th>\n",
       "      <td>PCA()</td>\n",
       "      <td>PCA()</td>\n",
       "      <td>PCA()</td>\n",
       "      <td>PCA()</td>\n",
       "    </tr>\n",
       "    <tr>\n",
       "      <th>Tennessee</th>\n",
       "      <td>PCA()</td>\n",
       "      <td>PCA()</td>\n",
       "      <td>PCA()</td>\n",
       "      <td>PCA()</td>\n",
       "    </tr>\n",
       "    <tr>\n",
       "      <th>Texas</th>\n",
       "      <td>PCA()</td>\n",
       "      <td>PCA()</td>\n",
       "      <td>PCA()</td>\n",
       "      <td>PCA()</td>\n",
       "    </tr>\n",
       "    <tr>\n",
       "      <th>Utah</th>\n",
       "      <td>PCA()</td>\n",
       "      <td>PCA()</td>\n",
       "      <td>PCA()</td>\n",
       "      <td>PCA()</td>\n",
       "    </tr>\n",
       "    <tr>\n",
       "      <th>Vermont</th>\n",
       "      <td>PCA()</td>\n",
       "      <td>PCA()</td>\n",
       "      <td>PCA()</td>\n",
       "      <td>PCA()</td>\n",
       "    </tr>\n",
       "    <tr>\n",
       "      <th>Virginia</th>\n",
       "      <td>PCA()</td>\n",
       "      <td>PCA()</td>\n",
       "      <td>PCA()</td>\n",
       "      <td>PCA()</td>\n",
       "    </tr>\n",
       "    <tr>\n",
       "      <th>Washington</th>\n",
       "      <td>PCA()</td>\n",
       "      <td>PCA()</td>\n",
       "      <td>PCA()</td>\n",
       "      <td>PCA()</td>\n",
       "    </tr>\n",
       "    <tr>\n",
       "      <th>West Virginia</th>\n",
       "      <td>PCA()</td>\n",
       "      <td>PCA()</td>\n",
       "      <td>PCA()</td>\n",
       "      <td>PCA()</td>\n",
       "    </tr>\n",
       "    <tr>\n",
       "      <th>Wisconsin</th>\n",
       "      <td>PCA()</td>\n",
       "      <td>PCA()</td>\n",
       "      <td>PCA()</td>\n",
       "      <td>PCA()</td>\n",
       "    </tr>\n",
       "    <tr>\n",
       "      <th>Wyoming</th>\n",
       "      <td>PCA()</td>\n",
       "      <td>PCA()</td>\n",
       "      <td>PCA()</td>\n",
       "      <td>PCA()</td>\n",
       "    </tr>\n",
       "  </tbody>\n",
       "</table>\n",
       "</div>"
      ],
      "text/plain": [
       "                   V1     V2     V3     V4\n",
       "Alabama         PCA()  PCA()  PCA()  PCA()\n",
       "Alaska          PCA()  PCA()  PCA()  PCA()\n",
       "Arizona         PCA()  PCA()  PCA()  PCA()\n",
       "Arkansas        PCA()  PCA()  PCA()  PCA()\n",
       "California      PCA()  PCA()  PCA()  PCA()\n",
       "Colorado        PCA()  PCA()  PCA()  PCA()\n",
       "Connecticut     PCA()  PCA()  PCA()  PCA()\n",
       "Delaware        PCA()  PCA()  PCA()  PCA()\n",
       "Florida         PCA()  PCA()  PCA()  PCA()\n",
       "Georgia         PCA()  PCA()  PCA()  PCA()\n",
       "Hawaii          PCA()  PCA()  PCA()  PCA()\n",
       "Idaho           PCA()  PCA()  PCA()  PCA()\n",
       "Illinois        PCA()  PCA()  PCA()  PCA()\n",
       "Indiana         PCA()  PCA()  PCA()  PCA()\n",
       "Iowa            PCA()  PCA()  PCA()  PCA()\n",
       "Kansas          PCA()  PCA()  PCA()  PCA()\n",
       "Kentucky        PCA()  PCA()  PCA()  PCA()\n",
       "Louisiana       PCA()  PCA()  PCA()  PCA()\n",
       "Maine           PCA()  PCA()  PCA()  PCA()\n",
       "Maryland        PCA()  PCA()  PCA()  PCA()\n",
       "Massachusetts   PCA()  PCA()  PCA()  PCA()\n",
       "Michigan        PCA()  PCA()  PCA()  PCA()\n",
       "Minnesota       PCA()  PCA()  PCA()  PCA()\n",
       "Mississippi     PCA()  PCA()  PCA()  PCA()\n",
       "Missouri        PCA()  PCA()  PCA()  PCA()\n",
       "Montana         PCA()  PCA()  PCA()  PCA()\n",
       "Nebraska        PCA()  PCA()  PCA()  PCA()\n",
       "Nevada          PCA()  PCA()  PCA()  PCA()\n",
       "New Hampshire   PCA()  PCA()  PCA()  PCA()\n",
       "New Jersey      PCA()  PCA()  PCA()  PCA()\n",
       "New Mexico      PCA()  PCA()  PCA()  PCA()\n",
       "New York        PCA()  PCA()  PCA()  PCA()\n",
       "North Carolina  PCA()  PCA()  PCA()  PCA()\n",
       "North Dakota    PCA()  PCA()  PCA()  PCA()\n",
       "Ohio            PCA()  PCA()  PCA()  PCA()\n",
       "Oklahoma        PCA()  PCA()  PCA()  PCA()\n",
       "Oregon          PCA()  PCA()  PCA()  PCA()\n",
       "Pennsylvania    PCA()  PCA()  PCA()  PCA()\n",
       "Rhode Island    PCA()  PCA()  PCA()  PCA()\n",
       "South Carolina  PCA()  PCA()  PCA()  PCA()\n",
       "South Dakota    PCA()  PCA()  PCA()  PCA()\n",
       "Tennessee       PCA()  PCA()  PCA()  PCA()\n",
       "Texas           PCA()  PCA()  PCA()  PCA()\n",
       "Utah            PCA()  PCA()  PCA()  PCA()\n",
       "Vermont         PCA()  PCA()  PCA()  PCA()\n",
       "Virginia        PCA()  PCA()  PCA()  PCA()\n",
       "Washington      PCA()  PCA()  PCA()  PCA()\n",
       "West Virginia   PCA()  PCA()  PCA()  PCA()\n",
       "Wisconsin       PCA()  PCA()  PCA()  PCA()\n",
       "Wyoming         PCA()  PCA()  PCA()  PCA()"
      ]
     },
     "execution_count": 33,
     "metadata": {},
     "output_type": "execute_result"
    }
   ],
   "source": [
    "scale = StandardScaler()\n",
    "arrest_scale = scale.fit_transform(arrest)\n",
    "\n",
    "pca = PCA()\n",
    "pca.fit(arrest_scale)\n",
    "\n",
    "pca_loadings = pd.DataFrame(pca.fit(arrest_scale),\n",
    "                            index=arrest.index,\n",
    "                            columns=['V1', 'V2', 'V3', 'V4']) # principal components\n",
    "pca_loadings"
   ]
  },
  {
   "cell_type": "code",
   "execution_count": 25,
   "metadata": {},
   "outputs": [
    {
     "data": {
      "application/vnd.microsoft.datawrangler.viewer.v0+json": {
       "columns": [
        {
         "name": "index",
         "rawType": "object",
         "type": "string"
        },
        {
         "name": "PC1",
         "rawType": "float64",
         "type": "float"
        },
        {
         "name": "PC2",
         "rawType": "float64",
         "type": "float"
        },
        {
         "name": "PC3",
         "rawType": "float64",
         "type": "float"
        },
        {
         "name": "PC4",
         "rawType": "float64",
         "type": "float"
        }
       ],
       "ref": "0429db71-fbb0-4a11-ab44-31c992377cba",
       "rows": [
        [
         "Alabama",
         "0.9855658845031425",
         "-1.1333923777099704",
         "-0.44426878755073207",
         "-0.15626714491971336"
        ],
        [
         "Alaska",
         "1.9501377503350237",
         "-1.0732132561684862",
         "2.0400033328915934",
         "0.4385834399471905"
        ],
        [
         "Arizona",
         "1.7631635397229846",
         "0.7459567806372902",
         "0.05478082432628287",
         "0.834652924308099"
        ],
        [
         "Arkansas",
         "-0.14142028986835606",
         "-1.1197967841835526",
         "0.11457369185336205",
         "0.18281089629314096"
        ],
        [
         "California",
         "2.523980126519252",
         "1.5429339886582045",
         "0.598556798722446",
         "0.3419964777838382"
        ],
        [
         "Colorado",
         "1.5145628611015864",
         "0.9875550851684162",
         "1.0950069920153376",
         "-0.001464887029692761"
        ],
        [
         "Connecticut",
         "-1.3586474598543556",
         "1.0889278919061678",
         "-0.6432575688304922",
         "0.11846941405021688"
        ],
        [
         "Delaware",
         "0.04770930906002385",
         "0.32535892459459975",
         "-0.7186329424199911",
         "0.8819776372311089"
        ],
        [
         "Florida",
         "3.013042270287223",
         "-0.03922851328079099",
         "-0.5768294918485946",
         "0.09628475203326096"
        ],
        [
         "Georgia",
         "1.639283042835911",
         "-1.2789424027814231",
         "-0.3424600796424995",
         "-1.0767968120322684"
        ],
        [
         "Hawaii",
         "-0.9126571458975101",
         "1.57046001204312",
         "0.050781893931918586",
         "-0.9028068639842858"
        ],
        [
         "Idaho",
         "-1.639799852163495",
         "-0.2109729173768157",
         "0.25980134213000194",
         "0.49910410052282594"
        ],
        [
         "Illinois",
         "1.3789107244241465",
         "0.6818411889546518",
         "-0.6774956409220485",
         "0.12202129162790797"
        ],
        [
         "Indiana",
         "-0.5054613610809414",
         "0.15156254180440562",
         "0.22805483828310694",
         "-0.4246657004075685"
        ],
        [
         "Iowa",
         "-2.2536460696687173",
         "0.10405407252158125",
         "0.16456431538479757",
         "-0.017555915703946674"
        ],
        [
         "Kansas",
         "-0.796881121217601",
         "0.27016470482061866",
         "0.02555330720989167",
         "-0.2064964276677288"
        ],
        [
         "Kentucky",
         "-0.7508590743892952",
         "-0.9584402863667039",
         "-0.02836941697897971",
         "-0.6705566714645979"
        ],
        [
         "Louisiana",
         "1.5648179764124734",
         "-0.8710546550788786",
         "-0.7834803582091983",
         "-0.45472803819037133"
        ],
        [
         "Maine",
         "-2.3968294880744696",
         "-0.3763915759376536",
         "-0.06568238640570863",
         "0.3304598171389082"
        ],
        [
         "Maryland",
         "1.7633693885314046",
         "-0.4276551920475391",
         "-0.1572501271779745",
         "0.559069521095022"
        ],
        [
         "Massachusetts",
         "-0.48616628739425904",
         "1.4744964968874865",
         "-0.609497475675681",
         "0.17959896261109698"
        ],
        [
         "Michigan",
         "2.1084411500456857",
         "0.1553968188274112",
         "0.3848685839918759",
         "-0.10237201854376003"
        ],
        [
         "Minnesota",
         "-1.6926818144021216",
         "0.6322612505921373",
         "0.15307043437981976",
         "-0.06731688496530573"
        ],
        [
         "Mississippi",
         "0.9964944592152483",
         "-2.39379598664439",
         "-0.7408083951017881",
         "-0.21550801326918798"
        ],
        [
         "Missouri",
         "0.6967873294659886",
         "0.2633547903369057",
         "0.3774438268690246",
         "-0.2258244611627456"
        ],
        [
         "Montana",
         "-1.18545190586353",
         "-0.536874371541415",
         "0.24688932112575407",
         "-0.12374222685945563"
        ],
        [
         "Nebraska",
         "-1.2656365411243586",
         "0.1939537296564343",
         "0.1755739064343778",
         "-0.015892887802520458"
        ],
        [
         "Nevada",
         "2.874394538514417",
         "0.7756001960405295",
         "1.163380494709182",
         "-0.31451547584516976"
        ],
        [
         "New Hampshire",
         "-2.3839154090396",
         "0.0180822896942731",
         "0.03685539316568852",
         "0.033137337583615596"
        ],
        [
         "New Jersey",
         "0.18156610964770473",
         "1.4495057119436425",
         "-0.7644535511610946",
         "-0.24338269950009678"
        ],
        [
         "New Mexico",
         "1.9800237544635",
         "-0.14284878029386433",
         "0.18369217951291802",
         "0.3395335972313923"
        ],
        [
         "New York",
         "1.682577376308647",
         "0.8231841419538296",
         "-0.6430750930041487",
         "0.013484368886019539"
        ],
        [
         "North Carolina",
         "1.1233786063718516",
         "-2.2280033765179024",
         "-0.8635717875459638",
         "0.9543816674891229"
        ],
        [
         "North Dakota",
         "-2.9922256150178645",
         "-0.5991188244604965",
         "0.30127728494106903",
         "0.2539873273093044"
        ],
        [
         "Ohio",
         "-0.2259654224079246",
         "0.7422382371319517",
         "-0.0311391215184621",
         "-0.47391591139073275"
        ],
        [
         "Oklahoma",
         "-0.31178285501538683",
         "0.2878542056868794",
         "-0.015309792153755178",
         "-0.010332320781212259"
        ],
        [
         "Oregon",
         "0.05912207678865936",
         "0.5414114537849994",
         "0.9398329768524902",
         "0.23778068808149175"
        ],
        [
         "Pennsylvania",
         "-0.888415824070835",
         "0.5711003523180996",
         "-0.4006287059425349",
         "-0.35906112376710647"
        ],
        [
         "Rhode Island",
         "-0.8637720636082995",
         "1.4919784226899089",
         "-1.3699456975736948",
         "0.6135694297763665"
        ],
        [
         "South Carolina",
         "1.3207238038158133",
         "-1.9334046625364312",
         "-0.3005377896215346",
         "0.13146668466256767"
        ],
        [
         "South Dakota",
         "-1.9877748372893442",
         "-0.8233432410273611",
         "0.3892933290616261",
         "0.10957176404027567"
        ],
        [
         "Tennessee",
         "0.9997416844624797",
         "-0.8602513046732803",
         "0.18808294898295375",
         "-0.6528642907541256"
        ],
        [
         "Texas",
         "1.355138206805307",
         "0.4124808190565229",
         "-0.49206885798869937",
         "-0.6431954912419965"
        ],
        [
         "Utah",
         "-0.5505652622128182",
         "1.4715046083162628",
         "0.2937280367716914",
         "0.0823140470257156"
        ],
        [
         "Vermont",
         "-2.801411740000273",
         "-1.402288055177467",
         "0.8412630942239039",
         "0.14488991371133"
        ],
        [
         "Virginia",
         "-0.09633491123605062",
         "-0.19973528914291816",
         "0.011712541836604468",
         "-0.21137081319481488"
        ],
        [
         "Washington",
         "-0.2169033786160422",
         "0.9701241830707891",
         "0.6248709378885766",
         "0.22084779304980193"
        ],
        [
         "West Virginia",
         "-2.1085854076824964",
         "-1.4248467030048808",
         "0.10477467114644182",
         "-0.13190883068394266"
        ],
        [
         "Wisconsin",
         "-2.079714168917325",
         "0.6112686243203196",
         "-0.13886499767541569",
         "-0.18410374303670762"
        ],
        [
         "Wyoming",
         "-0.6294266635252053",
         "-0.3210129674652184",
         "-0.24065923369374506",
         "0.16665180070943328"
        ]
       ],
       "shape": {
        "columns": 4,
        "rows": 50
       }
      },
      "text/html": [
       "<div>\n",
       "<style scoped>\n",
       "    .dataframe tbody tr th:only-of-type {\n",
       "        vertical-align: middle;\n",
       "    }\n",
       "\n",
       "    .dataframe tbody tr th {\n",
       "        vertical-align: top;\n",
       "    }\n",
       "\n",
       "    .dataframe thead th {\n",
       "        text-align: right;\n",
       "    }\n",
       "</style>\n",
       "<table border=\"1\" class=\"dataframe\">\n",
       "  <thead>\n",
       "    <tr style=\"text-align: right;\">\n",
       "      <th></th>\n",
       "      <th>PC1</th>\n",
       "      <th>PC2</th>\n",
       "      <th>PC3</th>\n",
       "      <th>PC4</th>\n",
       "    </tr>\n",
       "  </thead>\n",
       "  <tbody>\n",
       "    <tr>\n",
       "      <th>Alabama</th>\n",
       "      <td>0.985566</td>\n",
       "      <td>-1.133392</td>\n",
       "      <td>-0.444269</td>\n",
       "      <td>-0.156267</td>\n",
       "    </tr>\n",
       "    <tr>\n",
       "      <th>Alaska</th>\n",
       "      <td>1.950138</td>\n",
       "      <td>-1.073213</td>\n",
       "      <td>2.040003</td>\n",
       "      <td>0.438583</td>\n",
       "    </tr>\n",
       "    <tr>\n",
       "      <th>Arizona</th>\n",
       "      <td>1.763164</td>\n",
       "      <td>0.745957</td>\n",
       "      <td>0.054781</td>\n",
       "      <td>0.834653</td>\n",
       "    </tr>\n",
       "    <tr>\n",
       "      <th>Arkansas</th>\n",
       "      <td>-0.141420</td>\n",
       "      <td>-1.119797</td>\n",
       "      <td>0.114574</td>\n",
       "      <td>0.182811</td>\n",
       "    </tr>\n",
       "    <tr>\n",
       "      <th>California</th>\n",
       "      <td>2.523980</td>\n",
       "      <td>1.542934</td>\n",
       "      <td>0.598557</td>\n",
       "      <td>0.341996</td>\n",
       "    </tr>\n",
       "    <tr>\n",
       "      <th>Colorado</th>\n",
       "      <td>1.514563</td>\n",
       "      <td>0.987555</td>\n",
       "      <td>1.095007</td>\n",
       "      <td>-0.001465</td>\n",
       "    </tr>\n",
       "    <tr>\n",
       "      <th>Connecticut</th>\n",
       "      <td>-1.358647</td>\n",
       "      <td>1.088928</td>\n",
       "      <td>-0.643258</td>\n",
       "      <td>0.118469</td>\n",
       "    </tr>\n",
       "    <tr>\n",
       "      <th>Delaware</th>\n",
       "      <td>0.047709</td>\n",
       "      <td>0.325359</td>\n",
       "      <td>-0.718633</td>\n",
       "      <td>0.881978</td>\n",
       "    </tr>\n",
       "    <tr>\n",
       "      <th>Florida</th>\n",
       "      <td>3.013042</td>\n",
       "      <td>-0.039229</td>\n",
       "      <td>-0.576829</td>\n",
       "      <td>0.096285</td>\n",
       "    </tr>\n",
       "    <tr>\n",
       "      <th>Georgia</th>\n",
       "      <td>1.639283</td>\n",
       "      <td>-1.278942</td>\n",
       "      <td>-0.342460</td>\n",
       "      <td>-1.076797</td>\n",
       "    </tr>\n",
       "    <tr>\n",
       "      <th>Hawaii</th>\n",
       "      <td>-0.912657</td>\n",
       "      <td>1.570460</td>\n",
       "      <td>0.050782</td>\n",
       "      <td>-0.902807</td>\n",
       "    </tr>\n",
       "    <tr>\n",
       "      <th>Idaho</th>\n",
       "      <td>-1.639800</td>\n",
       "      <td>-0.210973</td>\n",
       "      <td>0.259801</td>\n",
       "      <td>0.499104</td>\n",
       "    </tr>\n",
       "    <tr>\n",
       "      <th>Illinois</th>\n",
       "      <td>1.378911</td>\n",
       "      <td>0.681841</td>\n",
       "      <td>-0.677496</td>\n",
       "      <td>0.122021</td>\n",
       "    </tr>\n",
       "    <tr>\n",
       "      <th>Indiana</th>\n",
       "      <td>-0.505461</td>\n",
       "      <td>0.151563</td>\n",
       "      <td>0.228055</td>\n",
       "      <td>-0.424666</td>\n",
       "    </tr>\n",
       "    <tr>\n",
       "      <th>Iowa</th>\n",
       "      <td>-2.253646</td>\n",
       "      <td>0.104054</td>\n",
       "      <td>0.164564</td>\n",
       "      <td>-0.017556</td>\n",
       "    </tr>\n",
       "    <tr>\n",
       "      <th>Kansas</th>\n",
       "      <td>-0.796881</td>\n",
       "      <td>0.270165</td>\n",
       "      <td>0.025553</td>\n",
       "      <td>-0.206496</td>\n",
       "    </tr>\n",
       "    <tr>\n",
       "      <th>Kentucky</th>\n",
       "      <td>-0.750859</td>\n",
       "      <td>-0.958440</td>\n",
       "      <td>-0.028369</td>\n",
       "      <td>-0.670557</td>\n",
       "    </tr>\n",
       "    <tr>\n",
       "      <th>Louisiana</th>\n",
       "      <td>1.564818</td>\n",
       "      <td>-0.871055</td>\n",
       "      <td>-0.783480</td>\n",
       "      <td>-0.454728</td>\n",
       "    </tr>\n",
       "    <tr>\n",
       "      <th>Maine</th>\n",
       "      <td>-2.396829</td>\n",
       "      <td>-0.376392</td>\n",
       "      <td>-0.065682</td>\n",
       "      <td>0.330460</td>\n",
       "    </tr>\n",
       "    <tr>\n",
       "      <th>Maryland</th>\n",
       "      <td>1.763369</td>\n",
       "      <td>-0.427655</td>\n",
       "      <td>-0.157250</td>\n",
       "      <td>0.559070</td>\n",
       "    </tr>\n",
       "    <tr>\n",
       "      <th>Massachusetts</th>\n",
       "      <td>-0.486166</td>\n",
       "      <td>1.474496</td>\n",
       "      <td>-0.609497</td>\n",
       "      <td>0.179599</td>\n",
       "    </tr>\n",
       "    <tr>\n",
       "      <th>Michigan</th>\n",
       "      <td>2.108441</td>\n",
       "      <td>0.155397</td>\n",
       "      <td>0.384869</td>\n",
       "      <td>-0.102372</td>\n",
       "    </tr>\n",
       "    <tr>\n",
       "      <th>Minnesota</th>\n",
       "      <td>-1.692682</td>\n",
       "      <td>0.632261</td>\n",
       "      <td>0.153070</td>\n",
       "      <td>-0.067317</td>\n",
       "    </tr>\n",
       "    <tr>\n",
       "      <th>Mississippi</th>\n",
       "      <td>0.996494</td>\n",
       "      <td>-2.393796</td>\n",
       "      <td>-0.740808</td>\n",
       "      <td>-0.215508</td>\n",
       "    </tr>\n",
       "    <tr>\n",
       "      <th>Missouri</th>\n",
       "      <td>0.696787</td>\n",
       "      <td>0.263355</td>\n",
       "      <td>0.377444</td>\n",
       "      <td>-0.225824</td>\n",
       "    </tr>\n",
       "    <tr>\n",
       "      <th>Montana</th>\n",
       "      <td>-1.185452</td>\n",
       "      <td>-0.536874</td>\n",
       "      <td>0.246889</td>\n",
       "      <td>-0.123742</td>\n",
       "    </tr>\n",
       "    <tr>\n",
       "      <th>Nebraska</th>\n",
       "      <td>-1.265637</td>\n",
       "      <td>0.193954</td>\n",
       "      <td>0.175574</td>\n",
       "      <td>-0.015893</td>\n",
       "    </tr>\n",
       "    <tr>\n",
       "      <th>Nevada</th>\n",
       "      <td>2.874395</td>\n",
       "      <td>0.775600</td>\n",
       "      <td>1.163380</td>\n",
       "      <td>-0.314515</td>\n",
       "    </tr>\n",
       "    <tr>\n",
       "      <th>New Hampshire</th>\n",
       "      <td>-2.383915</td>\n",
       "      <td>0.018082</td>\n",
       "      <td>0.036855</td>\n",
       "      <td>0.033137</td>\n",
       "    </tr>\n",
       "    <tr>\n",
       "      <th>New Jersey</th>\n",
       "      <td>0.181566</td>\n",
       "      <td>1.449506</td>\n",
       "      <td>-0.764454</td>\n",
       "      <td>-0.243383</td>\n",
       "    </tr>\n",
       "    <tr>\n",
       "      <th>New Mexico</th>\n",
       "      <td>1.980024</td>\n",
       "      <td>-0.142849</td>\n",
       "      <td>0.183692</td>\n",
       "      <td>0.339534</td>\n",
       "    </tr>\n",
       "    <tr>\n",
       "      <th>New York</th>\n",
       "      <td>1.682577</td>\n",
       "      <td>0.823184</td>\n",
       "      <td>-0.643075</td>\n",
       "      <td>0.013484</td>\n",
       "    </tr>\n",
       "    <tr>\n",
       "      <th>North Carolina</th>\n",
       "      <td>1.123379</td>\n",
       "      <td>-2.228003</td>\n",
       "      <td>-0.863572</td>\n",
       "      <td>0.954382</td>\n",
       "    </tr>\n",
       "    <tr>\n",
       "      <th>North Dakota</th>\n",
       "      <td>-2.992226</td>\n",
       "      <td>-0.599119</td>\n",
       "      <td>0.301277</td>\n",
       "      <td>0.253987</td>\n",
       "    </tr>\n",
       "    <tr>\n",
       "      <th>Ohio</th>\n",
       "      <td>-0.225965</td>\n",
       "      <td>0.742238</td>\n",
       "      <td>-0.031139</td>\n",
       "      <td>-0.473916</td>\n",
       "    </tr>\n",
       "    <tr>\n",
       "      <th>Oklahoma</th>\n",
       "      <td>-0.311783</td>\n",
       "      <td>0.287854</td>\n",
       "      <td>-0.015310</td>\n",
       "      <td>-0.010332</td>\n",
       "    </tr>\n",
       "    <tr>\n",
       "      <th>Oregon</th>\n",
       "      <td>0.059122</td>\n",
       "      <td>0.541411</td>\n",
       "      <td>0.939833</td>\n",
       "      <td>0.237781</td>\n",
       "    </tr>\n",
       "    <tr>\n",
       "      <th>Pennsylvania</th>\n",
       "      <td>-0.888416</td>\n",
       "      <td>0.571100</td>\n",
       "      <td>-0.400629</td>\n",
       "      <td>-0.359061</td>\n",
       "    </tr>\n",
       "    <tr>\n",
       "      <th>Rhode Island</th>\n",
       "      <td>-0.863772</td>\n",
       "      <td>1.491978</td>\n",
       "      <td>-1.369946</td>\n",
       "      <td>0.613569</td>\n",
       "    </tr>\n",
       "    <tr>\n",
       "      <th>South Carolina</th>\n",
       "      <td>1.320724</td>\n",
       "      <td>-1.933405</td>\n",
       "      <td>-0.300538</td>\n",
       "      <td>0.131467</td>\n",
       "    </tr>\n",
       "    <tr>\n",
       "      <th>South Dakota</th>\n",
       "      <td>-1.987775</td>\n",
       "      <td>-0.823343</td>\n",
       "      <td>0.389293</td>\n",
       "      <td>0.109572</td>\n",
       "    </tr>\n",
       "    <tr>\n",
       "      <th>Tennessee</th>\n",
       "      <td>0.999742</td>\n",
       "      <td>-0.860251</td>\n",
       "      <td>0.188083</td>\n",
       "      <td>-0.652864</td>\n",
       "    </tr>\n",
       "    <tr>\n",
       "      <th>Texas</th>\n",
       "      <td>1.355138</td>\n",
       "      <td>0.412481</td>\n",
       "      <td>-0.492069</td>\n",
       "      <td>-0.643195</td>\n",
       "    </tr>\n",
       "    <tr>\n",
       "      <th>Utah</th>\n",
       "      <td>-0.550565</td>\n",
       "      <td>1.471505</td>\n",
       "      <td>0.293728</td>\n",
       "      <td>0.082314</td>\n",
       "    </tr>\n",
       "    <tr>\n",
       "      <th>Vermont</th>\n",
       "      <td>-2.801412</td>\n",
       "      <td>-1.402288</td>\n",
       "      <td>0.841263</td>\n",
       "      <td>0.144890</td>\n",
       "    </tr>\n",
       "    <tr>\n",
       "      <th>Virginia</th>\n",
       "      <td>-0.096335</td>\n",
       "      <td>-0.199735</td>\n",
       "      <td>0.011713</td>\n",
       "      <td>-0.211371</td>\n",
       "    </tr>\n",
       "    <tr>\n",
       "      <th>Washington</th>\n",
       "      <td>-0.216903</td>\n",
       "      <td>0.970124</td>\n",
       "      <td>0.624871</td>\n",
       "      <td>0.220848</td>\n",
       "    </tr>\n",
       "    <tr>\n",
       "      <th>West Virginia</th>\n",
       "      <td>-2.108585</td>\n",
       "      <td>-1.424847</td>\n",
       "      <td>0.104775</td>\n",
       "      <td>-0.131909</td>\n",
       "    </tr>\n",
       "    <tr>\n",
       "      <th>Wisconsin</th>\n",
       "      <td>-2.079714</td>\n",
       "      <td>0.611269</td>\n",
       "      <td>-0.138865</td>\n",
       "      <td>-0.184104</td>\n",
       "    </tr>\n",
       "    <tr>\n",
       "      <th>Wyoming</th>\n",
       "      <td>-0.629427</td>\n",
       "      <td>-0.321013</td>\n",
       "      <td>-0.240659</td>\n",
       "      <td>0.166652</td>\n",
       "    </tr>\n",
       "  </tbody>\n",
       "</table>\n",
       "</div>"
      ],
      "text/plain": [
       "                     PC1       PC2       PC3       PC4\n",
       "Alabama         0.985566 -1.133392 -0.444269 -0.156267\n",
       "Alaska          1.950138 -1.073213  2.040003  0.438583\n",
       "Arizona         1.763164  0.745957  0.054781  0.834653\n",
       "Arkansas       -0.141420 -1.119797  0.114574  0.182811\n",
       "California      2.523980  1.542934  0.598557  0.341996\n",
       "Colorado        1.514563  0.987555  1.095007 -0.001465\n",
       "Connecticut    -1.358647  1.088928 -0.643258  0.118469\n",
       "Delaware        0.047709  0.325359 -0.718633  0.881978\n",
       "Florida         3.013042 -0.039229 -0.576829  0.096285\n",
       "Georgia         1.639283 -1.278942 -0.342460 -1.076797\n",
       "Hawaii         -0.912657  1.570460  0.050782 -0.902807\n",
       "Idaho          -1.639800 -0.210973  0.259801  0.499104\n",
       "Illinois        1.378911  0.681841 -0.677496  0.122021\n",
       "Indiana        -0.505461  0.151563  0.228055 -0.424666\n",
       "Iowa           -2.253646  0.104054  0.164564 -0.017556\n",
       "Kansas         -0.796881  0.270165  0.025553 -0.206496\n",
       "Kentucky       -0.750859 -0.958440 -0.028369 -0.670557\n",
       "Louisiana       1.564818 -0.871055 -0.783480 -0.454728\n",
       "Maine          -2.396829 -0.376392 -0.065682  0.330460\n",
       "Maryland        1.763369 -0.427655 -0.157250  0.559070\n",
       "Massachusetts  -0.486166  1.474496 -0.609497  0.179599\n",
       "Michigan        2.108441  0.155397  0.384869 -0.102372\n",
       "Minnesota      -1.692682  0.632261  0.153070 -0.067317\n",
       "Mississippi     0.996494 -2.393796 -0.740808 -0.215508\n",
       "Missouri        0.696787  0.263355  0.377444 -0.225824\n",
       "Montana        -1.185452 -0.536874  0.246889 -0.123742\n",
       "Nebraska       -1.265637  0.193954  0.175574 -0.015893\n",
       "Nevada          2.874395  0.775600  1.163380 -0.314515\n",
       "New Hampshire  -2.383915  0.018082  0.036855  0.033137\n",
       "New Jersey      0.181566  1.449506 -0.764454 -0.243383\n",
       "New Mexico      1.980024 -0.142849  0.183692  0.339534\n",
       "New York        1.682577  0.823184 -0.643075  0.013484\n",
       "North Carolina  1.123379 -2.228003 -0.863572  0.954382\n",
       "North Dakota   -2.992226 -0.599119  0.301277  0.253987\n",
       "Ohio           -0.225965  0.742238 -0.031139 -0.473916\n",
       "Oklahoma       -0.311783  0.287854 -0.015310 -0.010332\n",
       "Oregon          0.059122  0.541411  0.939833  0.237781\n",
       "Pennsylvania   -0.888416  0.571100 -0.400629 -0.359061\n",
       "Rhode Island   -0.863772  1.491978 -1.369946  0.613569\n",
       "South Carolina  1.320724 -1.933405 -0.300538  0.131467\n",
       "South Dakota   -1.987775 -0.823343  0.389293  0.109572\n",
       "Tennessee       0.999742 -0.860251  0.188083 -0.652864\n",
       "Texas           1.355138  0.412481 -0.492069 -0.643195\n",
       "Utah           -0.550565  1.471505  0.293728  0.082314\n",
       "Vermont        -2.801412 -1.402288  0.841263  0.144890\n",
       "Virginia       -0.096335 -0.199735  0.011713 -0.211371\n",
       "Washington     -0.216903  0.970124  0.624871  0.220848\n",
       "West Virginia  -2.108585 -1.424847  0.104775 -0.131909\n",
       "Wisconsin      -2.079714  0.611269 -0.138865 -0.184104\n",
       "Wyoming        -0.629427 -0.321013 -0.240659  0.166652"
      ]
     },
     "execution_count": 25,
     "metadata": {},
     "output_type": "execute_result"
    }
   ],
   "source": [
    "pca = PCA()\n",
    "\n",
    "df_plot = pd.DataFrame(pca.fit_transform(arrest_scale), \n",
    "                       columns=['PC1', 'PC2', 'PC3', 'PC4'], \n",
    "                       index=arrest.index)\n",
    "\n",
    "df_plot"
   ]
  },
  {
   "cell_type": "markdown",
   "metadata": {},
   "source": [
    "<h2 style='font-weight:bold; color:skyblue'> 10.2 Clustering </h2>"
   ]
  },
  {
   "cell_type": "code",
   "execution_count": null,
   "metadata": {},
   "outputs": [],
   "source": []
  },
  {
   "cell_type": "markdown",
   "metadata": {},
   "source": [
    "<h3 style='font-weight:bold; color:green'> 10.2.1 K-Means </h3>"
   ]
  },
  {
   "cell_type": "code",
   "execution_count": null,
   "metadata": {},
   "outputs": [],
   "source": [
    "from sklearn.cluster import KMeans\n",
    "\n",
    "kmeans = KMeans(n_clusters=2, random_state=42)\n",
    "\n",
    "kmeans.fit(x)"
   ]
  },
  {
   "cell_type": "markdown",
   "metadata": {},
   "source": [
    "<h3 style='font-weight:bold; color:green'> 10.2.2 K-Modes </h3>"
   ]
  },
  {
   "cell_type": "markdown",
   "metadata": {},
   "source": [
    "init :\n",
    "1. **Huang**\n",
    "2. **Cao**"
   ]
  },
  {
   "cell_type": "code",
   "execution_count": 36,
   "metadata": {},
   "outputs": [],
   "source": [
    "from kmodes.kmodes import KModes"
   ]
  },
  {
   "cell_type": "markdown",
   "metadata": {},
   "source": [
    "<h3 style='font-weight:bold; color:green'> 10.2.3 K-Medoid </h3>"
   ]
  },
  {
   "cell_type": "code",
   "execution_count": null,
   "metadata": {},
   "outputs": [],
   "source": []
  },
  {
   "cell_type": "markdown",
   "metadata": {},
   "source": [
    "<h3 style='font-weight:bold; color:green'> 10.2.4 K-Prototype </h3>"
   ]
  },
  {
   "cell_type": "code",
   "execution_count": null,
   "metadata": {},
   "outputs": [],
   "source": []
  },
  {
   "cell_type": "markdown",
   "metadata": {},
   "source": [
    "<h3 style='font-weight:bold; color:green'> 10.2.5 Hierarchical </h3>"
   ]
  },
  {
   "cell_type": "markdown",
   "metadata": {},
   "source": [
    "* Unlike K-Means, there is no need to pre-determine number of clusters"
   ]
  },
  {
   "cell_type": "code",
   "execution_count": 49,
   "metadata": {},
   "outputs": [],
   "source": [
    "import pandas as pd\n",
    "import matplotlib.pyplot as plt\n",
    "\n",
    "from scipy.cluster.hierarchy import linkage, dendrogram"
   ]
  },
  {
   "cell_type": "code",
   "execution_count": null,
   "metadata": {},
   "outputs": [
    {
     "name": "stdout",
     "output_type": "stream",
     "text": [
      "<class 'pandas.core.frame.DataFrame'>\n",
      "Index: 64 entries, V1 to V64\n",
      "Columns: 6830 entries, 1 to 6830\n",
      "dtypes: float64(6830)\n",
      "memory usage: 3.3+ MB\n"
     ]
    }
   ],
   "source": [
    "nci_labs = pd.read_csv(\"data/NCI60_labs.csv\", index_col=0)\n",
    "nci_data = pd.read_csv('data/nci60_data.csv', index_col=0)\n",
    "\n",
    "nci_data.info() # data with a huges number of features (around 6830)\n"
   ]
  },
  {
   "cell_type": "code",
   "execution_count": null,
   "metadata": {},
   "outputs": [],
   "source": [
    "?linkage"
   ]
  },
  {
   "cell_type": "code",
   "execution_count": null,
   "metadata": {},
   "outputs": [
    {
     "data": {
      "text/plain": [
       "array([[ 49.        ,  50.        ,  38.23033267,   2.        ],\n",
       "       [ 56.        ,  57.        ,  39.10562479,   2.        ],\n",
       "       [ 48.        ,  64.        ,  39.99989876,   3.        ],\n",
       "       [ 20.        ,  21.        ,  45.15158096,   2.        ],\n",
       "       [ 34.        ,  35.        ,  45.35338129,   2.        ],\n",
       "       [ 36.        ,  68.        ,  48.01162819,   3.        ],\n",
       "       [  0.        ,   1.        ,  51.43823073,   2.        ],\n",
       "       [ 60.        ,  61.        ,  56.78015373,   2.        ],\n",
       "       [ 11.        ,  12.        ,  57.91726379,   2.        ],\n",
       "       [ 41.        ,  43.        ,  60.49650657,   2.        ],\n",
       "       [ 38.        ,  39.        ,  61.55425326,   2.        ],\n",
       "       [ 30.        ,  31.        ,  61.63750362,   2.        ],\n",
       "       [ 14.        ,  15.        ,  62.1780594 ,   2.        ],\n",
       "       [ 13.        ,  76.        ,  62.78163258,   3.        ],\n",
       "       [ 44.        ,  45.        ,  63.26414098,   2.        ],\n",
       "       [ 59.        ,  71.        ,  63.67441112,   3.        ],\n",
       "       [ 28.        ,  29.        ,  65.76413536,   2.        ],\n",
       "       [ 58.        ,  79.        ,  66.23109874,   4.        ],\n",
       "       [ 10.        ,  72.        ,  67.07313093,   3.        ],\n",
       "       [  2.        ,   8.        ,  67.83789248,   2.        ],\n",
       "       [ 62.        ,  63.        ,  68.60602282,   2.        ],\n",
       "       [ 73.        ,  78.        ,  68.99669188,   4.        ],\n",
       "       [ 23.        ,  80.        ,  70.62273231,   3.        ],\n",
       "       [ 26.        ,  27.        ,  70.93759619,   2.        ],\n",
       "       [ 65.        ,  84.        ,  71.59949094,   4.        ],\n",
       "       [ 16.        ,  77.        ,  72.56828298,   4.        ],\n",
       "       [ 24.        ,  25.        ,  73.56083029,   2.        ],\n",
       "       [ 52.        ,  75.        ,  73.67669823,   3.        ],\n",
       "       [ 83.        ,  86.        ,  74.62701247,   5.        ],\n",
       "       [ 51.        ,  66.        ,  74.80702422,   4.        ],\n",
       "       [ 42.        ,  85.        ,  75.92470655,   5.        ],\n",
       "       [ 22.        ,  92.        ,  76.6317916 ,   6.        ],\n",
       "       [  5.        ,   7.        ,  77.0683762 ,   2.        ],\n",
       "       [ 81.        ,  88.        ,  77.32029088,   8.        ],\n",
       "       [ 82.        ,  89.        ,  78.42221832,   7.        ],\n",
       "       [ 87.        ,  91.        ,  78.55289235,   5.        ],\n",
       "       [  3.        ,   4.        ,  78.90728036,   2.        ],\n",
       "       [  6.        ,  96.        ,  80.11985439,   3.        ],\n",
       "       [ 53.        ,  54.        ,  80.19940947,   2.        ],\n",
       "       [ 46.        ,  47.        ,  80.28907807,   2.        ],\n",
       "       [ 33.        ,  37.        ,  80.35099974,   2.        ],\n",
       "       [ 17.        ,  18.        ,  80.97092472,   2.        ],\n",
       "       [ 32.        ,  95.        ,  81.898042  ,   7.        ],\n",
       "       [ 55.        ,  97.        ,  82.1622036 ,   9.        ],\n",
       "       [ 94.        , 103.        ,  83.83982605,   7.        ],\n",
       "       [ 99.        , 106.        ,  84.13402432,  12.        ],\n",
       "       [ 70.        , 101.        ,  84.32318976,   5.        ],\n",
       "       [ 19.        ,  67.        ,  86.31140874,   3.        ],\n",
       "       [ 98.        , 109.        ,  88.85328369,  19.        ],\n",
       "       [ 69.        , 104.        ,  89.3367509 ,   5.        ],\n",
       "       [105.        , 110.        ,  90.13572614,   7.        ],\n",
       "       [111.        , 114.        ,  92.58579286,  10.        ],\n",
       "       [ 90.        , 112.        ,  92.65795124,  21.        ],\n",
       "       [ 93.        , 108.        ,  92.70718779,  11.        ],\n",
       "       [  9.        , 100.        ,  97.94830934,   3.        ],\n",
       "       [ 40.        , 113.        ,  99.76405492,   6.        ],\n",
       "       [ 74.        , 119.        ,  99.99018542,   8.        ],\n",
       "       [115.        , 116.        , 101.82696152,  31.        ],\n",
       "       [107.        , 121.        , 105.92309815,  40.        ],\n",
       "       [102.        , 122.        , 106.43870527,  42.        ],\n",
       "       [117.        , 120.        , 111.51306851,  19.        ],\n",
       "       [118.        , 123.        , 118.25973072,  45.        ],\n",
       "       [124.        , 125.        , 138.15044876,  64.        ]])"
      ]
     },
     "execution_count": 54,
     "metadata": {},
     "output_type": "execute_result"
    }
   ],
   "source": [
    "nci_hc_complete = linkage(y=nci_data, \n",
    "                          method=\"complete\", \n",
    "                          metric='euclidean') \n",
    "nci_hc_complete"
   ]
  },
  {
   "cell_type": "code",
   "execution_count": 59,
   "metadata": {},
   "outputs": [
    {
     "data": {
      "text/plain": [
       "Text(0.5, 1.0, 'Linkage=complete')"
      ]
     },
     "execution_count": 59,
     "metadata": {},
     "output_type": "execute_result"
    },
    {
     "data": {
      "image/png": "[encoded data removed]",
      "text/plain": [
       "<Figure size 1500x1500 with 1 Axes>"
      ]
     },
     "metadata": {},
     "output_type": "display_data"
    }
   ],
   "source": [
    "fig, axis = plt.subplots(1, 1, figsize=(15,15))\n",
    "\n",
    "dendrogram(nci_hc_complete, \n",
    "           ax=axis, \n",
    "           labels=nci_data.index, \n",
    "           leaf_rotation=90, \n",
    "           leaf_font_size=10)\n",
    "\n",
    "axis.set_title('Linkage=complete')\n",
    "\n"
   ]
  },
  {
   "cell_type": "code",
   "execution_count": 62,
   "metadata": {},
   "outputs": [
    {
     "data": {
      "application/vnd.microsoft.datawrangler.viewer.v0+json": {
       "columns": [
        {
         "name": "index",
         "rawType": "int64",
         "type": "integer"
        },
        {
         "name": "0",
         "rawType": "float64",
         "type": "float"
        },
        {
         "name": "1",
         "rawType": "float64",
         "type": "float"
        }
       ],
       "ref": "64ead014-8337-4e59-a334-119ebce1232f",
       "rows": [
        [
         "0",
         "19.838031902502635",
         "-3.556130759473804"
        ],
        [
         "1",
         "23.08921687753968",
         "-6.441308670114544"
        ],
        [
         "2",
         "27.45610676768201",
         "-2.4653345908993964"
        ],
        [
         "3",
         "42.81689105989395",
         "9.770332263518144"
        ],
        [
         "4",
         "55.41849503398015",
         "5.198344411956726"
        ],
        [
         "5",
         "27.178019902938182",
         "-6.7808754204657955"
        ],
        [
         "6",
         "31.445885627530295",
         "-3.8649538989793735"
        ],
        [
         "7",
         "22.332307393360242",
         "-10.397597028660435"
        ],
        [
         "8",
         "14.289890793678648",
         "-16.110139011818585"
        ],
        [
         "9",
         "29.74807587760242",
         "-23.994278959844625"
        ],
        [
         "10",
         "30.746909605347696",
         "-9.882282317322101"
        ],
        [
         "11",
         "34.414304573282536",
         "-9.745196371828007"
        ],
        [
         "12",
         "17.0363054407915",
         "-14.950891573527208"
        ],
        [
         "13",
         "25.2214994830911",
         "-16.852823802387157"
        ],
        [
         "14",
         "29.12948710513055",
         "-18.177836326185492"
        ],
        [
         "15",
         "21.910507482635644",
         "-23.885228600066057"
        ],
        [
         "16",
         "13.400236346243405",
         "-24.44922390015908"
        ],
        [
         "17",
         "17.717733975048283",
         "-14.379096279003882"
        ],
        [
         "18",
         "34.03482073314508",
         "-4.536256351510101"
        ],
        [
         "19",
         "16.732945244239673",
         "-5.285014327259639"
        ],
        [
         "20",
         "4.651856972295851",
         "-15.889648217798882"
        ],
        [
         "21",
         "9.862741909139585",
         "-25.790436224922576"
        ],
        [
         "22",
         "2.920786957401546",
         "-2.8817519641945486"
        ],
        [
         "23",
         "-4.496021194839966",
         "-2.2896485569504703"
        ],
        [
         "24",
         "-4.0052962679549715",
         "-8.781920186000415"
        ],
        [
         "25",
         "13.106055802941702",
         "-6.816537535403053"
        ],
        [
         "26",
         "-4.0301821607259525",
         "-7.576145218605346"
        ],
        [
         "27",
         "12.091042808469105",
         "-24.75540325167516"
        ],
        [
         "28",
         "4.927412278888783",
         "-15.465285071219991"
        ],
        [
         "29",
         "5.363567043796961",
         "-14.964145523156859"
        ],
        [
         "30",
         "20.04273931668756",
         "-4.975139320252884"
        ],
        [
         "31",
         "4.249012954565078",
         "-12.11291467813072"
        ],
        [
         "32",
         "-0.8487340593239714",
         "-4.047693656697966"
        ],
        [
         "33",
         "-26.745910277226265",
         "17.62827535373687"
        ],
        [
         "34",
         "-51.93946338602632",
         "8.234241036261611"
        ],
        [
         "35",
         "-55.65170936506965",
         "9.932135432922902"
        ],
        [
         "36",
         "-58.46381966033376",
         "12.778274607085406"
        ],
        [
         "37",
         "-55.617341118281374",
         "9.99655518906243"
        ],
        [
         "38",
         "-69.77796742186298",
         "1.292614453717021"
        ],
        [
         "39",
         "-59.93312980686101",
         "-0.5664450001341667"
        ],
        [
         "40",
         "-25.730176783051107",
         "6.810957591156407"
        ],
        [
         "41",
         "-14.968806921825243",
         "-9.13184121083494"
        ],
        [
         "42",
         "-37.20862476715709",
         "-10.254534881628926"
        ],
        [
         "43",
         "-26.783429519872037",
         "-15.868331788046875"
        ],
        [
         "44",
         "-19.95387128795485",
         "-17.95941377535723"
        ],
        [
         "45",
         "-18.206345202443938",
         "-9.568725720345757"
        ],
        [
         "46",
         "-29.068225142981113",
         "-7.582870898954386"
        ],
        [
         "47",
         "-21.097282858102524",
         "-21.36533253489524"
        ],
        [
         "48",
         "-38.58723798915005",
         "-12.80504648883312"
        ],
        [
         "49",
         "-35.796402695711244",
         "-6.125102307293815"
        ]
       ],
       "shape": {
        "columns": 2,
        "rows": 64
       }
      },
      "text/html": [
       "<div>\n",
       "<style scoped>\n",
       "    .dataframe tbody tr th:only-of-type {\n",
       "        vertical-align: middle;\n",
       "    }\n",
       "\n",
       "    .dataframe tbody tr th {\n",
       "        vertical-align: top;\n",
       "    }\n",
       "\n",
       "    .dataframe thead th {\n",
       "        text-align: right;\n",
       "    }\n",
       "</style>\n",
       "<table border=\"1\" class=\"dataframe\">\n",
       "  <thead>\n",
       "    <tr style=\"text-align: right;\">\n",
       "      <th></th>\n",
       "      <th>0</th>\n",
       "      <th>1</th>\n",
       "    </tr>\n",
       "  </thead>\n",
       "  <tbody>\n",
       "    <tr>\n",
       "      <th>0</th>\n",
       "      <td>19.838032</td>\n",
       "      <td>-3.556131</td>\n",
       "    </tr>\n",
       "    <tr>\n",
       "      <th>1</th>\n",
       "      <td>23.089217</td>\n",
       "      <td>-6.441309</td>\n",
       "    </tr>\n",
       "    <tr>\n",
       "      <th>2</th>\n",
       "      <td>27.456107</td>\n",
       "      <td>-2.465335</td>\n",
       "    </tr>\n",
       "    <tr>\n",
       "      <th>3</th>\n",
       "      <td>42.816891</td>\n",
       "      <td>9.770332</td>\n",
       "    </tr>\n",
       "    <tr>\n",
       "      <th>4</th>\n",
       "      <td>55.418495</td>\n",
       "      <td>5.198344</td>\n",
       "    </tr>\n",
       "    <tr>\n",
       "      <th>...</th>\n",
       "      <td>...</td>\n",
       "      <td>...</td>\n",
       "    </tr>\n",
       "    <tr>\n",
       "      <th>59</th>\n",
       "      <td>17.996259</td>\n",
       "      <td>47.242927</td>\n",
       "    </tr>\n",
       "    <tr>\n",
       "      <th>60</th>\n",
       "      <td>4.415491</td>\n",
       "      <td>42.309182</td>\n",
       "    </tr>\n",
       "    <tr>\n",
       "      <th>61</th>\n",
       "      <td>22.966980</td>\n",
       "      <td>36.101936</td>\n",
       "    </tr>\n",
       "    <tr>\n",
       "      <th>62</th>\n",
       "      <td>19.175928</td>\n",
       "      <td>50.396686</td>\n",
       "    </tr>\n",
       "    <tr>\n",
       "      <th>63</th>\n",
       "      <td>13.232880</td>\n",
       "      <td>35.125287</td>\n",
       "    </tr>\n",
       "  </tbody>\n",
       "</table>\n",
       "<p>64 rows × 2 columns</p>\n",
       "</div>"
      ],
      "text/plain": [
       "            0          1\n",
       "0   19.838032  -3.556131\n",
       "1   23.089217  -6.441309\n",
       "2   27.456107  -2.465335\n",
       "3   42.816891   9.770332\n",
       "4   55.418495   5.198344\n",
       "..        ...        ...\n",
       "59  17.996259  47.242927\n",
       "60   4.415491  42.309182\n",
       "61  22.966980  36.101936\n",
       "62  19.175928  50.396686\n",
       "63  13.232880  35.125287\n",
       "\n",
       "[64 rows x 2 columns]"
      ]
     },
     "execution_count": 62,
     "metadata": {},
     "output_type": "execute_result"
    }
   ],
   "source": [
    "from sklearn.preprocessing import StandardScaler\n",
    "from sklearn.decomposition import PCA\n",
    "\n",
    "scaler = StandardScaler()\n",
    "\n",
    "nci_scale = scaler.fit_transform(nci_data)\n",
    "\n",
    "pca = PCA(n_components=2)\n",
    "\n",
    "nci_reduce = pca.fit_transform(nci_scale)\n",
    "pd.DataFrame(nci_reduce)"
   ]
  },
  {
   "cell_type": "code",
   "execution_count": null,
   "metadata": {},
   "outputs": [
    {
     "data": {
      "text/plain": [
       "<Axes: xlabel='X1', ylabel='X2'>"
      ]
     },
     "execution_count": 69,
     "metadata": {},
     "output_type": "execute_result"
    },
    {
     "data": {
      "image/png": "[encoded data removed]",
      "text/plain": [
       "<Figure size 640x480 with 1 Axes>"
      ]
     },
     "metadata": {},
     "output_type": "display_data"
    }
   ],
   "source": [
    "import seaborn as sns\n",
    "\n",
    "df = pd.DataFrame(nci_reduce, columns=['X1', 'X2'], index=)\n",
    "\n",
    "df.columns\n",
    "sns.scatterplot(x='X1', y='X2', data=df)"
   ]
  },
  {
   "cell_type": "markdown",
   "metadata": {},
   "source": [
    "<h1 style='font-weight:bold; color:orange'> 11 Neural Network </h1>"
   ]
  },
  {
   "cell_type": "markdown",
   "metadata": {},
   "source": [
    "<h2 style='font-weight:bold; color:skyblue'> 11.1 Classifier </h2>"
   ]
  },
  {
   "cell_type": "code",
   "execution_count": 37,
   "metadata": {},
   "outputs": [],
   "source": [
    "import pandas as pd\n",
    "\n",
    "from sklearn.model_selection import train_test_split\n",
    "from sklearn.preprocessing import StandardScaler, LabelEncoder\n",
    "from sklearn.neural_network import MLPClassifier\n",
    "from sklearn.metrics import confusion_matrix, classification_report, accuracy_score"
   ]
  },
  {
   "cell_type": "code",
   "execution_count": 38,
   "metadata": {},
   "outputs": [
    {
     "name": "stdout",
     "output_type": "stream",
     "text": [
      "<class 'pandas.core.frame.DataFrame'>\n",
      "RangeIndex: 150 entries, 0 to 149\n",
      "Data columns (total 5 columns):\n",
      " #   Column        Non-Null Count  Dtype  \n",
      "---  ------        --------------  -----  \n",
      " 0   sepal-length  150 non-null    float64\n",
      " 1   sepal-width   150 non-null    float64\n",
      " 2   petal-length  150 non-null    float64\n",
      " 3   petal-width   150 non-null    float64\n",
      " 4   Class         150 non-null    object \n",
      "dtypes: float64(4), object(1)\n",
      "memory usage: 6.0+ KB\n"
     ]
    }
   ],
   "source": [
    "# Location of dataset\n",
    "url = \"https://archive.ics.uci.edu/ml/machine-learning-databases/iris/iris.data\"\n",
    "\n",
    "# Assign colum names to the dataset\n",
    "names = ['sepal-length', 'sepal-width', 'petal-length', 'petal-width', 'Class']\n",
    "\n",
    "# Read dataset to pandas dataframe\n",
    "irisdata = pd.read_csv(url, names=names)  \n",
    "\n",
    "irisdata.info()  \n"
   ]
  },
  {
   "cell_type": "code",
   "execution_count": 39,
   "metadata": {},
   "outputs": [
    {
     "name": "stdout",
     "output_type": "stream",
     "text": [
      "Accuracy Score: 98.33%\n",
      "==========\n",
      "              precision    recall  f1-score   support\n",
      "\n",
      "           0       1.00      1.00      1.00        40\n",
      "           1       0.98      0.98      0.98        41\n",
      "           2       0.97      0.97      0.97        39\n",
      "\n",
      "    accuracy                           0.98       120\n",
      "   macro avg       0.98      0.98      0.98       120\n",
      "weighted avg       0.98      0.98      0.98       120\n",
      "\n",
      "==========\n",
      "    0   1   2\n",
      "0  40   0   0\n",
      "1   0  40   1\n",
      "2   0   1  38\n"
     ]
    }
   ],
   "source": [
    "y = irisdata['Class']\n",
    "x = irisdata.drop('Class', axis=1)\n",
    "\n",
    "le = LabelEncoder()\n",
    "\n",
    "y = le.fit_transform(y)\n",
    "\n",
    "x_train, x_test, y_train, y_test = train_test_split(x, y, test_size=0.2, random_state=42)\n",
    "\n",
    "scale = StandardScaler()\n",
    "x_train = scale.fit_transform(x_train)\n",
    "x_test = scale.transform(x_test)\n",
    "\n",
    "mlp = MLPClassifier(hidden_layer_sizes=(10, 10, 10), # 3 hidden layer of 10 nodes each\n",
    "                    max_iter=1000, \n",
    "                    random_state=42)\n",
    "\n",
    "mlp.fit(x_train, y_train)\n",
    "\n",
    "print(f'Accuracy Score: {(accuracy_score(y_train, mlp.predict(x_train)) * 100):.2f}%')\n",
    "\n",
    "print('==========')\n",
    "\n",
    "print(classification_report(y_train, mlp.predict(x_train)))\n",
    "\n",
    "print('==========')\n",
    "\n",
    "print(pd.DataFrame(confusion_matrix(y_train, mlp.predict(x_train))))"
   ]
  },
  {
   "cell_type": "markdown",
   "metadata": {},
   "source": [
    "<h2 style='font-weight:bold; color:skyblue'> 11.2 Regressor </h2>"
   ]
  },
  {
   "cell_type": "code",
   "execution_count": 20,
   "metadata": {},
   "outputs": [],
   "source": [
    "import numpy as np\n",
    "import pandas as pd\n",
    "import matplotlib.pyplot as plt\n",
    "\n",
    "from sklearn.model_selection import train_test_split\n",
    "from sklearn.preprocessing import StandardScaler\n",
    "from sklearn.neural_network import MLPRegressor\n",
    "from sklearn.metrics import mean_squared_error, r2_score"
   ]
  },
  {
   "cell_type": "code",
   "execution_count": 8,
   "metadata": {},
   "outputs": [],
   "source": [
    "def make_data():\n",
    "    N = 2000\n",
    "    X = 0.5*np.random.normal(size=N)+0.35\n",
    "\n",
    "    Xt = 0.75*X-0.35\n",
    "    X = X.reshape((N,1))\n",
    "\n",
    "    Y = -(8 * Xt**2 + 0.1*Xt + 0.1) + 0.05 * np.random.normal(size=N)\n",
    "    Y = np.exp(Y) + 0.05 * np.random.normal(size=N)\n",
    "    Y /= max(np.abs(Y))\n",
    "    return X, Y\n",
    "\n",
    "np.random.seed(0)\n",
    "x, y = make_data()\n",
    "\n",
    "x = pd.DataFrame(x)\n",
    "y = pd.DataFrame(y)"
   ]
  },
  {
   "cell_type": "code",
   "execution_count": 36,
   "metadata": {},
   "outputs": [
    {
     "name": "stdout",
     "output_type": "stream",
     "text": [
      "MSE: 0.0027\n",
      "R2 Score: 96.90%\n"
     ]
    },
    {
     "name": "stderr",
     "output_type": "stream",
     "text": [
      "c:\\Users\\user\\AppData\\Local\\Programs\\Python\\Python310\\lib\\site-packages\\sklearn\\neural_network\\_multilayer_perceptron.py:1770: DataConversionWarning: A column-vector y was passed when a 1d array was expected. Please change the shape of y to (n_samples, ), for example using ravel().\n",
      "  y = column_or_1d(y, warn=True)\n"
     ]
    },
    {
     "data": {
      "image/png": "[encoded data removed]",
      "text/plain": [
       "<Figure size 640x480 with 1 Axes>"
      ]
     },
     "metadata": {},
     "output_type": "display_data"
    }
   ],
   "source": [
    "x_train, x_test, y_train, y_test = train_test_split(x, y, test_size=0.2, random_state=42)\n",
    "\n",
    "scaler = StandardScaler()\n",
    "\n",
    "x_train_scale = scaler.fit_transform(x_train)\n",
    "x_test_scale = scaler.transform(x_test)\n",
    "\n",
    "mlpreg = MLPRegressor(hidden_layer_sizes=(30,30,30), random_state=42)\n",
    "\n",
    "mlpreg.fit(x_train_scale, y_train)\n",
    "\n",
    "y_pred = mlpreg.predict(x_test_scale)\n",
    "\n",
    "plt.plot(x_test, y_test, '.')\n",
    "plt.plot(x_test, y_pred, 'r.')\n",
    "\n",
    "print(f'MSE: {mean_squared_error(y_test, y_pred):.4f}')\n",
    "print(f'R2 Score: {(r2_score(y_test, y_pred) * 100):.2f}%')"
   ]
  },
  {
   "cell_type": "markdown",
   "metadata": {},
   "source": [
    "<h1 style='font-weight:bold; color:orange'> 12 Deep Learning </h1>"
   ]
  },
  {
   "cell_type": "code",
   "execution_count": null,
   "metadata": {},
   "outputs": [],
   "source": [
    "MLPRegressor(activation='')"
   ]
  },
  {
   "cell_type": "markdown",
   "metadata": {},
   "source": [
    "<h1 style='font-weight:bold; color:orange'> Test </h1>"
   ]
  },
  {
   "cell_type": "code",
   "execution_count": null,
   "metadata": {},
   "outputs": [],
   "source": [
    "import pandas as pd\n",
    "from sklearn.model_selection import train_test_split\n",
    "from sklearn.linear_model import LinearRegression, Ridge, Lasso\n",
    "from sklearn.metrics import mean_squared_error\n",
    "from sklearn.feature_selection import SequentialFeatureSelector\n",
    "from sklearn.preprocessing import StandardScaler"
   ]
  },
  {
   "cell_type": "code",
   "execution_count": null,
   "metadata": {},
   "outputs": [
    {
     "data": {
      "application/vnd.microsoft.datawrangler.viewer.v0+json": {
       "columns": [
        {
         "name": "index",
         "rawType": "int64",
         "type": "integer"
        },
        {
         "name": "No",
         "rawType": "int64",
         "type": "integer"
        },
        {
         "name": "Cement",
         "rawType": "float64",
         "type": "float"
        },
        {
         "name": "Slag",
         "rawType": "float64",
         "type": "float"
        },
        {
         "name": "Fly ash",
         "rawType": "float64",
         "type": "float"
        },
        {
         "name": "Water",
         "rawType": "float64",
         "type": "float"
        },
        {
         "name": "SP",
         "rawType": "float64",
         "type": "float"
        },
        {
         "name": "Coarse Aggr.",
         "rawType": "float64",
         "type": "float"
        },
        {
         "name": "Fine Aggr.",
         "rawType": "float64",
         "type": "float"
        },
        {
         "name": "SLUMP(cm)",
         "rawType": "float64",
         "type": "float"
        },
        {
         "name": "FLOW(cm)",
         "rawType": "float64",
         "type": "float"
        },
        {
         "name": "Compressive Strength (28-day)(Mpa)",
         "rawType": "float64",
         "type": "float"
        }
       ],
       "ref": "63356fdf-6e66-4b96-8319-1b038e3a7209",
       "rows": [
        [
         "0",
         "1",
         "273.0",
         "82.0",
         "105.0",
         "210.0",
         "9.0",
         "904.0",
         "680.0",
         "23.0",
         "62.0",
         "34.99"
        ],
        [
         "1",
         "2",
         "163.0",
         "149.0",
         "191.0",
         "180.0",
         "12.0",
         "843.0",
         "746.0",
         "0.0",
         "20.0",
         "41.14"
        ],
        [
         "2",
         "3",
         "162.0",
         "148.0",
         "191.0",
         "179.0",
         "16.0",
         "840.0",
         "743.0",
         "1.0",
         "20.0",
         "41.81"
        ],
        [
         "3",
         "4",
         "162.0",
         "148.0",
         "190.0",
         "179.0",
         "19.0",
         "838.0",
         "741.0",
         "3.0",
         "21.5",
         "42.08"
        ],
        [
         "4",
         "5",
         "154.0",
         "112.0",
         "144.0",
         "220.0",
         "10.0",
         "923.0",
         "658.0",
         "20.0",
         "64.0",
         "26.82"
        ]
       ],
       "shape": {
        "columns": 11,
        "rows": 5
       }
      },
      "text/html": [
       "<div>\n",
       "<style scoped>\n",
       "    .dataframe tbody tr th:only-of-type {\n",
       "        vertical-align: middle;\n",
       "    }\n",
       "\n",
       "    .dataframe tbody tr th {\n",
       "        vertical-align: top;\n",
       "    }\n",
       "\n",
       "    .dataframe thead th {\n",
       "        text-align: right;\n",
       "    }\n",
       "</style>\n",
       "<table border=\"1\" class=\"dataframe\">\n",
       "  <thead>\n",
       "    <tr style=\"text-align: right;\">\n",
       "      <th></th>\n",
       "      <th>No</th>\n",
       "      <th>Cement</th>\n",
       "      <th>Slag</th>\n",
       "      <th>Fly ash</th>\n",
       "      <th>Water</th>\n",
       "      <th>SP</th>\n",
       "      <th>Coarse Aggr.</th>\n",
       "      <th>Fine Aggr.</th>\n",
       "      <th>SLUMP(cm)</th>\n",
       "      <th>FLOW(cm)</th>\n",
       "      <th>Compressive Strength (28-day)(Mpa)</th>\n",
       "    </tr>\n",
       "  </thead>\n",
       "  <tbody>\n",
       "    <tr>\n",
       "      <th>0</th>\n",
       "      <td>1</td>\n",
       "      <td>273.0</td>\n",
       "      <td>82.0</td>\n",
       "      <td>105.0</td>\n",
       "      <td>210.0</td>\n",
       "      <td>9.0</td>\n",
       "      <td>904.0</td>\n",
       "      <td>680.0</td>\n",
       "      <td>23.0</td>\n",
       "      <td>62.0</td>\n",
       "      <td>34.99</td>\n",
       "    </tr>\n",
       "    <tr>\n",
       "      <th>1</th>\n",
       "      <td>2</td>\n",
       "      <td>163.0</td>\n",
       "      <td>149.0</td>\n",
       "      <td>191.0</td>\n",
       "      <td>180.0</td>\n",
       "      <td>12.0</td>\n",
       "      <td>843.0</td>\n",
       "      <td>746.0</td>\n",
       "      <td>0.0</td>\n",
       "      <td>20.0</td>\n",
       "      <td>41.14</td>\n",
       "    </tr>\n",
       "    <tr>\n",
       "      <th>2</th>\n",
       "      <td>3</td>\n",
       "      <td>162.0</td>\n",
       "      <td>148.0</td>\n",
       "      <td>191.0</td>\n",
       "      <td>179.0</td>\n",
       "      <td>16.0</td>\n",
       "      <td>840.0</td>\n",
       "      <td>743.0</td>\n",
       "      <td>1.0</td>\n",
       "      <td>20.0</td>\n",
       "      <td>41.81</td>\n",
       "    </tr>\n",
       "    <tr>\n",
       "      <th>3</th>\n",
       "      <td>4</td>\n",
       "      <td>162.0</td>\n",
       "      <td>148.0</td>\n",
       "      <td>190.0</td>\n",
       "      <td>179.0</td>\n",
       "      <td>19.0</td>\n",
       "      <td>838.0</td>\n",
       "      <td>741.0</td>\n",
       "      <td>3.0</td>\n",
       "      <td>21.5</td>\n",
       "      <td>42.08</td>\n",
       "    </tr>\n",
       "    <tr>\n",
       "      <th>4</th>\n",
       "      <td>5</td>\n",
       "      <td>154.0</td>\n",
       "      <td>112.0</td>\n",
       "      <td>144.0</td>\n",
       "      <td>220.0</td>\n",
       "      <td>10.0</td>\n",
       "      <td>923.0</td>\n",
       "      <td>658.0</td>\n",
       "      <td>20.0</td>\n",
       "      <td>64.0</td>\n",
       "      <td>26.82</td>\n",
       "    </tr>\n",
       "  </tbody>\n",
       "</table>\n",
       "</div>"
      ],
      "text/plain": [
       "   No  Cement   Slag  Fly ash  Water    SP  Coarse Aggr.  Fine Aggr.  \\\n",
       "0   1   273.0   82.0    105.0  210.0   9.0         904.0       680.0   \n",
       "1   2   163.0  149.0    191.0  180.0  12.0         843.0       746.0   \n",
       "2   3   162.0  148.0    191.0  179.0  16.0         840.0       743.0   \n",
       "3   4   162.0  148.0    190.0  179.0  19.0         838.0       741.0   \n",
       "4   5   154.0  112.0    144.0  220.0  10.0         923.0       658.0   \n",
       "\n",
       "   SLUMP(cm)  FLOW(cm)  Compressive Strength (28-day)(Mpa)  \n",
       "0       23.0      62.0                               34.99  \n",
       "1        0.0      20.0                               41.14  \n",
       "2        1.0      20.0                               41.81  \n",
       "3        3.0      21.5                               42.08  \n",
       "4       20.0      64.0                               26.82  "
      ]
     },
     "execution_count": 96,
     "metadata": {},
     "output_type": "execute_result"
    }
   ],
   "source": [
    "df = pd.read_table('Test/question_2.txt', sep=',')\n",
    "df.head()"
   ]
  },
  {
   "cell_type": "code",
   "execution_count": null,
   "metadata": {},
   "outputs": [],
   "source": [
    "# define response (Y) and predictor (X) variables\n",
    "y = df['Compressive Strength (28-day)(Mpa)']\n",
    "x = df.drop(['Compressive Strength (28-day)(Mpa)', 'SLUMP(cm)', 'FLOW(cm)', 'No'], axis = 1)"
   ]
  },
  {
   "cell_type": "code",
   "execution_count": null,
   "metadata": {},
   "outputs": [
    {
     "name": "stdout",
     "output_type": "stream",
     "text": [
      "       Variable  Coefficient\n",
      "0        Cement     4.898330\n",
      "1          Slag    -1.755212\n",
      "2       Fly ash     4.658713\n",
      "3         Water    -4.545214\n",
      "4            SP     0.423314\n",
      "5  Coarse Aggr.    -4.638413\n",
      "6    Fine Aggr.    -2.257704\n",
      "Intercept: 35.82\n"
     ]
    }
   ],
   "source": [
    "x_train, x_test, y_train, y_test = train_test_split(x, y, test_size=0.2, random_state=42)\n",
    "\n",
    "scaler = StandardScaler()\n",
    "x_train = scaler.fit_transform(x_train)\n",
    "x_test = scaler.transform(x_test)\n",
    "lr = LinearRegression()\n",
    "\n",
    "model = lr.fit(x_train, y_train)\n",
    "\n",
    "var = x.columns.tolist()\n",
    "\n",
    "print(pd.DataFrame({'Variable': var, 'Coefficient': model.coef_}))\n",
    "print(f'Intercept: {model.intercept_:.2f}')\n"
   ]
  },
  {
   "cell_type": "code",
   "execution_count": null,
   "metadata": {},
   "outputs": [
    {
     "name": "stdout",
     "output_type": "stream",
     "text": [
      "MSE: 6.90\n"
     ]
    }
   ],
   "source": [
    "mse = mean_squared_error(y_train, model.predict(x_train))\n",
    "\n",
    "print(f'MSE: {mse:.2f}')"
   ]
  },
  {
   "cell_type": "code",
   "execution_count": null,
   "metadata": {},
   "outputs": [
    {
     "name": "stdout",
     "output_type": "stream",
     "text": [
      "\u001b[31mInit signature:\u001b[39m\n",
      "SequentialFeatureSelector(\n",
      "    estimator,\n",
      "    *,\n",
      "    n_features_to_select=\u001b[33m'auto'\u001b[39m,\n",
      "    tol=\u001b[38;5;28;01mNone\u001b[39;00m,\n",
      "    direction=\u001b[33m'forward'\u001b[39m,\n",
      "    scoring=\u001b[38;5;28;01mNone\u001b[39;00m,\n",
      "    cv=\u001b[32m5\u001b[39m,\n",
      "    n_jobs=\u001b[38;5;28;01mNone\u001b[39;00m,\n",
      ")\n",
      "\u001b[31mDocstring:\u001b[39m     \n",
      "Transformer that performs Sequential Feature Selection.\n",
      "\n",
      "This Sequential Feature Selector adds (forward selection) or\n",
      "removes (backward selection) features to form a feature subset in a\n",
      "greedy fashion. At each stage, this estimator chooses the best feature to\n",
      "add or remove based on the cross-validation score of an estimator. In\n",
      "the case of unsupervised learning, this Sequential Feature Selector\n",
      "looks only at the features (X), not the desired outputs (y).\n",
      "\n",
      "Read more in the :ref:`User Guide <sequential_feature_selection>`.\n",
      "\n",
      ".. versionadded:: 0.24\n",
      "\n",
      "Parameters\n",
      "----------\n",
      "estimator : estimator instance\n",
      "    An unfitted estimator.\n",
      "\n",
      "n_features_to_select : \"auto\", int or float, default=\"auto\"\n",
      "    If `\"auto\"`, the behaviour depends on the `tol` parameter:\n",
      "\n",
      "    - if `tol` is not `None`, then features are selected while the score\n",
      "      change does not exceed `tol`.\n",
      "    - otherwise, half of the features are selected.\n",
      "\n",
      "    If integer, the parameter is the absolute number of features to select.\n",
      "    If float between 0 and 1, it is the fraction of features to select.\n",
      "\n",
      "    .. versionadded:: 1.1\n",
      "       The option `\"auto\"` was added in version 1.1.\n",
      "\n",
      "    .. versionchanged:: 1.3\n",
      "       The default changed from `\"warn\"` to `\"auto\"` in 1.3.\n",
      "\n",
      "tol : float, default=None\n",
      "    If the score is not incremented by at least `tol` between two\n",
      "    consecutive feature additions or removals, stop adding or removing.\n",
      "\n",
      "    `tol` can be negative when removing features using `direction=\"backward\"`.\n",
      "    `tol` is required to be strictly positive when doing forward selection.\n",
      "    It can be useful to reduce the number of features at the cost of a small\n",
      "    decrease in the score.\n",
      "\n",
      "    `tol` is enabled only when `n_features_to_select` is `\"auto\"`.\n",
      "\n",
      "    .. versionadded:: 1.1\n",
      "\n",
      "direction : {'forward', 'backward'}, default='forward'\n",
      "    Whether to perform forward selection or backward selection.\n",
      "\n",
      "scoring : str or callable, default=None\n",
      "    A single str (see :ref:`scoring_parameter`) or a callable\n",
      "    (see :ref:`scoring_callable`) to evaluate the predictions on the test set.\n",
      "\n",
      "    NOTE that when using a custom scorer, it should return a single\n",
      "    value.\n",
      "\n",
      "    If None, the estimator's score method is used.\n",
      "\n",
      "cv : int, cross-validation generator or an iterable, default=None\n",
      "    Determines the cross-validation splitting strategy.\n",
      "    Possible inputs for cv are:\n",
      "\n",
      "    - None, to use the default 5-fold cross validation,\n",
      "    - integer, to specify the number of folds in a `(Stratified)KFold`,\n",
      "    - :term:`CV splitter`,\n",
      "    - An iterable yielding (train, test) splits as arrays of indices.\n",
      "\n",
      "    For integer/None inputs, if the estimator is a classifier and ``y`` is\n",
      "    either binary or multiclass,\n",
      "    :class:`~sklearn.model_selection.StratifiedKFold` is used. In all other\n",
      "    cases, :class:`~sklearn.model_selection.KFold` is used. These splitters\n",
      "    are instantiated with `shuffle=False` so the splits will be the same\n",
      "    across calls.\n",
      "\n",
      "    Refer :ref:`User Guide <cross_validation>` for the various\n",
      "    cross-validation strategies that can be used here.\n",
      "\n",
      "n_jobs : int, default=None\n",
      "    Number of jobs to run in parallel. When evaluating a new feature to\n",
      "    add or remove, the cross-validation procedure is parallel over the\n",
      "    folds.\n",
      "    ``None`` means 1 unless in a :obj:`joblib.parallel_backend` context.\n",
      "    ``-1`` means using all processors. See :term:`Glossary <n_jobs>`\n",
      "    for more details.\n",
      "\n",
      "Attributes\n",
      "----------\n",
      "n_features_in_ : int\n",
      "    Number of features seen during :term:`fit`. Only defined if the\n",
      "    underlying estimator exposes such an attribute when fit.\n",
      "\n",
      "    .. versionadded:: 0.24\n",
      "\n",
      "feature_names_in_ : ndarray of shape (`n_features_in_`,)\n",
      "    Names of features seen during :term:`fit`. Defined only when `X`\n",
      "    has feature names that are all strings.\n",
      "\n",
      "    .. versionadded:: 1.0\n",
      "\n",
      "n_features_to_select_ : int\n",
      "    The number of features that were selected.\n",
      "\n",
      "support_ : ndarray of shape (n_features,), dtype=bool\n",
      "    The mask of selected features.\n",
      "\n",
      "See Also\n",
      "--------\n",
      "GenericUnivariateSelect : Univariate feature selector with configurable\n",
      "    strategy.\n",
      "RFE : Recursive feature elimination based on importance weights.\n",
      "RFECV : Recursive feature elimination based on importance weights, with\n",
      "    automatic selection of the number of features.\n",
      "SelectFromModel : Feature selection based on thresholds of importance\n",
      "    weights.\n",
      "\n",
      "Examples\n",
      "--------\n",
      ">>> from sklearn.feature_selection import SequentialFeatureSelector\n",
      ">>> from sklearn.neighbors import KNeighborsClassifier\n",
      ">>> from sklearn.datasets import load_iris\n",
      ">>> X, y = load_iris(return_X_y=True)\n",
      ">>> knn = KNeighborsClassifier(n_neighbors=3)\n",
      ">>> sfs = SequentialFeatureSelector(knn, n_features_to_select=3)\n",
      ">>> sfs.fit(X, y)\n",
      "SequentialFeatureSelector(estimator=KNeighborsClassifier(n_neighbors=3),\n",
      "                          n_features_to_select=3)\n",
      ">>> sfs.get_support()\n",
      "array([ True, False,  True,  True])\n",
      ">>> sfs.transform(X).shape\n",
      "(150, 3)\n",
      "\u001b[31mFile:\u001b[39m           c:\\users\\user\\appdata\\local\\programs\\python\\python313\\lib\\site-packages\\sklearn\\feature_selection\\_sequential.py\n",
      "\u001b[31mType:\u001b[39m           ABCMeta\n",
      "\u001b[31mSubclasses:\u001b[39m     "
     ]
    }
   ],
   "source": [
    "?SequentialFeatureSelector"
   ]
  },
  {
   "cell_type": "markdown",
   "metadata": {},
   "source": [
    "<span style='font-weight:bold'> Forward Selection </span>"
   ]
  },
  {
   "cell_type": "code",
   "execution_count": null,
   "metadata": {},
   "outputs": [
    {
     "name": "stdout",
     "output_type": "stream",
     "text": [
      "['x0' 'x2' 'x3']\n"
     ]
    }
   ],
   "source": [
    "sfs = SequentialFeatureSelector(lr,\n",
    "                                direction='forward',\n",
    "                                scoring='neg_mean_squared_error')\n",
    "\n",
    "sfs.fit(x_train, y_train)\n",
    "\n",
    "selected_features = sfs.get_feature_names_out()\n",
    "print(selected_features)"
   ]
  },
  {
   "cell_type": "markdown",
   "metadata": {},
   "source": [
    "<span style='font-weight:bold'> Backward Elimination </span>"
   ]
  },
  {
   "cell_type": "code",
   "execution_count": null,
   "metadata": {},
   "outputs": [],
   "source": [
    "?SequentialFeatureSelector"
   ]
  },
  {
   "cell_type": "code",
   "execution_count": null,
   "metadata": {},
   "outputs": [
    {
     "name": "stdout",
     "output_type": "stream",
     "text": [
      "['x0' 'x2' 'x3' 'x5']\n"
     ]
    }
   ],
   "source": [
    "sfs = SequentialFeatureSelector(lr,\n",
    "                                direction='backward',\n",
    "                                scoring='neg_mean_squared_error',)\n",
    "sfs.fit(x_train, y_train)\n",
    "selected_features = sfs.get_feature_names_out()\n",
    "print(selected_features)"
   ]
  },
  {
   "cell_type": "code",
   "execution_count": null,
   "metadata": {},
   "outputs": [
    {
     "name": "stdout",
     "output_type": "stream",
     "text": [
      "Best Model MSE: 7.53\n"
     ]
    }
   ],
   "source": [
    "best_model = LinearRegression()\n",
    "best_model.fit(x_train[selected_features], y_train)\n",
    "\n",
    "x_pred_best = best_model.predict(x_test[selected_features])\n",
    "mse_best = mean_squared_error(y_test, x_pred_best)\n",
    "print(f'Best Model MSE: {mse_best:.2f}')"
   ]
  },
  {
   "cell_type": "code",
   "execution_count": null,
   "metadata": {},
   "outputs": [
    {
     "name": "stdout",
     "output_type": "stream",
     "text": [
      "Ridge Model MSE: 4.13\n",
      "Ridge Coefficients:           0\n",
      "0  5.200274\n",
      "1 -1.297764\n",
      "2  5.028981\n",
      "3 -4.088444\n",
      "4  0.484226\n",
      "5 -3.959651\n",
      "6 -1.792877\n"
     ]
    }
   ],
   "source": [
    "ridge = Ridge()\n",
    "\n",
    "model_ridge = ridge.fit(x_train, y_train)\n",
    "y_pred_ridge = model_ridge.predict(x_test)\n",
    "mse_ridge = mean_squared_error(y_test, y_pred_ridge)\n",
    "print(f'Ridge Model MSE: {mse_ridge:.2f}')\n",
    "print(f'Ridge Coefficients: {pd.DataFrame(model_ridge.coef_)}')"
   ]
  },
  {
   "cell_type": "code",
   "execution_count": null,
   "metadata": {},
   "outputs": [
    {
     "name": "stdout",
     "output_type": "stream",
     "text": [
      "Lasso Model MSE: 12.55\n",
      "Lasso Coefficients:           0\n",
      "0  4.536146\n",
      "1  0.000000\n",
      "2  4.648158\n",
      "3 -1.174593\n",
      "4  0.000000\n",
      "5 -0.321955\n",
      "6 -0.000000\n"
     ]
    }
   ],
   "source": [
    "lasso = Lasso()\n",
    "model_lasso = lasso.fit(x_train, y_train)\n",
    "y_pred_lasso = model_lasso.predict(x_test)\n",
    "mse_lasso = mean_squared_error(y_test, y_pred_lasso)\n",
    "print(f'Lasso Model MSE: {mse_lasso:.2f}')\n",
    "\n",
    "\n",
    "print(f'Lasso Coefficients: {pd.DataFrame(model_lasso.coef_)}')\n"
   ]
  },
  {
   "cell_type": "markdown",
   "metadata": {},
   "source": []
  },
  {
   "cell_type": "markdown",
   "metadata": {},
   "source": [
    "<span style='font-weight:bold'> Tree Based Method </span>"
   ]
  },
  {
   "cell_type": "code",
   "execution_count": 150,
   "metadata": {},
   "outputs": [],
   "source": [
    "from sklearn.tree import DecisionTreeRegressor\n",
    "from sklearn.ensemble import RandomForestRegressor"
   ]
  },
  {
   "cell_type": "code",
   "execution_count": 126,
   "metadata": {},
   "outputs": [
    {
     "name": "stdout",
     "output_type": "stream",
     "text": [
      "<class 'pandas.core.frame.DataFrame'>\n",
      "RangeIndex: 506 entries, 0 to 505\n",
      "Data columns (total 14 columns):\n",
      " #   Column   Non-Null Count  Dtype  \n",
      "---  ------   --------------  -----  \n",
      " 0   crim     506 non-null    float64\n",
      " 1   zn       506 non-null    float64\n",
      " 2   indus    506 non-null    float64\n",
      " 3   chas     506 non-null    int64  \n",
      " 4   nox      506 non-null    float64\n",
      " 5   rm       506 non-null    float64\n",
      " 6   age      506 non-null    float64\n",
      " 7   dis      506 non-null    float64\n",
      " 8   rad      506 non-null    int64  \n",
      " 9   tax      506 non-null    int64  \n",
      " 10  ptratio  506 non-null    float64\n",
      " 11  black    506 non-null    float64\n",
      " 12  lstat    506 non-null    float64\n",
      " 13  medv     506 non-null    float64\n",
      "dtypes: float64(11), int64(3)\n",
      "memory usage: 55.5 KB\n"
     ]
    }
   ],
   "source": [
    "boston = pd.read_csv('data/boston.csv')\n",
    "boston.info()"
   ]
  },
  {
   "cell_type": "code",
   "execution_count": 148,
   "metadata": {},
   "outputs": [],
   "source": [
    "y = boston['medv']\n",
    "x = boston.drop('medv', axis=1)\n",
    "\n",
    "x_train, x_test, y_train, y_test = train_test_split(x, y, \n",
    "                                                    test_size=0.2,\n",
    "                                                    random_state=42)\n",
    "\n",
    "scale = StandardScaler()\n",
    "\n",
    "x_train_scale = scale.fit_transform(x_train)\n",
    "x_test_scale = scale.fit_transform(x_test)"
   ]
  },
  {
   "cell_type": "code",
   "execution_count": 149,
   "metadata": {},
   "outputs": [
    {
     "name": "stdout",
     "output_type": "stream",
     "text": [
      "MSE: 564.4473514851481\n"
     ]
    }
   ],
   "source": [
    "x_train_scale = pd.DataFrame(x_train_scale, columns=x.columns)\n",
    "\n",
    "dtr = DecisionTreeRegressor(max_depth=2, random_state=42)\n",
    "dtr.fit(x_train_scale, y_train)\n",
    "\n",
    "print(f'MSE: {mean_squared_error(y_train, dtr.predict(x_train))}')"
   ]
  },
  {
   "cell_type": "code",
   "execution_count": 155,
   "metadata": {},
   "outputs": [
    {
     "name": "stdout",
     "output_type": "stream",
     "text": [
      "MSE: 1.9783925024752465\n"
     ]
    }
   ],
   "source": [
    "# bagging since m = p = 13\n",
    "bag = RandomForestRegressor(max_features=13, random_state=42)\n",
    "bag.fit(x_train, y_train)\n",
    "\n",
    "print(f'MSE: {mean_squared_error(y_train, bag.predict(x_train))}')"
   ]
  },
  {
   "cell_type": "code",
   "execution_count": null,
   "metadata": {},
   "outputs": [
    {
     "name": "stdout",
     "output_type": "stream",
     "text": [
      "MSE: 80.29666808663366\n"
     ]
    }
   ],
   "source": [
    "# Random Forest since m (4) < p (13)\n",
    "rfr = RandomForestRegressor(max_features=4, random_state=42)\n",
    "rfr.fit(x_train_scale, y_train)\n",
    "\n",
    "print(f'MSE: {mean_squared_error(y_train, rfr.predict(x_train))}')"
   ]
  },
  {
   "cell_type": "code",
   "execution_count": null,
   "metadata": {},
   "outputs": [
    {
     "name": "stdout",
     "output_type": "stream",
     "text": [
      "MSE: 1.6231598332847361\n"
     ]
    }
   ],
   "source": [
    "boost = GradientBoostingRegressor(n_estimators=500, # number of trees\n",
    "                                  learning_rate=0.01, # \n",
    "                                  max_depth=4, # depth of each tree\n",
    "                                  random_state=42)\n",
    "\n",
    "boost.fit(x_train, y_train)\n",
    "\n",
    "print(f'MSE: {mean_squared_error(y_train, boost.predict(x_train))}')"
   ]
  },
  {
   "cell_type": "code",
   "execution_count": 164,
   "metadata": {},
   "outputs": [
    {
     "name": "stdout",
     "output_type": "stream",
     "text": [
      "   Variable  Importance (%)\n",
      "0      crim            7.24\n",
      "1        zn            0.39\n",
      "2     indus            7.48\n",
      "3      chas            0.87\n",
      "4       nox            5.36\n",
      "5        rm           32.12\n",
      "6       age            2.23\n",
      "7       dis            6.70\n",
      "8       rad            1.05\n",
      "9       tax            2.59\n",
      "10  ptratio            5.33\n",
      "11    black            2.11\n",
      "12    lstat           26.53\n"
     ]
    }
   ],
   "source": [
    "importance = (rfr.feature_importances_ * 100).round(2)\n",
    "\n",
    "imp = pd.DataFrame({'Variable':x.columns, \n",
    "                    'Importance (%)':importance})\n",
    "\n",
    "print(imp)"
   ]
  },
  {
   "cell_type": "code",
   "execution_count": 162,
   "metadata": {},
   "outputs": [
    {
     "data": {
      "text/plain": [
       "100.0"
      ]
     },
     "execution_count": 162,
     "metadata": {},
     "output_type": "execute_result"
    }
   ],
   "source": [
    "np.sum(rfr.feature_importances_) * 100"
   ]
  },
  {
   "cell_type": "code",
   "execution_count": 168,
   "metadata": {},
   "outputs": [
    {
     "data": {
      "text/plain": [
       "<Axes: xlabel='Variable', ylabel='Importance (%)'>"
      ]
     },
     "execution_count": 168,
     "metadata": {},
     "output_type": "execute_result"
    },
    {
     "data": {
      "image/png": "[encoded data removed]",
      "text/plain": [
       "<Figure size 640x480 with 1 Axes>"
      ]
     },
     "metadata": {},
     "output_type": "display_data"
    }
   ],
   "source": [
    "imp = imp.sort_values(by='Importance (%)', ascending=False)\n",
    "sns.barplot(x='Variable', y='Importance (%)', data = imp)"
   ]
  },
  {
   "cell_type": "code",
   "execution_count": null,
   "metadata": {},
   "outputs": [],
   "source": []
  },
  {
   "cell_type": "code",
   "execution_count": null,
   "metadata": {},
   "outputs": [],
   "source": []
  },
  {
   "cell_type": "code",
   "execution_count": null,
   "metadata": {},
   "outputs": [],
   "source": []
  },
  {
   "cell_type": "code",
   "execution_count": 1,
   "metadata": {},
   "outputs": [
    {
     "name": "stdout",
     "output_type": "stream",
     "text": [
      "Original DataFrame:\n",
      "   A       B   C\n",
      "0  1   apple  10\n",
      "1  2  banana  20\n",
      "2  2  banana  20\n",
      "3  3  orange  30\n",
      "4  4   grape  40\n",
      "5  4   grape  40\n",
      "6  5    kiwi  50\n",
      "\n",
      "DataFrame after dropping duplicates (all columns, keeping first):\n",
      "   A       B   C\n",
      "0  1   apple  10\n",
      "1  2  banana  20\n",
      "3  3  orange  30\n",
      "4  4   grape  40\n",
      "6  5    kiwi  50\n"
     ]
    }
   ],
   "source": [
    "import pandas as pd\n",
    "\n",
    "# Create a sample DataFrame\n",
    "data = {\n",
    "    'A': [1, 2, 2, 3, 4, 4, 5],\n",
    "    'B': ['apple', 'banana', 'banana', 'orange', 'grape', 'grape', 'kiwi'],\n",
    "    'C': [10, 20, 20, 30, 40, 40, 50]\n",
    "}\n",
    "df = pd.DataFrame(data)\n",
    "print(\"Original DataFrame:\")\n",
    "print(df)\n",
    "\n",
    "# Drop duplicate rows based on all columns\n",
    "df_no_duplicates = df.drop_duplicates()\n",
    "print(\"\\nDataFrame after dropping duplicates (all columns, keeping first):\")\n",
    "print(df_no_duplicates)"
   ]
  },
  {
   "cell_type": "code",
   "execution_count": null,
   "metadata": {},
   "outputs": [],
   "source": []
  },
  {
   "cell_type": "code",
   "execution_count": null,
   "metadata": {},
   "outputs": [],
   "source": []
  },
  {
   "cell_type": "code",
   "execution_count": null,
   "metadata": {},
   "outputs": [],
   "source": []
  },
  {
   "cell_type": "code",
   "execution_count": null,
   "metadata": {},
   "outputs": [],
   "source": []
  },
  {
   "cell_type": "code",
   "execution_count": null,
   "metadata": {},
   "outputs": [],
   "source": []
  }
 ],
 "metadata": {
  "kernelspec": {
   "display_name": "Python 3",
   "language": "python",
   "name": "python3"
  },
  "language_info": {
   "codemirror_mode": {
    "name": "ipython",
    "version": 3
   },
   "file_extension": ".py",
   "mimetype": "text/x-python",
   "name": "python",
   "nbconvert_exporter": "python",
   "pygments_lexer": "ipython3",
   "version": "3.10.11"
  }
 },
 "nbformat": 4,
 "nbformat_minor": 4
}

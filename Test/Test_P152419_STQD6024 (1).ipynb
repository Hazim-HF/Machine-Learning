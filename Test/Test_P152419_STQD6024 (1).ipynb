{
 "cells": [
  {
   "cell_type": "markdown",
   "id": "81d8a1ca",
   "metadata": {},
   "source": [
    "<h1 style='font-weight:bold; text-align: justify'> Test </h1>\n",
    "<h1 style='font-weight:bold; text-align: justify'> Machine Learning STQD6024 </h1>\n",
    "<h1 style='font-weight:bold; text-align: justify'> Hazim Fitri Bin Ahmad Faudzi P152419 </h1>"
   ]
  },
  {
   "cell_type": "markdown",
   "id": "db3dfafd",
   "metadata": {},
   "source": [
    "<h1 style='font-weight:bold; color:orange;'> a) Model building </h1>"
   ]
  },
  {
   "cell_type": "code",
   "execution_count": 42,
   "id": "c7d2f551",
   "metadata": {},
   "outputs": [],
   "source": [
    "# import necessary library\n",
    "import pandas as pd\n",
    "import numpy as np\n",
    "import matplotlib.pyplot as plt\n",
    "import seaborn as sns\n",
    "\n",
    "from sklearn.linear_model import LinearRegression\n",
    "from sklearn.metrics import mean_squared_error\n",
    "from sklearn.model_selection import train_test_split\n",
    "from sklearn.preprocessing import StandardScaler\n",
    "\n",
    "import statsmodels.api as sm\n",
    "import time\n",
    "import itertools"
   ]
  },
  {
   "cell_type": "code",
   "execution_count": 43,
   "id": "c4e6f09d",
   "metadata": {},
   "outputs": [
    {
     "data": {
      "text/html": [
       "<div>\n",
       "<style scoped>\n",
       "    .dataframe tbody tr th:only-of-type {\n",
       "        vertical-align: middle;\n",
       "    }\n",
       "\n",
       "    .dataframe tbody tr th {\n",
       "        vertical-align: top;\n",
       "    }\n",
       "\n",
       "    .dataframe thead th {\n",
       "        text-align: right;\n",
       "    }\n",
       "</style>\n",
       "<table border=\"1\" class=\"dataframe\">\n",
       "  <thead>\n",
       "    <tr style=\"text-align: right;\">\n",
       "      <th></th>\n",
       "      <th>No</th>\n",
       "      <th>Cement</th>\n",
       "      <th>Slag</th>\n",
       "      <th>Fly ash</th>\n",
       "      <th>Water</th>\n",
       "      <th>SP</th>\n",
       "      <th>Coarse Aggr.</th>\n",
       "      <th>Fine Aggr.</th>\n",
       "      <th>SLUMP(cm)</th>\n",
       "      <th>FLOW(cm)</th>\n",
       "      <th>Compressive Strength (28-day)(Mpa)</th>\n",
       "    </tr>\n",
       "  </thead>\n",
       "  <tbody>\n",
       "    <tr>\n",
       "      <th>0</th>\n",
       "      <td>1</td>\n",
       "      <td>273.0</td>\n",
       "      <td>82.0</td>\n",
       "      <td>105.0</td>\n",
       "      <td>210.0</td>\n",
       "      <td>9.0</td>\n",
       "      <td>904.0</td>\n",
       "      <td>680.0</td>\n",
       "      <td>23.0</td>\n",
       "      <td>62.0</td>\n",
       "      <td>34.99</td>\n",
       "    </tr>\n",
       "    <tr>\n",
       "      <th>1</th>\n",
       "      <td>2</td>\n",
       "      <td>163.0</td>\n",
       "      <td>149.0</td>\n",
       "      <td>191.0</td>\n",
       "      <td>180.0</td>\n",
       "      <td>12.0</td>\n",
       "      <td>843.0</td>\n",
       "      <td>746.0</td>\n",
       "      <td>0.0</td>\n",
       "      <td>20.0</td>\n",
       "      <td>41.14</td>\n",
       "    </tr>\n",
       "    <tr>\n",
       "      <th>2</th>\n",
       "      <td>3</td>\n",
       "      <td>162.0</td>\n",
       "      <td>148.0</td>\n",
       "      <td>191.0</td>\n",
       "      <td>179.0</td>\n",
       "      <td>16.0</td>\n",
       "      <td>840.0</td>\n",
       "      <td>743.0</td>\n",
       "      <td>1.0</td>\n",
       "      <td>20.0</td>\n",
       "      <td>41.81</td>\n",
       "    </tr>\n",
       "    <tr>\n",
       "      <th>3</th>\n",
       "      <td>4</td>\n",
       "      <td>162.0</td>\n",
       "      <td>148.0</td>\n",
       "      <td>190.0</td>\n",
       "      <td>179.0</td>\n",
       "      <td>19.0</td>\n",
       "      <td>838.0</td>\n",
       "      <td>741.0</td>\n",
       "      <td>3.0</td>\n",
       "      <td>21.5</td>\n",
       "      <td>42.08</td>\n",
       "    </tr>\n",
       "    <tr>\n",
       "      <th>4</th>\n",
       "      <td>5</td>\n",
       "      <td>154.0</td>\n",
       "      <td>112.0</td>\n",
       "      <td>144.0</td>\n",
       "      <td>220.0</td>\n",
       "      <td>10.0</td>\n",
       "      <td>923.0</td>\n",
       "      <td>658.0</td>\n",
       "      <td>20.0</td>\n",
       "      <td>64.0</td>\n",
       "      <td>26.82</td>\n",
       "    </tr>\n",
       "    <tr>\n",
       "      <th>...</th>\n",
       "      <td>...</td>\n",
       "      <td>...</td>\n",
       "      <td>...</td>\n",
       "      <td>...</td>\n",
       "      <td>...</td>\n",
       "      <td>...</td>\n",
       "      <td>...</td>\n",
       "      <td>...</td>\n",
       "      <td>...</td>\n",
       "      <td>...</td>\n",
       "      <td>...</td>\n",
       "    </tr>\n",
       "    <tr>\n",
       "      <th>95</th>\n",
       "      <td>96</td>\n",
       "      <td>184.3</td>\n",
       "      <td>153.4</td>\n",
       "      <td>239.2</td>\n",
       "      <td>179.0</td>\n",
       "      <td>7.5</td>\n",
       "      <td>920.2</td>\n",
       "      <td>640.9</td>\n",
       "      <td>0.0</td>\n",
       "      <td>20.0</td>\n",
       "      <td>41.01</td>\n",
       "    </tr>\n",
       "    <tr>\n",
       "      <th>96</th>\n",
       "      <td>97</td>\n",
       "      <td>215.6</td>\n",
       "      <td>112.9</td>\n",
       "      <td>239.0</td>\n",
       "      <td>198.7</td>\n",
       "      <td>7.4</td>\n",
       "      <td>884.0</td>\n",
       "      <td>649.1</td>\n",
       "      <td>27.5</td>\n",
       "      <td>64.0</td>\n",
       "      <td>39.13</td>\n",
       "    </tr>\n",
       "    <tr>\n",
       "      <th>97</th>\n",
       "      <td>98</td>\n",
       "      <td>295.3</td>\n",
       "      <td>0.0</td>\n",
       "      <td>239.9</td>\n",
       "      <td>236.2</td>\n",
       "      <td>8.3</td>\n",
       "      <td>780.3</td>\n",
       "      <td>722.9</td>\n",
       "      <td>25.0</td>\n",
       "      <td>77.0</td>\n",
       "      <td>44.08</td>\n",
       "    </tr>\n",
       "    <tr>\n",
       "      <th>98</th>\n",
       "      <td>99</td>\n",
       "      <td>248.3</td>\n",
       "      <td>101.0</td>\n",
       "      <td>239.1</td>\n",
       "      <td>168.9</td>\n",
       "      <td>7.7</td>\n",
       "      <td>954.2</td>\n",
       "      <td>640.6</td>\n",
       "      <td>0.0</td>\n",
       "      <td>20.0</td>\n",
       "      <td>49.97</td>\n",
       "    </tr>\n",
       "    <tr>\n",
       "      <th>99</th>\n",
       "      <td>100</td>\n",
       "      <td>248.0</td>\n",
       "      <td>101.0</td>\n",
       "      <td>239.9</td>\n",
       "      <td>169.1</td>\n",
       "      <td>7.7</td>\n",
       "      <td>949.9</td>\n",
       "      <td>644.1</td>\n",
       "      <td>2.0</td>\n",
       "      <td>20.0</td>\n",
       "      <td>50.23</td>\n",
       "    </tr>\n",
       "  </tbody>\n",
       "</table>\n",
       "<p>100 rows × 11 columns</p>\n",
       "</div>"
      ],
      "text/plain": [
       "     No  Cement   Slag  Fly ash  Water    SP  Coarse Aggr.  Fine Aggr.  \\\n",
       "0     1   273.0   82.0    105.0  210.0   9.0         904.0       680.0   \n",
       "1     2   163.0  149.0    191.0  180.0  12.0         843.0       746.0   \n",
       "2     3   162.0  148.0    191.0  179.0  16.0         840.0       743.0   \n",
       "3     4   162.0  148.0    190.0  179.0  19.0         838.0       741.0   \n",
       "4     5   154.0  112.0    144.0  220.0  10.0         923.0       658.0   \n",
       "..  ...     ...    ...      ...    ...   ...           ...         ...   \n",
       "95   96   184.3  153.4    239.2  179.0   7.5         920.2       640.9   \n",
       "96   97   215.6  112.9    239.0  198.7   7.4         884.0       649.1   \n",
       "97   98   295.3    0.0    239.9  236.2   8.3         780.3       722.9   \n",
       "98   99   248.3  101.0    239.1  168.9   7.7         954.2       640.6   \n",
       "99  100   248.0  101.0    239.9  169.1   7.7         949.9       644.1   \n",
       "\n",
       "    SLUMP(cm)  FLOW(cm)  Compressive Strength (28-day)(Mpa)  \n",
       "0        23.0      62.0                               34.99  \n",
       "1         0.0      20.0                               41.14  \n",
       "2         1.0      20.0                               41.81  \n",
       "3         3.0      21.5                               42.08  \n",
       "4        20.0      64.0                               26.82  \n",
       "..        ...       ...                                 ...  \n",
       "95        0.0      20.0                               41.01  \n",
       "96       27.5      64.0                               39.13  \n",
       "97       25.0      77.0                               44.08  \n",
       "98        0.0      20.0                               49.97  \n",
       "99        2.0      20.0                               50.23  \n",
       "\n",
       "[100 rows x 11 columns]"
      ]
     },
     "execution_count": 43,
     "metadata": {},
     "output_type": "execute_result"
    }
   ],
   "source": [
    "# read data\n",
    "df = pd.read_table('Question_2.txt', sep=',')\n",
    "df"
   ]
  },
  {
   "cell_type": "code",
   "execution_count": 44,
   "id": "5e3c3dfd",
   "metadata": {},
   "outputs": [],
   "source": [
    "# define response (Y) and predictor (X) variables\n",
    "y = df['Compressive Strength (28-day)(Mpa)']\n",
    "x = df.drop(['Compressive Strength (28-day)(Mpa)', 'SLUMP(cm)', 'FLOW(cm)', 'No'], axis = 1)"
   ]
  },
  {
   "cell_type": "code",
   "execution_count": 45,
   "id": "59a33d40",
   "metadata": {},
   "outputs": [],
   "source": [
    "# split data intro training set and testing set\n",
    "x_train, x_test, y_train, y_test = train_test_split(x, y, test_size=0.2, random_state=42)"
   ]
  },
  {
   "cell_type": "code",
   "execution_count": 46,
   "id": "a70204f0",
   "metadata": {},
   "outputs": [
    {
     "name": "stdout",
     "output_type": "stream",
     "text": [
      "<class 'pandas.core.frame.DataFrame'>\n",
      "RangeIndex: 100 entries, 0 to 99\n",
      "Data columns (total 11 columns):\n",
      " #   Column                              Non-Null Count  Dtype  \n",
      "---  ------                              --------------  -----  \n",
      " 0   No                                  100 non-null    int64  \n",
      " 1   Cement                              100 non-null    float64\n",
      " 2   Slag                                100 non-null    float64\n",
      " 3   Fly ash                             100 non-null    float64\n",
      " 4   Water                               100 non-null    float64\n",
      " 5   SP                                  100 non-null    float64\n",
      " 6   Coarse Aggr.                        100 non-null    float64\n",
      " 7   Fine Aggr.                          100 non-null    float64\n",
      " 8   SLUMP(cm)                           100 non-null    float64\n",
      " 9   FLOW(cm)                            100 non-null    float64\n",
      " 10  Compressive Strength (28-day)(Mpa)  100 non-null    float64\n",
      "dtypes: float64(10), int64(1)\n",
      "memory usage: 8.7 KB\n"
     ]
    }
   ],
   "source": [
    "# check variables data type\n",
    "df.info()"
   ]
  },
  {
   "cell_type": "code",
   "execution_count": 47,
   "id": "7cf43242",
   "metadata": {},
   "outputs": [],
   "source": [
    "scale = StandardScaler()\n",
    "\n",
    "x_train_scale = scale.fit_transform(x_train)\n",
    "x_test_scale = scale.fit_transform(x_test)"
   ]
  },
  {
   "cell_type": "code",
   "execution_count": 48,
   "id": "1a09bd1a",
   "metadata": {},
   "outputs": [
    {
     "name": "stdout",
     "output_type": "stream",
     "text": [
      "Regression model coefficients:\n",
      "      Variables  Coefficient\n",
      "0        Cement     4.898330\n",
      "1          Slag    -1.755212\n",
      "2       Fly ash     4.658713\n",
      "3         Water    -4.545214\n",
      "4            SP     0.423314\n",
      "5  Coarse Aggr.    -4.638413\n",
      "6    Fine Aggr.    -2.257704\n",
      "============================\n",
      "\n",
      "Regression model intercept:35.8230\n"
     ]
    }
   ],
   "source": [
    "lr = LinearRegression()\n",
    "\n",
    "model = lr.fit(x_train_scale, y_train)\n",
    "\n",
    "y_predict = model.predict(x_train_scale)\n",
    "\n",
    "y_predict_test = model.predict(x_test_scale)\n",
    "\n",
    "col_name = x.columns\n",
    "\n",
    "print(\"Regression model coefficients:\")\n",
    "print(pd.DataFrame( {'Variables':col_name, 'Coefficient':lr.coef_}))\n",
    "print('============================\\n')\n",
    "print(f\"Regression model intercept:{lr.intercept_:.4f}\")"
   ]
  },
  {
   "cell_type": "markdown",
   "id": "e7e6e30e",
   "metadata": {},
   "source": [
    "<h1 style='font-weight:bold; color:orange;'> b) Compute MSE on test set </h1>"
   ]
  },
  {
   "cell_type": "code",
   "execution_count": 49,
   "id": "fa72379b",
   "metadata": {},
   "outputs": [
    {
     "name": "stdout",
     "output_type": "stream",
     "text": [
      "MSE for training set: 6.8980\n",
      "MSE for testing set: 6.9671\n"
     ]
    }
   ],
   "source": [
    "print(f\"MSE for training set: {mean_squared_error(y_train, y_predict):.4f}\")\n",
    "print(f\"MSE for testing set: {mean_squared_error(y_test, y_predict_test):.4f}\")"
   ]
  },
  {
   "cell_type": "markdown",
   "id": "613ac6d8",
   "metadata": {},
   "source": [
    "<h1 style='font-weight:bold; color:orange;'> c) Optimal model using forward selection </h1>"
   ]
  },
  {
   "cell_type": "code",
   "execution_count": 63,
   "id": "3b4fcb1f",
   "metadata": {},
   "outputs": [
    {
     "name": "stdout",
     "output_type": "stream",
     "text": [
      "Processed  7 models on 1 predictors in 0.0065495967864990234 seconds.\n",
      "Processed  6 models on 2 predictors in 0.0 seconds.\n",
      "Processed  5 models on 3 predictors in 0.0 seconds.\n",
      "Processed  4 models on 4 predictors in 0.0 seconds.\n",
      "Processed  3 models on 5 predictors in 0.013337135314941406 seconds.\n",
      "Processed  2 models on 6 predictors in 0.0013492107391357422 seconds.\n",
      "Processed  1 models on 7 predictors in 0.0 seconds.\n",
      "Total elapsed time: 0.022236108779907227 seconds.\n"
     ]
    }
   ],
   "source": [
    "\n",
    "def processSubset(feature_set):\n",
    "\n",
    "    model = sm.OLS(y,x[list(feature_set)].astype(float))\n",
    "\n",
    "    regr = model.fit()\n",
    "\n",
    "    RSS = ((regr.predict(x[list(feature_set)]) - y) ** 2).sum()\n",
    "\n",
    "    return {\"model\":regr, \"RSS\":RSS}\n",
    "\n",
    "def forward(predictors):\n",
    "\n",
    "    remaining_predictors = [p for p in x.columns if p not in predictors]\n",
    "    \n",
    "    tic = time.time()\n",
    "    \n",
    "    results = []\n",
    "    \n",
    "    for p in remaining_predictors:\n",
    "\n",
    "        results.append(processSubset(predictors+[p]))\n",
    "    \n",
    "    models = pd.DataFrame(results)\n",
    "    \n",
    "    best_model = models.loc[models['RSS'].argmin()]\n",
    "    \n",
    "    toc = time.time()\n",
    "\n",
    "    print(\"Processed \", models.shape[0], \"models on\", len(predictors)+1, \"predictors in\", (toc-tic), \"seconds.\")\n",
    "   \n",
    "    return best_model\n",
    "\n",
    "models_fwd = pd.DataFrame(columns=[\"RSS\", \"model\"])\n",
    "\n",
    "tic = time.time()\n",
    "\n",
    "predictors = []\n",
    "\n",
    "for i in range(1,len(x.columns)+1):    \n",
    "\n",
    "    models_fwd.loc[i] = forward(predictors)\n",
    "    \n",
    "    predictors = models_fwd.loc[i][\"model\"].model.exog_names\n",
    "\n",
    "toc = time.time()\n",
    "print(\"Total elapsed time:\", (toc-tic), \"seconds.\")"
   ]
  },
  {
   "cell_type": "code",
   "execution_count": 62,
   "id": "a1405fe6",
   "metadata": {},
   "outputs": [
    {
     "name": "stdout",
     "output_type": "stream",
     "text": [
      "                                         OLS Regression Results                                        \n",
      "=======================================================================================================\n",
      "Dep. Variable:     Compressive Strength (28-day)(Mpa)   R-squared (uncentered):                   0.995\n",
      "Model:                                            OLS   Adj. R-squared (uncentered):              0.995\n",
      "Method:                                 Least Squares   F-statistic:                              3143.\n",
      "Date:                                Sat, 21 Jun 2025   Prob (F-statistic):                   5.66e-106\n",
      "Time:                                        10:56:32   Log-Likelihood:                         -236.11\n",
      "No. Observations:                                 100   AIC:                                      484.2\n",
      "Df Residuals:                                      94   BIC:                                      499.8\n",
      "Df Model:                                           6                                                  \n",
      "Covariance Type:                            nonrobust                                                  \n",
      "==============================================================================\n",
      "                 coef    std err          t      P>|t|      [0.025      0.975]\n",
      "------------------------------------------------------------------------------\n",
      "Fine Aggr.     0.0157      0.003      4.998      0.000       0.009       0.022\n",
      "Fly ash        0.0942      0.004     26.000      0.000       0.087       0.101\n",
      "Cement         0.1055      0.004     25.231      0.000       0.097       0.114\n",
      "Water         -0.0945      0.012     -7.922      0.000      -0.118      -0.071\n",
      "Slag           0.0304      0.005      5.891      0.000       0.020       0.041\n",
      "SP             0.2878      0.099      2.902      0.005       0.091       0.485\n",
      "==============================================================================\n",
      "Omnibus:                        9.558   Durbin-Watson:                   1.668\n",
      "Prob(Omnibus):                  0.008   Jarque-Bera (JB):                9.933\n",
      "Skew:                           0.608   Prob(JB):                      0.00697\n",
      "Kurtosis:                       3.951   Cond. No.                         307.\n",
      "==============================================================================\n",
      "\n",
      "Notes:\n",
      "[1] R² is computed without centering (uncentered) since the model does not contain a constant.\n",
      "[2] Standard Errors assume that the covariance matrix of the errors is correctly specified.\n"
     ]
    }
   ],
   "source": [
    "print(models_fwd.loc[6, \"model\"].summary())"
   ]
  },
  {
   "cell_type": "markdown",
   "id": "b9847ff5",
   "metadata": {},
   "source": [
    "From the forward selection, we can see that the best model contain 6 variables as indicates by highest adjusted r-squared of 0.995. Increasing the number of variables will not increase the model performance."
   ]
  },
  {
   "cell_type": "code",
   "execution_count": null,
   "id": "614d677e",
   "metadata": {},
   "outputs": [],
   "source": []
  },
  {
   "cell_type": "markdown",
   "id": "fa16b44d",
   "metadata": {},
   "source": [
    "<h1 style='font-weight:bold; color:orange;'> d) Model prediction </h1>"
   ]
  },
  {
   "cell_type": "code",
   "execution_count": null,
   "id": "4e827159",
   "metadata": {},
   "outputs": [],
   "source": [
    "x_new = ['Fine Aggr.', 'Fly ash', 'Cement', 'Water', 'Slag', 'SP']\n",
    "\n",
    "df.drop(['Compressive Strength (28-day)(Mpa)', 'SLUMP(cm)', 'FLOW(cm)', 'No', Coarse Aggr.])"
   ]
  },
  {
   "cell_type": "code",
   "execution_count": 51,
   "id": "bd83c53c",
   "metadata": {},
   "outputs": [
    {
     "data": {
      "text/html": [
       "<div>\n",
       "<style scoped>\n",
       "    .dataframe tbody tr th:only-of-type {\n",
       "        vertical-align: middle;\n",
       "    }\n",
       "\n",
       "    .dataframe tbody tr th {\n",
       "        vertical-align: top;\n",
       "    }\n",
       "\n",
       "    .dataframe thead th {\n",
       "        text-align: right;\n",
       "    }\n",
       "</style>\n",
       "<table border=\"1\" class=\"dataframe\">\n",
       "  <thead>\n",
       "    <tr style=\"text-align: right;\">\n",
       "      <th></th>\n",
       "      <th>Cement</th>\n",
       "      <th>Slag</th>\n",
       "      <th>Fly Ash</th>\n",
       "      <th>Water</th>\n",
       "      <th>SP</th>\n",
       "      <th>Coarse Aggr.</th>\n",
       "      <th>Fine Aggr.</th>\n",
       "    </tr>\n",
       "  </thead>\n",
       "  <tbody>\n",
       "    <tr>\n",
       "      <th>0</th>\n",
       "      <td>258.8</td>\n",
       "      <td>88.0</td>\n",
       "      <td>239.6</td>\n",
       "      <td>175.3</td>\n",
       "      <td>7.6</td>\n",
       "      <td>938.9</td>\n",
       "      <td>646.0</td>\n",
       "    </tr>\n",
       "    <tr>\n",
       "      <th>1</th>\n",
       "      <td>348.7</td>\n",
       "      <td>0.1</td>\n",
       "      <td>223.1</td>\n",
       "      <td>208.5</td>\n",
       "      <td>9.6</td>\n",
       "      <td>786.2</td>\n",
       "      <td>758.1</td>\n",
       "    </tr>\n",
       "  </tbody>\n",
       "</table>\n",
       "</div>"
      ],
      "text/plain": [
       "   Cement  Slag  Fly Ash  Water   SP  Coarse Aggr.  Fine Aggr.\n",
       "0   258.8  88.0    239.6  175.3  7.6         938.9       646.0\n",
       "1   348.7   0.1    223.1  208.5  9.6         786.2       758.1"
      ]
     },
     "execution_count": 51,
     "metadata": {},
     "output_type": "execute_result"
    }
   ],
   "source": [
    "new_df = pd.DataFrame({'Cement':[258.8,348.7], 'Slag':[88,0.1], 'Fly Ash':[239.6, 223.1], 'Water':[175.3, 208.5], 'SP':[7.6, 9.6], 'Coarse Aggr.':[938.9, 786.2], 'Fine Aggr.':[646, 758.1]})\n",
    "new_df"
   ]
  },
  {
   "cell_type": "code",
   "execution_count": 52,
   "id": "a1319478",
   "metadata": {},
   "outputs": [
    {
     "name": "stderr",
     "output_type": "stream",
     "text": [
      "c:\\Users\\PC 13\\AppData\\Local\\Programs\\Python\\Python311\\Lib\\site-packages\\sklearn\\utils\\validation.py:2742: UserWarning: X has feature names, but LinearRegression was fitted without feature names\n",
      "  warnings.warn(\n"
     ]
    },
    {
     "data": {
      "text/plain": [
       "array([-4341.76193057, -3518.84509646])"
      ]
     },
     "execution_count": 52,
     "metadata": {},
     "output_type": "execute_result"
    }
   ],
   "source": [
    "model.predict(new_df)"
   ]
  }
 ],
 "metadata": {
  "kernelspec": {
   "display_name": "Python 3",
   "language": "python",
   "name": "python3"
  },
  "language_info": {
   "codemirror_mode": {
    "name": "ipython",
    "version": 3
   },
   "file_extension": ".py",
   "mimetype": "text/x-python",
   "name": "python",
   "nbconvert_exporter": "python",
   "pygments_lexer": "ipython3",
   "version": "3.11.9"
  }
 },
 "nbformat": 4,
 "nbformat_minor": 5
}
